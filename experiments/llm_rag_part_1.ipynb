{
 "cells": [
  {
   "cell_type": "markdown",
   "id": "c99514552427d46",
   "metadata": {},
   "source": [
    "# local RAG pipeline from scratch\n"
   ]
  },
  {
   "cell_type": "code",
   "execution_count": 3,
   "id": "initial_id",
   "metadata": {
    "ExecuteTime": {
     "end_time": "2025-09-24T11:08:52.067484Z",
     "start_time": "2025-09-24T11:08:51.070080Z"
    },
    "collapsed": true
   },
   "outputs": [],
   "source": [
    "import time\n",
    "import requests\n",
    "from pathlib import Path\n",
    "import pymupdf\n",
    "from tqdm.auto import tqdm"
   ]
  },
  {
   "cell_type": "code",
   "execution_count": null,
   "id": "36f8fafadab9260b",
   "metadata": {
    "ExecuteTime": {
     "end_time": "2025-09-24T11:08:56.148995Z",
     "start_time": "2025-09-24T11:08:56.146559Z"
    }
   },
   "outputs": [],
   "source": [
    "try:  # inside a script\n",
    "\tBASE_DIR = Path(__file__).resolve().parent.parent\n",
    "except NameError:  # inside a notebook\n",
    "\tBASE_DIR = Path.cwd().parent"
   ]
  },
  {
   "cell_type": "code",
   "execution_count": 5,
   "id": "4daaba97b74a5b2f",
   "metadata": {
    "ExecuteTime": {
     "end_time": "2025-09-24T11:08:57.392522Z",
     "start_time": "2025-09-24T11:08:57.390171Z"
    }
   },
   "outputs": [
    {
     "name": "stdout",
     "output_type": "stream",
     "text": [
      "Project root set to: /Users/tejaspancholi/Developer/python/vizuara\n"
     ]
    }
   ],
   "source": [
    "print(f\"Project root set to: {BASE_DIR}\")"
   ]
  },
  {
   "cell_type": "code",
   "execution_count": 6,
   "id": "cd21003aa9f9501f",
   "metadata": {
    "ExecuteTime": {
     "end_time": "2025-09-24T11:08:58.632828Z",
     "start_time": "2025-09-24T11:08:58.631098Z"
    }
   },
   "outputs": [],
   "source": [
    "pdf_path = BASE_DIR / \"data\" / \"human_nutrition_text.pdf\""
   ]
  },
  {
   "cell_type": "code",
   "execution_count": null,
   "id": "a00dadf758f8174a",
   "metadata": {
    "ExecuteTime": {
     "end_time": "2025-09-24T11:09:00.210994Z",
     "start_time": "2025-09-24T11:09:00.208012Z"
    }
   },
   "outputs": [],
   "source": [
    "def download_pdf_requests(\n",
    "\turl: str, dest: Path, timeout: int = 30, max_retries: int = 3\n",
    ") -> None:\n",
    "\t\"\"\"Download a PDF file from URL with progress tracking and error handling.\"\"\"\n",
    "\tdest.parent.mkdir(parents=True, exist_ok=True)\n",
    "\tfor attempt in range(max_retries):\n",
    "\t\ttry:\n",
    "\t\t\tresponse = requests.get(url, stream=True, timeout=timeout)\n",
    "\t\t\tresponse.raise_for_status()\n",
    "\n",
    "\t\t\tcontent_type = response.headers.get(\"content-type\", \"\").lower()\n",
    "\t\t\tif \"pdf\" not in content_type:\n",
    "\t\t\t\traise ValueError(f\"Invalid content type: {content_type}\")\n",
    "\t\t\ttotal = int(response.headers.get(\"content-length\", 0))\n",
    "\t\t\twith tqdm(\n",
    "\t\t\t\ttotal=total, unit=\"iB\", unit_scale=True, desc=\"Downloading PDF\"\n",
    "\t\t\t) as t:\n",
    "\t\t\t\twith dest.open(\"wb\") as f:\n",
    "\t\t\t\t\tfor chunk in response.iter_content(chunk_size=8192):\n",
    "\t\t\t\t\t\tif chunk:\n",
    "\t\t\t\t\t\t\tf.write(chunk)\n",
    "\t\t\t\t\t\t\tt.update(len(chunk))\n",
    "\t\t\tprint(f\"\\nSuccessfully downloaded PDF to {dest}\")\n",
    "\t\t\treturn\n",
    "\t\texcept requests.exceptions.RequestException as e:\n",
    "\t\t\tprint(f\"Download failed: {e}\")\n",
    "\t\t\tif attempt == max_retries - 1:\n",
    "\t\t\t\traise\n",
    "\t\t\ttime.sleep(2**attempt)"
   ]
  },
  {
   "cell_type": "code",
   "execution_count": null,
   "id": "96b40a8320a71b39",
   "metadata": {
    "ExecuteTime": {
     "end_time": "2025-09-24T11:09:01.348410Z",
     "start_time": "2025-09-24T11:09:01.346151Z"
    }
   },
   "outputs": [],
   "source": [
    "if not pdf_path.is_file():\n",
    "\tdownload_pdf_requests(\n",
    "\t\t\"https://pressbooks.oer.hawaii.edu/humannutrition2/open/download?type=pdf\",\n",
    "\t\tpdf_path,\n",
    "\t)"
   ]
  },
  {
   "cell_type": "code",
   "execution_count": null,
   "id": "58452d458ca7a92e",
   "metadata": {
    "ExecuteTime": {
     "end_time": "2025-09-24T11:10:52.373971Z",
     "start_time": "2025-09-24T11:10:52.371988Z"
    }
   },
   "outputs": [],
   "source": [
    "def text_formatter(text: str) -> str:\n",
    "\t\"\"\"Performs minor text formatting.\"\"\"\n",
    "\timport re\n",
    "\n",
    "\tcleaned_text = re.sub(\n",
    "\t\tr\"\\s+\", \" \", text\n",
    "\t)  # Replace multiple whitespace with single space\n",
    "\tcleaned_text = cleaned_text.strip()\n",
    "\treturn cleaned_text"
   ]
  },
  {
   "cell_type": "code",
   "execution_count": 25,
   "id": "c05dc312613b2c8",
   "metadata": {},
   "outputs": [],
   "source": [
    "import re\n",
    "from typing import Dict, List, Union\n",
    "from pathlib import Path\n",
    "\n",
    "\n",
    "def open_and_read_pdf(file_path: Union[str, Path]) -> Union[List[Dict], None]:\n",
    "\t\"\"\"\n",
    "\tOpens a pdf file and reads its content page by page, and collects statistics.\n",
    "\tParameters:\n",
    "\t    file_path (str | Path): The path to the pdf file to be opened and read.\n",
    "\tReturns:\n",
    "\t    list[dict]: A list of dictionaries containing the page number, character count, word count, sentence count, token count, and extracted text for each page.\n",
    "\t\"\"\"\n",
    "\tif not Path(file_path).exists():\n",
    "\t\traise FileNotFoundError(f\"PDF file not found: {file_path}\")\n",
    "\ttry:\n",
    "\t\tdoc = pymupdf.open(file_path)\n",
    "\t\tpages_and_texts = []\n",
    "\t\tfor page_number, page in tqdm(enumerate(doc)):\n",
    "\t\t\ttext = page.get_text()\n",
    "\t\t\tif not text or not text.strip():  # Skip empty pages\n",
    "\t\t\t\tcontinue\n",
    "\t\t\tif text and text.strip():\n",
    "\t\t\t\ttext = text_formatter(text)\n",
    "\t\t\t\tsentences = re.split(r\"[.!?]+\", text)  # Simple sentence splitter\n",
    "\t\t\t\tsentence_count = len(\n",
    "\t\t\t\t\t[s for s in sentences if s.strip()]\n",
    "\t\t\t\t)  # Count non-empty sentences\n",
    "\t\t\t\tpages_and_texts.append(\n",
    "\t\t\t\t\t{\n",
    "\t\t\t\t\t\t\"page_number\": page_number - 41,\n",
    "\t\t\t\t\t\t\"page_char_count\": len(text),\n",
    "\t\t\t\t\t\t\"page_word_count\": len(text.split()),\n",
    "\t\t\t\t\t\t\"page_sentence_count_raw\": sentence_count,\n",
    "\t\t\t\t\t\t\"page_token_count\": int(len(text) / 4),\n",
    "\t\t\t\t\t\t\"text\": text,\n",
    "\t\t\t\t\t}\n",
    "\t\t\t\t)\n",
    "\t\treturn pages_and_texts\n",
    "\texcept Exception as e:\n",
    "\t\tprint(f\"Error reading PDF file: {e}\")\n",
    "\t\treturn None"
   ]
  },
  {
   "cell_type": "code",
   "execution_count": 26,
   "id": "7a30caef13f26629",
   "metadata": {},
   "outputs": [
    {
     "name": "stderr",
     "output_type": "stream",
     "text": [
      "1208it [00:00, 1242.25it/s]"
     ]
    },
    {
     "name": "stdout",
     "output_type": "stream",
     "text": [
      "[{'page_number': -41, 'page_char_count': 29, 'page_word_count': 4, 'page_sentence_count_raw': 1, 'page_token_count': 7, 'text': 'Human Nutrition: 2020 Edition'}, {'page_number': -39, 'page_char_count': 308, 'page_word_count': 42, 'page_sentence_count_raw': 1, 'page_token_count': 77, 'text': 'Human Nutrition: 2020 Edition UNIVERSITY OF HAWAI‘I AT MĀNOA FOOD SCIENCE AND HUMAN NUTRITION PROGRAM ALAN TITCHENAL, SKYLAR HARA, NOEMI ARCEO CAACBAY, WILLIAM MEINKE-LAU, YA-YUN YANG, MARIE KAINOA FIALKOWSKI REVILLA, JENNIFER DRAPER, GEMADY LANGFELDER, CHERYL GIBBY, CHYNA NICOLE CHUN, AND ALLISON CALABRESE'}]\n"
     ]
    },
    {
     "name": "stderr",
     "output_type": "stream",
     "text": [
      "\n"
     ]
    }
   ],
   "source": [
    "pages_and_texts = open_and_read_pdf(file_path=pdf_path)\n",
    "if pages_and_texts:\n",
    "\tprint(pages_and_texts[:2])"
   ]
  },
  {
   "cell_type": "code",
   "execution_count": 27,
   "id": "24b972d8",
   "metadata": {},
   "outputs": [
    {
     "data": {
      "text/plain": [
       "[{'page_number': 47,\n",
       "  'page_char_count': 1642,\n",
       "  'page_word_count': 274,\n",
       "  'page_sentence_count_raw': 14,\n",
       "  'page_token_count': 410,\n",
       "  'text': 'cure a disease. Science is a stepwise process that builds on past evidence and finally culminates into a well-accepted conclusion. Unfortunately, not all scientific conclusions are developed in the interest of human health, and some can be biased. Therefore, it is important to know where a scientific study was conducted and who provided the funding, as this can have an impact on the scientific conclusions being made. For example, an air quality study paid for by a tobacco company diminishes its value in the minds of readers as well as a red meat study performed at a laboratory funded by a national beef association. Nutritional Science Evolution One of the newest areas in the realm of nutritional science is the scientific discipline of nutritional genetics, also called nutrigenomics. Genes are part of DNA and contain the genetic information that make up all of our traits. Genes are codes for proteins and when they are turned “on” or “off,” they change how the body works. While we know that health is defined as more than just the absence of disease, there are currently very few accurate genetic markers of good health. Rather, there are many more genetic markers for disease. However, science is evolving, and nutritional genetics aims to identify what nutrients to eat to “turn on” healthy genes and “turn off” genes that cause disease. Using Science and Technology to Change the Future As science evolves, so does technology. Both can be used to create a healthy diet, optimize health, and prevent disease. Picture yourself not too far into the future: you are wearing a small “dietary watch” Types of Scientific Studies | 47'},\n",
       " {'page_number': 263,\n",
       "  'page_char_count': 1567,\n",
       "  'page_word_count': 227,\n",
       "  'page_sentence_count_raw': 30,\n",
       "  'page_token_count': 391,\n",
       "  'text': 'linked the consumption of sugary soft drinks to an increased risk for heart disease.3 While the sugar and refined grains and weight debate rages on, the results of all of these studies has led some public health organizations like the American Heart Association (AHA) to recommend even a lower intake of sugar per day (fewer than 9 teaspoons per day for men and fewer than 6 teaspoons for women) than what used to be deemed acceptable. After its 2010 scientific conference on added sugars, the AHA made the following related dietary recommendations4: • First, know the number of total calories you should eat each day. • Consume an overall healthy diet and get the most nutrients for the calories, using foods high in added sugars as discretionary calories (those left over after getting all recommended nutrients subtracted from the calories used). • Lower sugar intake, especially when the sugars in foods are not tied to positive nutrients such as in sugary drinks, candies, cakes, and cookies. 274–88. http://www.ajcn.org/content/84/2/274.long. Accessed September 22, 2017. 3. Public Health Takes Aim at Sugar and Salt. Harvard School of Public Health. https://www.hsph.harvard.edu/ news/magazine/sugar-and-salt/. Published 2009. Accessed September 30, 2017. 4. Van Horn L, Johnson RK, et al.(2010). Translation and Implementation of Added Sugars Consumption Recommendations. Circulation, 122, 2470–90.http://circ.ahajournals.org/content/122/23/ 2470/tab-supplemental. Accessed September 27, 2017. Health Consequences and Benefits of High-Carbohydrate Diets | 263'},\n",
       " {'page_number': 87,\n",
       "  'page_char_count': 970,\n",
       "  'page_word_count': 145,\n",
       "  'page_sentence_count_raw': 9,\n",
       "  'page_token_count': 242,\n",
       "  'text': 'The cardiovascul ar system transports nutrients to all cells and carries wastes out. Nutrients In Once absorbed from the small intestine, all nutrients require transport to cells in need of their support. Additionally, molecules manufactured in other cells sometimes require delivery to other organ systems. Blood is the conduit and blood vessels are the highway that support nutrient and molecule transport to all cells. Water-soluble molecules, such as some vitamins, minerals, sugars, and many proteins, move independently in blood. Fat-soluble vitamins, triglycerides, cholesterol, and other lipids are packaged into lipoproteins that allow for transport in the watery milieu of blood. Many proteins, drugs, and hormones are dependent on transport carriers, primarily by the plasma protein albumin. In addition to transporting all of these molecules, blood transfers oxygen taken in by the lungs to all cells in the body. As discussed, The Cardiovascular System | 87'}]"
      ]
     },
     "execution_count": 27,
     "metadata": {},
     "output_type": "execute_result"
    }
   ],
   "source": [
    "import random\n",
    "\n",
    "random.sample(pages_and_texts, k=3)"
   ]
  },
  {
   "cell_type": "code",
   "execution_count": 28,
   "id": "33e5cd28",
   "metadata": {},
   "outputs": [
    {
     "data": {
      "text/html": [
       "<div><style>\n",
       ".dataframe > thead > tr,\n",
       ".dataframe > tbody > tr {\n",
       "  text-align: right;\n",
       "  white-space: pre-wrap;\n",
       "}\n",
       "</style>\n",
       "<small>shape: (9, 7)</small><table border=\"1\" class=\"dataframe\"><thead><tr><th>statistic</th><th>page_number</th><th>page_char_count</th><th>page_word_count</th><th>page_sentence_count_raw</th><th>page_token_count</th><th>text</th></tr><tr><td>str</td><td>f64</td><td>f64</td><td>f64</td><td>f64</td><td>f64</td><td>str</td></tr></thead><tbody><tr><td>&quot;count&quot;</td><td>1179.0</td><td>1179.0</td><td>1179.0</td><td>1179.0</td><td>1179.0</td><td>&quot;1179&quot;</td></tr><tr><td>&quot;null_count&quot;</td><td>0.0</td><td>0.0</td><td>0.0</td><td>0.0</td><td>0.0</td><td>&quot;0&quot;</td></tr><tr><td>&quot;mean&quot;</td><td>561.27</td><td>1148.06</td><td>176.2</td><td>14.81</td><td>286.62</td><td>null</td></tr><tr><td>&quot;std&quot;</td><td>348.9</td><td>529.51</td><td>83.18</td><td>9.41</td><td>132.39</td><td>null</td></tr><tr><td>&quot;min&quot;</td><td>-41.0</td><td>15.0</td><td>3.0</td><td>1.0</td><td>3.0</td><td>&quot;(Source: UNICEF, 1986, How to …</td></tr><tr><td>&quot;25%&quot;</td><td>259.0</td><td>764.0</td><td>117.0</td><td>9.0</td><td>191.0</td><td>null</td></tr><tr><td>&quot;50%&quot;</td><td>561.0</td><td>1207.0</td><td>187.0</td><td>13.0</td><td>301.0</td><td>null</td></tr><tr><td>&quot;75%&quot;</td><td>862.0</td><td>1577.0</td><td>240.0</td><td>20.0</td><td>394.0</td><td>null</td></tr><tr><td>&quot;max&quot;</td><td>1166.0</td><td>2271.0</td><td>393.0</td><td>82.0</td><td>567.0</td><td>&quot;• food insecure with severe hu…</td></tr></tbody></table></div>"
      ],
      "text/plain": [
       "shape: (9, 7)\n",
       "┌────────────┬─────────────┬──────────────┬──────────────┬─────────────┬─────────────┬─────────────┐\n",
       "│ statistic  ┆ page_number ┆ page_char_co ┆ page_word_co ┆ page_senten ┆ page_token_ ┆ text        │\n",
       "│ ---        ┆ ---         ┆ unt          ┆ unt          ┆ ce_count_ra ┆ count       ┆ ---         │\n",
       "│ str        ┆ f64         ┆ ---          ┆ ---          ┆ w           ┆ ---         ┆ str         │\n",
       "│            ┆             ┆ f64          ┆ f64          ┆ ---         ┆ f64         ┆             │\n",
       "│            ┆             ┆              ┆              ┆ f64         ┆             ┆             │\n",
       "╞════════════╪═════════════╪══════════════╪══════════════╪═════════════╪═════════════╪═════════════╡\n",
       "│ count      ┆ 1179.0      ┆ 1179.0       ┆ 1179.0       ┆ 1179.0      ┆ 1179.0      ┆ 1179        │\n",
       "│ null_count ┆ 0.0         ┆ 0.0          ┆ 0.0          ┆ 0.0         ┆ 0.0         ┆ 0           │\n",
       "│ mean       ┆ 561.27      ┆ 1148.06      ┆ 176.2        ┆ 14.81       ┆ 286.62      ┆ null        │\n",
       "│ std        ┆ 348.9       ┆ 529.51       ┆ 83.18        ┆ 9.41        ┆ 132.39      ┆ null        │\n",
       "│ min        ┆ -41.0       ┆ 15.0         ┆ 3.0          ┆ 1.0         ┆ 3.0         ┆ (Source:    │\n",
       "│            ┆             ┆              ┆              ┆             ┆             ┆ UNICEF,     │\n",
       "│            ┆             ┆              ┆              ┆             ┆             ┆ 1986, How   │\n",
       "│            ┆             ┆              ┆              ┆             ┆             ┆ to …        │\n",
       "│ 25%        ┆ 259.0       ┆ 764.0        ┆ 117.0        ┆ 9.0         ┆ 191.0       ┆ null        │\n",
       "│ 50%        ┆ 561.0       ┆ 1207.0       ┆ 187.0        ┆ 13.0        ┆ 301.0       ┆ null        │\n",
       "│ 75%        ┆ 862.0       ┆ 1577.0       ┆ 240.0        ┆ 20.0        ┆ 394.0       ┆ null        │\n",
       "│ max        ┆ 1166.0      ┆ 2271.0       ┆ 393.0        ┆ 82.0        ┆ 567.0       ┆ • food      │\n",
       "│            ┆             ┆              ┆              ┆             ┆             ┆ insecure    │\n",
       "│            ┆             ┆              ┆              ┆             ┆             ┆ with severe │\n",
       "│            ┆             ┆              ┆              ┆             ┆             ┆ hu…         │\n",
       "└────────────┴─────────────┴──────────────┴──────────────┴─────────────┴─────────────┴─────────────┘"
      ]
     },
     "execution_count": 28,
     "metadata": {},
     "output_type": "execute_result"
    }
   ],
   "source": [
    "import polars as pl\n",
    "\n",
    "df = pl.DataFrame(pages_and_texts)\n",
    "summary = df.describe()\n",
    "numeric_cols = [c for c, t in summary.schema.items() if t.is_numeric()]\n",
    "summary = summary.with_columns(\n",
    "\t[pl.col(c).round(2) if c in numeric_cols else pl.col(c) for c in summary.columns]\n",
    ")\n",
    "summary"
   ]
  },
  {
   "cell_type": "markdown",
   "id": "e34934c9",
   "metadata": {},
   "source": [
    "## Chunking Strategy\n",
    "- Fixed size Chunking\n",
    "\n",
    "    - Chunk size is fixed\n",
    "    - usually used with social media where data is huge and unstructured and deep understanding is not important but speed is important\n",
    "\n",
    "    Pros\n",
    "\n",
    "        - Fast process with less overhead\n",
    "\n",
    "    Cons\n",
    "\n",
    "        - Information loss as chunk can be start and stop at any place\n",
    "        - No semantic info is captured\n",
    "- Semantic chunking\n",
    "\n",
    "    - based on similarity of sentences are within a threshold they are part of same chunk\n",
    "\n",
    "    Pros\n",
    "        - maintains coherence\n",
    "        - improves retrieved information\n",
    "    \n",
    "    Cons\n",
    "        - High complexity and compute\n",
    "        - Threshold sensitivity\n",
    "        - Inconsistent chunk size\n",
    "\n",
    "- Structural chunking\n",
    "    \n",
    "    - Can be combined with semantic chunking\n",
    "    - if document structure is there then most intuitive way of chunking\n",
    "\n",
    "    Pros\n",
    "        - fast for well structured document\n",
    "        - consistent and human understandable\n",
    "    \n",
    "    Cons\n",
    "        - chunk size can be unpredictable and might become too large\n",
    "        - large chunk can lead to hallucination\n",
    "\n",
    "- Recursive Chunking\n",
    "\n",
    "    - exploits structure as well as make sure chunk size are manageable\n",
    "    - structural chunking on steroids\n",
    "\n",
    "    Pros\n",
    "        - Avoids splitting halfway, more coherent compared to fixed size chunking\n",
    "\n",
    "    Cons\n",
    "        - computational overhead\n",
    "        - inconsistent chunk size\n",
    "\n",
    "- LLM Chunking\n",
    "\n",
    "    - this applies where apart from semantic chunking everything has failed due to context drift (change in context a lot during single document)\n",
    "    - LLM understands semantic of the complete document and does chunking based on its logic\n",
    "\n",
    "    Pros\n",
    "        - high semantic accuracy\n",
    "        - good for document with rapid context change, unstructured text\n",
    "    \n",
    "    Cons\n",
    "        - computationally expensive\n",
    "        - context window limitation\n",
    "        - stochastic output\n",
    "\n"
   ]
  },
  {
   "cell_type": "markdown",
   "id": "59f2a567",
   "metadata": {},
   "source": [
    "### "
   ]
  },
  {
   "cell_type": "code",
   "execution_count": null,
   "id": "17f364e0",
   "metadata": {},
   "outputs": [],
   "source": []
  },
  {
   "cell_type": "code",
   "execution_count": null,
   "id": "9d9c7c3a",
   "metadata": {},
   "outputs": [],
   "source": []
  }
 ],
 "metadata": {
  "kernelspec": {
   "display_name": "vizuara",
   "language": "python",
   "name": "python3"
  },
  "language_info": {
   "codemirror_mode": {
    "name": "ipython",
    "version": 3
   },
   "file_extension": ".py",
   "mimetype": "text/x-python",
   "name": "python",
   "nbconvert_exporter": "python",
   "pygments_lexer": "ipython3",
   "version": "3.13.7"
  }
 },
 "nbformat": 4,
 "nbformat_minor": 5
}
