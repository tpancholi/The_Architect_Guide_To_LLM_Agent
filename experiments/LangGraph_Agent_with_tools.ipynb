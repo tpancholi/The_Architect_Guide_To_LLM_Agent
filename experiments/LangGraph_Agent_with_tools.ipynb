{
 "cells": [
  {
   "cell_type": "markdown",
   "id": "0",
   "metadata": {},
   "source": [
    "# LangGraph Agent with Tools"
   ]
  },
  {
   "cell_type": "markdown",
   "id": "1",
   "metadata": {},
   "source": [
    "## Use Case 2: Build a Vision Assistant Agent Using LangGraph\n",
    "### Goal\n",
    "- Build a vision assistant agent using LangGraph which looks at an image and provides information about the image.\n",
    "- Show case a method to integrate Thought-Observe-Action (TOA) like loop in LangGraph\n",
    "    - This is achieved by using Assistant Node calling Tool Node till certain conditions are met.\n",
    "        - Condition can be either a satisfactory response is achieved or a set number of iterations is reached. (max 10).  This is done to make sure we avoid infinite loops.\n",
    "    - The tool node can internally call n number of tools like query engine, web search tool, Arxiv search tool, coding agent, etc."
   ]
  },
  {
   "cell_type": "markdown",
   "id": "2",
   "metadata": {},
   "source": [
    "#### State\n",
    "- image\n",
    "#### Nodes\n",
    "-"
   ]
  },
  {
   "cell_type": "markdown",
   "id": "3",
   "metadata": {},
   "source": [
    "### Library used\n",
    "- langgraph\n",
    "- langchain_openai\n",
    "- langchain_core\n",
    "- langfuse"
   ]
  },
  {
   "cell_type": "code",
   "execution_count": null,
   "id": "4",
   "metadata": {},
   "outputs": [],
   "source": [
    "import os\n",
    "\n",
    "from dotenv import load_dotenv, find_dotenv"
   ]
  },
  {
   "cell_type": "code",
   "execution_count": null,
   "id": "5",
   "metadata": {},
   "outputs": [],
   "source": [
    "# get required environment variables\n",
    "load_dotenv(find_dotenv())\n",
    "OPENAI_API_KEY = os.getenv(\"OPENAI_API_KEY\")\n",
    "LANGFUSE_PUBLIC_KEY = os.getenv(\"PUBLIC_KEY\")\n",
    "LANGFUSE_SECRET_KEY = os.getenv(\"SECRET_KEY\")\n",
    "LANGFUSE_HOST = os.getenv(\"LANGFUSE_HOST\")"
   ]
  },
  {
   "cell_type": "code",
   "execution_count": null,
   "id": "6",
   "metadata": {},
   "outputs": [],
   "source": [
    "# Setup langfuse client\n",
    "from langfuse import Langfuse\n",
    "\n",
    "langfuse = Langfuse(\n",
    "\tsecret_key=os.getenv(\"SECRET_KEY\"),\n",
    "\tpublic_key=os.getenv(\"PUBLIC_KEY\"),\n",
    "\thost=os.getenv(\"LANGFUSE_HOST\"),\n",
    ")"
   ]
  },
  {
   "cell_type": "code",
   "execution_count": null,
   "id": "7",
   "metadata": {},
   "outputs": [],
   "source": [
    "from langfuse import get_client\n",
    "\n",
    "langfuse = get_client()\n",
    "\n",
    "# Verify connection\n",
    "if langfuse.auth_check():\n",
    "\tprint(\"Langfuse client is authenticated and ready!\")\n",
    "else:\n",
    "\tprint(\"Authentication failed. Please check your credentials and host.\")"
   ]
  },
  {
   "cell_type": "code",
   "execution_count": null,
   "id": "8",
   "metadata": {},
   "outputs": [],
   "source": [
    "# initialize langfuse callback handler\n",
    "from langfuse.langchain import CallbackHandler\n",
    "\n",
    "langfuse_handler = CallbackHandler()"
   ]
  },
  {
   "cell_type": "code",
   "execution_count": null,
   "id": "9",
   "metadata": {},
   "outputs": [],
   "source": [
    "from langchain_openai import ChatOpenAI\n",
    "\n",
    "vision_llm = ChatOpenAI(model=\"gpt-4.1-mini\", api_key=OPENAI_API_KEY)"
   ]
  },
  {
   "cell_type": "code",
   "execution_count": null,
   "id": "10",
   "metadata": {},
   "outputs": [],
   "source": [
    "import base64\n",
    "from pathlib import Path\n",
    "from langchain_core.messages import HumanMessage\n",
    "\n",
    "\n",
    "# tool-1 : extract text from image\n",
    "def extract_text(img_path: Path) -> str:\n",
    "\t\"\"\"\n",
    "\tExtract text from an image file using a multimodel llm.\n",
    "\tArgs:\n",
    "\t\timg_path (Path): Path to the image file.\n",
    "\tReturns:\n",
    "\t\tA single string containing the extracted text concatenated from all images present at the path.\n",
    "\t\"\"\"\n",
    "\tall_text = \"\"\n",
    "\ttry:\n",
    "\t\tif isinstance(img_path, str):\n",
    "\t\t\timg_path = Path(img_path)\n",
    "\t\t# read image file\n",
    "\t\twith img_path.open(\"rb\") as img_file:\n",
    "\t\t\timage_bytes = img_file.read()\n",
    "\t\timage_base64 = base64.b64encode(image_bytes).decode(\"utf-8\")\n",
    "\t\t# prepare the message array to mimic human interaction\n",
    "\t\tmessage = [\n",
    "\t\t\tHumanMessage(\n",
    "\t\t\t\tcontent=[\n",
    "\t\t\t\t\t{\n",
    "\t\t\t\t\t\t\"type\": \"text\",\n",
    "\t\t\t\t\t\t\"text\": (\n",
    "\t\t\t\t\t\t\t\"Extract all the text from this image. \"\n",
    "\t\t\t\t\t\t\t\"Return only the extracted text, no explanations.\"\n",
    "\t\t\t\t\t\t),\n",
    "\t\t\t\t\t},\n",
    "\t\t\t\t\t{\n",
    "\t\t\t\t\t\t\"type\": \"image_url\",\n",
    "\t\t\t\t\t\t\"image_url\": {\"url\": f\"data:image/png;base64,{image_base64}\"},\n",
    "\t\t\t\t\t},\n",
    "\t\t\t\t]\n",
    "\t\t\t)\n",
    "\t\t]\n",
    "\t\t# call the vision model\n",
    "\t\tresponse = vision_llm.invoke(message)\n",
    "\t\t# append extracted text\n",
    "\t\tall_text += response.content + \"\\n\\n\"\n",
    "\t\treturn all_text.strip()\n",
    "\texcept Exception as e:\n",
    "\t\tprint(f\"Error extracting text from image: {str(e)}\")\n",
    "\t\treturn \"\""
   ]
  },
  {
   "cell_type": "markdown",
   "id": "11",
   "metadata": {},
   "source": [
    "#### We would add a random tool for explanation purpose for a use case where multiple tool might be required"
   ]
  },
  {
   "cell_type": "code",
   "execution_count": null,
   "id": "12",
   "metadata": {},
   "outputs": [],
   "source": [
    "# tool - 2 divide tool\n",
    "def divide_numbers(a: int, b: int) -> float:\n",
    "\t\"\"\"Divides two numbers a and b and returns the result.\n",
    "\tArgs:\n",
    "\t    a (int): The first number.\n",
    "\t    b (int): The second number.\n",
    "\tReturns:\n",
    "\t    float: The result of a / b.\n",
    "\t\"\"\"\n",
    "\treturn a / b"
   ]
  },
  {
   "cell_type": "code",
   "execution_count": null,
   "id": "13",
   "metadata": {},
   "outputs": [],
   "source": [
    "tools_list = [divide_numbers, extract_text]\n",
    "llm = ChatOpenAI(model=\"gpt-4.1-mini\", api_key=OPENAI_API_KEY)\n",
    "llm_with_tools = llm.bind_tools(tools=tools_list, parallel_tool_calls=False)"
   ]
  },
  {
   "cell_type": "markdown",
   "id": "14",
   "metadata": {},
   "source": [
    "#### Let's design the agent to have our desired behavior"
   ]
  },
  {
   "cell_type": "code",
   "execution_count": null,
   "id": "15",
   "metadata": {},
   "outputs": [],
   "source": [
    "from typing import TypedDict, Annotated, Optional\n",
    "from langchain_core.messages import AnyMessage\n",
    "from langgraph.graph.message import add_messages"
   ]
  },
  {
   "cell_type": "code",
   "execution_count": null,
   "id": "16",
   "metadata": {},
   "outputs": [],
   "source": [
    "class AgentState(TypedDict):\n",
    "\tinput_file: Optional[Path]\n",
    "\tmessages: Annotated[list[AnyMessage], add_messages]"
   ]
  },
  {
   "cell_type": "code",
   "execution_count": null,
   "id": "17",
   "metadata": {},
   "outputs": [],
   "source": [
    "from langchain_core.messages import SystemMessage"
   ]
  },
  {
   "cell_type": "code",
   "execution_count": null,
   "id": "18",
   "metadata": {},
   "outputs": [],
   "source": [
    "def assistant(state: AgentState):\n",
    "\tdescription_of_tool = \"\"\"\n",
    "extract_text(img_path:Path) -> str:\n",
    "    Extract text from an image file using a multimodel llm.\n",
    "    Args:\n",
    "    \timg_path (Path): Path to the image file.\n",
    "    Returns:\n",
    "    \tA single string containing the extracted text concatenated from all images present at the path.\n",
    "divide_numbers(a: int, b: int) -> float\n",
    "    Divides two numbers a and b and returns the result.\n",
    "    \"\"\"\n",
    "\timage = state[\"input_file\"]\n",
    "\tif image:\n",
    "\t\tsys_msg = SystemMessage(\n",
    "\t\t\tcontent=f\"\"\"You are a helpful agent that can analyse images and run computations.\n",
    "                Available tools:\n",
    "                {description_of_tool}\n",
    "\n",
    "                An image has been loaded and is available at this path: {image}\n",
    "\n",
    "                When you need to extract text from the image, use the extract_text tool with the exact path: {image}\n",
    "                \"\"\"\n",
    "\t\t)\n",
    "\telse:\n",
    "\t\tsys_msg = SystemMessage(\n",
    "\t\t\tcontent=f\"\"\"You are a helpful agent that can analyse images and run computations.\n",
    "        Available tools:\n",
    "{description_of_tool}\n",
    "\n",
    "No image is currently loaded in the state.\n",
    "\"\"\"\n",
    "\t\t)\n",
    "\treturn {\n",
    "\t\t\"messages\": [llm_with_tools.invoke([sys_msg] + state[\"messages\"])],\n",
    "\t\t\"input_file\": image,\n",
    "\t}"
   ]
  },
  {
   "cell_type": "markdown",
   "id": "19",
   "metadata": {},
   "source": [
    "#### Explanation on next steps\n",
    "- `assistant` node is just our model with bound tools\n",
    "- we would add `tool_condition` which will help route between `END` or `Tools` based on whether the `assistant` calls a tool.\n",
    "- Now we connect nodes and edges to form a loop in graph.\n",
    "    - After the `assistant` node executes, `tools_condition` checks if the model's output is satisfactory or not.\n",
    "    - If the tool call is required `tool_node` is called.\n",
    "    - `tool_node` is called till the output is satisfactory.\n",
    "    - if the model response is not a tool call, then `END` node is called."
   ]
  },
  {
   "cell_type": "code",
   "execution_count": null,
   "id": "20",
   "metadata": {},
   "outputs": [],
   "source": [
    "from langgraph.graph import START, StateGraph\n",
    "from langgraph.prebuilt import ToolNode, tools_condition\n",
    "from IPython.display import display, Image"
   ]
  },
  {
   "cell_type": "code",
   "execution_count": null,
   "id": "21",
   "metadata": {},
   "outputs": [],
   "source": [
    "# graph\n",
    "builder = StateGraph(AgentState)\n",
    "\n",
    "# define nodes\n",
    "builder.add_node(\"assistant\", assistant)\n",
    "builder.add_node(\"tools\", ToolNode(tools=tools_list))\n",
    "\n",
    "# define edge\n",
    "builder.add_edge(START, \"assistant\")\n",
    "builder.add_conditional_edges(\n",
    "\t\"assistant\",\n",
    "\ttools_condition,\n",
    "\t# if the latest message (result) from assistant is a tool call -> tool_condition routes to tools\n",
    "\t# if the latest message (result) from assistant is not a tool call -> tools_condition routes to END\n",
    ")\n",
    "builder.add_edge(\"tools\", \"assistant\")\n",
    "\n",
    "react_graph = builder.compile()\n",
    "\n",
    "# show the graph\n",
    "display(Image(react_graph.get_graph(xray=True).draw_mermaid_png()))"
   ]
  },
  {
   "attachments": {
    "6b5620d6-8132-4bb1-ba09-761650afc260.png": {
     "image/png": "[encoded data removed]"
    }
   },
   "cell_type": "markdown",
   "id": "22",
   "metadata": {},
   "source": [
    "![image.png](attachment:6b5620d6-8132-4bb1-ba09-761650afc260.png)"
   ]
  },
  {
   "cell_type": "code",
   "execution_count": null,
   "id": "23",
   "metadata": {},
   "outputs": [],
   "source": [
    "messages = [HumanMessage(content=\"Divide 324 by 4\")]\n",
    "messages = react_graph.invoke(\n",
    "\t{\"messages\": messages, \"input_file\": None}, config={\"callbacks\": [langfuse_handler]}\n",
    ")"
   ]
  },
  {
   "cell_type": "code",
   "execution_count": null,
   "id": "24",
   "metadata": {},
   "outputs": [],
   "source": [
    "for m in messages[\"messages\"]:\n",
    "\tm.pretty_print()"
   ]
  },
  {
   "cell_type": "markdown",
   "id": "25",
   "metadata": {},
   "source": [
    "#### Now let's test with image extraction"
   ]
  },
  {
   "cell_type": "code",
   "execution_count": null,
   "id": "26",
   "metadata": {},
   "outputs": [],
   "source": [
    "try:  # inside a script\n",
    "\tBASE_DIR = Path(__file__).resolve().parent.parent\n",
    "except NameError:  # inside a notebook\n",
    "\tBASE_DIR = Path.cwd().parent"
   ]
  },
  {
   "cell_type": "code",
   "execution_count": null,
   "id": "27",
   "metadata": {},
   "outputs": [],
   "source": [
    "print(f\"Project root set to: {BASE_DIR}\")"
   ]
  },
  {
   "cell_type": "code",
   "execution_count": null,
   "id": "28",
   "metadata": {},
   "outputs": [],
   "source": [
    "diet_menu_path = BASE_DIR / \"data\" / \"batman_diet_menu.png\""
   ]
  },
  {
   "cell_type": "code",
   "execution_count": null,
   "id": "29",
   "metadata": {},
   "outputs": [],
   "source": [
    "# setup initial message\n",
    "messages = [\n",
    "\tHumanMessage(\n",
    "\t\tcontent=\"According to the note provided by Mr. Wayne in the images.  What's the list of items I should by for the dinner menu?\"\n",
    "\t)\n",
    "]\n",
    "# invoke graph with new message\n",
    "messages = react_graph.invoke(\n",
    "\t{\"messages\": messages, \"input_file\": Path(diet_menu_path)},\n",
    "\tconfig={\"callbacks\": [langfuse_handler]},\n",
    ")"
   ]
  },
  {
   "cell_type": "code",
   "execution_count": null,
   "id": "30",
   "metadata": {},
   "outputs": [],
   "source": [
    "for m in messages[\"messages\"]:\n",
    "\tm.pretty_print()"
   ]
  },
  {
   "cell_type": "markdown",
   "id": "31",
   "metadata": {},
   "source": [
    "#### Note\n",
    "- I tried using different model from gpt-4o, gpt-4.1, gpt-4.1-mini, gpt-5-mini.\n",
    "    - I got best result with gpt-5-mini but latency was high(~3x).\n",
    "    - gpt-4.1-mini and gpt-4.1 result were almost identical but gpt-4.1-mini was faster(50% faster).\n",
    "    - gpt-4o result was not as good as gpt-4.1-* but latency was similiar to gpt-4.1-mini."
   ]
  },
  {
   "cell_type": "code",
   "execution_count": null,
   "id": "32",
   "metadata": {},
   "outputs": [],
   "source": [
    "# now let's showcase if we can get the loop to work\n",
    "# setup initial message\n",
    "messages = [\n",
    "\tHumanMessage(\n",
    "\t\tcontent=\"According to the note provided by Mr. Wayne in the images.  What's the list of items I should by for the dinner menu?  Count the number of items and divide them by 50.  Give resulting answer.  Do not stop untill you have integer answer.\"\n",
    "\t)\n",
    "]\n",
    "# invoke graph with new message\n",
    "messages = react_graph.invoke(\n",
    "\t{\"messages\": messages, \"input_file\": Path(diet_menu_path)},\n",
    "\tconfig={\"callbacks\": [langfuse_handler]},\n",
    ")"
   ]
  },
  {
   "cell_type": "code",
   "execution_count": null,
   "id": "33",
   "metadata": {},
   "outputs": [],
   "source": [
    "for m in messages[\"messages\"]:\n",
    "\tm.pretty_print()"
   ]
  },
  {
   "cell_type": "code",
   "execution_count": null,
   "id": "34",
   "metadata": {},
   "outputs": [],
   "source": [
    "# now let's showcase if we can get the loop to work\n",
    "# setup initial message\n",
    "messages = [\n",
    "\tHumanMessage(\n",
    "\t\tcontent=\"According to the note provided by Mr. Wayne in the images.  What's the list of items I should by for the dinner menu?  Then send an email to the recipient email with list of items.\"\n",
    "\t)\n",
    "]\n",
    "# invoke graph with new message\n",
    "messages = react_graph.invoke(\n",
    "\t{\"messages\": messages, \"input_file\": Path(diet_menu_path)},\n",
    "\tconfig={\"callbacks\": [langfuse_handler]},\n",
    ")"
   ]
  },
  {
   "cell_type": "code",
   "execution_count": null,
   "id": "35",
   "metadata": {},
   "outputs": [],
   "source": [
    "for m in messages[\"messages\"]:\n",
    "\tm.pretty_print()"
   ]
  },
  {
   "cell_type": "code",
   "execution_count": null,
   "id": "36",
   "metadata": {},
   "outputs": [],
   "source": []
  }
 ],
 "metadata": {
  "kernelspec": {
   "display_name": "Python 3",
   "language": "python",
   "name": "python3"
  },
  "language_info": {
   "codemirror_mode": {
    "name": "ipython",
    "version": 2
   },
   "file_extension": ".py",
   "mimetype": "text/x-python",
   "name": "python",
   "nbconvert_exporter": "python",
   "pygments_lexer": "ipython2",
   "version": "2.7.6"
  }
 },
 "nbformat": 4,
 "nbformat_minor": 5
}
