{
 "cells": [
  {
   "cell_type": "code",
   "execution_count": 13,
   "id": "initial_id",
   "metadata": {
    "ExecuteTime": {
     "end_time": "2025-10-06T05:42:28.864534Z",
     "start_time": "2025-10-06T05:42:28.862221Z"
    },
    "collapsed": true
   },
   "outputs": [],
   "source": [
    "# imports required\n",
    "import os\n",
    "import numpy as np\n",
    "from sentence_transformers import SentenceTransformer\n",
    "from sklearn.cluster import KMeans\n",
    "from sklearn.metrics import silhouette_score"
   ]
  },
  {
   "cell_type": "code",
   "execution_count": 14,
   "id": "a1dce6f86162fa85",
   "metadata": {
    "ExecuteTime": {
     "end_time": "2025-10-06T05:42:29.916410Z",
     "start_time": "2025-10-06T05:42:29.913957Z"
    }
   },
   "outputs": [],
   "source": [
    "# sample dataset\n",
    "sentences = [\n",
    "\t\"The new solar power plant has significantly reduced carbon emissions.\",\n",
    "\t\"Renewable energy sources are critical for a sustainable future.\",\n",
    "\t\"A cat chasing a laser pointer is a hilarious sight.\",\n",
    "\t\"My dog loves playing fetch with the tennis ball in the park.\",\n",
    "\t\"The latest financial reports show unexpected growth in the tech sector.\",\n",
    "\t\"Market trends indicate a strong recovery for digital services.\",\n",
    "\t\"The fluffy kittens curled up for a nap in the sunny window.\",\n",
    "\t\"Analyzing quarterly earnings data is a primary job function for an analyst.\",\n",
    "]"
   ]
  },
  {
   "cell_type": "markdown",
   "id": "78cf74fe031b9e1f",
   "metadata": {},
   "source": "### # Max number of clusters to test. Typically, you don't test K above sqrt(N) or N/2.\n"
  },
  {
   "cell_type": "code",
   "execution_count": 15,
   "id": "839b99f72af032b7",
   "metadata": {
    "ExecuteTime": {
     "end_time": "2025-10-06T05:42:32.262738Z",
     "start_time": "2025-10-06T05:42:32.260677Z"
    }
   },
   "outputs": [],
   "source": [
    "MAX_K = len(sentences) // 2\n",
    "MIN_K = 2  # Silhouette Score requires a minimum of 2 clusters"
   ]
  },
  {
   "cell_type": "code",
   "execution_count": 16,
   "id": "359748c39da5a342",
   "metadata": {
    "ExecuteTime": {
     "end_time": "2025-10-06T05:42:33.224567Z",
     "start_time": "2025-10-06T05:42:33.220863Z"
    }
   },
   "outputs": [],
   "source": [
    "def find_optimal_k(embeddings: np.ndarray, k_range: set[int]) -> int:\n",
    "\t\"\"\"\n",
    "\tFinds the optimal number of clusters (K) using the Silhouette Score.\n",
    "\tThe optimal K maximizes the average silhouette score.\n",
    "\t\"\"\"\n",
    "\tbest_score = -1\n",
    "\toptimal_k = MIN_K\n",
    "\n",
    "\t# Iterate through possible values of K\n",
    "\tfor k in k_range:\n",
    "\t\ttry:\n",
    "\t\t\t# 1. Fit KMeans model\n",
    "\t\t\t# Use 'k-means++' for smarter initialization\n",
    "\t\t\tkmeans = KMeans(n_clusters=k, init=\"k-means++\", n_init=10, random_state=42)\n",
    "\t\t\tcluster_labels = kmeans.fit_predict(embeddings)\n",
    "\n",
    "\t\t\t# 2. Calculate Silhouette Score\n",
    "\t\t\t# Use Cosine distance as it's often better suited for sentence embeddings\n",
    "\t\t\tscore = silhouette_score(embeddings, cluster_labels, metric=\"cosine\")\n",
    "\n",
    "\t\t\t# Print intermediate scores for monitoring (optional)\n",
    "\t\t\t# print(f\"K={k}: Silhouette Score = {score:.4f}\")\n",
    "\n",
    "\t\t\t# 3. Check if this is the best score found so far\n",
    "\t\t\tif score > best_score:\n",
    "\t\t\t\tbest_score = score\n",
    "\t\t\t\toptimal_k = k\n",
    "\t\texcept Exception as e:\n",
    "\t\t\t# Handle cases where the number of samples is too low for the metric\n",
    "\t\t\tprint(f\"Could not calculate score for K={k}: {e}\")\n",
    "\t\t\tcontinue\n",
    "\n",
    "\tprint(\n",
    "\t\tf\"\\n[INFO] Optimal K found: {optimal_k} (Max Silhouette Score: {best_score:.4f})\"\n",
    "\t)\n",
    "\treturn optimal_k"
   ]
  },
  {
   "cell_type": "code",
   "execution_count": 17,
   "id": "84d5a5258de8038d",
   "metadata": {
    "ExecuteTime": {
     "end_time": "2025-10-06T05:42:34.279900Z",
     "start_time": "2025-10-06T05:42:34.275657Z"
    }
   },
   "outputs": [],
   "source": [
    "def cluster_sentences(sentences: list[str]) -> None:\n",
    "\t\"\"\"\n",
    "\tPerforms the entire batch clustering process.\n",
    "\t\"\"\"\n",
    "\t# Fix the parallelism warning by setting the environment variable programmatically.\n",
    "\t# This must be done before the SBERT model loads/uses the tokenizer.\n",
    "\tos.environ[\"TOKENIZERS_PARALLELISM\"] = \"false\"\n",
    "\n",
    "\tprint(\"[STEP 1/4] Loading SBERT model...\")\n",
    "\t# Load a general-purpose sentence transformer model\n",
    "\tmodel = SentenceTransformer(\"all-MiniLM-L6-v2\")\n",
    "\n",
    "\tprint(\"[STEP 2/4] Generating sentence embeddings...\")\n",
    "\t# Convert sentences into numerical vectors\n",
    "\tsentence_embeddings = model.encode(sentences)\n",
    "\n",
    "\tprint(\"[STEP 3/4] Finding optimal K using Silhouette Score...\")\n",
    "\t# Determine the range of K values to test\n",
    "\tk_range = range(MIN_K, MAX_K + 1)\n",
    "\n",
    "\t# Ensure there are enough samples to run the Silhouette test\n",
    "\tif len(sentences) < 2 or MAX_K < MIN_K:\n",
    "\t\tprint(\"[ERROR] Not enough data to cluster (need at least 2 samples).\")\n",
    "\t\treturn\n",
    "\n",
    "\t# Find the best K\n",
    "\toptimal_k = find_optimal_k(sentence_embeddings, k_range)\n",
    "\n",
    "\tprint(f\"[STEP 4/4] Final clustering with K={optimal_k}...\")\n",
    "\t# Perform final clustering with the best K\n",
    "\tfinal_kmeans = KMeans(\n",
    "\t\tn_clusters=optimal_k, init=\"k-means++\", n_init=10, random_state=42\n",
    "\t)\n",
    "\tcluster_labels = final_kmeans.fit_predict(sentence_embeddings)\n",
    "\n",
    "\t# Group sentences by cluster ID\n",
    "\tclustered_sentences = {}\n",
    "\tfor sentence, label in zip(sentences, cluster_labels):\n",
    "\t\tif label not in clustered_sentences:\n",
    "\t\t\tclustered_sentences[label] = []\n",
    "\t\tclustered_sentences[label].append(sentence)\n",
    "\n",
    "\t# Print the final results in a structured format\n",
    "\tprint(\"\\n=============================================\")\n",
    "\tprint(f\"      Clustering Results (Optimal K = {optimal_k})\")\n",
    "\tprint(\"=============================================\")\n",
    "\n",
    "\tfor cluster_id, sentence_list in sorted(clustered_sentences.items()):\n",
    "\t\tprint(f\"\\n--- Cluster {cluster_id} ({len(sentence_list)} Sentences) ---\")\n",
    "\t\tfor sentence in sentence_list:\n",
    "\t\t\tprint(f\"  - {sentence}\")"
   ]
  },
  {
   "cell_type": "code",
   "execution_count": 18,
   "id": "59e87dc839cfd54d",
   "metadata": {
    "ExecuteTime": {
     "end_time": "2025-10-06T05:42:39.225549Z",
     "start_time": "2025-10-06T05:42:35.026840Z"
    }
   },
   "outputs": [
    {
     "name": "stdout",
     "output_type": "stream",
     "text": [
      "[STEP 1/4] Loading SBERT model...\n",
      "[STEP 2/4] Generating sentence embeddings...\n",
      "[STEP 3/4] Finding optimal K using Silhouette Score...\n",
      "\n",
      "[INFO] Optimal K found: 3 (Max Silhouette Score: 0.2754)\n",
      "[STEP 4/4] Final clustering with K=3...\n",
      "\n",
      "=============================================\n",
      "      Clustering Results (Optimal K = 3)\n",
      "=============================================\n",
      "\n",
      "--- Cluster 0 (3 Sentences) ---\n",
      "  - A cat chasing a laser pointer is a hilarious sight.\n",
      "  - My dog loves playing fetch with the tennis ball in the park.\n",
      "  - The fluffy kittens curled up for a nap in the sunny window.\n",
      "\n",
      "--- Cluster 1 (3 Sentences) ---\n",
      "  - The latest financial reports show unexpected growth in the tech sector.\n",
      "  - Market trends indicate a strong recovery for digital services.\n",
      "  - Analyzing quarterly earnings data is a primary job function for an analyst.\n",
      "\n",
      "--- Cluster 2 (2 Sentences) ---\n",
      "  - The new solar power plant has significantly reduced carbon emissions.\n",
      "  - Renewable energy sources are critical for a sustainable future.\n"
     ]
    }
   ],
   "source": [
    "cluster_sentences(sentences)"
   ]
  },
  {
   "cell_type": "code",
   "execution_count": null,
   "id": "fbb13d877c5699b7",
   "metadata": {},
   "outputs": [],
   "source": []
  }
 ],
 "metadata": {
  "kernelspec": {
   "display_name": "Python 3",
   "language": "python",
   "name": "python3"
  },
  "language_info": {
   "codemirror_mode": {
    "name": "ipython",
    "version": 2
   },
   "file_extension": ".py",
   "mimetype": "text/x-python",
   "name": "python",
   "nbconvert_exporter": "python",
   "pygments_lexer": "ipython2",
   "version": "2.7.6"
  }
 },
 "nbformat": 4,
 "nbformat_minor": 5
}
