{
 "cells": [
  {
   "cell_type": "markdown",
   "id": "0",
   "metadata": {},
   "source": [
    "# LLM Agent Capabilities\n",
    "- List down places where `Harry Potter` movie franchise was shot in England.\n",
    "- Verify if there is any Famous Cricket Ground nearby, if yes, identify the location as area of interest.\n",
    "- Plot both locations on a map"
   ]
  },
  {
   "cell_type": "markdown",
   "id": "1",
   "metadata": {},
   "source": [
    "## Planning\n",
    "- What Tools would the agent need?\n",
    "    - Search API\n",
    "    - Web Scraping\n",
    "    - Travel time calculator (custom tool)\n",
    "    - Plotting tools (map)"
   ]
  },
  {
   "cell_type": "code",
   "execution_count": null,
   "id": "2",
   "metadata": {},
   "outputs": [],
   "source": [
    "import os\n",
    "from dotenv import load_dotenv, find_dotenv\n",
    "\n",
    "load_dotenv(find_dotenv())"
   ]
  },
  {
   "cell_type": "code",
   "execution_count": null,
   "id": "3",
   "metadata": {},
   "outputs": [],
   "source": [
    "# Setup langfuse client\n",
    "from langfuse import Langfuse\n",
    "\n",
    "langfuse = Langfuse(\n",
    "\tsecret_key=os.getenv(\"SECRET_KEY\"),\n",
    "\tpublic_key=os.getenv(\"PUBLIC_KEY\"),\n",
    "\thost=os.getenv(\"LANGFUSE_HOST\"),\n",
    ")"
   ]
  },
  {
   "cell_type": "code",
   "execution_count": null,
   "id": "4",
   "metadata": {},
   "outputs": [],
   "source": [
    "# authenticate langfuse client connection\n",
    "from langfuse import get_client\n",
    "\n",
    "langfuse = get_client()\n",
    "\n",
    "# Verify connection does not use in production as this is a synchronous call\n",
    "if langfuse.auth_check():\n",
    "\tprint(\"Langfuse client is authenticated and ready!\")\n",
    "else:\n",
    "\tprint(\"Authentication failed. Please check your credentials and host.\")"
   ]
  },
  {
   "cell_type": "code",
   "execution_count": null,
   "id": "5",
   "metadata": {},
   "outputs": [],
   "source": [
    "# setup llm observability\n",
    "from opentelemetry.sdk.trace import TracerProvider\n",
    "\n",
    "from openinference.instrumentation.smolagents import SmolagentsInstrumentor\n",
    "from opentelemetry.exporter.otlp.proto.http.trace_exporter import OTLPSpanExporter\n",
    "from opentelemetry.sdk.trace.export import SimpleSpanProcessor\n",
    "\n",
    "# set up opentelemetry tracer\n",
    "trace_provider = TracerProvider()\n",
    "trace_provider.add_span_processor(SimpleSpanProcessor(OTLPSpanExporter()))\n",
    "\n",
    "# set up smolagents instrumentor\n",
    "SmolagentsInstrumentor().instrument(trace_provider=trace_provider)"
   ]
  },
  {
   "cell_type": "code",
   "execution_count": null,
   "id": "6",
   "metadata": {},
   "outputs": [],
   "source": [
    "# get rest of api key setup\n",
    "hf_write_token = os.getenv(\"HF_WRITE_TOKEN\")\n",
    "openai_api_key = os.getenv(\"OPENAI_API_KEY\")\n",
    "serp_api_key = os.getenv(\"SERP_API_KEY\")  # search api\n",
    "serper_key = os.getenv(\"SERPER_KEY\")  # search api"
   ]
  },
  {
   "cell_type": "code",
   "execution_count": null,
   "id": "7",
   "metadata": {},
   "outputs": [],
   "source": [
    "import math\n",
    "from typing import Optional, Tuple\n",
    "from smolagents import tool"
   ]
  },
  {
   "cell_type": "code",
   "execution_count": null,
   "id": "8",
   "metadata": {},
   "outputs": [],
   "source": [
    "# helper function to calculate distance between two points on earth\n",
    "def to_radians(degrees: float) -> float:\n",
    "\treturn degrees * math.pi / 180"
   ]
  },
  {
   "cell_type": "code",
   "execution_count": null,
   "id": "9",
   "metadata": {},
   "outputs": [],
   "source": [
    "# Earth raidus in km\n",
    "EARTH_RADIUS_KM = 6371.0"
   ]
  },
  {
   "cell_type": "code",
   "execution_count": null,
   "id": "10",
   "metadata": {},
   "outputs": [],
   "source": [
    "# custom tool to identify travel time via chartered flight\n",
    "@tool\n",
    "def calculate_air_travel_time(\n",
    "\torigin_coords: Tuple[float, float],\n",
    "\tdestination_coords: Tuple[float, float],\n",
    "\tcruising_speed_kmh: Optional[float] = 925,\n",
    ") -> float:\n",
    "\t\"\"\"Calculate the air travel time between two points.\n",
    "\tArgs:\n",
    "\t    origin_coords: Tuple of (latitude, longitude) for the origin point.\n",
    "\t    destination_coords: Tuple of (latitude, longitude) for the destination point.\n",
    "\t    cruising_speed_kmh: The cruising speed in km/h. Defaults to 925 for cross-atlantic chartered flights.\n",
    "\tReturns:\n",
    "\t    float: The air travel time in hours.\n",
    "\t\"\"\"\n",
    "\t# extract lat long from input args\n",
    "\tlat1, long1 = map(to_radians, origin_coords)\n",
    "\tlat2, long2 = map(to_radians, destination_coords)\n",
    "\n",
    "\tdlong = long2 - long1\n",
    "\tdlat = lat2 - lat1\n",
    "\n",
    "\ta = (\n",
    "\t\tmath.sin(dlat / 2) ** 2\n",
    "\t\t+ math.cos(lat1) * math.cos(lat2) * math.sin(dlong / 2) ** 2\n",
    "\t)\n",
    "\tc = 2 * math.asin(math.sqrt(a))\n",
    "\tdistance = EARTH_RADIUS_KM * c\n",
    "\n",
    "\t# add 5% for air traffic congestion\n",
    "\tfinal_distance = distance * 1.05\n",
    "\n",
    "\t# calculate air travel time in hours\n",
    "\tif final_distance and cruising_speed_kmh:\n",
    "\t\tair_travel_time_hours = (\n",
    "\t\t\tfinal_distance / cruising_speed_kmh + 1.0\n",
    "\t\t)  # takeoff and landing procedure\n",
    "\t\treturn round(air_travel_time_hours, 2)"
   ]
  },
  {
   "cell_type": "code",
   "execution_count": null,
   "id": "11",
   "metadata": {},
   "outputs": [],
   "source": [
    "# helper function to get lat long of a location\n",
    "from geopy.geocoders import Nominatim\n",
    "\n",
    "\n",
    "def get_lat_long(location_name: str) -> Optional[Tuple[float, float]]:\n",
    "\t\"\"\"Get the latitude and longitude of a location using the Nominatim API.\n",
    "\tArgs:\n",
    "\t    location_name (str): The name of the location.\n",
    "\tReturns:\n",
    "\t    Optional[Tuple[float, float]]: A tuple containing the latitude and longitude, or None if the location could not be found.\n",
    "\t\"\"\"\n",
    "\tgeolocator = Nominatim(user_agent=\"geopy_example\", timeout=10)\n",
    "\tlocation = geolocator.geocode(location_name)\n",
    "\n",
    "\tif location:\n",
    "\t\tlatitude, longitude = location.latitude, location.longitude\n",
    "\t\treturn latitude, longitude\n",
    "\telse:\n",
    "\t\treturn None"
   ]
  },
  {
   "cell_type": "code",
   "execution_count": null,
   "id": "12",
   "metadata": {},
   "outputs": [],
   "source": [
    "print(f\"Location of Ahmedabad is {get_lat_long('Ahmedabad, India')}\")\n",
    "print(f\"Location of London is {get_lat_long('London, UK')}\")"
   ]
  },
  {
   "cell_type": "code",
   "execution_count": null,
   "id": "13",
   "metadata": {},
   "outputs": [],
   "source": [
    "# helper function to convert hours into days, hours, and minutes\n",
    "def convert_hours(total_hours):\n",
    "\t\"\"\"\n",
    "\tConverts a given number of hours into days, remaining hours, and minutes.\n",
    "\n",
    "\tArgs:\n",
    "\t    total_hours (float or int): The total number of hours to convert.\n",
    "\n",
    "\tReturns:\n",
    "\t    tuple: A tuple containing (days, hours, minutes).\n",
    "\t\"\"\"\n",
    "\t# Calculate days\n",
    "\tdays = int(total_hours // 24)\n",
    "\n",
    "\t# Calculate remaining hours after extracting days\n",
    "\tremaining_hours = total_hours % 24\n",
    "\n",
    "\t# Calculate whole hours from the remaining_hours\n",
    "\thours = int(remaining_hours)\n",
    "\n",
    "\t# Calculate minutes from the fractional part of remaining_hours\n",
    "\tminutes = int((remaining_hours - hours) * 60)\n",
    "\n",
    "\treturn days, hours, minutes\n",
    "\n",
    "\n",
    "# Example usage:\n",
    "hours_input = 75.5\n",
    "days, hours, minutes = convert_hours(hours_input)\n",
    "print(\n",
    "\tf\"{hours_input} hours is equivalent to {days} days, {hours} hours, and {minutes} minutes.\"\n",
    ")\n",
    "\n",
    "hours_input_2 = 48\n",
    "days_2, hours_2, minutes_2 = convert_hours(hours_input_2)\n",
    "print(\n",
    "\tf\"{hours_input_2} hours is equivalent to {days_2} days, {hours_2} hours, and {minutes_2} minutes.\"\n",
    ")\n",
    "\n",
    "hours_input_3 = 1.75\n",
    "days_3, hours_3, minutes_3 = convert_hours(hours_input_3)\n",
    "print(\n",
    "\tf\"{hours_input_3} hours is equivalent to {days_3} days, {hours_3} hours, and {minutes_3} minutes.\"\n",
    ")"
   ]
  },
  {
   "cell_type": "code",
   "execution_count": null,
   "id": "14",
   "metadata": {},
   "outputs": [],
   "source": [
    "# travel time between Ahmedabad and London\n",
    "travel_time_hours = calculate_air_travel_time(\n",
    "\t(23.0215374, 72.5800568), (51.4893335, -0.1440551)\n",
    ")\n",
    "travel_time_print = convert_hours(travel_time_hours)"
   ]
  },
  {
   "cell_type": "code",
   "execution_count": null,
   "id": "15",
   "metadata": {},
   "outputs": [],
   "source": [
    "print(\n",
    "\tf\"Air Travel Time between Ahmedabad and London is {travel_time_print[0]} days, {travel_time_print[1]} hours, and {travel_time_print[2]} minutes.\"\n",
    ")"
   ]
  },
  {
   "cell_type": "markdown",
   "id": "16",
   "metadata": {},
   "source": [
    "### Now moving to agent creation"
   ]
  },
  {
   "cell_type": "code",
   "execution_count": null,
   "id": "17",
   "metadata": {},
   "outputs": [],
   "source": [
    "from smolagents import (\n",
    "\tCodeAgent,\n",
    "\tGoogleSearchTool,\n",
    "\tInferenceClientModel,\n",
    "\tVisitWebpageTool,\n",
    ")"
   ]
  },
  {
   "cell_type": "code",
   "execution_count": null,
   "id": "18",
   "metadata": {},
   "outputs": [],
   "source": [
    "model = InferenceClientModel(\n",
    "\tmodel_id=\"Qwen/Qwen2.5-Coder-32B-Instruct\",\n",
    "\tprovider=\"together\",\n",
    "\tapi_key=hf_write_token,\n",
    ")"
   ]
  },
  {
   "cell_type": "code",
   "execution_count": null,
   "id": "19",
   "metadata": {},
   "outputs": [],
   "source": [
    "task = \"\"\"find all harry potter filming locations in the world. calculate the time to travel to the location from Ahmedabad (located at 23.0225° N, 72.5714° E), India via passenger flight.\n",
    "if there are any cricket grounds near the filming locations, list them out as well.  Return to me all these information in a nicely formatted pandas dataframe.\"\"\""
   ]
  },
  {
   "cell_type": "code",
   "execution_count": null,
   "id": "20",
   "metadata": {},
   "outputs": [],
   "source": [
    "# Serp api key has to be part of environment, there is no option to pass it as argument\n",
    "os.environ[\"SERPAPI_API_KEY\"] = serp_api_key"
   ]
  },
  {
   "cell_type": "code",
   "execution_count": null,
   "id": "21",
   "metadata": {},
   "outputs": [],
   "source": [
    "agent = CodeAgent(\n",
    "\tmodel=model,\n",
    "\ttools=[GoogleSearchTool(), VisitWebpageTool(), calculate_air_travel_time],\n",
    "\tadditional_authorized_imports=[\"pandas\"],\n",
    "\tmax_steps=20,\n",
    ")"
   ]
  },
  {
   "cell_type": "code",
   "execution_count": null,
   "id": "22",
   "metadata": {},
   "outputs": [],
   "source": [
    "result = agent.run(task.strip())"
   ]
  },
  {
   "cell_type": "code",
   "execution_count": null,
   "id": "23",
   "metadata": {},
   "outputs": [],
   "source": [
    "import boto3\n",
    "\n",
    "client = boto3.client(\n",
    "\t\"bedrock-runtime\",\n",
    "\tregion_name=\"us-east-1\",\n",
    "\taws_access_key_id=os.getenv(\"AWS_ACCESS_KEY_ID\"),\n",
    "\taws_secret_access_key=os.getenv(\"AWS_SECRET_ACCESS_KEY\"),\n",
    ")"
   ]
  },
  {
   "cell_type": "code",
   "execution_count": null,
   "id": "24",
   "metadata": {},
   "outputs": [],
   "source": []
  },
  {
   "cell_type": "code",
   "execution_count": null,
   "id": "25",
   "metadata": {},
   "outputs": [],
   "source": [
    "from smolagents import AmazonBedrockServerModel\n",
    "\n",
    "bedrock_model = AmazonBedrockServerModel(\n",
    "\tmodel_id=\"anthropic.claude-3-haiku-20240307-v1:0\",\n",
    "\tclient=client,\n",
    ")"
   ]
  },
  {
   "cell_type": "code",
   "execution_count": null,
   "id": "26",
   "metadata": {},
   "outputs": [],
   "source": [
    "task = \"\"\"find all harry potter filming locations in the world. calculate the time to travel to the location from Ahmedabad (located at 23.0225° N, 72.5714° E), India via passenger flight.\n",
    "if there are any cricket grounds near the filming locations, list them out as well.  Return to me all these information in a nicely formatted pandas dataframe.\"\"\""
   ]
  },
  {
   "cell_type": "code",
   "execution_count": null,
   "id": "27",
   "metadata": {},
   "outputs": [],
   "source": [
    "agent_bedrock = CodeAgent(\n",
    "\tmodel=bedrock_model,\n",
    "\ttools=[GoogleSearchTool(), VisitWebpageTool(), calculate_air_travel_time],\n",
    "\tadditional_authorized_imports=[\"pandas\"],\n",
    "\tmax_steps=20,\n",
    ")"
   ]
  },
  {
   "cell_type": "code",
   "execution_count": null,
   "id": "28",
   "metadata": {},
   "outputs": [],
   "source": [
    "agent_bedrock.run(task.strip())"
   ]
  },
  {
   "cell_type": "code",
   "execution_count": null,
   "id": "29",
   "metadata": {},
   "outputs": [],
   "source": [
    "import boto3\n",
    "\n",
    "client = boto3.client(\n",
    "\t\"bedrock-runtime\",\n",
    "\t# region_name=\"us-east-1\",\n",
    "\tregion_name=\"ap-south-1\",\n",
    "\taws_access_key_id=os.getenv(\"AWS_ACCESS_KEY_ID\"),\n",
    "\taws_secret_access_key=os.getenv(\"AWS_SECRET_ACCESS_KEY\"),\n",
    ")"
   ]
  },
  {
   "cell_type": "code",
   "execution_count": null,
   "id": "30",
   "metadata": {},
   "outputs": [],
   "source": [
    "from smolagents import AmazonBedrockServerModel\n",
    "\n",
    "bedrock_model = AmazonBedrockServerModel(\n",
    "\tmodel_id=\"mistral.mistral-large-2402-v1:0\",\n",
    "\tclient=client,\n",
    ")"
   ]
  },
  {
   "cell_type": "code",
   "execution_count": null,
   "id": "31",
   "metadata": {},
   "outputs": [],
   "source": [
    "# You make comprehensive report after visiting many websites.\n",
    "# Dont' hesitate to search for many queries at once in a for loop.\n",
    "# For each data point that you find, visit the source URL to confirm numbers.\n",
    "task = \"\"\"\n",
    "find all harry potter filming locations in the world, calculate the time to travel to the location from here (we are located at Ahmedabad, India 23.0225° N, 72.5714° E), and return them to me as a pandas dataframe.\n",
    "Also, give me cricket stadiums if there are any nearby to the filming locations\"\"\".strip()"
   ]
  },
  {
   "cell_type": "code",
   "execution_count": null,
   "id": "32",
   "metadata": {},
   "outputs": [],
   "source": [
    "agent_bedrock = CodeAgent(\n",
    "\tmodel=bedrock_model,\n",
    "\ttools=[GoogleSearchTool(), VisitWebpageTool(), calculate_air_travel_time],\n",
    "\tadditional_authorized_imports=[\"pandas\"],\n",
    "\tmax_steps=20,\n",
    ")"
   ]
  },
  {
   "cell_type": "code",
   "execution_count": null,
   "id": "33",
   "metadata": {},
   "outputs": [],
   "source": [
    "# agent_bedrock.planning_interval = 4\n",
    "agent_bedrock.run(task.strip())"
   ]
  },
  {
   "cell_type": "code",
   "execution_count": null,
   "id": "34",
   "metadata": {},
   "outputs": [],
   "source": []
  }
 ],
 "metadata": {
  "kernelspec": {
   "display_name": "vizuara",
   "language": "python",
   "name": "python3"
  },
  "language_info": {
   "codemirror_mode": {
    "name": "ipython",
    "version": 3
   },
   "file_extension": ".py",
   "mimetype": "text/x-python",
   "name": "python",
   "nbconvert_exporter": "python",
   "pygments_lexer": "ipython3",
   "version": "3.13.7"
  }
 },
 "nbformat": 4,
 "nbformat_minor": 5
}
