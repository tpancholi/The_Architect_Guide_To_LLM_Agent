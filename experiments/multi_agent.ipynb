{
 "cells": [
  {
   "cell_type": "markdown",
   "id": "601568efd563a868",
   "metadata": {
    "collapsed": true
   },
   "source": [
    "# LLM Agent Capabilities\n",
    "- List down places where `Harry Potter` movie franchise was shot in England.\n",
    "- Verify if there is any Famous Cricket Ground nearby, if yes, identify the location as area of interest.\n",
    "- Plot both locations on a map"
   ]
  },
  {
   "cell_type": "markdown",
   "id": "d9e1df78fad27cd1",
   "metadata": {},
   "source": [
    "## Planning\n",
    "- What Tools would the agent need?\n",
    "    - Search API\n",
    "    - Web Scraping\n",
    "    - Travel time calculator (custom tool)\n",
    "    - Plotting tools (map)"
   ]
  },
  {
   "cell_type": "code",
   "execution_count": 10,
   "id": "d70a53655685d48a",
   "metadata": {
    "ExecuteTime": {
     "end_time": "2025-10-06T15:04:57.223945Z",
     "start_time": "2025-10-06T15:04:57.219652Z"
    }
   },
   "outputs": [
    {
     "data": {
      "text/plain": [
       "True"
      ]
     },
     "execution_count": 10,
     "metadata": {},
     "output_type": "execute_result"
    }
   ],
   "source": [
    "import os\n",
    "from dotenv import load_dotenv, find_dotenv\n",
    "\n",
    "load_dotenv(find_dotenv())"
   ]
  },
  {
   "cell_type": "code",
   "execution_count": 11,
   "id": "9a6200f856c11c0a",
   "metadata": {
    "ExecuteTime": {
     "end_time": "2025-10-06T15:04:57.787282Z",
     "start_time": "2025-10-06T15:04:57.784535Z"
    }
   },
   "outputs": [],
   "source": [
    "# Setup langfuse client\n",
    "from langfuse import Langfuse\n",
    "\n",
    "langfuse = Langfuse(\n",
    "\tsecret_key=os.getenv(\"SECRET_KEY\"),\n",
    "\tpublic_key=os.getenv(\"PUBLIC_KEY\"),\n",
    "\thost=os.getenv(\"LANGFUSE_HOST\"),\n",
    ")"
   ]
  },
  {
   "cell_type": "code",
   "execution_count": 12,
   "id": "819757c9668eff35",
   "metadata": {
    "ExecuteTime": {
     "end_time": "2025-10-06T15:04:58.911836Z",
     "start_time": "2025-10-06T15:04:58.306077Z"
    }
   },
   "outputs": [
    {
     "name": "stdout",
     "output_type": "stream",
     "text": [
      "Langfuse client is authenticated and ready!\n"
     ]
    }
   ],
   "source": [
    "# authenticate langfuse client connection\n",
    "from langfuse import get_client\n",
    "\n",
    "langfuse = get_client()\n",
    "\n",
    "# Verify connection does not use in production as this is a synchronous call\n",
    "if langfuse.auth_check():\n",
    "\tprint(\"Langfuse client is authenticated and ready!\")\n",
    "else:\n",
    "\tprint(\"Authentication failed. Please check your credentials and host.\")"
   ]
  },
  {
   "cell_type": "code",
   "execution_count": 15,
   "id": "1c97f54afebf791f",
   "metadata": {
    "ExecuteTime": {
     "end_time": "2025-10-06T15:10:09.288116Z",
     "start_time": "2025-10-06T15:10:09.280509Z"
    }
   },
   "outputs": [],
   "source": [
    "# setup llm observability\n",
    "from opentelemetry.sdk.trace import TracerProvider\n",
    "\n",
    "from openinference.instrumentation.smolagents import SmolagentsInstrumentor\n",
    "from opentelemetry.exporter.otlp.proto.http.trace_exporter import OTLPSpanExporter\n",
    "from opentelemetry.sdk.trace.export import SimpleSpanProcessor\n",
    "\n",
    "# set up opentelemetry tracer\n",
    "trace_provider = TracerProvider()\n",
    "trace_provider.add_span_processor(SimpleSpanProcessor(OTLPSpanExporter()))\n",
    "\n",
    "# set up smolagents instrumentor\n",
    "SmolagentsInstrumentor().instrument(trace_provider=trace_provider)"
   ]
  },
  {
   "cell_type": "code",
   "execution_count": null,
   "id": "f471693fd1feb7d6",
   "metadata": {},
   "outputs": [],
   "source": []
  },
  {
   "cell_type": "code",
   "execution_count": 34,
   "id": "f2f8f2a995dc4b0",
   "metadata": {
    "ExecuteTime": {
     "end_time": "2025-10-06T16:02:08.769903Z",
     "start_time": "2025-10-06T16:02:08.766670Z"
    }
   },
   "outputs": [],
   "source": [
    "# get rest of api key setup\n",
    "hf_write_token = os.getenv(\"HF_WRITE_TOKEN\")\n",
    "openai_api_key = os.getenv(\"OPENAI_API_KEY\")\n",
    "serp_api_key = os.getenv(\"SERP_API_KEY\")  # search api\n",
    "serper_key = os.getenv(\"SERPER_KEY\")  # search api"
   ]
  },
  {
   "cell_type": "code",
   "execution_count": 5,
   "id": "e27e616e72f86ece",
   "metadata": {
    "ExecuteTime": {
     "end_time": "2025-10-06T14:55:04.241013Z",
     "start_time": "2025-10-06T14:55:03.205188Z"
    }
   },
   "outputs": [
    {
     "name": "stderr",
     "output_type": "stream",
     "text": [
      "F:\\repos\\python\\The_Architect_Guide_To_LLM_Agent\\.venv\\Lib\\site-packages\\tqdm\\auto.py:21: TqdmWarning: IProgress not found. Please update jupyter and ipywidgets. See https://ipywidgets.readthedocs.io/en/stable/user_install.html\n",
      "  from .autonotebook import tqdm as notebook_tqdm\n"
     ]
    }
   ],
   "source": [
    "import math\n",
    "from typing import Optional, Tuple\n",
    "from smolagents import tool"
   ]
  },
  {
   "cell_type": "code",
   "execution_count": 16,
   "id": "199a086c0fbab788",
   "metadata": {
    "ExecuteTime": {
     "end_time": "2025-10-06T15:24:06.907616Z",
     "start_time": "2025-10-06T15:24:06.904322Z"
    }
   },
   "outputs": [],
   "source": [
    "# helper function to calculate distance between two points on earth\n",
    "def to_radians(degrees: float) -> float:\n",
    "\treturn degrees * math.pi / 180"
   ]
  },
  {
   "cell_type": "code",
   "execution_count": 17,
   "id": "5d9757f4c6d26a84",
   "metadata": {
    "ExecuteTime": {
     "end_time": "2025-10-06T15:31:18.994103Z",
     "start_time": "2025-10-06T15:31:18.991274Z"
    }
   },
   "outputs": [],
   "source": [
    "# Earth raidus in km\n",
    "EARTH_RADIUS_KM = 6371.0"
   ]
  },
  {
   "cell_type": "code",
   "execution_count": 18,
   "id": "64a8b12dd7f21983",
   "metadata": {
    "ExecuteTime": {
     "end_time": "2025-10-06T15:31:21.671247Z",
     "start_time": "2025-10-06T15:31:21.665664Z"
    }
   },
   "outputs": [],
   "source": [
    "# custom tool to identify travel time via chartered flight\n",
    "@tool\n",
    "def calculate_air_travel_time(\n",
    "\torigin_coords: Tuple[float, float],\n",
    "\tdestination_coords: Tuple[float, float],\n",
    "\tcruising_speed_kmh: Optional[float] = 925,\n",
    ") -> float:\n",
    "\t\"\"\"Calculate the air travel time between two points.\n",
    "\tArgs:\n",
    "\t    origin_coords: Tuple of (latitude, longitude) for the origin point.\n",
    "\t    destination_coords: Tuple of (latitude, longitude) for the destination point.\n",
    "\t    cruising_speed_kmh: The cruising speed in km/h. Defaults to 925 for cross-atlantic chartered flights.\n",
    "\tReturns:\n",
    "\t    float: The air travel time in hours.\n",
    "\t\"\"\"\n",
    "\t# extract lat long from input args\n",
    "\tlat1, long1 = map(to_radians, origin_coords)\n",
    "\tlat2, long2 = map(to_radians, destination_coords)\n",
    "\n",
    "\tdlong = long2 - long1\n",
    "\tdlat = lat2 - lat1\n",
    "\n",
    "\ta = (\n",
    "\t\tmath.sin(dlat / 2) ** 2\n",
    "\t\t+ math.cos(lat1) * math.cos(lat2) * math.sin(dlong / 2) ** 2\n",
    "\t)\n",
    "\tc = 2 * math.asin(math.sqrt(a))\n",
    "\tdistance = EARTH_RADIUS_KM * c\n",
    "\n",
    "\t# add 5% for air traffic congestion\n",
    "\tfinal_distance = distance * 1.05\n",
    "\n",
    "\t# calculate air travel time in hours\n",
    "\tair_travel_time_hours = (\n",
    "\t\tfinal_distance / cruising_speed_kmh + 1.0\n",
    "\t)  # takeoff and landing procedure\n",
    "\treturn round(air_travel_time_hours, 2)"
   ]
  },
  {
   "cell_type": "code",
   "execution_count": 39,
   "id": "d07f2f3b49157382",
   "metadata": {
    "ExecuteTime": {
     "end_time": "2025-10-06T16:07:47.936725Z",
     "start_time": "2025-10-06T16:07:47.932453Z"
    }
   },
   "outputs": [],
   "source": [
    "# helper function to get lat long of a location\n",
    "from geopy.geocoders import Nominatim\n",
    "\n",
    "\n",
    "@tool\n",
    "def get_lat_long(location_name: str) -> Optional[Tuple[float, float]]:\n",
    "\t\"\"\"Get the latitude and longitude of a location using the Nominatim API.\n",
    "\tArgs:\n",
    "\t    location_name (str): The name of the location.\n",
    "\tReturns:\n",
    "\t    Optional[Tuple[float, float]]: A tuple containing the latitude and longitude, or None if the location could not be found.\n",
    "\t\"\"\"\n",
    "\tgeolocator = Nominatim(user_agent=\"geopy_example\", timeout=10)\n",
    "\tlocation = geolocator.geocode(location_name)\n",
    "\n",
    "\tif location:\n",
    "\t\tlatitude, longitude = location.latitude, location.longitude\n",
    "\t\treturn latitude, longitude\n",
    "\telse:\n",
    "\t\treturn None"
   ]
  },
  {
   "cell_type": "code",
   "execution_count": 20,
   "id": "6ab41ee77d8d7ea6",
   "metadata": {
    "ExecuteTime": {
     "end_time": "2025-10-06T15:37:06.275990Z",
     "start_time": "2025-10-06T15:37:03.911066Z"
    }
   },
   "outputs": [
    {
     "name": "stdout",
     "output_type": "stream",
     "text": [
      "Location of Ahmedabad is (23.0215374, 72.5800568)\n",
      "Location of London is (51.4893335, -0.1440551)\n"
     ]
    }
   ],
   "source": [
    "print(f\"Location of Ahmedabad is {get_lat_long('Ahmedabad, India')}\")\n",
    "print(f\"Location of London is {get_lat_long('London, UK')}\")"
   ]
  },
  {
   "cell_type": "code",
   "execution_count": 24,
   "id": "2f9b338426c1e684",
   "metadata": {
    "ExecuteTime": {
     "end_time": "2025-10-06T15:39:31.870541Z",
     "start_time": "2025-10-06T15:39:31.864637Z"
    }
   },
   "outputs": [
    {
     "name": "stdout",
     "output_type": "stream",
     "text": [
      "75.5 hours is equivalent to 3 days, 3 hours, and 30 minutes.\n",
      "48 hours is equivalent to 2 days, 0 hours, and 0 minutes.\n",
      "1.75 hours is equivalent to 0 days, 1 hours, and 45 minutes.\n"
     ]
    }
   ],
   "source": [
    "# helper function to convert hours into days, hours, and minutes\n",
    "def convert_hours(total_hours):\n",
    "\t\"\"\"\n",
    "\tConverts a given number of hours into days, remaining hours, and minutes.\n",
    "\n",
    "\tArgs:\n",
    "\t    total_hours (float or int): The total number of hours to convert.\n",
    "\n",
    "\tReturns:\n",
    "\t    tuple: A tuple containing (days, hours, minutes).\n",
    "\t\"\"\"\n",
    "\t# Calculate days\n",
    "\tdays = int(total_hours // 24)\n",
    "\n",
    "\t# Calculate remaining hours after extracting days\n",
    "\tremaining_hours = total_hours % 24\n",
    "\n",
    "\t# Calculate whole hours from the remaining_hours\n",
    "\thours = int(remaining_hours)\n",
    "\n",
    "\t# Calculate minutes from the fractional part of remaining_hours\n",
    "\tminutes = int((remaining_hours - hours) * 60)\n",
    "\n",
    "\treturn days, hours, minutes\n",
    "\n",
    "\n",
    "# Example usage:\n",
    "hours_input = 75.5\n",
    "days, hours, minutes = convert_hours(hours_input)\n",
    "print(\n",
    "\tf\"{hours_input} hours is equivalent to {days} days, {hours} hours, and {minutes} minutes.\"\n",
    ")\n",
    "\n",
    "hours_input_2 = 48\n",
    "days_2, hours_2, minutes_2 = convert_hours(hours_input_2)\n",
    "print(\n",
    "\tf\"{hours_input_2} hours is equivalent to {days_2} days, {hours_2} hours, and {minutes_2} minutes.\"\n",
    ")\n",
    "\n",
    "hours_input_3 = 1.75\n",
    "days_3, hours_3, minutes_3 = convert_hours(hours_input_3)\n",
    "print(\n",
    "\tf\"{hours_input_3} hours is equivalent to {days_3} days, {hours_3} hours, and {minutes_3} minutes.\"\n",
    ")"
   ]
  },
  {
   "cell_type": "code",
   "execution_count": 25,
   "id": "ae4c8334f83731bf",
   "metadata": {
    "ExecuteTime": {
     "end_time": "2025-10-06T15:42:33.965239Z",
     "start_time": "2025-10-06T15:42:33.960522Z"
    }
   },
   "outputs": [],
   "source": [
    "# travel time between Ahmedabad and London\n",
    "travel_time_hours = calculate_air_travel_time(\n",
    "\t(23.0215374, 72.5800568), (51.4893335, -0.1440551)\n",
    ")\n",
    "travel_time_print = convert_hours(travel_time_hours)"
   ]
  },
  {
   "cell_type": "code",
   "execution_count": 27,
   "id": "987682922503dbb9",
   "metadata": {
    "ExecuteTime": {
     "end_time": "2025-10-06T15:43:17.653593Z",
     "start_time": "2025-10-06T15:43:17.649983Z"
    }
   },
   "outputs": [
    {
     "name": "stdout",
     "output_type": "stream",
     "text": [
      "Air Travel Time between Ahmedabad and London is 0 days, 8 hours, and 46 minutes.\n"
     ]
    }
   ],
   "source": [
    "print(\n",
    "\tf\"Air Travel Time between Ahmedabad and London is {travel_time_print[0]} days, {travel_time_print[1]} hours, and {travel_time_print[2]} minutes.\"\n",
    ")"
   ]
  },
  {
   "cell_type": "markdown",
   "id": "2f4e85d56bc019de",
   "metadata": {},
   "source": "## now moving to agent creation"
  },
  {
   "cell_type": "code",
   "execution_count": 28,
   "id": "40b083305fd4bab6",
   "metadata": {
    "ExecuteTime": {
     "end_time": "2025-10-06T15:55:28.356739Z",
     "start_time": "2025-10-06T15:55:28.353010Z"
    }
   },
   "outputs": [],
   "source": [
    "from smolagents import (\n",
    "\tCodeAgent,\n",
    "\tGoogleSearchTool,\n",
    "\tInferenceClientModel,\n",
    "\tVisitWebpageTool,\n",
    ")"
   ]
  },
  {
   "cell_type": "code",
   "execution_count": 29,
   "id": "8eedb2081b489624",
   "metadata": {
    "ExecuteTime": {
     "end_time": "2025-10-06T15:56:48.637827Z",
     "start_time": "2025-10-06T15:56:48.411165Z"
    }
   },
   "outputs": [],
   "source": [
    "model = InferenceClientModel(\n",
    "\tmodel_id=\"Qwen/Qwen3-Next-80B-A3B-Instruct\",\n",
    "\tprovider=\"together\",\n",
    "\tapi_key=hf_write_token,\n",
    ")"
   ]
  },
  {
   "cell_type": "code",
   "execution_count": 40,
   "id": "e0ce6f7e9a9f8c28",
   "metadata": {
    "ExecuteTime": {
     "end_time": "2025-10-06T16:11:09.312558Z",
     "start_time": "2025-10-06T16:11:09.309920Z"
    }
   },
   "outputs": [],
   "source": [
    "task = \"\"\"Find all Harry Potter filming locations in the world.\n",
    "Calculate the time to transfer via passenger plane when I am located in Ahmedabad, India located at geo location 23°01′21″N, 72°34′17″E and return result as a pandas dataframe.\n",
    "Also give me list of famous cricket grounds nearby to the filming locations\"\"\""
   ]
  },
  {
   "cell_type": "code",
   "execution_count": 35,
   "id": "18cba09298bf922b",
   "metadata": {
    "ExecuteTime": {
     "end_time": "2025-10-06T16:02:45.745817Z",
     "start_time": "2025-10-06T16:02:45.742535Z"
    }
   },
   "outputs": [],
   "source": [
    "# Serp api key has to be part of environment, there is no option to pass it as argument\n",
    "os.environ[\"SERPAPI_API_KEY\"] = serp_api_key"
   ]
  },
  {
   "cell_type": "code",
   "execution_count": 44,
   "id": "d716ebc49a7df6f6",
   "metadata": {
    "ExecuteTime": {
     "end_time": "2025-10-06T16:15:09.323167Z",
     "start_time": "2025-10-06T16:15:09.306216Z"
    }
   },
   "outputs": [],
   "source": [
    "agent = CodeAgent(\n",
    "\tmodel=model,\n",
    "\ttools=[GoogleSearchTool(), VisitWebpageTool(), calculate_air_travel_time],\n",
    "\tadditional_authorized_imports=[\"pandas\"],\n",
    "\tmax_steps=20,\n",
    ")"
   ]
  },
  {
   "cell_type": "code",
   "execution_count": 45,
   "id": "4c17782ab51d8169",
   "metadata": {
    "ExecuteTime": {
     "end_time": "2025-10-06T16:15:47.774109Z",
     "start_time": "2025-10-06T16:15:11.985981Z"
    }
   },
   "outputs": [
    {
     "data": {
      "text/html": [
       "<pre style=\"white-space:pre;overflow-x:auto;line-height:normal;font-family:Menlo,'DejaVu Sans Mono',consolas,'Courier New',monospace\"><span style=\"color: #d4b702; text-decoration-color: #d4b702\">╭──────────────────────────────────────────────────── </span><span style=\"color: #d4b702; text-decoration-color: #d4b702; font-weight: bold\">New run</span><span style=\"color: #d4b702; text-decoration-color: #d4b702\"> ────────────────────────────────────────────────────╮</span>\n",
       "<span style=\"color: #d4b702; text-decoration-color: #d4b702\">│</span>                                                                                                                 <span style=\"color: #d4b702; text-decoration-color: #d4b702\">│</span>\n",
       "<span style=\"color: #d4b702; text-decoration-color: #d4b702\">│</span> <span style=\"font-weight: bold\">Find all Harry Potter filming locations in the world.</span>                                                           <span style=\"color: #d4b702; text-decoration-color: #d4b702\">│</span>\n",
       "<span style=\"color: #d4b702; text-decoration-color: #d4b702\">│</span> <span style=\"font-weight: bold\">Calculate the time to transfer via passenger plane when I am located in Ahmedabad, India located at geo </span>        <span style=\"color: #d4b702; text-decoration-color: #d4b702\">│</span>\n",
       "<span style=\"color: #d4b702; text-decoration-color: #d4b702\">│</span> <span style=\"font-weight: bold\">location 23°01′21″N, 72°34′17″E and return result as a pandas dataframe.</span>                                        <span style=\"color: #d4b702; text-decoration-color: #d4b702\">│</span>\n",
       "<span style=\"color: #d4b702; text-decoration-color: #d4b702\">│</span> <span style=\"font-weight: bold\">Also give me list of famous cricket grounds nearby to the filming locations</span>                                     <span style=\"color: #d4b702; text-decoration-color: #d4b702\">│</span>\n",
       "<span style=\"color: #d4b702; text-decoration-color: #d4b702\">│</span>                                                                                                                 <span style=\"color: #d4b702; text-decoration-color: #d4b702\">│</span>\n",
       "<span style=\"color: #d4b702; text-decoration-color: #d4b702\">╰─ InferenceClientModel - Qwen/Qwen3-Next-80B-A3B-Instruct ───────────────────────────────────────────────────────╯</span>\n",
       "</pre>\n"
      ],
      "text/plain": [
       "\u001b[38;2;212;183;2m╭─\u001b[0m\u001b[38;2;212;183;2m───────────────────────────────────────────────────\u001b[0m\u001b[38;2;212;183;2m \u001b[0m\u001b[1;38;2;212;183;2mNew run\u001b[0m\u001b[38;2;212;183;2m \u001b[0m\u001b[38;2;212;183;2m───────────────────────────────────────────────────\u001b[0m\u001b[38;2;212;183;2m─╮\u001b[0m\n",
       "\u001b[38;2;212;183;2m│\u001b[0m                                                                                                                 \u001b[38;2;212;183;2m│\u001b[0m\n",
       "\u001b[38;2;212;183;2m│\u001b[0m \u001b[1mFind all Harry Potter filming locations in the world.\u001b[0m                                                           \u001b[38;2;212;183;2m│\u001b[0m\n",
       "\u001b[38;2;212;183;2m│\u001b[0m \u001b[1mCalculate the time to transfer via passenger plane when I am located in Ahmedabad, India located at geo \u001b[0m        \u001b[38;2;212;183;2m│\u001b[0m\n",
       "\u001b[38;2;212;183;2m│\u001b[0m \u001b[1mlocation 23°01′21″N, 72°34′17″E and return result as a pandas dataframe.\u001b[0m                                        \u001b[38;2;212;183;2m│\u001b[0m\n",
       "\u001b[38;2;212;183;2m│\u001b[0m \u001b[1mAlso give me list of famous cricket grounds nearby to the filming locations\u001b[0m                                     \u001b[38;2;212;183;2m│\u001b[0m\n",
       "\u001b[38;2;212;183;2m│\u001b[0m                                                                                                                 \u001b[38;2;212;183;2m│\u001b[0m\n",
       "\u001b[38;2;212;183;2m╰─\u001b[0m\u001b[38;2;212;183;2m InferenceClientModel - Qwen/Qwen3-Next-80B-A3B-Instruct \u001b[0m\u001b[38;2;212;183;2m──────────────────────────────────────────────────────\u001b[0m\u001b[38;2;212;183;2m─╯\u001b[0m\n"
      ]
     },
     "jetTransient": {
      "display_id": null
     },
     "metadata": {},
     "output_type": "display_data"
    },
    {
     "data": {
      "text/html": [
       "<pre style=\"white-space:pre;overflow-x:auto;line-height:normal;font-family:Menlo,'DejaVu Sans Mono',consolas,'Courier New',monospace\"><span style=\"color: #d4b702; text-decoration-color: #d4b702\">━━━━━━━━━━━━━━━━━━━━━━━━━━━━━━━━━━━━━━━━━━━━━━━━━━━━━ </span><span style=\"font-weight: bold\">Step 1</span><span style=\"color: #d4b702; text-decoration-color: #d4b702\"> ━━━━━━━━━━━━━━━━━━━━━━━━━━━━━━━━━━━━━━━━━━━━━━━━━━━━━━</span>\n",
       "</pre>\n"
      ],
      "text/plain": [
       "\u001b[38;2;212;183;2m━━━━━━━━━━━━━━━━━━━━━━━━━━━━━━━━━━━━━━━━━━━━━━━━━━━━━ \u001b[0m\u001b[1mStep 1\u001b[0m\u001b[38;2;212;183;2m ━━━━━━━━━━━━━━━━━━━━━━━━━━━━━━━━━━━━━━━━━━━━━━━━━━━━━━\u001b[0m\n"
      ]
     },
     "jetTransient": {
      "display_id": null
     },
     "metadata": {},
     "output_type": "display_data"
    },
    {
     "data": {
      "text/html": [
       "<pre style=\"white-space:pre;overflow-x:auto;line-height:normal;font-family:Menlo,'DejaVu Sans Mono',consolas,'Courier New',monospace\"> ─ <span style=\"font-weight: bold\">Executing parsed code:</span> ──────────────────────────────────────────────────────────────────────────────────────── \n",
       "  <span style=\"color: #f8f8f2; text-decoration-color: #f8f8f2; background-color: #272822\">harry_potter_locations </span><span style=\"color: #ff4689; text-decoration-color: #ff4689; background-color: #272822\">=</span><span style=\"color: #f8f8f2; text-decoration-color: #f8f8f2; background-color: #272822\"> web_search(query</span><span style=\"color: #ff4689; text-decoration-color: #ff4689; background-color: #272822\">=</span><span style=\"color: #e6db74; text-decoration-color: #e6db74; background-color: #272822\">\"all Harry Potter filming locations in the world\"</span><span style=\"color: #f8f8f2; text-decoration-color: #f8f8f2; background-color: #272822\">)</span><span style=\"background-color: #272822\">                   </span>  \n",
       "  <span style=\"color: #f8f8f2; text-decoration-color: #f8f8f2; background-color: #272822\">print(harry_potter_locations)</span><span style=\"background-color: #272822\">                                                                                  </span>  \n",
       " ───────────────────────────────────────────────────────────────────────────────────────────────────────────────── \n",
       "</pre>\n"
      ],
      "text/plain": [
       " ─ \u001b[1mExecuting parsed code:\u001b[0m ──────────────────────────────────────────────────────────────────────────────────────── \n",
       "  \u001b[38;2;248;248;242;48;2;39;40;34mharry_potter_locations\u001b[0m\u001b[38;2;248;248;242;48;2;39;40;34m \u001b[0m\u001b[38;2;255;70;137;48;2;39;40;34m=\u001b[0m\u001b[38;2;248;248;242;48;2;39;40;34m \u001b[0m\u001b[38;2;248;248;242;48;2;39;40;34mweb_search\u001b[0m\u001b[38;2;248;248;242;48;2;39;40;34m(\u001b[0m\u001b[38;2;248;248;242;48;2;39;40;34mquery\u001b[0m\u001b[38;2;255;70;137;48;2;39;40;34m=\u001b[0m\u001b[38;2;230;219;116;48;2;39;40;34m\"\u001b[0m\u001b[38;2;230;219;116;48;2;39;40;34mall Harry Potter filming locations in the world\u001b[0m\u001b[38;2;230;219;116;48;2;39;40;34m\"\u001b[0m\u001b[38;2;248;248;242;48;2;39;40;34m)\u001b[0m\u001b[48;2;39;40;34m                   \u001b[0m  \n",
       "  \u001b[38;2;248;248;242;48;2;39;40;34mprint\u001b[0m\u001b[38;2;248;248;242;48;2;39;40;34m(\u001b[0m\u001b[38;2;248;248;242;48;2;39;40;34mharry_potter_locations\u001b[0m\u001b[38;2;248;248;242;48;2;39;40;34m)\u001b[0m\u001b[48;2;39;40;34m                                                                                  \u001b[0m  \n",
       " ───────────────────────────────────────────────────────────────────────────────────────────────────────────────── \n"
      ]
     },
     "jetTransient": {
      "display_id": null
     },
     "metadata": {},
     "output_type": "display_data"
    },
    {
     "data": {
      "text/html": [
       "<pre style=\"white-space:pre;overflow-x:auto;line-height:normal;font-family:Menlo,'DejaVu Sans Mono',consolas,'Courier New',monospace\"><span style=\"font-weight: bold\">Execution logs:</span>\n",
       "## Search Results\n",
       "0. [Harry Potter filming locations guide - VisitBritain \n",
       "Shop](https://www.visitbritainshop.com/us/en/harry-potter-filming-locations-guide)\n",
       "Source: visitbritainshop.com\n",
       "\n",
       "From the bustling streets of London to the ancient castles of Scotland and the charming countryside of England, \n",
       "every pin on this map reveals a new adventure.\n",
       "\n",
       "1. [Top Sights Where 'Harry Potter' Was \n",
       "Filmed](https://www.ricksteves.com/watch-read-listen/read/articles/harry-potter-sites)\n",
       "Source: Rick Steves Europe\n",
       "\n",
       "Top Sights Where 'Harry Potter' Was Filmed · London · Near Bath · Near Brighton · Oxford · Durham and Northeast \n",
       "England · Scottish Highlands · Ireland.\n",
       "\n",
       "2. [The Complete Guide to Harry Potter Film Locations ...](https://londonmymind.com/harry-potter-film-locations/)\n",
       "Date published: May 9, 2023\n",
       "Source: London On My Mind\n",
       "\n",
       "Sure, the studios in Leavesden were one of the primary Harry Potter film locations, but they also filmed across \n",
       "London, England, the U.K., and ...\n",
       "\n",
       "3. [A Magical Guide to the Best Harry Potter Places to \n",
       "Visit](https://heleneinbetween.com/2025/03/harry-potter-filming-locations-best-places-to-travel-for-potterheads.htm\n",
       "l)\n",
       "Source: Helene in Between\n",
       "\n",
       "If you're a Harry Potter fan, you have to visit the Warner Brothers Studio in London. It's the place where all 8 of\n",
       "the Harry Potter movies were filmed. You can ...\n",
       "\n",
       "4. [Where to find all Harry Potter Destinations Around the \n",
       "World](https://www.worldofwanderlust.com/find-harry-potter-destinations-around-world/)\n",
       "Source: World of Wanderlust\n",
       "\n",
       "One of the locations for filming Hogwarts School of Witchcraft and Wizadry was Durham Cathedral. This is also one \n",
       "of the most spectacular filming locations ...\n",
       "\n",
       "5. [Places in Harry Potter](https://en.wikipedia.org/wiki/Places_in_Harry_Potter)\n",
       "Source: Wikipedia\n",
       "\n",
       "Contents · 3.1 The Leaky Cauldron · 3.2 Diagon Alley · 3.3 Knockturn Alley · 3.4 Platform Nine and Three-Quarters ·\n",
       "3.5 Hogsmeade · 3.6 La Place Cachée, Paris.\n",
       "\n",
       "6. [UK Harry Potter Filming Locations &amp; \n",
       "Attractions](https://www.visitbritain.com/en/things-to-do/visit-harry-potter-filming-locations)\n",
       "Source: VisitBritain\n",
       "\n",
       "Harry Potter film locations around Britain · Freshwater West, Pembrokeshire, Wales · Lacock Abbey, Wiltshire, \n",
       "England · Alnwick Castle, Northumberland, England.\n",
       "\n",
       "7. [31 Must Visit Harry Potter Filming Locations in the UK and \n",
       "...](https://flavourofthefilm.com/2024/11/01/31-must-visit-harry-potter-filming-locations-in-the-uk-and-ireland/)\n",
       "Date published: Nov 1, 2024\n",
       "Source: Flavour of the Film\n",
       "\n",
       "In this Harry Potter filming locations list, I will detail the exact locations and provide you with information on \n",
       "how to get to them\n",
       "\n",
       "8. [Magical Harry Potter Filming Locations Tours And \n",
       "...](https://www.ahoymatey.blog/harry-potter-filming-locations/)\n",
       "Source: Ahoy Matey Blog\n",
       "\n",
       "Explore iconic Harry Potter filming locations, tours, and experiences in the UK and USA, from Hogwarts castles to \n",
       "Diagon Alley. Step into the magic today!\n",
       "\n",
       "Out: None\n",
       "</pre>\n"
      ],
      "text/plain": [
       "\u001b[1mExecution logs:\u001b[0m\n",
       "## Search Results\n",
       "0. [Harry Potter filming locations guide - VisitBritain \n",
       "Shop](https://www.visitbritainshop.com/us/en/harry-potter-filming-locations-guide)\n",
       "Source: visitbritainshop.com\n",
       "\n",
       "From the bustling streets of London to the ancient castles of Scotland and the charming countryside of England, \n",
       "every pin on this map reveals a new adventure.\n",
       "\n",
       "1. [Top Sights Where 'Harry Potter' Was \n",
       "Filmed](https://www.ricksteves.com/watch-read-listen/read/articles/harry-potter-sites)\n",
       "Source: Rick Steves Europe\n",
       "\n",
       "Top Sights Where 'Harry Potter' Was Filmed · London · Near Bath · Near Brighton · Oxford · Durham and Northeast \n",
       "England · Scottish Highlands · Ireland.\n",
       "\n",
       "2. [The Complete Guide to Harry Potter Film Locations ...](https://londonmymind.com/harry-potter-film-locations/)\n",
       "Date published: May 9, 2023\n",
       "Source: London On My Mind\n",
       "\n",
       "Sure, the studios in Leavesden were one of the primary Harry Potter film locations, but they also filmed across \n",
       "London, England, the U.K., and ...\n",
       "\n",
       "3. [A Magical Guide to the Best Harry Potter Places to \n",
       "Visit](https://heleneinbetween.com/2025/03/harry-potter-filming-locations-best-places-to-travel-for-potterheads.htm\n",
       "l)\n",
       "Source: Helene in Between\n",
       "\n",
       "If you're a Harry Potter fan, you have to visit the Warner Brothers Studio in London. It's the place where all 8 of\n",
       "the Harry Potter movies were filmed. You can ...\n",
       "\n",
       "4. [Where to find all Harry Potter Destinations Around the \n",
       "World](https://www.worldofwanderlust.com/find-harry-potter-destinations-around-world/)\n",
       "Source: World of Wanderlust\n",
       "\n",
       "One of the locations for filming Hogwarts School of Witchcraft and Wizadry was Durham Cathedral. This is also one \n",
       "of the most spectacular filming locations ...\n",
       "\n",
       "5. [Places in Harry Potter](https://en.wikipedia.org/wiki/Places_in_Harry_Potter)\n",
       "Source: Wikipedia\n",
       "\n",
       "Contents · 3.1 The Leaky Cauldron · 3.2 Diagon Alley · 3.3 Knockturn Alley · 3.4 Platform Nine and Three-Quarters ·\n",
       "3.5 Hogsmeade · 3.6 La Place Cachée, Paris.\n",
       "\n",
       "6. [UK Harry Potter Filming Locations & \n",
       "Attractions](https://www.visitbritain.com/en/things-to-do/visit-harry-potter-filming-locations)\n",
       "Source: VisitBritain\n",
       "\n",
       "Harry Potter film locations around Britain · Freshwater West, Pembrokeshire, Wales · Lacock Abbey, Wiltshire, \n",
       "England · Alnwick Castle, Northumberland, England.\n",
       "\n",
       "7. [31 Must Visit Harry Potter Filming Locations in the UK and \n",
       "...](https://flavourofthefilm.com/2024/11/01/31-must-visit-harry-potter-filming-locations-in-the-uk-and-ireland/)\n",
       "Date published: Nov 1, 2024\n",
       "Source: Flavour of the Film\n",
       "\n",
       "In this Harry Potter filming locations list, I will detail the exact locations and provide you with information on \n",
       "how to get to them\n",
       "\n",
       "8. [Magical Harry Potter Filming Locations Tours And \n",
       "...](https://www.ahoymatey.blog/harry-potter-filming-locations/)\n",
       "Source: Ahoy Matey Blog\n",
       "\n",
       "Explore iconic Harry Potter filming locations, tours, and experiences in the UK and USA, from Hogwarts castles to \n",
       "Diagon Alley. Step into the magic today!\n",
       "\n",
       "Out: None\n"
      ]
     },
     "jetTransient": {
      "display_id": null
     },
     "metadata": {},
     "output_type": "display_data"
    },
    {
     "data": {
      "text/html": [
       "<pre style=\"white-space:pre;overflow-x:auto;line-height:normal;font-family:Menlo,'DejaVu Sans Mono',consolas,'Courier New',monospace\"><span style=\"color: #7f7f7f; text-decoration-color: #7f7f7f\">[Step 1: Duration 1.65 seconds| Input tokens: 2,319 | Output tokens: 60]</span>\n",
       "</pre>\n"
      ],
      "text/plain": [
       "\u001b[2m[Step 1: Duration 1.65 seconds| Input tokens: 2,319 | Output tokens: 60]\u001b[0m\n"
      ]
     },
     "jetTransient": {
      "display_id": null
     },
     "metadata": {},
     "output_type": "display_data"
    },
    {
     "data": {
      "text/html": [
       "<pre style=\"white-space:pre;overflow-x:auto;line-height:normal;font-family:Menlo,'DejaVu Sans Mono',consolas,'Courier New',monospace\"><span style=\"color: #d4b702; text-decoration-color: #d4b702\">━━━━━━━━━━━━━━━━━━━━━━━━━━━━━━━━━━━━━━━━━━━━━━━━━━━━━ </span><span style=\"font-weight: bold\">Step 2</span><span style=\"color: #d4b702; text-decoration-color: #d4b702\"> ━━━━━━━━━━━━━━━━━━━━━━━━━━━━━━━━━━━━━━━━━━━━━━━━━━━━━━</span>\n",
       "</pre>\n"
      ],
      "text/plain": [
       "\u001b[38;2;212;183;2m━━━━━━━━━━━━━━━━━━━━━━━━━━━━━━━━━━━━━━━━━━━━━━━━━━━━━ \u001b[0m\u001b[1mStep 2\u001b[0m\u001b[38;2;212;183;2m ━━━━━━━━━━━━━━━━━━━━━━━━━━━━━━━━━━━━━━━━━━━━━━━━━━━━━━\u001b[0m\n"
      ]
     },
     "jetTransient": {
      "display_id": null
     },
     "metadata": {},
     "output_type": "display_data"
    },
    {
     "data": {
      "text/html": [
       "<pre style=\"white-space:pre;overflow-x:auto;line-height:normal;font-family:Menlo,'DejaVu Sans Mono',consolas,'Courier New',monospace\"> ─ <span style=\"font-weight: bold\">Executing parsed code:</span> ──────────────────────────────────────────────────────────────────────────────────────── \n",
       "  <span style=\"color: #f8f8f2; text-decoration-color: #f8f8f2; background-color: #272822\">detailed_locations_page </span><span style=\"color: #ff4689; text-decoration-color: #ff4689; background-color: #272822\">=</span><span style=\"color: #f8f8f2; text-decoration-color: #f8f8f2; background-color: #272822\"> </span><span style=\"background-color: #272822\">                                                                                     </span>  \n",
       "  <span style=\"color: #f8f8f2; text-decoration-color: #f8f8f2; background-color: #272822\">visit_webpage(url</span><span style=\"color: #ff4689; text-decoration-color: #ff4689; background-color: #272822\">=</span><span style=\"color: #e6db74; text-decoration-color: #e6db74; background-color: #272822\">\"https://flavourofthefilm.com/2024/11/01/31-must-visit-harry-potter-filming-locations-in-the-</span>  \n",
       "  <span style=\"color: #e6db74; text-decoration-color: #e6db74; background-color: #272822\">uk-and-ireland/\"</span><span style=\"color: #f8f8f2; text-decoration-color: #f8f8f2; background-color: #272822\">)</span><span style=\"background-color: #272822\">                                                                                              </span>  \n",
       "  <span style=\"color: #f8f8f2; text-decoration-color: #f8f8f2; background-color: #272822\">print(detailed_locations_page)</span><span style=\"background-color: #272822\">                                                                                 </span>  \n",
       " ───────────────────────────────────────────────────────────────────────────────────────────────────────────────── \n",
       "</pre>\n"
      ],
      "text/plain": [
       " ─ \u001b[1mExecuting parsed code:\u001b[0m ──────────────────────────────────────────────────────────────────────────────────────── \n",
       "  \u001b[38;2;248;248;242;48;2;39;40;34mdetailed_locations_page\u001b[0m\u001b[38;2;248;248;242;48;2;39;40;34m \u001b[0m\u001b[38;2;255;70;137;48;2;39;40;34m=\u001b[0m\u001b[38;2;248;248;242;48;2;39;40;34m \u001b[0m\u001b[48;2;39;40;34m                                                                                     \u001b[0m  \n",
       "  \u001b[38;2;248;248;242;48;2;39;40;34mvisit_webpage\u001b[0m\u001b[38;2;248;248;242;48;2;39;40;34m(\u001b[0m\u001b[38;2;248;248;242;48;2;39;40;34murl\u001b[0m\u001b[38;2;255;70;137;48;2;39;40;34m=\u001b[0m\u001b[38;2;230;219;116;48;2;39;40;34m\"\u001b[0m\u001b[38;2;230;219;116;48;2;39;40;34mhttps://flavourofthefilm.com/2024/11/01/31-must-visit-harry-potter-filming-locations-in-the-\u001b[0m  \n",
       "  \u001b[38;2;230;219;116;48;2;39;40;34muk-and-ireland/\u001b[0m\u001b[38;2;230;219;116;48;2;39;40;34m\"\u001b[0m\u001b[38;2;248;248;242;48;2;39;40;34m)\u001b[0m\u001b[48;2;39;40;34m                                                                                              \u001b[0m  \n",
       "  \u001b[38;2;248;248;242;48;2;39;40;34mprint\u001b[0m\u001b[38;2;248;248;242;48;2;39;40;34m(\u001b[0m\u001b[38;2;248;248;242;48;2;39;40;34mdetailed_locations_page\u001b[0m\u001b[38;2;248;248;242;48;2;39;40;34m)\u001b[0m\u001b[48;2;39;40;34m                                                                                 \u001b[0m  \n",
       " ───────────────────────────────────────────────────────────────────────────────────────────────────────────────── \n"
      ]
     },
     "jetTransient": {
      "display_id": null
     },
     "metadata": {},
     "output_type": "display_data"
    },
    {
     "data": {
      "text/html": [
       "<pre style=\"white-space:pre;overflow-x:auto;line-height:normal;font-family:Menlo,'DejaVu Sans Mono',consolas,'Courier New',monospace\"><span style=\"color: #800000; text-decoration-color: #800000; font-weight: bold\">Code execution failed at line 'detailed_locations_page = </span>\n",
       "<span style=\"color: #800000; text-decoration-color: #800000; font-weight: bold\">visit_webpage(url=\"https://flavourofthefilm.com/2024/11/01/31-must-visit-harry-potter-filming-locations-in-the-uk-a</span>\n",
       "<span style=\"color: #800000; text-decoration-color: #800000; font-weight: bold\">nd-ireland/\")' due to: ImportError: You must install packages `markdownify` and `requests` to run this tool: for </span>\n",
       "<span style=\"color: #800000; text-decoration-color: #800000; font-weight: bold\">instance run `pip install markdownify requests`.</span>\n",
       "</pre>\n"
      ],
      "text/plain": [
       "\u001b[1;31mCode execution failed at line 'detailed_locations_page = \u001b[0m\n",
       "\u001b[1;31mvisit_webpage(url=\"https://flavourofthefilm.com/2024/11/01/31-must-visit-harry-potter-filming-locations-in-the-uk-a\u001b[0m\n",
       "\u001b[1;31mnd-ireland/\")' due to: ImportError: You must install packages `markdownify` and `requests` to run this tool: for \u001b[0m\n",
       "\u001b[1;31minstance run `pip install markdownify requests`.\u001b[0m\n"
      ]
     },
     "jetTransient": {
      "display_id": null
     },
     "metadata": {},
     "output_type": "display_data"
    },
    {
     "data": {
      "text/html": [
       "<pre style=\"white-space:pre;overflow-x:auto;line-height:normal;font-family:Menlo,'DejaVu Sans Mono',consolas,'Courier New',monospace\"><span style=\"color: #7f7f7f; text-decoration-color: #7f7f7f\">[Step 2: Duration 1.49 seconds| Input tokens: 5,548 | Output tokens: 220]</span>\n",
       "</pre>\n"
      ],
      "text/plain": [
       "\u001b[2m[Step 2: Duration 1.49 seconds| Input tokens: 5,548 | Output tokens: 220]\u001b[0m\n"
      ]
     },
     "jetTransient": {
      "display_id": null
     },
     "metadata": {},
     "output_type": "display_data"
    },
    {
     "data": {
      "text/html": [
       "<pre style=\"white-space:pre;overflow-x:auto;line-height:normal;font-family:Menlo,'DejaVu Sans Mono',consolas,'Courier New',monospace\"><span style=\"color: #d4b702; text-decoration-color: #d4b702\">━━━━━━━━━━━━━━━━━━━━━━━━━━━━━━━━━━━━━━━━━━━━━━━━━━━━━ </span><span style=\"font-weight: bold\">Step 3</span><span style=\"color: #d4b702; text-decoration-color: #d4b702\"> ━━━━━━━━━━━━━━━━━━━━━━━━━━━━━━━━━━━━━━━━━━━━━━━━━━━━━━</span>\n",
       "</pre>\n"
      ],
      "text/plain": [
       "\u001b[38;2;212;183;2m━━━━━━━━━━━━━━━━━━━━━━━━━━━━━━━━━━━━━━━━━━━━━━━━━━━━━ \u001b[0m\u001b[1mStep 3\u001b[0m\u001b[38;2;212;183;2m ━━━━━━━━━━━━━━━━━━━━━━━━━━━━━━━━━━━━━━━━━━━━━━━━━━━━━━\u001b[0m\n"
      ]
     },
     "jetTransient": {
      "display_id": null
     },
     "metadata": {},
     "output_type": "display_data"
    },
    {
     "data": {
      "text/html": [
       "<pre style=\"white-space:pre;overflow-x:auto;line-height:normal;font-family:Menlo,'DejaVu Sans Mono',consolas,'Courier New',monospace\"> ─ <span style=\"font-weight: bold\">Executing parsed code:</span> ──────────────────────────────────────────────────────────────────────────────────────── \n",
       "  <span style=\"color: #ff4689; text-decoration-color: #ff4689; background-color: #272822\">from</span><span style=\"color: #f8f8f2; text-decoration-color: #f8f8f2; background-color: #272822\"> math </span><span style=\"color: #ff4689; text-decoration-color: #ff4689; background-color: #272822\">import</span><span style=\"color: #f8f8f2; text-decoration-color: #f8f8f2; background-color: #272822\"> radians, cos, sin, sqrt, atan2</span><span style=\"background-color: #272822\">                                                                </span>  \n",
       "  <span style=\"background-color: #272822\">                                                                                                               </span>  \n",
       "  <span style=\"color: #959077; text-decoration-color: #959077; background-color: #272822\"># Convert DMS to decimal degrees</span><span style=\"background-color: #272822\">                                                                               </span>  \n",
       "  <span style=\"color: #66d9ef; text-decoration-color: #66d9ef; background-color: #272822\">def</span><span style=\"color: #f8f8f2; text-decoration-color: #f8f8f2; background-color: #272822\"> </span><span style=\"color: #a6e22e; text-decoration-color: #a6e22e; background-color: #272822\">dms_to_decimal</span><span style=\"color: #f8f8f2; text-decoration-color: #f8f8f2; background-color: #272822\">(dms):</span><span style=\"background-color: #272822\">                                                                                       </span>  \n",
       "  <span style=\"color: #f8f8f2; text-decoration-color: #f8f8f2; background-color: #272822\">    degrees, minutes, seconds </span><span style=\"color: #ff4689; text-decoration-color: #ff4689; background-color: #272822\">=</span><span style=\"color: #f8f8f2; text-decoration-color: #f8f8f2; background-color: #272822\"> dms</span><span style=\"background-color: #272822\">                                                                            </span>  \n",
       "  <span style=\"color: #f8f8f2; text-decoration-color: #f8f8f2; background-color: #272822\">    decimal </span><span style=\"color: #ff4689; text-decoration-color: #ff4689; background-color: #272822\">=</span><span style=\"color: #f8f8f2; text-decoration-color: #f8f8f2; background-color: #272822\"> degrees </span><span style=\"color: #ff4689; text-decoration-color: #ff4689; background-color: #272822\">+</span><span style=\"color: #f8f8f2; text-decoration-color: #f8f8f2; background-color: #272822\"> minutes</span><span style=\"color: #ff4689; text-decoration-color: #ff4689; background-color: #272822\">/</span><span style=\"color: #ae81ff; text-decoration-color: #ae81ff; background-color: #272822\">60</span><span style=\"color: #f8f8f2; text-decoration-color: #f8f8f2; background-color: #272822\"> </span><span style=\"color: #ff4689; text-decoration-color: #ff4689; background-color: #272822\">+</span><span style=\"color: #f8f8f2; text-decoration-color: #f8f8f2; background-color: #272822\"> seconds</span><span style=\"color: #ff4689; text-decoration-color: #ff4689; background-color: #272822\">/</span><span style=\"color: #ae81ff; text-decoration-color: #ae81ff; background-color: #272822\">3600</span><span style=\"background-color: #272822\">                                                              </span>  \n",
       "  <span style=\"color: #f8f8f2; text-decoration-color: #f8f8f2; background-color: #272822\">    </span><span style=\"color: #66d9ef; text-decoration-color: #66d9ef; background-color: #272822\">return</span><span style=\"color: #f8f8f2; text-decoration-color: #f8f8f2; background-color: #272822\"> decimal</span><span style=\"background-color: #272822\">                                                                                             </span>  \n",
       "  <span style=\"background-color: #272822\">                                                                                                               </span>  \n",
       "  <span style=\"color: #959077; text-decoration-color: #959077; background-color: #272822\"># Ahmedabad coordinates (23°01′21″N, 72°34′17″E)</span><span style=\"background-color: #272822\">                                                               </span>  \n",
       "  <span style=\"color: #f8f8f2; text-decoration-color: #f8f8f2; background-color: #272822\">ahmedabad_lat </span><span style=\"color: #ff4689; text-decoration-color: #ff4689; background-color: #272822\">=</span><span style=\"color: #f8f8f2; text-decoration-color: #f8f8f2; background-color: #272822\"> dms_to_decimal((</span><span style=\"color: #ae81ff; text-decoration-color: #ae81ff; background-color: #272822\">23</span><span style=\"color: #f8f8f2; text-decoration-color: #f8f8f2; background-color: #272822\">, </span><span style=\"color: #ae81ff; text-decoration-color: #ae81ff; background-color: #272822\">1</span><span style=\"color: #f8f8f2; text-decoration-color: #f8f8f2; background-color: #272822\">, </span><span style=\"color: #ae81ff; text-decoration-color: #ae81ff; background-color: #272822\">21</span><span style=\"color: #f8f8f2; text-decoration-color: #f8f8f2; background-color: #272822\">))</span><span style=\"background-color: #272822\">                                                                    </span>  \n",
       "  <span style=\"color: #f8f8f2; text-decoration-color: #f8f8f2; background-color: #272822\">ahmedabad_lon </span><span style=\"color: #ff4689; text-decoration-color: #ff4689; background-color: #272822\">=</span><span style=\"color: #f8f8f2; text-decoration-color: #f8f8f2; background-color: #272822\"> dms_to_decimal((</span><span style=\"color: #ae81ff; text-decoration-color: #ae81ff; background-color: #272822\">72</span><span style=\"color: #f8f8f2; text-decoration-color: #f8f8f2; background-color: #272822\">, </span><span style=\"color: #ae81ff; text-decoration-color: #ae81ff; background-color: #272822\">34</span><span style=\"color: #f8f8f2; text-decoration-color: #f8f8f2; background-color: #272822\">, </span><span style=\"color: #ae81ff; text-decoration-color: #ae81ff; background-color: #272822\">17</span><span style=\"color: #f8f8f2; text-decoration-color: #f8f8f2; background-color: #272822\">))</span><span style=\"background-color: #272822\">                                                                   </span>  \n",
       "  <span style=\"background-color: #272822\">                                                                                                               </span>  \n",
       "  <span style=\"color: #959077; text-decoration-color: #959077; background-color: #272822\"># List of filming locations with approximate coordinates (latitude, longitude)</span><span style=\"background-color: #272822\">                                 </span>  \n",
       "  <span style=\"color: #f8f8f2; text-decoration-color: #f8f8f2; background-color: #272822\">filming_locations </span><span style=\"color: #ff4689; text-decoration-color: #ff4689; background-color: #272822\">=</span><span style=\"color: #f8f8f2; text-decoration-color: #f8f8f2; background-color: #272822\"> [</span><span style=\"background-color: #272822\">                                                                                          </span>  \n",
       "  <span style=\"color: #f8f8f2; text-decoration-color: #f8f8f2; background-color: #272822\">    {</span><span style=\"color: #e6db74; text-decoration-color: #e6db74; background-color: #272822\">\"name\"</span><span style=\"color: #f8f8f2; text-decoration-color: #f8f8f2; background-color: #272822\">: </span><span style=\"color: #e6db74; text-decoration-color: #e6db74; background-color: #272822\">\"Warner Bros. Studio Tour London (Leavesden)\"</span><span style=\"color: #f8f8f2; text-decoration-color: #f8f8f2; background-color: #272822\">, </span><span style=\"color: #e6db74; text-decoration-color: #e6db74; background-color: #272822\">\"coords\"</span><span style=\"color: #f8f8f2; text-decoration-color: #f8f8f2; background-color: #272822\">: (</span><span style=\"color: #ae81ff; text-decoration-color: #ae81ff; background-color: #272822\">51.629</span><span style=\"color: #f8f8f2; text-decoration-color: #f8f8f2; background-color: #272822\">, </span><span style=\"color: #ff4689; text-decoration-color: #ff4689; background-color: #272822\">-</span><span style=\"color: #ae81ff; text-decoration-color: #ae81ff; background-color: #272822\">0.464</span><span style=\"color: #f8f8f2; text-decoration-color: #f8f8f2; background-color: #272822\">)},</span><span style=\"background-color: #272822\">                       </span>  \n",
       "  <span style=\"color: #f8f8f2; text-decoration-color: #f8f8f2; background-color: #272822\">    {</span><span style=\"color: #e6db74; text-decoration-color: #e6db74; background-color: #272822\">\"name\"</span><span style=\"color: #f8f8f2; text-decoration-color: #f8f8f2; background-color: #272822\">: </span><span style=\"color: #e6db74; text-decoration-color: #e6db74; background-color: #272822\">\"King's Cross Station, London\"</span><span style=\"color: #f8f8f2; text-decoration-color: #f8f8f2; background-color: #272822\">, </span><span style=\"color: #e6db74; text-decoration-color: #e6db74; background-color: #272822\">\"coords\"</span><span style=\"color: #f8f8f2; text-decoration-color: #f8f8f2; background-color: #272822\">: (</span><span style=\"color: #ae81ff; text-decoration-color: #ae81ff; background-color: #272822\">51.535</span><span style=\"color: #f8f8f2; text-decoration-color: #f8f8f2; background-color: #272822\">, </span><span style=\"color: #ff4689; text-decoration-color: #ff4689; background-color: #272822\">-</span><span style=\"color: #ae81ff; text-decoration-color: #ae81ff; background-color: #272822\">0.128</span><span style=\"color: #f8f8f2; text-decoration-color: #f8f8f2; background-color: #272822\">)},</span><span style=\"background-color: #272822\">                                      </span>  \n",
       "  <span style=\"color: #f8f8f2; text-decoration-color: #f8f8f2; background-color: #272822\">    {</span><span style=\"color: #e6db74; text-decoration-color: #e6db74; background-color: #272822\">\"name\"</span><span style=\"color: #f8f8f2; text-decoration-color: #f8f8f2; background-color: #272822\">: </span><span style=\"color: #e6db74; text-decoration-color: #e6db74; background-color: #272822\">\"Leadenhall Market, London\"</span><span style=\"color: #f8f8f2; text-decoration-color: #f8f8f2; background-color: #272822\">, </span><span style=\"color: #e6db74; text-decoration-color: #e6db74; background-color: #272822\">\"coords\"</span><span style=\"color: #f8f8f2; text-decoration-color: #f8f8f2; background-color: #272822\">: (</span><span style=\"color: #ae81ff; text-decoration-color: #ae81ff; background-color: #272822\">51.515</span><span style=\"color: #f8f8f2; text-decoration-color: #f8f8f2; background-color: #272822\">, </span><span style=\"color: #ff4689; text-decoration-color: #ff4689; background-color: #272822\">-</span><span style=\"color: #ae81ff; text-decoration-color: #ae81ff; background-color: #272822\">0.083</span><span style=\"color: #f8f8f2; text-decoration-color: #f8f8f2; background-color: #272822\">)},</span><span style=\"background-color: #272822\">                                         </span>  \n",
       "  <span style=\"color: #f8f8f2; text-decoration-color: #f8f8f2; background-color: #272822\">    {</span><span style=\"color: #e6db74; text-decoration-color: #e6db74; background-color: #272822\">\"name\"</span><span style=\"color: #f8f8f2; text-decoration-color: #f8f8f2; background-color: #272822\">: </span><span style=\"color: #e6db74; text-decoration-color: #e6db74; background-color: #272822\">\"Alnwick Castle, Northumberland\"</span><span style=\"color: #f8f8f2; text-decoration-color: #f8f8f2; background-color: #272822\">, </span><span style=\"color: #e6db74; text-decoration-color: #e6db74; background-color: #272822\">\"coords\"</span><span style=\"color: #f8f8f2; text-decoration-color: #f8f8f2; background-color: #272822\">: (</span><span style=\"color: #ae81ff; text-decoration-color: #ae81ff; background-color: #272822\">55.327</span><span style=\"color: #f8f8f2; text-decoration-color: #f8f8f2; background-color: #272822\">, </span><span style=\"color: #ff4689; text-decoration-color: #ff4689; background-color: #272822\">-</span><span style=\"color: #ae81ff; text-decoration-color: #ae81ff; background-color: #272822\">1.745</span><span style=\"color: #f8f8f2; text-decoration-color: #f8f8f2; background-color: #272822\">)},</span><span style=\"background-color: #272822\">                                    </span>  \n",
       "  <span style=\"color: #f8f8f2; text-decoration-color: #f8f8f2; background-color: #272822\">    {</span><span style=\"color: #e6db74; text-decoration-color: #e6db74; background-color: #272822\">\"name\"</span><span style=\"color: #f8f8f2; text-decoration-color: #f8f8f2; background-color: #272822\">: </span><span style=\"color: #e6db74; text-decoration-color: #e6db74; background-color: #272822\">\"Lacock Abbey, Wiltshire\"</span><span style=\"color: #f8f8f2; text-decoration-color: #f8f8f2; background-color: #272822\">, </span><span style=\"color: #e6db74; text-decoration-color: #e6db74; background-color: #272822\">\"coords\"</span><span style=\"color: #f8f8f2; text-decoration-color: #f8f8f2; background-color: #272822\">: (</span><span style=\"color: #ae81ff; text-decoration-color: #ae81ff; background-color: #272822\">51.428</span><span style=\"color: #f8f8f2; text-decoration-color: #f8f8f2; background-color: #272822\">, </span><span style=\"color: #ff4689; text-decoration-color: #ff4689; background-color: #272822\">-</span><span style=\"color: #ae81ff; text-decoration-color: #ae81ff; background-color: #272822\">2.111</span><span style=\"color: #f8f8f2; text-decoration-color: #f8f8f2; background-color: #272822\">)},</span><span style=\"background-color: #272822\">                                           </span>  \n",
       "  <span style=\"color: #f8f8f2; text-decoration-color: #f8f8f2; background-color: #272822\">    {</span><span style=\"color: #e6db74; text-decoration-color: #e6db74; background-color: #272822\">\"name\"</span><span style=\"color: #f8f8f2; text-decoration-color: #f8f8f2; background-color: #272822\">: </span><span style=\"color: #e6db74; text-decoration-color: #e6db74; background-color: #272822\">\"Durham Cathedral, Durham\"</span><span style=\"color: #f8f8f2; text-decoration-color: #f8f8f2; background-color: #272822\">, </span><span style=\"color: #e6db74; text-decoration-color: #e6db74; background-color: #272822\">\"coords\"</span><span style=\"color: #f8f8f2; text-decoration-color: #f8f8f2; background-color: #272822\">: (</span><span style=\"color: #ae81ff; text-decoration-color: #ae81ff; background-color: #272822\">54.772</span><span style=\"color: #f8f8f2; text-decoration-color: #f8f8f2; background-color: #272822\">, </span><span style=\"color: #ff4689; text-decoration-color: #ff4689; background-color: #272822\">-</span><span style=\"color: #ae81ff; text-decoration-color: #ae81ff; background-color: #272822\">1.580</span><span style=\"color: #f8f8f2; text-decoration-color: #f8f8f2; background-color: #272822\">)},</span><span style=\"background-color: #272822\">                                          </span>  \n",
       "  <span style=\"color: #f8f8f2; text-decoration-color: #f8f8f2; background-color: #272822\">    {</span><span style=\"color: #e6db74; text-decoration-color: #e6db74; background-color: #272822\">\"name\"</span><span style=\"color: #f8f8f2; text-decoration-color: #f8f8f2; background-color: #272822\">: </span><span style=\"color: #e6db74; text-decoration-color: #e6db74; background-color: #272822\">\"Freshwater West, Pembrokeshire\"</span><span style=\"color: #f8f8f2; text-decoration-color: #f8f8f2; background-color: #272822\">, </span><span style=\"color: #e6db74; text-decoration-color: #e6db74; background-color: #272822\">\"coords\"</span><span style=\"color: #f8f8f2; text-decoration-color: #f8f8f2; background-color: #272822\">: (</span><span style=\"color: #ae81ff; text-decoration-color: #ae81ff; background-color: #272822\">51.721</span><span style=\"color: #f8f8f2; text-decoration-color: #f8f8f2; background-color: #272822\">, </span><span style=\"color: #ff4689; text-decoration-color: #ff4689; background-color: #272822\">-</span><span style=\"color: #ae81ff; text-decoration-color: #ae81ff; background-color: #272822\">4.955</span><span style=\"color: #f8f8f2; text-decoration-color: #f8f8f2; background-color: #272822\">)},</span><span style=\"background-color: #272822\">                                    </span>  \n",
       "  <span style=\"color: #f8f8f2; text-decoration-color: #f8f8f2; background-color: #272822\">    {</span><span style=\"color: #e6db74; text-decoration-color: #e6db74; background-color: #272822\">\"name\"</span><span style=\"color: #f8f8f2; text-decoration-color: #f8f8f2; background-color: #272822\">: </span><span style=\"color: #e6db74; text-decoration-color: #e6db74; background-color: #272822\">\"Glenfinnan Viaduct, Scottish Highlands\"</span><span style=\"color: #f8f8f2; text-decoration-color: #f8f8f2; background-color: #272822\">, </span><span style=\"color: #e6db74; text-decoration-color: #e6db74; background-color: #272822\">\"coords\"</span><span style=\"color: #f8f8f2; text-decoration-color: #f8f8f2; background-color: #272822\">: (</span><span style=\"color: #ae81ff; text-decoration-color: #ae81ff; background-color: #272822\">56.932</span><span style=\"color: #f8f8f2; text-decoration-color: #f8f8f2; background-color: #272822\">, </span><span style=\"color: #ff4689; text-decoration-color: #ff4689; background-color: #272822\">-</span><span style=\"color: #ae81ff; text-decoration-color: #ae81ff; background-color: #272822\">5.558</span><span style=\"color: #f8f8f2; text-decoration-color: #f8f8f2; background-color: #272822\">)},</span><span style=\"background-color: #272822\">                            </span>  \n",
       "  <span style=\"color: #f8f8f2; text-decoration-color: #f8f8f2; background-color: #272822\">    {</span><span style=\"color: #e6db74; text-decoration-color: #e6db74; background-color: #272822\">\"name\"</span><span style=\"color: #f8f8f2; text-decoration-color: #f8f8f2; background-color: #272822\">: </span><span style=\"color: #e6db74; text-decoration-color: #e6db74; background-color: #272822\">\"County Wicklow, Ireland\"</span><span style=\"color: #f8f8f2; text-decoration-color: #f8f8f2; background-color: #272822\">, </span><span style=\"color: #e6db74; text-decoration-color: #e6db74; background-color: #272822\">\"coords\"</span><span style=\"color: #f8f8f2; text-decoration-color: #f8f8f2; background-color: #272822\">: (</span><span style=\"color: #ae81ff; text-decoration-color: #ae81ff; background-color: #272822\">52.986</span><span style=\"color: #f8f8f2; text-decoration-color: #f8f8f2; background-color: #272822\">, </span><span style=\"color: #ff4689; text-decoration-color: #ff4689; background-color: #272822\">-</span><span style=\"color: #ae81ff; text-decoration-color: #ae81ff; background-color: #272822\">6.536</span><span style=\"color: #f8f8f2; text-decoration-color: #f8f8f2; background-color: #272822\">)}</span><span style=\"background-color: #272822\">                                            </span>  \n",
       "  <span style=\"color: #f8f8f2; text-decoration-color: #f8f8f2; background-color: #272822\">]</span><span style=\"background-color: #272822\">                                                                                                              </span>  \n",
       "  <span style=\"background-color: #272822\">                                                                                                               </span>  \n",
       "  <span style=\"color: #f8f8f2; text-decoration-color: #f8f8f2; background-color: #272822\">print(</span><span style=\"color: #e6db74; text-decoration-color: #e6db74; background-color: #272822\">\"Ahmedabad coordinates (decimal):\"</span><span style=\"color: #f8f8f2; text-decoration-color: #f8f8f2; background-color: #272822\">, ahmedabad_lat, ahmedabad_lon)</span><span style=\"background-color: #272822\">                                        </span>  \n",
       "  <span style=\"color: #f8f8f2; text-decoration-color: #f8f8f2; background-color: #272822\">print(</span><span style=\"color: #e6db74; text-decoration-color: #e6db74; background-color: #272822\">\"Filming locations and coordinates:\"</span><span style=\"color: #f8f8f2; text-decoration-color: #f8f8f2; background-color: #272822\">, filming_locations)</span><span style=\"background-color: #272822\">                                                 </span>  \n",
       " ───────────────────────────────────────────────────────────────────────────────────────────────────────────────── \n",
       "</pre>\n"
      ],
      "text/plain": [
       " ─ \u001b[1mExecuting parsed code:\u001b[0m ──────────────────────────────────────────────────────────────────────────────────────── \n",
       "  \u001b[38;2;255;70;137;48;2;39;40;34mfrom\u001b[0m\u001b[38;2;248;248;242;48;2;39;40;34m \u001b[0m\u001b[38;2;248;248;242;48;2;39;40;34mmath\u001b[0m\u001b[38;2;248;248;242;48;2;39;40;34m \u001b[0m\u001b[38;2;255;70;137;48;2;39;40;34mimport\u001b[0m\u001b[38;2;248;248;242;48;2;39;40;34m \u001b[0m\u001b[38;2;248;248;242;48;2;39;40;34mradians\u001b[0m\u001b[38;2;248;248;242;48;2;39;40;34m,\u001b[0m\u001b[38;2;248;248;242;48;2;39;40;34m \u001b[0m\u001b[38;2;248;248;242;48;2;39;40;34mcos\u001b[0m\u001b[38;2;248;248;242;48;2;39;40;34m,\u001b[0m\u001b[38;2;248;248;242;48;2;39;40;34m \u001b[0m\u001b[38;2;248;248;242;48;2;39;40;34msin\u001b[0m\u001b[38;2;248;248;242;48;2;39;40;34m,\u001b[0m\u001b[38;2;248;248;242;48;2;39;40;34m \u001b[0m\u001b[38;2;248;248;242;48;2;39;40;34msqrt\u001b[0m\u001b[38;2;248;248;242;48;2;39;40;34m,\u001b[0m\u001b[38;2;248;248;242;48;2;39;40;34m \u001b[0m\u001b[38;2;248;248;242;48;2;39;40;34matan2\u001b[0m\u001b[48;2;39;40;34m                                                                \u001b[0m  \n",
       "  \u001b[48;2;39;40;34m                                                                                                               \u001b[0m  \n",
       "  \u001b[38;2;149;144;119;48;2;39;40;34m# Convert DMS to decimal degrees\u001b[0m\u001b[48;2;39;40;34m                                                                               \u001b[0m  \n",
       "  \u001b[38;2;102;217;239;48;2;39;40;34mdef\u001b[0m\u001b[38;2;248;248;242;48;2;39;40;34m \u001b[0m\u001b[38;2;166;226;46;48;2;39;40;34mdms_to_decimal\u001b[0m\u001b[38;2;248;248;242;48;2;39;40;34m(\u001b[0m\u001b[38;2;248;248;242;48;2;39;40;34mdms\u001b[0m\u001b[38;2;248;248;242;48;2;39;40;34m)\u001b[0m\u001b[38;2;248;248;242;48;2;39;40;34m:\u001b[0m\u001b[48;2;39;40;34m                                                                                       \u001b[0m  \n",
       "  \u001b[38;2;248;248;242;48;2;39;40;34m    \u001b[0m\u001b[38;2;248;248;242;48;2;39;40;34mdegrees\u001b[0m\u001b[38;2;248;248;242;48;2;39;40;34m,\u001b[0m\u001b[38;2;248;248;242;48;2;39;40;34m \u001b[0m\u001b[38;2;248;248;242;48;2;39;40;34mminutes\u001b[0m\u001b[38;2;248;248;242;48;2;39;40;34m,\u001b[0m\u001b[38;2;248;248;242;48;2;39;40;34m \u001b[0m\u001b[38;2;248;248;242;48;2;39;40;34mseconds\u001b[0m\u001b[38;2;248;248;242;48;2;39;40;34m \u001b[0m\u001b[38;2;255;70;137;48;2;39;40;34m=\u001b[0m\u001b[38;2;248;248;242;48;2;39;40;34m \u001b[0m\u001b[38;2;248;248;242;48;2;39;40;34mdms\u001b[0m\u001b[48;2;39;40;34m                                                                            \u001b[0m  \n",
       "  \u001b[38;2;248;248;242;48;2;39;40;34m    \u001b[0m\u001b[38;2;248;248;242;48;2;39;40;34mdecimal\u001b[0m\u001b[38;2;248;248;242;48;2;39;40;34m \u001b[0m\u001b[38;2;255;70;137;48;2;39;40;34m=\u001b[0m\u001b[38;2;248;248;242;48;2;39;40;34m \u001b[0m\u001b[38;2;248;248;242;48;2;39;40;34mdegrees\u001b[0m\u001b[38;2;248;248;242;48;2;39;40;34m \u001b[0m\u001b[38;2;255;70;137;48;2;39;40;34m+\u001b[0m\u001b[38;2;248;248;242;48;2;39;40;34m \u001b[0m\u001b[38;2;248;248;242;48;2;39;40;34mminutes\u001b[0m\u001b[38;2;255;70;137;48;2;39;40;34m/\u001b[0m\u001b[38;2;174;129;255;48;2;39;40;34m60\u001b[0m\u001b[38;2;248;248;242;48;2;39;40;34m \u001b[0m\u001b[38;2;255;70;137;48;2;39;40;34m+\u001b[0m\u001b[38;2;248;248;242;48;2;39;40;34m \u001b[0m\u001b[38;2;248;248;242;48;2;39;40;34mseconds\u001b[0m\u001b[38;2;255;70;137;48;2;39;40;34m/\u001b[0m\u001b[38;2;174;129;255;48;2;39;40;34m3600\u001b[0m\u001b[48;2;39;40;34m                                                              \u001b[0m  \n",
       "  \u001b[38;2;248;248;242;48;2;39;40;34m    \u001b[0m\u001b[38;2;102;217;239;48;2;39;40;34mreturn\u001b[0m\u001b[38;2;248;248;242;48;2;39;40;34m \u001b[0m\u001b[38;2;248;248;242;48;2;39;40;34mdecimal\u001b[0m\u001b[48;2;39;40;34m                                                                                             \u001b[0m  \n",
       "  \u001b[48;2;39;40;34m                                                                                                               \u001b[0m  \n",
       "  \u001b[38;2;149;144;119;48;2;39;40;34m# Ahmedabad coordinates (23°01′21″N, 72°34′17″E)\u001b[0m\u001b[48;2;39;40;34m                                                               \u001b[0m  \n",
       "  \u001b[38;2;248;248;242;48;2;39;40;34mahmedabad_lat\u001b[0m\u001b[38;2;248;248;242;48;2;39;40;34m \u001b[0m\u001b[38;2;255;70;137;48;2;39;40;34m=\u001b[0m\u001b[38;2;248;248;242;48;2;39;40;34m \u001b[0m\u001b[38;2;248;248;242;48;2;39;40;34mdms_to_decimal\u001b[0m\u001b[38;2;248;248;242;48;2;39;40;34m(\u001b[0m\u001b[38;2;248;248;242;48;2;39;40;34m(\u001b[0m\u001b[38;2;174;129;255;48;2;39;40;34m23\u001b[0m\u001b[38;2;248;248;242;48;2;39;40;34m,\u001b[0m\u001b[38;2;248;248;242;48;2;39;40;34m \u001b[0m\u001b[38;2;174;129;255;48;2;39;40;34m1\u001b[0m\u001b[38;2;248;248;242;48;2;39;40;34m,\u001b[0m\u001b[38;2;248;248;242;48;2;39;40;34m \u001b[0m\u001b[38;2;174;129;255;48;2;39;40;34m21\u001b[0m\u001b[38;2;248;248;242;48;2;39;40;34m)\u001b[0m\u001b[38;2;248;248;242;48;2;39;40;34m)\u001b[0m\u001b[48;2;39;40;34m                                                                    \u001b[0m  \n",
       "  \u001b[38;2;248;248;242;48;2;39;40;34mahmedabad_lon\u001b[0m\u001b[38;2;248;248;242;48;2;39;40;34m \u001b[0m\u001b[38;2;255;70;137;48;2;39;40;34m=\u001b[0m\u001b[38;2;248;248;242;48;2;39;40;34m \u001b[0m\u001b[38;2;248;248;242;48;2;39;40;34mdms_to_decimal\u001b[0m\u001b[38;2;248;248;242;48;2;39;40;34m(\u001b[0m\u001b[38;2;248;248;242;48;2;39;40;34m(\u001b[0m\u001b[38;2;174;129;255;48;2;39;40;34m72\u001b[0m\u001b[38;2;248;248;242;48;2;39;40;34m,\u001b[0m\u001b[38;2;248;248;242;48;2;39;40;34m \u001b[0m\u001b[38;2;174;129;255;48;2;39;40;34m34\u001b[0m\u001b[38;2;248;248;242;48;2;39;40;34m,\u001b[0m\u001b[38;2;248;248;242;48;2;39;40;34m \u001b[0m\u001b[38;2;174;129;255;48;2;39;40;34m17\u001b[0m\u001b[38;2;248;248;242;48;2;39;40;34m)\u001b[0m\u001b[38;2;248;248;242;48;2;39;40;34m)\u001b[0m\u001b[48;2;39;40;34m                                                                   \u001b[0m  \n",
       "  \u001b[48;2;39;40;34m                                                                                                               \u001b[0m  \n",
       "  \u001b[38;2;149;144;119;48;2;39;40;34m# List of filming locations with approximate coordinates (latitude, longitude)\u001b[0m\u001b[48;2;39;40;34m                                 \u001b[0m  \n",
       "  \u001b[38;2;248;248;242;48;2;39;40;34mfilming_locations\u001b[0m\u001b[38;2;248;248;242;48;2;39;40;34m \u001b[0m\u001b[38;2;255;70;137;48;2;39;40;34m=\u001b[0m\u001b[38;2;248;248;242;48;2;39;40;34m \u001b[0m\u001b[38;2;248;248;242;48;2;39;40;34m[\u001b[0m\u001b[48;2;39;40;34m                                                                                          \u001b[0m  \n",
       "  \u001b[38;2;248;248;242;48;2;39;40;34m    \u001b[0m\u001b[38;2;248;248;242;48;2;39;40;34m{\u001b[0m\u001b[38;2;230;219;116;48;2;39;40;34m\"\u001b[0m\u001b[38;2;230;219;116;48;2;39;40;34mname\u001b[0m\u001b[38;2;230;219;116;48;2;39;40;34m\"\u001b[0m\u001b[38;2;248;248;242;48;2;39;40;34m:\u001b[0m\u001b[38;2;248;248;242;48;2;39;40;34m \u001b[0m\u001b[38;2;230;219;116;48;2;39;40;34m\"\u001b[0m\u001b[38;2;230;219;116;48;2;39;40;34mWarner Bros. Studio Tour London (Leavesden)\u001b[0m\u001b[38;2;230;219;116;48;2;39;40;34m\"\u001b[0m\u001b[38;2;248;248;242;48;2;39;40;34m,\u001b[0m\u001b[38;2;248;248;242;48;2;39;40;34m \u001b[0m\u001b[38;2;230;219;116;48;2;39;40;34m\"\u001b[0m\u001b[38;2;230;219;116;48;2;39;40;34mcoords\u001b[0m\u001b[38;2;230;219;116;48;2;39;40;34m\"\u001b[0m\u001b[38;2;248;248;242;48;2;39;40;34m:\u001b[0m\u001b[38;2;248;248;242;48;2;39;40;34m \u001b[0m\u001b[38;2;248;248;242;48;2;39;40;34m(\u001b[0m\u001b[38;2;174;129;255;48;2;39;40;34m51.629\u001b[0m\u001b[38;2;248;248;242;48;2;39;40;34m,\u001b[0m\u001b[38;2;248;248;242;48;2;39;40;34m \u001b[0m\u001b[38;2;255;70;137;48;2;39;40;34m-\u001b[0m\u001b[38;2;174;129;255;48;2;39;40;34m0.464\u001b[0m\u001b[38;2;248;248;242;48;2;39;40;34m)\u001b[0m\u001b[38;2;248;248;242;48;2;39;40;34m}\u001b[0m\u001b[38;2;248;248;242;48;2;39;40;34m,\u001b[0m\u001b[48;2;39;40;34m                       \u001b[0m  \n",
       "  \u001b[38;2;248;248;242;48;2;39;40;34m    \u001b[0m\u001b[38;2;248;248;242;48;2;39;40;34m{\u001b[0m\u001b[38;2;230;219;116;48;2;39;40;34m\"\u001b[0m\u001b[38;2;230;219;116;48;2;39;40;34mname\u001b[0m\u001b[38;2;230;219;116;48;2;39;40;34m\"\u001b[0m\u001b[38;2;248;248;242;48;2;39;40;34m:\u001b[0m\u001b[38;2;248;248;242;48;2;39;40;34m \u001b[0m\u001b[38;2;230;219;116;48;2;39;40;34m\"\u001b[0m\u001b[38;2;230;219;116;48;2;39;40;34mKing\u001b[0m\u001b[38;2;230;219;116;48;2;39;40;34m'\u001b[0m\u001b[38;2;230;219;116;48;2;39;40;34ms Cross Station, London\u001b[0m\u001b[38;2;230;219;116;48;2;39;40;34m\"\u001b[0m\u001b[38;2;248;248;242;48;2;39;40;34m,\u001b[0m\u001b[38;2;248;248;242;48;2;39;40;34m \u001b[0m\u001b[38;2;230;219;116;48;2;39;40;34m\"\u001b[0m\u001b[38;2;230;219;116;48;2;39;40;34mcoords\u001b[0m\u001b[38;2;230;219;116;48;2;39;40;34m\"\u001b[0m\u001b[38;2;248;248;242;48;2;39;40;34m:\u001b[0m\u001b[38;2;248;248;242;48;2;39;40;34m \u001b[0m\u001b[38;2;248;248;242;48;2;39;40;34m(\u001b[0m\u001b[38;2;174;129;255;48;2;39;40;34m51.535\u001b[0m\u001b[38;2;248;248;242;48;2;39;40;34m,\u001b[0m\u001b[38;2;248;248;242;48;2;39;40;34m \u001b[0m\u001b[38;2;255;70;137;48;2;39;40;34m-\u001b[0m\u001b[38;2;174;129;255;48;2;39;40;34m0.128\u001b[0m\u001b[38;2;248;248;242;48;2;39;40;34m)\u001b[0m\u001b[38;2;248;248;242;48;2;39;40;34m}\u001b[0m\u001b[38;2;248;248;242;48;2;39;40;34m,\u001b[0m\u001b[48;2;39;40;34m                                      \u001b[0m  \n",
       "  \u001b[38;2;248;248;242;48;2;39;40;34m    \u001b[0m\u001b[38;2;248;248;242;48;2;39;40;34m{\u001b[0m\u001b[38;2;230;219;116;48;2;39;40;34m\"\u001b[0m\u001b[38;2;230;219;116;48;2;39;40;34mname\u001b[0m\u001b[38;2;230;219;116;48;2;39;40;34m\"\u001b[0m\u001b[38;2;248;248;242;48;2;39;40;34m:\u001b[0m\u001b[38;2;248;248;242;48;2;39;40;34m \u001b[0m\u001b[38;2;230;219;116;48;2;39;40;34m\"\u001b[0m\u001b[38;2;230;219;116;48;2;39;40;34mLeadenhall Market, London\u001b[0m\u001b[38;2;230;219;116;48;2;39;40;34m\"\u001b[0m\u001b[38;2;248;248;242;48;2;39;40;34m,\u001b[0m\u001b[38;2;248;248;242;48;2;39;40;34m \u001b[0m\u001b[38;2;230;219;116;48;2;39;40;34m\"\u001b[0m\u001b[38;2;230;219;116;48;2;39;40;34mcoords\u001b[0m\u001b[38;2;230;219;116;48;2;39;40;34m\"\u001b[0m\u001b[38;2;248;248;242;48;2;39;40;34m:\u001b[0m\u001b[38;2;248;248;242;48;2;39;40;34m \u001b[0m\u001b[38;2;248;248;242;48;2;39;40;34m(\u001b[0m\u001b[38;2;174;129;255;48;2;39;40;34m51.515\u001b[0m\u001b[38;2;248;248;242;48;2;39;40;34m,\u001b[0m\u001b[38;2;248;248;242;48;2;39;40;34m \u001b[0m\u001b[38;2;255;70;137;48;2;39;40;34m-\u001b[0m\u001b[38;2;174;129;255;48;2;39;40;34m0.083\u001b[0m\u001b[38;2;248;248;242;48;2;39;40;34m)\u001b[0m\u001b[38;2;248;248;242;48;2;39;40;34m}\u001b[0m\u001b[38;2;248;248;242;48;2;39;40;34m,\u001b[0m\u001b[48;2;39;40;34m                                         \u001b[0m  \n",
       "  \u001b[38;2;248;248;242;48;2;39;40;34m    \u001b[0m\u001b[38;2;248;248;242;48;2;39;40;34m{\u001b[0m\u001b[38;2;230;219;116;48;2;39;40;34m\"\u001b[0m\u001b[38;2;230;219;116;48;2;39;40;34mname\u001b[0m\u001b[38;2;230;219;116;48;2;39;40;34m\"\u001b[0m\u001b[38;2;248;248;242;48;2;39;40;34m:\u001b[0m\u001b[38;2;248;248;242;48;2;39;40;34m \u001b[0m\u001b[38;2;230;219;116;48;2;39;40;34m\"\u001b[0m\u001b[38;2;230;219;116;48;2;39;40;34mAlnwick Castle, Northumberland\u001b[0m\u001b[38;2;230;219;116;48;2;39;40;34m\"\u001b[0m\u001b[38;2;248;248;242;48;2;39;40;34m,\u001b[0m\u001b[38;2;248;248;242;48;2;39;40;34m \u001b[0m\u001b[38;2;230;219;116;48;2;39;40;34m\"\u001b[0m\u001b[38;2;230;219;116;48;2;39;40;34mcoords\u001b[0m\u001b[38;2;230;219;116;48;2;39;40;34m\"\u001b[0m\u001b[38;2;248;248;242;48;2;39;40;34m:\u001b[0m\u001b[38;2;248;248;242;48;2;39;40;34m \u001b[0m\u001b[38;2;248;248;242;48;2;39;40;34m(\u001b[0m\u001b[38;2;174;129;255;48;2;39;40;34m55.327\u001b[0m\u001b[38;2;248;248;242;48;2;39;40;34m,\u001b[0m\u001b[38;2;248;248;242;48;2;39;40;34m \u001b[0m\u001b[38;2;255;70;137;48;2;39;40;34m-\u001b[0m\u001b[38;2;174;129;255;48;2;39;40;34m1.745\u001b[0m\u001b[38;2;248;248;242;48;2;39;40;34m)\u001b[0m\u001b[38;2;248;248;242;48;2;39;40;34m}\u001b[0m\u001b[38;2;248;248;242;48;2;39;40;34m,\u001b[0m\u001b[48;2;39;40;34m                                    \u001b[0m  \n",
       "  \u001b[38;2;248;248;242;48;2;39;40;34m    \u001b[0m\u001b[38;2;248;248;242;48;2;39;40;34m{\u001b[0m\u001b[38;2;230;219;116;48;2;39;40;34m\"\u001b[0m\u001b[38;2;230;219;116;48;2;39;40;34mname\u001b[0m\u001b[38;2;230;219;116;48;2;39;40;34m\"\u001b[0m\u001b[38;2;248;248;242;48;2;39;40;34m:\u001b[0m\u001b[38;2;248;248;242;48;2;39;40;34m \u001b[0m\u001b[38;2;230;219;116;48;2;39;40;34m\"\u001b[0m\u001b[38;2;230;219;116;48;2;39;40;34mLacock Abbey, Wiltshire\u001b[0m\u001b[38;2;230;219;116;48;2;39;40;34m\"\u001b[0m\u001b[38;2;248;248;242;48;2;39;40;34m,\u001b[0m\u001b[38;2;248;248;242;48;2;39;40;34m \u001b[0m\u001b[38;2;230;219;116;48;2;39;40;34m\"\u001b[0m\u001b[38;2;230;219;116;48;2;39;40;34mcoords\u001b[0m\u001b[38;2;230;219;116;48;2;39;40;34m\"\u001b[0m\u001b[38;2;248;248;242;48;2;39;40;34m:\u001b[0m\u001b[38;2;248;248;242;48;2;39;40;34m \u001b[0m\u001b[38;2;248;248;242;48;2;39;40;34m(\u001b[0m\u001b[38;2;174;129;255;48;2;39;40;34m51.428\u001b[0m\u001b[38;2;248;248;242;48;2;39;40;34m,\u001b[0m\u001b[38;2;248;248;242;48;2;39;40;34m \u001b[0m\u001b[38;2;255;70;137;48;2;39;40;34m-\u001b[0m\u001b[38;2;174;129;255;48;2;39;40;34m2.111\u001b[0m\u001b[38;2;248;248;242;48;2;39;40;34m)\u001b[0m\u001b[38;2;248;248;242;48;2;39;40;34m}\u001b[0m\u001b[38;2;248;248;242;48;2;39;40;34m,\u001b[0m\u001b[48;2;39;40;34m                                           \u001b[0m  \n",
       "  \u001b[38;2;248;248;242;48;2;39;40;34m    \u001b[0m\u001b[38;2;248;248;242;48;2;39;40;34m{\u001b[0m\u001b[38;2;230;219;116;48;2;39;40;34m\"\u001b[0m\u001b[38;2;230;219;116;48;2;39;40;34mname\u001b[0m\u001b[38;2;230;219;116;48;2;39;40;34m\"\u001b[0m\u001b[38;2;248;248;242;48;2;39;40;34m:\u001b[0m\u001b[38;2;248;248;242;48;2;39;40;34m \u001b[0m\u001b[38;2;230;219;116;48;2;39;40;34m\"\u001b[0m\u001b[38;2;230;219;116;48;2;39;40;34mDurham Cathedral, Durham\u001b[0m\u001b[38;2;230;219;116;48;2;39;40;34m\"\u001b[0m\u001b[38;2;248;248;242;48;2;39;40;34m,\u001b[0m\u001b[38;2;248;248;242;48;2;39;40;34m \u001b[0m\u001b[38;2;230;219;116;48;2;39;40;34m\"\u001b[0m\u001b[38;2;230;219;116;48;2;39;40;34mcoords\u001b[0m\u001b[38;2;230;219;116;48;2;39;40;34m\"\u001b[0m\u001b[38;2;248;248;242;48;2;39;40;34m:\u001b[0m\u001b[38;2;248;248;242;48;2;39;40;34m \u001b[0m\u001b[38;2;248;248;242;48;2;39;40;34m(\u001b[0m\u001b[38;2;174;129;255;48;2;39;40;34m54.772\u001b[0m\u001b[38;2;248;248;242;48;2;39;40;34m,\u001b[0m\u001b[38;2;248;248;242;48;2;39;40;34m \u001b[0m\u001b[38;2;255;70;137;48;2;39;40;34m-\u001b[0m\u001b[38;2;174;129;255;48;2;39;40;34m1.580\u001b[0m\u001b[38;2;248;248;242;48;2;39;40;34m)\u001b[0m\u001b[38;2;248;248;242;48;2;39;40;34m}\u001b[0m\u001b[38;2;248;248;242;48;2;39;40;34m,\u001b[0m\u001b[48;2;39;40;34m                                          \u001b[0m  \n",
       "  \u001b[38;2;248;248;242;48;2;39;40;34m    \u001b[0m\u001b[38;2;248;248;242;48;2;39;40;34m{\u001b[0m\u001b[38;2;230;219;116;48;2;39;40;34m\"\u001b[0m\u001b[38;2;230;219;116;48;2;39;40;34mname\u001b[0m\u001b[38;2;230;219;116;48;2;39;40;34m\"\u001b[0m\u001b[38;2;248;248;242;48;2;39;40;34m:\u001b[0m\u001b[38;2;248;248;242;48;2;39;40;34m \u001b[0m\u001b[38;2;230;219;116;48;2;39;40;34m\"\u001b[0m\u001b[38;2;230;219;116;48;2;39;40;34mFreshwater West, Pembrokeshire\u001b[0m\u001b[38;2;230;219;116;48;2;39;40;34m\"\u001b[0m\u001b[38;2;248;248;242;48;2;39;40;34m,\u001b[0m\u001b[38;2;248;248;242;48;2;39;40;34m \u001b[0m\u001b[38;2;230;219;116;48;2;39;40;34m\"\u001b[0m\u001b[38;2;230;219;116;48;2;39;40;34mcoords\u001b[0m\u001b[38;2;230;219;116;48;2;39;40;34m\"\u001b[0m\u001b[38;2;248;248;242;48;2;39;40;34m:\u001b[0m\u001b[38;2;248;248;242;48;2;39;40;34m \u001b[0m\u001b[38;2;248;248;242;48;2;39;40;34m(\u001b[0m\u001b[38;2;174;129;255;48;2;39;40;34m51.721\u001b[0m\u001b[38;2;248;248;242;48;2;39;40;34m,\u001b[0m\u001b[38;2;248;248;242;48;2;39;40;34m \u001b[0m\u001b[38;2;255;70;137;48;2;39;40;34m-\u001b[0m\u001b[38;2;174;129;255;48;2;39;40;34m4.955\u001b[0m\u001b[38;2;248;248;242;48;2;39;40;34m)\u001b[0m\u001b[38;2;248;248;242;48;2;39;40;34m}\u001b[0m\u001b[38;2;248;248;242;48;2;39;40;34m,\u001b[0m\u001b[48;2;39;40;34m                                    \u001b[0m  \n",
       "  \u001b[38;2;248;248;242;48;2;39;40;34m    \u001b[0m\u001b[38;2;248;248;242;48;2;39;40;34m{\u001b[0m\u001b[38;2;230;219;116;48;2;39;40;34m\"\u001b[0m\u001b[38;2;230;219;116;48;2;39;40;34mname\u001b[0m\u001b[38;2;230;219;116;48;2;39;40;34m\"\u001b[0m\u001b[38;2;248;248;242;48;2;39;40;34m:\u001b[0m\u001b[38;2;248;248;242;48;2;39;40;34m \u001b[0m\u001b[38;2;230;219;116;48;2;39;40;34m\"\u001b[0m\u001b[38;2;230;219;116;48;2;39;40;34mGlenfinnan Viaduct, Scottish Highlands\u001b[0m\u001b[38;2;230;219;116;48;2;39;40;34m\"\u001b[0m\u001b[38;2;248;248;242;48;2;39;40;34m,\u001b[0m\u001b[38;2;248;248;242;48;2;39;40;34m \u001b[0m\u001b[38;2;230;219;116;48;2;39;40;34m\"\u001b[0m\u001b[38;2;230;219;116;48;2;39;40;34mcoords\u001b[0m\u001b[38;2;230;219;116;48;2;39;40;34m\"\u001b[0m\u001b[38;2;248;248;242;48;2;39;40;34m:\u001b[0m\u001b[38;2;248;248;242;48;2;39;40;34m \u001b[0m\u001b[38;2;248;248;242;48;2;39;40;34m(\u001b[0m\u001b[38;2;174;129;255;48;2;39;40;34m56.932\u001b[0m\u001b[38;2;248;248;242;48;2;39;40;34m,\u001b[0m\u001b[38;2;248;248;242;48;2;39;40;34m \u001b[0m\u001b[38;2;255;70;137;48;2;39;40;34m-\u001b[0m\u001b[38;2;174;129;255;48;2;39;40;34m5.558\u001b[0m\u001b[38;2;248;248;242;48;2;39;40;34m)\u001b[0m\u001b[38;2;248;248;242;48;2;39;40;34m}\u001b[0m\u001b[38;2;248;248;242;48;2;39;40;34m,\u001b[0m\u001b[48;2;39;40;34m                            \u001b[0m  \n",
       "  \u001b[38;2;248;248;242;48;2;39;40;34m    \u001b[0m\u001b[38;2;248;248;242;48;2;39;40;34m{\u001b[0m\u001b[38;2;230;219;116;48;2;39;40;34m\"\u001b[0m\u001b[38;2;230;219;116;48;2;39;40;34mname\u001b[0m\u001b[38;2;230;219;116;48;2;39;40;34m\"\u001b[0m\u001b[38;2;248;248;242;48;2;39;40;34m:\u001b[0m\u001b[38;2;248;248;242;48;2;39;40;34m \u001b[0m\u001b[38;2;230;219;116;48;2;39;40;34m\"\u001b[0m\u001b[38;2;230;219;116;48;2;39;40;34mCounty Wicklow, Ireland\u001b[0m\u001b[38;2;230;219;116;48;2;39;40;34m\"\u001b[0m\u001b[38;2;248;248;242;48;2;39;40;34m,\u001b[0m\u001b[38;2;248;248;242;48;2;39;40;34m \u001b[0m\u001b[38;2;230;219;116;48;2;39;40;34m\"\u001b[0m\u001b[38;2;230;219;116;48;2;39;40;34mcoords\u001b[0m\u001b[38;2;230;219;116;48;2;39;40;34m\"\u001b[0m\u001b[38;2;248;248;242;48;2;39;40;34m:\u001b[0m\u001b[38;2;248;248;242;48;2;39;40;34m \u001b[0m\u001b[38;2;248;248;242;48;2;39;40;34m(\u001b[0m\u001b[38;2;174;129;255;48;2;39;40;34m52.986\u001b[0m\u001b[38;2;248;248;242;48;2;39;40;34m,\u001b[0m\u001b[38;2;248;248;242;48;2;39;40;34m \u001b[0m\u001b[38;2;255;70;137;48;2;39;40;34m-\u001b[0m\u001b[38;2;174;129;255;48;2;39;40;34m6.536\u001b[0m\u001b[38;2;248;248;242;48;2;39;40;34m)\u001b[0m\u001b[38;2;248;248;242;48;2;39;40;34m}\u001b[0m\u001b[48;2;39;40;34m                                            \u001b[0m  \n",
       "  \u001b[38;2;248;248;242;48;2;39;40;34m]\u001b[0m\u001b[48;2;39;40;34m                                                                                                              \u001b[0m  \n",
       "  \u001b[48;2;39;40;34m                                                                                                               \u001b[0m  \n",
       "  \u001b[38;2;248;248;242;48;2;39;40;34mprint\u001b[0m\u001b[38;2;248;248;242;48;2;39;40;34m(\u001b[0m\u001b[38;2;230;219;116;48;2;39;40;34m\"\u001b[0m\u001b[38;2;230;219;116;48;2;39;40;34mAhmedabad coordinates (decimal):\u001b[0m\u001b[38;2;230;219;116;48;2;39;40;34m\"\u001b[0m\u001b[38;2;248;248;242;48;2;39;40;34m,\u001b[0m\u001b[38;2;248;248;242;48;2;39;40;34m \u001b[0m\u001b[38;2;248;248;242;48;2;39;40;34mahmedabad_lat\u001b[0m\u001b[38;2;248;248;242;48;2;39;40;34m,\u001b[0m\u001b[38;2;248;248;242;48;2;39;40;34m \u001b[0m\u001b[38;2;248;248;242;48;2;39;40;34mahmedabad_lon\u001b[0m\u001b[38;2;248;248;242;48;2;39;40;34m)\u001b[0m\u001b[48;2;39;40;34m                                        \u001b[0m  \n",
       "  \u001b[38;2;248;248;242;48;2;39;40;34mprint\u001b[0m\u001b[38;2;248;248;242;48;2;39;40;34m(\u001b[0m\u001b[38;2;230;219;116;48;2;39;40;34m\"\u001b[0m\u001b[38;2;230;219;116;48;2;39;40;34mFilming locations and coordinates:\u001b[0m\u001b[38;2;230;219;116;48;2;39;40;34m\"\u001b[0m\u001b[38;2;248;248;242;48;2;39;40;34m,\u001b[0m\u001b[38;2;248;248;242;48;2;39;40;34m \u001b[0m\u001b[38;2;248;248;242;48;2;39;40;34mfilming_locations\u001b[0m\u001b[38;2;248;248;242;48;2;39;40;34m)\u001b[0m\u001b[48;2;39;40;34m                                                 \u001b[0m  \n",
       " ───────────────────────────────────────────────────────────────────────────────────────────────────────────────── \n"
      ]
     },
     "jetTransient": {
      "display_id": null
     },
     "metadata": {},
     "output_type": "display_data"
    },
    {
     "data": {
      "text/html": [
       "<pre style=\"white-space:pre;overflow-x:auto;line-height:normal;font-family:Menlo,'DejaVu Sans Mono',consolas,'Courier New',monospace\"><span style=\"color: #800000; text-decoration-color: #800000; font-weight: bold\">Code execution failed at line 'ahmedabad_lat = dms_to_decimal((23, 1, 21))' due to: InterpreterError: Cannot assign</span>\n",
       "<span style=\"color: #800000; text-decoration-color: #800000; font-weight: bold\">to name 'degrees': doing this would erase the existing tool!</span>\n",
       "</pre>\n"
      ],
      "text/plain": [
       "\u001b[1;31mCode execution failed at line 'ahmedabad_lat = dms_to_decimal((23, 1, 21))' due to: InterpreterError: Cannot assign\u001b[0m\n",
       "\u001b[1;31mto name 'degrees': doing this would erase the existing tool!\u001b[0m\n"
      ]
     },
     "jetTransient": {
      "display_id": null
     },
     "metadata": {},
     "output_type": "display_data"
    },
    {
     "data": {
      "text/html": [
       "<pre style=\"white-space:pre;overflow-x:auto;line-height:normal;font-family:Menlo,'DejaVu Sans Mono',consolas,'Courier New',monospace\"><span style=\"color: #7f7f7f; text-decoration-color: #7f7f7f\">[Step 3: Duration 4.56 seconds| Input tokens: 9,179 | Output tokens: 905]</span>\n",
       "</pre>\n"
      ],
      "text/plain": [
       "\u001b[2m[Step 3: Duration 4.56 seconds| Input tokens: 9,179 | Output tokens: 905]\u001b[0m\n"
      ]
     },
     "jetTransient": {
      "display_id": null
     },
     "metadata": {},
     "output_type": "display_data"
    },
    {
     "data": {
      "text/html": [
       "<pre style=\"white-space:pre;overflow-x:auto;line-height:normal;font-family:Menlo,'DejaVu Sans Mono',consolas,'Courier New',monospace\"><span style=\"color: #d4b702; text-decoration-color: #d4b702\">━━━━━━━━━━━━━━━━━━━━━━━━━━━━━━━━━━━━━━━━━━━━━━━━━━━━━ </span><span style=\"font-weight: bold\">Step 4</span><span style=\"color: #d4b702; text-decoration-color: #d4b702\"> ━━━━━━━━━━━━━━━━━━━━━━━━━━━━━━━━━━━━━━━━━━━━━━━━━━━━━━</span>\n",
       "</pre>\n"
      ],
      "text/plain": [
       "\u001b[38;2;212;183;2m━━━━━━━━━━━━━━━━━━━━━━━━━━━━━━━━━━━━━━━━━━━━━━━━━━━━━ \u001b[0m\u001b[1mStep 4\u001b[0m\u001b[38;2;212;183;2m ━━━━━━━━━━━━━━━━━━━━━━━━━━━━━━━━━━━━━━━━━━━━━━━━━━━━━━\u001b[0m\n"
      ]
     },
     "jetTransient": {
      "display_id": null
     },
     "metadata": {},
     "output_type": "display_data"
    },
    {
     "data": {
      "text/html": [
       "<pre style=\"white-space:pre;overflow-x:auto;line-height:normal;font-family:Menlo,'DejaVu Sans Mono',consolas,'Courier New',monospace\"> ─ <span style=\"font-weight: bold\">Executing parsed code:</span> ──────────────────────────────────────────────────────────────────────────────────────── \n",
       "  <span style=\"color: #959077; text-decoration-color: #959077; background-color: #272822\"># Define DMS to decimal conversion without using variable names that might conflict</span><span style=\"background-color: #272822\">                            </span>  \n",
       "  <span style=\"color: #66d9ef; text-decoration-color: #66d9ef; background-color: #272822\">def</span><span style=\"color: #f8f8f2; text-decoration-color: #f8f8f2; background-color: #272822\"> </span><span style=\"color: #a6e22e; text-decoration-color: #a6e22e; background-color: #272822\">convert_dms_to_decimal</span><span style=\"color: #f8f8f2; text-decoration-color: #f8f8f2; background-color: #272822\">(dms_tuple):</span><span style=\"background-color: #272822\">                                                                         </span>  \n",
       "  <span style=\"color: #f8f8f2; text-decoration-color: #f8f8f2; background-color: #272822\">    d, m, s </span><span style=\"color: #ff4689; text-decoration-color: #ff4689; background-color: #272822\">=</span><span style=\"color: #f8f8f2; text-decoration-color: #f8f8f2; background-color: #272822\"> dms_tuple</span><span style=\"background-color: #272822\">                                                                                        </span>  \n",
       "  <span style=\"color: #f8f8f2; text-decoration-color: #f8f8f2; background-color: #272822\">    decimal_degrees </span><span style=\"color: #ff4689; text-decoration-color: #ff4689; background-color: #272822\">=</span><span style=\"color: #f8f8f2; text-decoration-color: #f8f8f2; background-color: #272822\"> d </span><span style=\"color: #ff4689; text-decoration-color: #ff4689; background-color: #272822\">+</span><span style=\"color: #f8f8f2; text-decoration-color: #f8f8f2; background-color: #272822\"> m</span><span style=\"color: #ff4689; text-decoration-color: #ff4689; background-color: #272822\">/</span><span style=\"color: #ae81ff; text-decoration-color: #ae81ff; background-color: #272822\">60</span><span style=\"color: #f8f8f2; text-decoration-color: #f8f8f2; background-color: #272822\"> </span><span style=\"color: #ff4689; text-decoration-color: #ff4689; background-color: #272822\">+</span><span style=\"color: #f8f8f2; text-decoration-color: #f8f8f2; background-color: #272822\"> s</span><span style=\"color: #ff4689; text-decoration-color: #ff4689; background-color: #272822\">/</span><span style=\"color: #ae81ff; text-decoration-color: #ae81ff; background-color: #272822\">3600</span><span style=\"background-color: #272822\">                                                                        </span>  \n",
       "  <span style=\"color: #f8f8f2; text-decoration-color: #f8f8f2; background-color: #272822\">    </span><span style=\"color: #66d9ef; text-decoration-color: #66d9ef; background-color: #272822\">return</span><span style=\"color: #f8f8f2; text-decoration-color: #f8f8f2; background-color: #272822\"> decimal_degrees</span><span style=\"background-color: #272822\">                                                                                     </span>  \n",
       "  <span style=\"background-color: #272822\">                                                                                                               </span>  \n",
       "  <span style=\"color: #959077; text-decoration-color: #959077; background-color: #272822\"># Ahmedabad coordinates (23°01′21″N, 72°34′17″E)</span><span style=\"background-color: #272822\">                                                               </span>  \n",
       "  <span style=\"color: #f8f8f2; text-decoration-color: #f8f8f2; background-color: #272822\">ahmedabad_lat </span><span style=\"color: #ff4689; text-decoration-color: #ff4689; background-color: #272822\">=</span><span style=\"color: #f8f8f2; text-decoration-color: #f8f8f2; background-color: #272822\"> convert_dms_to_decimal((</span><span style=\"color: #ae81ff; text-decoration-color: #ae81ff; background-color: #272822\">23</span><span style=\"color: #f8f8f2; text-decoration-color: #f8f8f2; background-color: #272822\">, </span><span style=\"color: #ae81ff; text-decoration-color: #ae81ff; background-color: #272822\">1</span><span style=\"color: #f8f8f2; text-decoration-color: #f8f8f2; background-color: #272822\">, </span><span style=\"color: #ae81ff; text-decoration-color: #ae81ff; background-color: #272822\">21</span><span style=\"color: #f8f8f2; text-decoration-color: #f8f8f2; background-color: #272822\">))</span><span style=\"background-color: #272822\">                                                            </span>  \n",
       "  <span style=\"color: #f8f8f2; text-decoration-color: #f8f8f2; background-color: #272822\">ahmedabad_lon </span><span style=\"color: #ff4689; text-decoration-color: #ff4689; background-color: #272822\">=</span><span style=\"color: #f8f8f2; text-decoration-color: #f8f8f2; background-color: #272822\"> convert_dms_to_decimal((</span><span style=\"color: #ae81ff; text-decoration-color: #ae81ff; background-color: #272822\">72</span><span style=\"color: #f8f8f2; text-decoration-color: #f8f8f2; background-color: #272822\">, </span><span style=\"color: #ae81ff; text-decoration-color: #ae81ff; background-color: #272822\">34</span><span style=\"color: #f8f8f2; text-decoration-color: #f8f8f2; background-color: #272822\">, </span><span style=\"color: #ae81ff; text-decoration-color: #ae81ff; background-color: #272822\">17</span><span style=\"color: #f8f8f2; text-decoration-color: #f8f8f2; background-color: #272822\">))</span><span style=\"background-color: #272822\">                                                           </span>  \n",
       "  <span style=\"background-color: #272822\">                                                                                                               </span>  \n",
       "  <span style=\"color: #959077; text-decoration-color: #959077; background-color: #272822\"># List of filming locations with approximate coordinates (latitude, longitude)</span><span style=\"background-color: #272822\">                                 </span>  \n",
       "  <span style=\"color: #f8f8f2; text-decoration-color: #f8f8f2; background-color: #272822\">filming_locations </span><span style=\"color: #ff4689; text-decoration-color: #ff4689; background-color: #272822\">=</span><span style=\"color: #f8f8f2; text-decoration-color: #f8f8f2; background-color: #272822\"> [</span><span style=\"background-color: #272822\">                                                                                          </span>  \n",
       "  <span style=\"color: #f8f8f2; text-decoration-color: #f8f8f2; background-color: #272822\">    {</span><span style=\"color: #e6db74; text-decoration-color: #e6db74; background-color: #272822\">\"name\"</span><span style=\"color: #f8f8f2; text-decoration-color: #f8f8f2; background-color: #272822\">: </span><span style=\"color: #e6db74; text-decoration-color: #e6db74; background-color: #272822\">\"Warner Bros. Studio Tour London (Leavesden)\"</span><span style=\"color: #f8f8f2; text-decoration-color: #f8f8f2; background-color: #272822\">, </span><span style=\"color: #e6db74; text-decoration-color: #e6db74; background-color: #272822\">\"coords\"</span><span style=\"color: #f8f8f2; text-decoration-color: #f8f8f2; background-color: #272822\">: (</span><span style=\"color: #ae81ff; text-decoration-color: #ae81ff; background-color: #272822\">51.629</span><span style=\"color: #f8f8f2; text-decoration-color: #f8f8f2; background-color: #272822\">, </span><span style=\"color: #ff4689; text-decoration-color: #ff4689; background-color: #272822\">-</span><span style=\"color: #ae81ff; text-decoration-color: #ae81ff; background-color: #272822\">0.464</span><span style=\"color: #f8f8f2; text-decoration-color: #f8f8f2; background-color: #272822\">)},</span><span style=\"background-color: #272822\">                       </span>  \n",
       "  <span style=\"color: #f8f8f2; text-decoration-color: #f8f8f2; background-color: #272822\">    {</span><span style=\"color: #e6db74; text-decoration-color: #e6db74; background-color: #272822\">\"name\"</span><span style=\"color: #f8f8f2; text-decoration-color: #f8f8f2; background-color: #272822\">: </span><span style=\"color: #e6db74; text-decoration-color: #e6db74; background-color: #272822\">\"King's Cross Station, London\"</span><span style=\"color: #f8f8f2; text-decoration-color: #f8f8f2; background-color: #272822\">, </span><span style=\"color: #e6db74; text-decoration-color: #e6db74; background-color: #272822\">\"coords\"</span><span style=\"color: #f8f8f2; text-decoration-color: #f8f8f2; background-color: #272822\">: (</span><span style=\"color: #ae81ff; text-decoration-color: #ae81ff; background-color: #272822\">51.535</span><span style=\"color: #f8f8f2; text-decoration-color: #f8f8f2; background-color: #272822\">, </span><span style=\"color: #ff4689; text-decoration-color: #ff4689; background-color: #272822\">-</span><span style=\"color: #ae81ff; text-decoration-color: #ae81ff; background-color: #272822\">0.128</span><span style=\"color: #f8f8f2; text-decoration-color: #f8f8f2; background-color: #272822\">)},</span><span style=\"background-color: #272822\">                                      </span>  \n",
       "  <span style=\"color: #f8f8f2; text-decoration-color: #f8f8f2; background-color: #272822\">    {</span><span style=\"color: #e6db74; text-decoration-color: #e6db74; background-color: #272822\">\"name\"</span><span style=\"color: #f8f8f2; text-decoration-color: #f8f8f2; background-color: #272822\">: </span><span style=\"color: #e6db74; text-decoration-color: #e6db74; background-color: #272822\">\"Leadenhall Market, London\"</span><span style=\"color: #f8f8f2; text-decoration-color: #f8f8f2; background-color: #272822\">, </span><span style=\"color: #e6db74; text-decoration-color: #e6db74; background-color: #272822\">\"coords\"</span><span style=\"color: #f8f8f2; text-decoration-color: #f8f8f2; background-color: #272822\">: (</span><span style=\"color: #ae81ff; text-decoration-color: #ae81ff; background-color: #272822\">51.515</span><span style=\"color: #f8f8f2; text-decoration-color: #f8f8f2; background-color: #272822\">, </span><span style=\"color: #ff4689; text-decoration-color: #ff4689; background-color: #272822\">-</span><span style=\"color: #ae81ff; text-decoration-color: #ae81ff; background-color: #272822\">0.083</span><span style=\"color: #f8f8f2; text-decoration-color: #f8f8f2; background-color: #272822\">)},</span><span style=\"background-color: #272822\">                                         </span>  \n",
       "  <span style=\"color: #f8f8f2; text-decoration-color: #f8f8f2; background-color: #272822\">    {</span><span style=\"color: #e6db74; text-decoration-color: #e6db74; background-color: #272822\">\"name\"</span><span style=\"color: #f8f8f2; text-decoration-color: #f8f8f2; background-color: #272822\">: </span><span style=\"color: #e6db74; text-decoration-color: #e6db74; background-color: #272822\">\"Alnwick Castle, Northumberland\"</span><span style=\"color: #f8f8f2; text-decoration-color: #f8f8f2; background-color: #272822\">, </span><span style=\"color: #e6db74; text-decoration-color: #e6db74; background-color: #272822\">\"coords\"</span><span style=\"color: #f8f8f2; text-decoration-color: #f8f8f2; background-color: #272822\">: (</span><span style=\"color: #ae81ff; text-decoration-color: #ae81ff; background-color: #272822\">55.327</span><span style=\"color: #f8f8f2; text-decoration-color: #f8f8f2; background-color: #272822\">, </span><span style=\"color: #ff4689; text-decoration-color: #ff4689; background-color: #272822\">-</span><span style=\"color: #ae81ff; text-decoration-color: #ae81ff; background-color: #272822\">1.745</span><span style=\"color: #f8f8f2; text-decoration-color: #f8f8f2; background-color: #272822\">)},</span><span style=\"background-color: #272822\">                                    </span>  \n",
       "  <span style=\"color: #f8f8f2; text-decoration-color: #f8f8f2; background-color: #272822\">    {</span><span style=\"color: #e6db74; text-decoration-color: #e6db74; background-color: #272822\">\"name\"</span><span style=\"color: #f8f8f2; text-decoration-color: #f8f8f2; background-color: #272822\">: </span><span style=\"color: #e6db74; text-decoration-color: #e6db74; background-color: #272822\">\"Lacock Abbey, Wiltshire\"</span><span style=\"color: #f8f8f2; text-decoration-color: #f8f8f2; background-color: #272822\">, </span><span style=\"color: #e6db74; text-decoration-color: #e6db74; background-color: #272822\">\"coords\"</span><span style=\"color: #f8f8f2; text-decoration-color: #f8f8f2; background-color: #272822\">: (</span><span style=\"color: #ae81ff; text-decoration-color: #ae81ff; background-color: #272822\">51.428</span><span style=\"color: #f8f8f2; text-decoration-color: #f8f8f2; background-color: #272822\">, </span><span style=\"color: #ff4689; text-decoration-color: #ff4689; background-color: #272822\">-</span><span style=\"color: #ae81ff; text-decoration-color: #ae81ff; background-color: #272822\">2.111</span><span style=\"color: #f8f8f2; text-decoration-color: #f8f8f2; background-color: #272822\">)},</span><span style=\"background-color: #272822\">                                           </span>  \n",
       "  <span style=\"color: #f8f8f2; text-decoration-color: #f8f8f2; background-color: #272822\">    {</span><span style=\"color: #e6db74; text-decoration-color: #e6db74; background-color: #272822\">\"name\"</span><span style=\"color: #f8f8f2; text-decoration-color: #f8f8f2; background-color: #272822\">: </span><span style=\"color: #e6db74; text-decoration-color: #e6db74; background-color: #272822\">\"Durham Cathedral, Durham\"</span><span style=\"color: #f8f8f2; text-decoration-color: #f8f8f2; background-color: #272822\">, </span><span style=\"color: #e6db74; text-decoration-color: #e6db74; background-color: #272822\">\"coords\"</span><span style=\"color: #f8f8f2; text-decoration-color: #f8f8f2; background-color: #272822\">: (</span><span style=\"color: #ae81ff; text-decoration-color: #ae81ff; background-color: #272822\">54.772</span><span style=\"color: #f8f8f2; text-decoration-color: #f8f8f2; background-color: #272822\">, </span><span style=\"color: #ff4689; text-decoration-color: #ff4689; background-color: #272822\">-</span><span style=\"color: #ae81ff; text-decoration-color: #ae81ff; background-color: #272822\">1.580</span><span style=\"color: #f8f8f2; text-decoration-color: #f8f8f2; background-color: #272822\">)},</span><span style=\"background-color: #272822\">                                          </span>  \n",
       "  <span style=\"color: #f8f8f2; text-decoration-color: #f8f8f2; background-color: #272822\">    {</span><span style=\"color: #e6db74; text-decoration-color: #e6db74; background-color: #272822\">\"name\"</span><span style=\"color: #f8f8f2; text-decoration-color: #f8f8f2; background-color: #272822\">: </span><span style=\"color: #e6db74; text-decoration-color: #e6db74; background-color: #272822\">\"Freshwater West, Pembrokeshire\"</span><span style=\"color: #f8f8f2; text-decoration-color: #f8f8f2; background-color: #272822\">, </span><span style=\"color: #e6db74; text-decoration-color: #e6db74; background-color: #272822\">\"coords\"</span><span style=\"color: #f8f8f2; text-decoration-color: #f8f8f2; background-color: #272822\">: (</span><span style=\"color: #ae81ff; text-decoration-color: #ae81ff; background-color: #272822\">51.721</span><span style=\"color: #f8f8f2; text-decoration-color: #f8f8f2; background-color: #272822\">, </span><span style=\"color: #ff4689; text-decoration-color: #ff4689; background-color: #272822\">-</span><span style=\"color: #ae81ff; text-decoration-color: #ae81ff; background-color: #272822\">4.955</span><span style=\"color: #f8f8f2; text-decoration-color: #f8f8f2; background-color: #272822\">)},</span><span style=\"background-color: #272822\">                                    </span>  \n",
       "  <span style=\"color: #f8f8f2; text-decoration-color: #f8f8f2; background-color: #272822\">    {</span><span style=\"color: #e6db74; text-decoration-color: #e6db74; background-color: #272822\">\"name\"</span><span style=\"color: #f8f8f2; text-decoration-color: #f8f8f2; background-color: #272822\">: </span><span style=\"color: #e6db74; text-decoration-color: #e6db74; background-color: #272822\">\"Glenfinnan Viaduct, Scottish Highlands\"</span><span style=\"color: #f8f8f2; text-decoration-color: #f8f8f2; background-color: #272822\">, </span><span style=\"color: #e6db74; text-decoration-color: #e6db74; background-color: #272822\">\"coords\"</span><span style=\"color: #f8f8f2; text-decoration-color: #f8f8f2; background-color: #272822\">: (</span><span style=\"color: #ae81ff; text-decoration-color: #ae81ff; background-color: #272822\">56.932</span><span style=\"color: #f8f8f2; text-decoration-color: #f8f8f2; background-color: #272822\">, </span><span style=\"color: #ff4689; text-decoration-color: #ff4689; background-color: #272822\">-</span><span style=\"color: #ae81ff; text-decoration-color: #ae81ff; background-color: #272822\">5.558</span><span style=\"color: #f8f8f2; text-decoration-color: #f8f8f2; background-color: #272822\">)},</span><span style=\"background-color: #272822\">                            </span>  \n",
       "  <span style=\"color: #f8f8f2; text-decoration-color: #f8f8f2; background-color: #272822\">    {</span><span style=\"color: #e6db74; text-decoration-color: #e6db74; background-color: #272822\">\"name\"</span><span style=\"color: #f8f8f2; text-decoration-color: #f8f8f2; background-color: #272822\">: </span><span style=\"color: #e6db74; text-decoration-color: #e6db74; background-color: #272822\">\"County Wicklow, Ireland\"</span><span style=\"color: #f8f8f2; text-decoration-color: #f8f8f2; background-color: #272822\">, </span><span style=\"color: #e6db74; text-decoration-color: #e6db74; background-color: #272822\">\"coords\"</span><span style=\"color: #f8f8f2; text-decoration-color: #f8f8f2; background-color: #272822\">: (</span><span style=\"color: #ae81ff; text-decoration-color: #ae81ff; background-color: #272822\">52.986</span><span style=\"color: #f8f8f2; text-decoration-color: #f8f8f2; background-color: #272822\">, </span><span style=\"color: #ff4689; text-decoration-color: #ff4689; background-color: #272822\">-</span><span style=\"color: #ae81ff; text-decoration-color: #ae81ff; background-color: #272822\">6.536</span><span style=\"color: #f8f8f2; text-decoration-color: #f8f8f2; background-color: #272822\">)}</span><span style=\"background-color: #272822\">                                            </span>  \n",
       "  <span style=\"color: #f8f8f2; text-decoration-color: #f8f8f2; background-color: #272822\">]</span><span style=\"background-color: #272822\">                                                                                                              </span>  \n",
       "  <span style=\"background-color: #272822\">                                                                                                               </span>  \n",
       "  <span style=\"color: #f8f8f2; text-decoration-color: #f8f8f2; background-color: #272822\">print(</span><span style=\"color: #e6db74; text-decoration-color: #e6db74; background-color: #272822\">f\"Ahmedabad coordinates (decimal): {</span><span style=\"color: #f8f8f2; text-decoration-color: #f8f8f2; background-color: #272822\">ahmedabad_lat</span><span style=\"color: #e6db74; text-decoration-color: #e6db74; background-color: #272822\">}, {</span><span style=\"color: #f8f8f2; text-decoration-color: #f8f8f2; background-color: #272822\">ahmedabad_lon</span><span style=\"color: #e6db74; text-decoration-color: #e6db74; background-color: #272822\">}\"</span><span style=\"color: #f8f8f2; text-decoration-color: #f8f8f2; background-color: #272822\">)</span><span style=\"background-color: #272822\">                                    </span>  \n",
       "  <span style=\"color: #f8f8f2; text-decoration-color: #f8f8f2; background-color: #272822\">print(</span><span style=\"color: #e6db74; text-decoration-color: #e6db74; background-color: #272822\">\"Filming locations and coordinates:\"</span><span style=\"color: #f8f8f2; text-decoration-color: #f8f8f2; background-color: #272822\">, filming_locations)</span><span style=\"background-color: #272822\">                                                 </span>  \n",
       " ───────────────────────────────────────────────────────────────────────────────────────────────────────────────── \n",
       "</pre>\n"
      ],
      "text/plain": [
       " ─ \u001b[1mExecuting parsed code:\u001b[0m ──────────────────────────────────────────────────────────────────────────────────────── \n",
       "  \u001b[38;2;149;144;119;48;2;39;40;34m# Define DMS to decimal conversion without using variable names that might conflict\u001b[0m\u001b[48;2;39;40;34m                            \u001b[0m  \n",
       "  \u001b[38;2;102;217;239;48;2;39;40;34mdef\u001b[0m\u001b[38;2;248;248;242;48;2;39;40;34m \u001b[0m\u001b[38;2;166;226;46;48;2;39;40;34mconvert_dms_to_decimal\u001b[0m\u001b[38;2;248;248;242;48;2;39;40;34m(\u001b[0m\u001b[38;2;248;248;242;48;2;39;40;34mdms_tuple\u001b[0m\u001b[38;2;248;248;242;48;2;39;40;34m)\u001b[0m\u001b[38;2;248;248;242;48;2;39;40;34m:\u001b[0m\u001b[48;2;39;40;34m                                                                         \u001b[0m  \n",
       "  \u001b[38;2;248;248;242;48;2;39;40;34m    \u001b[0m\u001b[38;2;248;248;242;48;2;39;40;34md\u001b[0m\u001b[38;2;248;248;242;48;2;39;40;34m,\u001b[0m\u001b[38;2;248;248;242;48;2;39;40;34m \u001b[0m\u001b[38;2;248;248;242;48;2;39;40;34mm\u001b[0m\u001b[38;2;248;248;242;48;2;39;40;34m,\u001b[0m\u001b[38;2;248;248;242;48;2;39;40;34m \u001b[0m\u001b[38;2;248;248;242;48;2;39;40;34ms\u001b[0m\u001b[38;2;248;248;242;48;2;39;40;34m \u001b[0m\u001b[38;2;255;70;137;48;2;39;40;34m=\u001b[0m\u001b[38;2;248;248;242;48;2;39;40;34m \u001b[0m\u001b[38;2;248;248;242;48;2;39;40;34mdms_tuple\u001b[0m\u001b[48;2;39;40;34m                                                                                        \u001b[0m  \n",
       "  \u001b[38;2;248;248;242;48;2;39;40;34m    \u001b[0m\u001b[38;2;248;248;242;48;2;39;40;34mdecimal_degrees\u001b[0m\u001b[38;2;248;248;242;48;2;39;40;34m \u001b[0m\u001b[38;2;255;70;137;48;2;39;40;34m=\u001b[0m\u001b[38;2;248;248;242;48;2;39;40;34m \u001b[0m\u001b[38;2;248;248;242;48;2;39;40;34md\u001b[0m\u001b[38;2;248;248;242;48;2;39;40;34m \u001b[0m\u001b[38;2;255;70;137;48;2;39;40;34m+\u001b[0m\u001b[38;2;248;248;242;48;2;39;40;34m \u001b[0m\u001b[38;2;248;248;242;48;2;39;40;34mm\u001b[0m\u001b[38;2;255;70;137;48;2;39;40;34m/\u001b[0m\u001b[38;2;174;129;255;48;2;39;40;34m60\u001b[0m\u001b[38;2;248;248;242;48;2;39;40;34m \u001b[0m\u001b[38;2;255;70;137;48;2;39;40;34m+\u001b[0m\u001b[38;2;248;248;242;48;2;39;40;34m \u001b[0m\u001b[38;2;248;248;242;48;2;39;40;34ms\u001b[0m\u001b[38;2;255;70;137;48;2;39;40;34m/\u001b[0m\u001b[38;2;174;129;255;48;2;39;40;34m3600\u001b[0m\u001b[48;2;39;40;34m                                                                        \u001b[0m  \n",
       "  \u001b[38;2;248;248;242;48;2;39;40;34m    \u001b[0m\u001b[38;2;102;217;239;48;2;39;40;34mreturn\u001b[0m\u001b[38;2;248;248;242;48;2;39;40;34m \u001b[0m\u001b[38;2;248;248;242;48;2;39;40;34mdecimal_degrees\u001b[0m\u001b[48;2;39;40;34m                                                                                     \u001b[0m  \n",
       "  \u001b[48;2;39;40;34m                                                                                                               \u001b[0m  \n",
       "  \u001b[38;2;149;144;119;48;2;39;40;34m# Ahmedabad coordinates (23°01′21″N, 72°34′17″E)\u001b[0m\u001b[48;2;39;40;34m                                                               \u001b[0m  \n",
       "  \u001b[38;2;248;248;242;48;2;39;40;34mahmedabad_lat\u001b[0m\u001b[38;2;248;248;242;48;2;39;40;34m \u001b[0m\u001b[38;2;255;70;137;48;2;39;40;34m=\u001b[0m\u001b[38;2;248;248;242;48;2;39;40;34m \u001b[0m\u001b[38;2;248;248;242;48;2;39;40;34mconvert_dms_to_decimal\u001b[0m\u001b[38;2;248;248;242;48;2;39;40;34m(\u001b[0m\u001b[38;2;248;248;242;48;2;39;40;34m(\u001b[0m\u001b[38;2;174;129;255;48;2;39;40;34m23\u001b[0m\u001b[38;2;248;248;242;48;2;39;40;34m,\u001b[0m\u001b[38;2;248;248;242;48;2;39;40;34m \u001b[0m\u001b[38;2;174;129;255;48;2;39;40;34m1\u001b[0m\u001b[38;2;248;248;242;48;2;39;40;34m,\u001b[0m\u001b[38;2;248;248;242;48;2;39;40;34m \u001b[0m\u001b[38;2;174;129;255;48;2;39;40;34m21\u001b[0m\u001b[38;2;248;248;242;48;2;39;40;34m)\u001b[0m\u001b[38;2;248;248;242;48;2;39;40;34m)\u001b[0m\u001b[48;2;39;40;34m                                                            \u001b[0m  \n",
       "  \u001b[38;2;248;248;242;48;2;39;40;34mahmedabad_lon\u001b[0m\u001b[38;2;248;248;242;48;2;39;40;34m \u001b[0m\u001b[38;2;255;70;137;48;2;39;40;34m=\u001b[0m\u001b[38;2;248;248;242;48;2;39;40;34m \u001b[0m\u001b[38;2;248;248;242;48;2;39;40;34mconvert_dms_to_decimal\u001b[0m\u001b[38;2;248;248;242;48;2;39;40;34m(\u001b[0m\u001b[38;2;248;248;242;48;2;39;40;34m(\u001b[0m\u001b[38;2;174;129;255;48;2;39;40;34m72\u001b[0m\u001b[38;2;248;248;242;48;2;39;40;34m,\u001b[0m\u001b[38;2;248;248;242;48;2;39;40;34m \u001b[0m\u001b[38;2;174;129;255;48;2;39;40;34m34\u001b[0m\u001b[38;2;248;248;242;48;2;39;40;34m,\u001b[0m\u001b[38;2;248;248;242;48;2;39;40;34m \u001b[0m\u001b[38;2;174;129;255;48;2;39;40;34m17\u001b[0m\u001b[38;2;248;248;242;48;2;39;40;34m)\u001b[0m\u001b[38;2;248;248;242;48;2;39;40;34m)\u001b[0m\u001b[48;2;39;40;34m                                                           \u001b[0m  \n",
       "  \u001b[48;2;39;40;34m                                                                                                               \u001b[0m  \n",
       "  \u001b[38;2;149;144;119;48;2;39;40;34m# List of filming locations with approximate coordinates (latitude, longitude)\u001b[0m\u001b[48;2;39;40;34m                                 \u001b[0m  \n",
       "  \u001b[38;2;248;248;242;48;2;39;40;34mfilming_locations\u001b[0m\u001b[38;2;248;248;242;48;2;39;40;34m \u001b[0m\u001b[38;2;255;70;137;48;2;39;40;34m=\u001b[0m\u001b[38;2;248;248;242;48;2;39;40;34m \u001b[0m\u001b[38;2;248;248;242;48;2;39;40;34m[\u001b[0m\u001b[48;2;39;40;34m                                                                                          \u001b[0m  \n",
       "  \u001b[38;2;248;248;242;48;2;39;40;34m    \u001b[0m\u001b[38;2;248;248;242;48;2;39;40;34m{\u001b[0m\u001b[38;2;230;219;116;48;2;39;40;34m\"\u001b[0m\u001b[38;2;230;219;116;48;2;39;40;34mname\u001b[0m\u001b[38;2;230;219;116;48;2;39;40;34m\"\u001b[0m\u001b[38;2;248;248;242;48;2;39;40;34m:\u001b[0m\u001b[38;2;248;248;242;48;2;39;40;34m \u001b[0m\u001b[38;2;230;219;116;48;2;39;40;34m\"\u001b[0m\u001b[38;2;230;219;116;48;2;39;40;34mWarner Bros. Studio Tour London (Leavesden)\u001b[0m\u001b[38;2;230;219;116;48;2;39;40;34m\"\u001b[0m\u001b[38;2;248;248;242;48;2;39;40;34m,\u001b[0m\u001b[38;2;248;248;242;48;2;39;40;34m \u001b[0m\u001b[38;2;230;219;116;48;2;39;40;34m\"\u001b[0m\u001b[38;2;230;219;116;48;2;39;40;34mcoords\u001b[0m\u001b[38;2;230;219;116;48;2;39;40;34m\"\u001b[0m\u001b[38;2;248;248;242;48;2;39;40;34m:\u001b[0m\u001b[38;2;248;248;242;48;2;39;40;34m \u001b[0m\u001b[38;2;248;248;242;48;2;39;40;34m(\u001b[0m\u001b[38;2;174;129;255;48;2;39;40;34m51.629\u001b[0m\u001b[38;2;248;248;242;48;2;39;40;34m,\u001b[0m\u001b[38;2;248;248;242;48;2;39;40;34m \u001b[0m\u001b[38;2;255;70;137;48;2;39;40;34m-\u001b[0m\u001b[38;2;174;129;255;48;2;39;40;34m0.464\u001b[0m\u001b[38;2;248;248;242;48;2;39;40;34m)\u001b[0m\u001b[38;2;248;248;242;48;2;39;40;34m}\u001b[0m\u001b[38;2;248;248;242;48;2;39;40;34m,\u001b[0m\u001b[48;2;39;40;34m                       \u001b[0m  \n",
       "  \u001b[38;2;248;248;242;48;2;39;40;34m    \u001b[0m\u001b[38;2;248;248;242;48;2;39;40;34m{\u001b[0m\u001b[38;2;230;219;116;48;2;39;40;34m\"\u001b[0m\u001b[38;2;230;219;116;48;2;39;40;34mname\u001b[0m\u001b[38;2;230;219;116;48;2;39;40;34m\"\u001b[0m\u001b[38;2;248;248;242;48;2;39;40;34m:\u001b[0m\u001b[38;2;248;248;242;48;2;39;40;34m \u001b[0m\u001b[38;2;230;219;116;48;2;39;40;34m\"\u001b[0m\u001b[38;2;230;219;116;48;2;39;40;34mKing\u001b[0m\u001b[38;2;230;219;116;48;2;39;40;34m'\u001b[0m\u001b[38;2;230;219;116;48;2;39;40;34ms Cross Station, London\u001b[0m\u001b[38;2;230;219;116;48;2;39;40;34m\"\u001b[0m\u001b[38;2;248;248;242;48;2;39;40;34m,\u001b[0m\u001b[38;2;248;248;242;48;2;39;40;34m \u001b[0m\u001b[38;2;230;219;116;48;2;39;40;34m\"\u001b[0m\u001b[38;2;230;219;116;48;2;39;40;34mcoords\u001b[0m\u001b[38;2;230;219;116;48;2;39;40;34m\"\u001b[0m\u001b[38;2;248;248;242;48;2;39;40;34m:\u001b[0m\u001b[38;2;248;248;242;48;2;39;40;34m \u001b[0m\u001b[38;2;248;248;242;48;2;39;40;34m(\u001b[0m\u001b[38;2;174;129;255;48;2;39;40;34m51.535\u001b[0m\u001b[38;2;248;248;242;48;2;39;40;34m,\u001b[0m\u001b[38;2;248;248;242;48;2;39;40;34m \u001b[0m\u001b[38;2;255;70;137;48;2;39;40;34m-\u001b[0m\u001b[38;2;174;129;255;48;2;39;40;34m0.128\u001b[0m\u001b[38;2;248;248;242;48;2;39;40;34m)\u001b[0m\u001b[38;2;248;248;242;48;2;39;40;34m}\u001b[0m\u001b[38;2;248;248;242;48;2;39;40;34m,\u001b[0m\u001b[48;2;39;40;34m                                      \u001b[0m  \n",
       "  \u001b[38;2;248;248;242;48;2;39;40;34m    \u001b[0m\u001b[38;2;248;248;242;48;2;39;40;34m{\u001b[0m\u001b[38;2;230;219;116;48;2;39;40;34m\"\u001b[0m\u001b[38;2;230;219;116;48;2;39;40;34mname\u001b[0m\u001b[38;2;230;219;116;48;2;39;40;34m\"\u001b[0m\u001b[38;2;248;248;242;48;2;39;40;34m:\u001b[0m\u001b[38;2;248;248;242;48;2;39;40;34m \u001b[0m\u001b[38;2;230;219;116;48;2;39;40;34m\"\u001b[0m\u001b[38;2;230;219;116;48;2;39;40;34mLeadenhall Market, London\u001b[0m\u001b[38;2;230;219;116;48;2;39;40;34m\"\u001b[0m\u001b[38;2;248;248;242;48;2;39;40;34m,\u001b[0m\u001b[38;2;248;248;242;48;2;39;40;34m \u001b[0m\u001b[38;2;230;219;116;48;2;39;40;34m\"\u001b[0m\u001b[38;2;230;219;116;48;2;39;40;34mcoords\u001b[0m\u001b[38;2;230;219;116;48;2;39;40;34m\"\u001b[0m\u001b[38;2;248;248;242;48;2;39;40;34m:\u001b[0m\u001b[38;2;248;248;242;48;2;39;40;34m \u001b[0m\u001b[38;2;248;248;242;48;2;39;40;34m(\u001b[0m\u001b[38;2;174;129;255;48;2;39;40;34m51.515\u001b[0m\u001b[38;2;248;248;242;48;2;39;40;34m,\u001b[0m\u001b[38;2;248;248;242;48;2;39;40;34m \u001b[0m\u001b[38;2;255;70;137;48;2;39;40;34m-\u001b[0m\u001b[38;2;174;129;255;48;2;39;40;34m0.083\u001b[0m\u001b[38;2;248;248;242;48;2;39;40;34m)\u001b[0m\u001b[38;2;248;248;242;48;2;39;40;34m}\u001b[0m\u001b[38;2;248;248;242;48;2;39;40;34m,\u001b[0m\u001b[48;2;39;40;34m                                         \u001b[0m  \n",
       "  \u001b[38;2;248;248;242;48;2;39;40;34m    \u001b[0m\u001b[38;2;248;248;242;48;2;39;40;34m{\u001b[0m\u001b[38;2;230;219;116;48;2;39;40;34m\"\u001b[0m\u001b[38;2;230;219;116;48;2;39;40;34mname\u001b[0m\u001b[38;2;230;219;116;48;2;39;40;34m\"\u001b[0m\u001b[38;2;248;248;242;48;2;39;40;34m:\u001b[0m\u001b[38;2;248;248;242;48;2;39;40;34m \u001b[0m\u001b[38;2;230;219;116;48;2;39;40;34m\"\u001b[0m\u001b[38;2;230;219;116;48;2;39;40;34mAlnwick Castle, Northumberland\u001b[0m\u001b[38;2;230;219;116;48;2;39;40;34m\"\u001b[0m\u001b[38;2;248;248;242;48;2;39;40;34m,\u001b[0m\u001b[38;2;248;248;242;48;2;39;40;34m \u001b[0m\u001b[38;2;230;219;116;48;2;39;40;34m\"\u001b[0m\u001b[38;2;230;219;116;48;2;39;40;34mcoords\u001b[0m\u001b[38;2;230;219;116;48;2;39;40;34m\"\u001b[0m\u001b[38;2;248;248;242;48;2;39;40;34m:\u001b[0m\u001b[38;2;248;248;242;48;2;39;40;34m \u001b[0m\u001b[38;2;248;248;242;48;2;39;40;34m(\u001b[0m\u001b[38;2;174;129;255;48;2;39;40;34m55.327\u001b[0m\u001b[38;2;248;248;242;48;2;39;40;34m,\u001b[0m\u001b[38;2;248;248;242;48;2;39;40;34m \u001b[0m\u001b[38;2;255;70;137;48;2;39;40;34m-\u001b[0m\u001b[38;2;174;129;255;48;2;39;40;34m1.745\u001b[0m\u001b[38;2;248;248;242;48;2;39;40;34m)\u001b[0m\u001b[38;2;248;248;242;48;2;39;40;34m}\u001b[0m\u001b[38;2;248;248;242;48;2;39;40;34m,\u001b[0m\u001b[48;2;39;40;34m                                    \u001b[0m  \n",
       "  \u001b[38;2;248;248;242;48;2;39;40;34m    \u001b[0m\u001b[38;2;248;248;242;48;2;39;40;34m{\u001b[0m\u001b[38;2;230;219;116;48;2;39;40;34m\"\u001b[0m\u001b[38;2;230;219;116;48;2;39;40;34mname\u001b[0m\u001b[38;2;230;219;116;48;2;39;40;34m\"\u001b[0m\u001b[38;2;248;248;242;48;2;39;40;34m:\u001b[0m\u001b[38;2;248;248;242;48;2;39;40;34m \u001b[0m\u001b[38;2;230;219;116;48;2;39;40;34m\"\u001b[0m\u001b[38;2;230;219;116;48;2;39;40;34mLacock Abbey, Wiltshire\u001b[0m\u001b[38;2;230;219;116;48;2;39;40;34m\"\u001b[0m\u001b[38;2;248;248;242;48;2;39;40;34m,\u001b[0m\u001b[38;2;248;248;242;48;2;39;40;34m \u001b[0m\u001b[38;2;230;219;116;48;2;39;40;34m\"\u001b[0m\u001b[38;2;230;219;116;48;2;39;40;34mcoords\u001b[0m\u001b[38;2;230;219;116;48;2;39;40;34m\"\u001b[0m\u001b[38;2;248;248;242;48;2;39;40;34m:\u001b[0m\u001b[38;2;248;248;242;48;2;39;40;34m \u001b[0m\u001b[38;2;248;248;242;48;2;39;40;34m(\u001b[0m\u001b[38;2;174;129;255;48;2;39;40;34m51.428\u001b[0m\u001b[38;2;248;248;242;48;2;39;40;34m,\u001b[0m\u001b[38;2;248;248;242;48;2;39;40;34m \u001b[0m\u001b[38;2;255;70;137;48;2;39;40;34m-\u001b[0m\u001b[38;2;174;129;255;48;2;39;40;34m2.111\u001b[0m\u001b[38;2;248;248;242;48;2;39;40;34m)\u001b[0m\u001b[38;2;248;248;242;48;2;39;40;34m}\u001b[0m\u001b[38;2;248;248;242;48;2;39;40;34m,\u001b[0m\u001b[48;2;39;40;34m                                           \u001b[0m  \n",
       "  \u001b[38;2;248;248;242;48;2;39;40;34m    \u001b[0m\u001b[38;2;248;248;242;48;2;39;40;34m{\u001b[0m\u001b[38;2;230;219;116;48;2;39;40;34m\"\u001b[0m\u001b[38;2;230;219;116;48;2;39;40;34mname\u001b[0m\u001b[38;2;230;219;116;48;2;39;40;34m\"\u001b[0m\u001b[38;2;248;248;242;48;2;39;40;34m:\u001b[0m\u001b[38;2;248;248;242;48;2;39;40;34m \u001b[0m\u001b[38;2;230;219;116;48;2;39;40;34m\"\u001b[0m\u001b[38;2;230;219;116;48;2;39;40;34mDurham Cathedral, Durham\u001b[0m\u001b[38;2;230;219;116;48;2;39;40;34m\"\u001b[0m\u001b[38;2;248;248;242;48;2;39;40;34m,\u001b[0m\u001b[38;2;248;248;242;48;2;39;40;34m \u001b[0m\u001b[38;2;230;219;116;48;2;39;40;34m\"\u001b[0m\u001b[38;2;230;219;116;48;2;39;40;34mcoords\u001b[0m\u001b[38;2;230;219;116;48;2;39;40;34m\"\u001b[0m\u001b[38;2;248;248;242;48;2;39;40;34m:\u001b[0m\u001b[38;2;248;248;242;48;2;39;40;34m \u001b[0m\u001b[38;2;248;248;242;48;2;39;40;34m(\u001b[0m\u001b[38;2;174;129;255;48;2;39;40;34m54.772\u001b[0m\u001b[38;2;248;248;242;48;2;39;40;34m,\u001b[0m\u001b[38;2;248;248;242;48;2;39;40;34m \u001b[0m\u001b[38;2;255;70;137;48;2;39;40;34m-\u001b[0m\u001b[38;2;174;129;255;48;2;39;40;34m1.580\u001b[0m\u001b[38;2;248;248;242;48;2;39;40;34m)\u001b[0m\u001b[38;2;248;248;242;48;2;39;40;34m}\u001b[0m\u001b[38;2;248;248;242;48;2;39;40;34m,\u001b[0m\u001b[48;2;39;40;34m                                          \u001b[0m  \n",
       "  \u001b[38;2;248;248;242;48;2;39;40;34m    \u001b[0m\u001b[38;2;248;248;242;48;2;39;40;34m{\u001b[0m\u001b[38;2;230;219;116;48;2;39;40;34m\"\u001b[0m\u001b[38;2;230;219;116;48;2;39;40;34mname\u001b[0m\u001b[38;2;230;219;116;48;2;39;40;34m\"\u001b[0m\u001b[38;2;248;248;242;48;2;39;40;34m:\u001b[0m\u001b[38;2;248;248;242;48;2;39;40;34m \u001b[0m\u001b[38;2;230;219;116;48;2;39;40;34m\"\u001b[0m\u001b[38;2;230;219;116;48;2;39;40;34mFreshwater West, Pembrokeshire\u001b[0m\u001b[38;2;230;219;116;48;2;39;40;34m\"\u001b[0m\u001b[38;2;248;248;242;48;2;39;40;34m,\u001b[0m\u001b[38;2;248;248;242;48;2;39;40;34m \u001b[0m\u001b[38;2;230;219;116;48;2;39;40;34m\"\u001b[0m\u001b[38;2;230;219;116;48;2;39;40;34mcoords\u001b[0m\u001b[38;2;230;219;116;48;2;39;40;34m\"\u001b[0m\u001b[38;2;248;248;242;48;2;39;40;34m:\u001b[0m\u001b[38;2;248;248;242;48;2;39;40;34m \u001b[0m\u001b[38;2;248;248;242;48;2;39;40;34m(\u001b[0m\u001b[38;2;174;129;255;48;2;39;40;34m51.721\u001b[0m\u001b[38;2;248;248;242;48;2;39;40;34m,\u001b[0m\u001b[38;2;248;248;242;48;2;39;40;34m \u001b[0m\u001b[38;2;255;70;137;48;2;39;40;34m-\u001b[0m\u001b[38;2;174;129;255;48;2;39;40;34m4.955\u001b[0m\u001b[38;2;248;248;242;48;2;39;40;34m)\u001b[0m\u001b[38;2;248;248;242;48;2;39;40;34m}\u001b[0m\u001b[38;2;248;248;242;48;2;39;40;34m,\u001b[0m\u001b[48;2;39;40;34m                                    \u001b[0m  \n",
       "  \u001b[38;2;248;248;242;48;2;39;40;34m    \u001b[0m\u001b[38;2;248;248;242;48;2;39;40;34m{\u001b[0m\u001b[38;2;230;219;116;48;2;39;40;34m\"\u001b[0m\u001b[38;2;230;219;116;48;2;39;40;34mname\u001b[0m\u001b[38;2;230;219;116;48;2;39;40;34m\"\u001b[0m\u001b[38;2;248;248;242;48;2;39;40;34m:\u001b[0m\u001b[38;2;248;248;242;48;2;39;40;34m \u001b[0m\u001b[38;2;230;219;116;48;2;39;40;34m\"\u001b[0m\u001b[38;2;230;219;116;48;2;39;40;34mGlenfinnan Viaduct, Scottish Highlands\u001b[0m\u001b[38;2;230;219;116;48;2;39;40;34m\"\u001b[0m\u001b[38;2;248;248;242;48;2;39;40;34m,\u001b[0m\u001b[38;2;248;248;242;48;2;39;40;34m \u001b[0m\u001b[38;2;230;219;116;48;2;39;40;34m\"\u001b[0m\u001b[38;2;230;219;116;48;2;39;40;34mcoords\u001b[0m\u001b[38;2;230;219;116;48;2;39;40;34m\"\u001b[0m\u001b[38;2;248;248;242;48;2;39;40;34m:\u001b[0m\u001b[38;2;248;248;242;48;2;39;40;34m \u001b[0m\u001b[38;2;248;248;242;48;2;39;40;34m(\u001b[0m\u001b[38;2;174;129;255;48;2;39;40;34m56.932\u001b[0m\u001b[38;2;248;248;242;48;2;39;40;34m,\u001b[0m\u001b[38;2;248;248;242;48;2;39;40;34m \u001b[0m\u001b[38;2;255;70;137;48;2;39;40;34m-\u001b[0m\u001b[38;2;174;129;255;48;2;39;40;34m5.558\u001b[0m\u001b[38;2;248;248;242;48;2;39;40;34m)\u001b[0m\u001b[38;2;248;248;242;48;2;39;40;34m}\u001b[0m\u001b[38;2;248;248;242;48;2;39;40;34m,\u001b[0m\u001b[48;2;39;40;34m                            \u001b[0m  \n",
       "  \u001b[38;2;248;248;242;48;2;39;40;34m    \u001b[0m\u001b[38;2;248;248;242;48;2;39;40;34m{\u001b[0m\u001b[38;2;230;219;116;48;2;39;40;34m\"\u001b[0m\u001b[38;2;230;219;116;48;2;39;40;34mname\u001b[0m\u001b[38;2;230;219;116;48;2;39;40;34m\"\u001b[0m\u001b[38;2;248;248;242;48;2;39;40;34m:\u001b[0m\u001b[38;2;248;248;242;48;2;39;40;34m \u001b[0m\u001b[38;2;230;219;116;48;2;39;40;34m\"\u001b[0m\u001b[38;2;230;219;116;48;2;39;40;34mCounty Wicklow, Ireland\u001b[0m\u001b[38;2;230;219;116;48;2;39;40;34m\"\u001b[0m\u001b[38;2;248;248;242;48;2;39;40;34m,\u001b[0m\u001b[38;2;248;248;242;48;2;39;40;34m \u001b[0m\u001b[38;2;230;219;116;48;2;39;40;34m\"\u001b[0m\u001b[38;2;230;219;116;48;2;39;40;34mcoords\u001b[0m\u001b[38;2;230;219;116;48;2;39;40;34m\"\u001b[0m\u001b[38;2;248;248;242;48;2;39;40;34m:\u001b[0m\u001b[38;2;248;248;242;48;2;39;40;34m \u001b[0m\u001b[38;2;248;248;242;48;2;39;40;34m(\u001b[0m\u001b[38;2;174;129;255;48;2;39;40;34m52.986\u001b[0m\u001b[38;2;248;248;242;48;2;39;40;34m,\u001b[0m\u001b[38;2;248;248;242;48;2;39;40;34m \u001b[0m\u001b[38;2;255;70;137;48;2;39;40;34m-\u001b[0m\u001b[38;2;174;129;255;48;2;39;40;34m6.536\u001b[0m\u001b[38;2;248;248;242;48;2;39;40;34m)\u001b[0m\u001b[38;2;248;248;242;48;2;39;40;34m}\u001b[0m\u001b[48;2;39;40;34m                                            \u001b[0m  \n",
       "  \u001b[38;2;248;248;242;48;2;39;40;34m]\u001b[0m\u001b[48;2;39;40;34m                                                                                                              \u001b[0m  \n",
       "  \u001b[48;2;39;40;34m                                                                                                               \u001b[0m  \n",
       "  \u001b[38;2;248;248;242;48;2;39;40;34mprint\u001b[0m\u001b[38;2;248;248;242;48;2;39;40;34m(\u001b[0m\u001b[38;2;230;219;116;48;2;39;40;34mf\u001b[0m\u001b[38;2;230;219;116;48;2;39;40;34m\"\u001b[0m\u001b[38;2;230;219;116;48;2;39;40;34mAhmedabad coordinates (decimal): \u001b[0m\u001b[38;2;230;219;116;48;2;39;40;34m{\u001b[0m\u001b[38;2;248;248;242;48;2;39;40;34mahmedabad_lat\u001b[0m\u001b[38;2;230;219;116;48;2;39;40;34m}\u001b[0m\u001b[38;2;230;219;116;48;2;39;40;34m, \u001b[0m\u001b[38;2;230;219;116;48;2;39;40;34m{\u001b[0m\u001b[38;2;248;248;242;48;2;39;40;34mahmedabad_lon\u001b[0m\u001b[38;2;230;219;116;48;2;39;40;34m}\u001b[0m\u001b[38;2;230;219;116;48;2;39;40;34m\"\u001b[0m\u001b[38;2;248;248;242;48;2;39;40;34m)\u001b[0m\u001b[48;2;39;40;34m                                    \u001b[0m  \n",
       "  \u001b[38;2;248;248;242;48;2;39;40;34mprint\u001b[0m\u001b[38;2;248;248;242;48;2;39;40;34m(\u001b[0m\u001b[38;2;230;219;116;48;2;39;40;34m\"\u001b[0m\u001b[38;2;230;219;116;48;2;39;40;34mFilming locations and coordinates:\u001b[0m\u001b[38;2;230;219;116;48;2;39;40;34m\"\u001b[0m\u001b[38;2;248;248;242;48;2;39;40;34m,\u001b[0m\u001b[38;2;248;248;242;48;2;39;40;34m \u001b[0m\u001b[38;2;248;248;242;48;2;39;40;34mfilming_locations\u001b[0m\u001b[38;2;248;248;242;48;2;39;40;34m)\u001b[0m\u001b[48;2;39;40;34m                                                 \u001b[0m  \n",
       " ───────────────────────────────────────────────────────────────────────────────────────────────────────────────── \n"
      ]
     },
     "jetTransient": {
      "display_id": null
     },
     "metadata": {},
     "output_type": "display_data"
    },
    {
     "data": {
      "text/html": [
       "<pre style=\"white-space:pre;overflow-x:auto;line-height:normal;font-family:Menlo,'DejaVu Sans Mono',consolas,'Courier New',monospace\"><span style=\"font-weight: bold\">Execution logs:</span>\n",
       "Ahmedabad coordinates (decimal): 23.022499999999997, 72.57138888888889\n",
       "Filming locations and coordinates: [{'name': 'Warner Bros. Studio Tour London (Leavesden)', 'coords': (51.629, \n",
       "-0.464)}, {'name': \"King's Cross Station, London\", 'coords': (51.535, -0.128)}, {'name': 'Leadenhall Market, \n",
       "London', 'coords': (51.515, -0.083)}, {'name': 'Alnwick Castle, Northumberland', 'coords': (55.327, -1.745)}, \n",
       "{'name': 'Lacock Abbey, Wiltshire', 'coords': (51.428, -2.111)}, {'name': 'Durham Cathedral, Durham', 'coords': \n",
       "(54.772, -1.58)}, {'name': 'Freshwater West, Pembrokeshire', 'coords': (51.721, -4.955)}, {'name': 'Glenfinnan \n",
       "Viaduct, Scottish Highlands', 'coords': (56.932, -5.558)}, {'name': 'County Wicklow, Ireland', 'coords': (52.986, \n",
       "-6.536)}]\n",
       "\n",
       "Out: None\n",
       "</pre>\n"
      ],
      "text/plain": [
       "\u001b[1mExecution logs:\u001b[0m\n",
       "Ahmedabad coordinates (decimal): 23.022499999999997, 72.57138888888889\n",
       "Filming locations and coordinates: [{'name': 'Warner Bros. Studio Tour London (Leavesden)', 'coords': (51.629, \n",
       "-0.464)}, {'name': \"King's Cross Station, London\", 'coords': (51.535, -0.128)}, {'name': 'Leadenhall Market, \n",
       "London', 'coords': (51.515, -0.083)}, {'name': 'Alnwick Castle, Northumberland', 'coords': (55.327, -1.745)}, \n",
       "{'name': 'Lacock Abbey, Wiltshire', 'coords': (51.428, -2.111)}, {'name': 'Durham Cathedral, Durham', 'coords': \n",
       "(54.772, -1.58)}, {'name': 'Freshwater West, Pembrokeshire', 'coords': (51.721, -4.955)}, {'name': 'Glenfinnan \n",
       "Viaduct, Scottish Highlands', 'coords': (56.932, -5.558)}, {'name': 'County Wicklow, Ireland', 'coords': (52.986, \n",
       "-6.536)}]\n",
       "\n",
       "Out: None\n"
      ]
     },
     "jetTransient": {
      "display_id": null
     },
     "metadata": {},
     "output_type": "display_data"
    },
    {
     "data": {
      "text/html": [
       "<pre style=\"white-space:pre;overflow-x:auto;line-height:normal;font-family:Menlo,'DejaVu Sans Mono',consolas,'Courier New',monospace\"><span style=\"color: #7f7f7f; text-decoration-color: #7f7f7f\">[Step 4: Duration 4.71 seconds| Input tokens: 14,116 | Output tokens: 1,453]</span>\n",
       "</pre>\n"
      ],
      "text/plain": [
       "\u001b[2m[Step 4: Duration 4.71 seconds| Input tokens: 14,116 | Output tokens: 1,453]\u001b[0m\n"
      ]
     },
     "jetTransient": {
      "display_id": null
     },
     "metadata": {},
     "output_type": "display_data"
    },
    {
     "data": {
      "text/html": [
       "<pre style=\"white-space:pre;overflow-x:auto;line-height:normal;font-family:Menlo,'DejaVu Sans Mono',consolas,'Courier New',monospace\"><span style=\"color: #d4b702; text-decoration-color: #d4b702\">━━━━━━━━━━━━━━━━━━━━━━━━━━━━━━━━━━━━━━━━━━━━━━━━━━━━━ </span><span style=\"font-weight: bold\">Step 5</span><span style=\"color: #d4b702; text-decoration-color: #d4b702\"> ━━━━━━━━━━━━━━━━━━━━━━━━━━━━━━━━━━━━━━━━━━━━━━━━━━━━━━</span>\n",
       "</pre>\n"
      ],
      "text/plain": [
       "\u001b[38;2;212;183;2m━━━━━━━━━━━━━━━━━━━━━━━━━━━━━━━━━━━━━━━━━━━━━━━━━━━━━ \u001b[0m\u001b[1mStep 5\u001b[0m\u001b[38;2;212;183;2m ━━━━━━━━━━━━━━━━━━━━━━━━━━━━━━━━━━━━━━━━━━━━━━━━━━━━━━\u001b[0m\n"
      ]
     },
     "jetTransient": {
      "display_id": null
     },
     "metadata": {},
     "output_type": "display_data"
    },
    {
     "data": {
      "text/html": [
       "<pre style=\"white-space:pre;overflow-x:auto;line-height:normal;font-family:Menlo,'DejaVu Sans Mono',consolas,'Courier New',monospace\"> ─ <span style=\"font-weight: bold\">Executing parsed code:</span> ──────────────────────────────────────────────────────────────────────────────────────── \n",
       "  <span style=\"color: #ff4689; text-decoration-color: #ff4689; background-color: #272822\">import</span><span style=\"color: #f8f8f2; text-decoration-color: #f8f8f2; background-color: #272822\"> pandas </span><span style=\"color: #66d9ef; text-decoration-color: #66d9ef; background-color: #272822\">as</span><span style=\"color: #f8f8f2; text-decoration-color: #f8f8f2; background-color: #272822\"> pd</span><span style=\"background-color: #272822\">                                                                                            </span>  \n",
       "  <span style=\"background-color: #272822\">                                                                                                               </span>  \n",
       "  <span style=\"color: #959077; text-decoration-color: #959077; background-color: #272822\"># List to store travel times</span><span style=\"background-color: #272822\">                                                                                   </span>  \n",
       "  <span style=\"color: #f8f8f2; text-decoration-color: #f8f8f2; background-color: #272822\">travel_times </span><span style=\"color: #ff4689; text-decoration-color: #ff4689; background-color: #272822\">=</span><span style=\"color: #f8f8f2; text-decoration-color: #f8f8f2; background-color: #272822\"> []</span><span style=\"background-color: #272822\">                                                                                              </span>  \n",
       "  <span style=\"background-color: #272822\">                                                                                                               </span>  \n",
       "  <span style=\"color: #959077; text-decoration-color: #959077; background-color: #272822\"># Cruising speed in km/h</span><span style=\"background-color: #272822\">                                                                                       </span>  \n",
       "  <span style=\"color: #f8f8f2; text-decoration-color: #f8f8f2; background-color: #272822\">cruising_speed_kmh </span><span style=\"color: #ff4689; text-decoration-color: #ff4689; background-color: #272822\">=</span><span style=\"color: #f8f8f2; text-decoration-color: #f8f8f2; background-color: #272822\"> </span><span style=\"color: #ae81ff; text-decoration-color: #ae81ff; background-color: #272822\">925</span><span style=\"background-color: #272822\">                                                                                       </span>  \n",
       "  <span style=\"background-color: #272822\">                                                                                                               </span>  \n",
       "  <span style=\"color: #959077; text-decoration-color: #959077; background-color: #272822\"># Calculate travel time to each filming location</span><span style=\"background-color: #272822\">                                                               </span>  \n",
       "  <span style=\"color: #66d9ef; text-decoration-color: #66d9ef; background-color: #272822\">for</span><span style=\"color: #f8f8f2; text-decoration-color: #f8f8f2; background-color: #272822\"> loc </span><span style=\"color: #ff4689; text-decoration-color: #ff4689; background-color: #272822\">in</span><span style=\"color: #f8f8f2; text-decoration-color: #f8f8f2; background-color: #272822\"> filming_locations:</span><span style=\"background-color: #272822\">                                                                                  </span>  \n",
       "  <span style=\"color: #f8f8f2; text-decoration-color: #f8f8f2; background-color: #272822\">    origin </span><span style=\"color: #ff4689; text-decoration-color: #ff4689; background-color: #272822\">=</span><span style=\"color: #f8f8f2; text-decoration-color: #f8f8f2; background-color: #272822\"> (ahmedabad_lat, ahmedabad_lon)</span><span style=\"background-color: #272822\">                                                                    </span>  \n",
       "  <span style=\"color: #f8f8f2; text-decoration-color: #f8f8f2; background-color: #272822\">    destination </span><span style=\"color: #ff4689; text-decoration-color: #ff4689; background-color: #272822\">=</span><span style=\"color: #f8f8f2; text-decoration-color: #f8f8f2; background-color: #272822\"> loc[</span><span style=\"color: #e6db74; text-decoration-color: #e6db74; background-color: #272822\">\"coords\"</span><span style=\"color: #f8f8f2; text-decoration-color: #f8f8f2; background-color: #272822\">]</span><span style=\"background-color: #272822\">                                                                                </span>  \n",
       "  <span style=\"color: #f8f8f2; text-decoration-color: #f8f8f2; background-color: #272822\">    travel_time_hours </span><span style=\"color: #ff4689; text-decoration-color: #ff4689; background-color: #272822\">=</span><span style=\"color: #f8f8f2; text-decoration-color: #f8f8f2; background-color: #272822\"> calculate_air_travel_time(origin_coords</span><span style=\"color: #ff4689; text-decoration-color: #ff4689; background-color: #272822\">=</span><span style=\"color: #f8f8f2; text-decoration-color: #f8f8f2; background-color: #272822\">origin, destination_coords</span><span style=\"color: #ff4689; text-decoration-color: #ff4689; background-color: #272822\">=</span><span style=\"color: #f8f8f2; text-decoration-color: #f8f8f2; background-color: #272822\">destination, </span><span style=\"background-color: #272822\">       </span>  \n",
       "  <span style=\"color: #f8f8f2; text-decoration-color: #f8f8f2; background-color: #272822\">cruising_speed_kmh</span><span style=\"color: #ff4689; text-decoration-color: #ff4689; background-color: #272822\">=</span><span style=\"color: #f8f8f2; text-decoration-color: #f8f8f2; background-color: #272822\">cruising_speed_kmh)</span><span style=\"background-color: #272822\">                                                                         </span>  \n",
       "  <span style=\"color: #f8f8f2; text-decoration-color: #f8f8f2; background-color: #272822\">    travel_times</span><span style=\"color: #ff4689; text-decoration-color: #ff4689; background-color: #272822\">.</span><span style=\"color: #f8f8f2; text-decoration-color: #f8f8f2; background-color: #272822\">append({</span><span style=\"background-color: #272822\">                                                                                      </span>  \n",
       "  <span style=\"color: #f8f8f2; text-decoration-color: #f8f8f2; background-color: #272822\">        </span><span style=\"color: #e6db74; text-decoration-color: #e6db74; background-color: #272822\">\"Location\"</span><span style=\"color: #f8f8f2; text-decoration-color: #f8f8f2; background-color: #272822\">: loc[</span><span style=\"color: #e6db74; text-decoration-color: #e6db74; background-color: #272822\">\"name\"</span><span style=\"color: #f8f8f2; text-decoration-color: #f8f8f2; background-color: #272822\">],</span><span style=\"background-color: #272822\">                                                                               </span>  \n",
       "  <span style=\"color: #f8f8f2; text-decoration-color: #f8f8f2; background-color: #272822\">        </span><span style=\"color: #e6db74; text-decoration-color: #e6db74; background-color: #272822\">\"Travel Time (hours)\"</span><span style=\"color: #f8f8f2; text-decoration-color: #f8f8f2; background-color: #272822\">: round(travel_time_hours, </span><span style=\"color: #ae81ff; text-decoration-color: #ae81ff; background-color: #272822\">2</span><span style=\"color: #f8f8f2; text-decoration-color: #f8f8f2; background-color: #272822\">)</span><span style=\"background-color: #272822\">                                                     </span>  \n",
       "  <span style=\"color: #f8f8f2; text-decoration-color: #f8f8f2; background-color: #272822\">    })</span><span style=\"background-color: #272822\">                                                                                                         </span>  \n",
       "  <span style=\"background-color: #272822\">                                                                                                               </span>  \n",
       "  <span style=\"color: #959077; text-decoration-color: #959077; background-color: #272822\"># Create pandas DataFrame</span><span style=\"background-color: #272822\">                                                                                      </span>  \n",
       "  <span style=\"color: #f8f8f2; text-decoration-color: #f8f8f2; background-color: #272822\">df_travel_times </span><span style=\"color: #ff4689; text-decoration-color: #ff4689; background-color: #272822\">=</span><span style=\"color: #f8f8f2; text-decoration-color: #f8f8f2; background-color: #272822\"> pd</span><span style=\"color: #ff4689; text-decoration-color: #ff4689; background-color: #272822\">.</span><span style=\"color: #f8f8f2; text-decoration-color: #f8f8f2; background-color: #272822\">DataFrame(travel_times)</span><span style=\"background-color: #272822\">                                                                   </span>  \n",
       "  <span style=\"color: #f8f8f2; text-decoration-color: #f8f8f2; background-color: #272822\">print(df_travel_times)</span><span style=\"background-color: #272822\">                                                                                         </span>  \n",
       " ───────────────────────────────────────────────────────────────────────────────────────────────────────────────── \n",
       "</pre>\n"
      ],
      "text/plain": [
       " ─ \u001b[1mExecuting parsed code:\u001b[0m ──────────────────────────────────────────────────────────────────────────────────────── \n",
       "  \u001b[38;2;255;70;137;48;2;39;40;34mimport\u001b[0m\u001b[38;2;248;248;242;48;2;39;40;34m \u001b[0m\u001b[38;2;248;248;242;48;2;39;40;34mpandas\u001b[0m\u001b[38;2;248;248;242;48;2;39;40;34m \u001b[0m\u001b[38;2;102;217;239;48;2;39;40;34mas\u001b[0m\u001b[38;2;248;248;242;48;2;39;40;34m \u001b[0m\u001b[38;2;248;248;242;48;2;39;40;34mpd\u001b[0m\u001b[48;2;39;40;34m                                                                                            \u001b[0m  \n",
       "  \u001b[48;2;39;40;34m                                                                                                               \u001b[0m  \n",
       "  \u001b[38;2;149;144;119;48;2;39;40;34m# List to store travel times\u001b[0m\u001b[48;2;39;40;34m                                                                                   \u001b[0m  \n",
       "  \u001b[38;2;248;248;242;48;2;39;40;34mtravel_times\u001b[0m\u001b[38;2;248;248;242;48;2;39;40;34m \u001b[0m\u001b[38;2;255;70;137;48;2;39;40;34m=\u001b[0m\u001b[38;2;248;248;242;48;2;39;40;34m \u001b[0m\u001b[38;2;248;248;242;48;2;39;40;34m[\u001b[0m\u001b[38;2;248;248;242;48;2;39;40;34m]\u001b[0m\u001b[48;2;39;40;34m                                                                                              \u001b[0m  \n",
       "  \u001b[48;2;39;40;34m                                                                                                               \u001b[0m  \n",
       "  \u001b[38;2;149;144;119;48;2;39;40;34m# Cruising speed in km/h\u001b[0m\u001b[48;2;39;40;34m                                                                                       \u001b[0m  \n",
       "  \u001b[38;2;248;248;242;48;2;39;40;34mcruising_speed_kmh\u001b[0m\u001b[38;2;248;248;242;48;2;39;40;34m \u001b[0m\u001b[38;2;255;70;137;48;2;39;40;34m=\u001b[0m\u001b[38;2;248;248;242;48;2;39;40;34m \u001b[0m\u001b[38;2;174;129;255;48;2;39;40;34m925\u001b[0m\u001b[48;2;39;40;34m                                                                                       \u001b[0m  \n",
       "  \u001b[48;2;39;40;34m                                                                                                               \u001b[0m  \n",
       "  \u001b[38;2;149;144;119;48;2;39;40;34m# Calculate travel time to each filming location\u001b[0m\u001b[48;2;39;40;34m                                                               \u001b[0m  \n",
       "  \u001b[38;2;102;217;239;48;2;39;40;34mfor\u001b[0m\u001b[38;2;248;248;242;48;2;39;40;34m \u001b[0m\u001b[38;2;248;248;242;48;2;39;40;34mloc\u001b[0m\u001b[38;2;248;248;242;48;2;39;40;34m \u001b[0m\u001b[38;2;255;70;137;48;2;39;40;34min\u001b[0m\u001b[38;2;248;248;242;48;2;39;40;34m \u001b[0m\u001b[38;2;248;248;242;48;2;39;40;34mfilming_locations\u001b[0m\u001b[38;2;248;248;242;48;2;39;40;34m:\u001b[0m\u001b[48;2;39;40;34m                                                                                  \u001b[0m  \n",
       "  \u001b[38;2;248;248;242;48;2;39;40;34m    \u001b[0m\u001b[38;2;248;248;242;48;2;39;40;34morigin\u001b[0m\u001b[38;2;248;248;242;48;2;39;40;34m \u001b[0m\u001b[38;2;255;70;137;48;2;39;40;34m=\u001b[0m\u001b[38;2;248;248;242;48;2;39;40;34m \u001b[0m\u001b[38;2;248;248;242;48;2;39;40;34m(\u001b[0m\u001b[38;2;248;248;242;48;2;39;40;34mahmedabad_lat\u001b[0m\u001b[38;2;248;248;242;48;2;39;40;34m,\u001b[0m\u001b[38;2;248;248;242;48;2;39;40;34m \u001b[0m\u001b[38;2;248;248;242;48;2;39;40;34mahmedabad_lon\u001b[0m\u001b[38;2;248;248;242;48;2;39;40;34m)\u001b[0m\u001b[48;2;39;40;34m                                                                    \u001b[0m  \n",
       "  \u001b[38;2;248;248;242;48;2;39;40;34m    \u001b[0m\u001b[38;2;248;248;242;48;2;39;40;34mdestination\u001b[0m\u001b[38;2;248;248;242;48;2;39;40;34m \u001b[0m\u001b[38;2;255;70;137;48;2;39;40;34m=\u001b[0m\u001b[38;2;248;248;242;48;2;39;40;34m \u001b[0m\u001b[38;2;248;248;242;48;2;39;40;34mloc\u001b[0m\u001b[38;2;248;248;242;48;2;39;40;34m[\u001b[0m\u001b[38;2;230;219;116;48;2;39;40;34m\"\u001b[0m\u001b[38;2;230;219;116;48;2;39;40;34mcoords\u001b[0m\u001b[38;2;230;219;116;48;2;39;40;34m\"\u001b[0m\u001b[38;2;248;248;242;48;2;39;40;34m]\u001b[0m\u001b[48;2;39;40;34m                                                                                \u001b[0m  \n",
       "  \u001b[38;2;248;248;242;48;2;39;40;34m    \u001b[0m\u001b[38;2;248;248;242;48;2;39;40;34mtravel_time_hours\u001b[0m\u001b[38;2;248;248;242;48;2;39;40;34m \u001b[0m\u001b[38;2;255;70;137;48;2;39;40;34m=\u001b[0m\u001b[38;2;248;248;242;48;2;39;40;34m \u001b[0m\u001b[38;2;248;248;242;48;2;39;40;34mcalculate_air_travel_time\u001b[0m\u001b[38;2;248;248;242;48;2;39;40;34m(\u001b[0m\u001b[38;2;248;248;242;48;2;39;40;34morigin_coords\u001b[0m\u001b[38;2;255;70;137;48;2;39;40;34m=\u001b[0m\u001b[38;2;248;248;242;48;2;39;40;34morigin\u001b[0m\u001b[38;2;248;248;242;48;2;39;40;34m,\u001b[0m\u001b[38;2;248;248;242;48;2;39;40;34m \u001b[0m\u001b[38;2;248;248;242;48;2;39;40;34mdestination_coords\u001b[0m\u001b[38;2;255;70;137;48;2;39;40;34m=\u001b[0m\u001b[38;2;248;248;242;48;2;39;40;34mdestination\u001b[0m\u001b[38;2;248;248;242;48;2;39;40;34m,\u001b[0m\u001b[38;2;248;248;242;48;2;39;40;34m \u001b[0m\u001b[48;2;39;40;34m       \u001b[0m  \n",
       "  \u001b[38;2;248;248;242;48;2;39;40;34mcruising_speed_kmh\u001b[0m\u001b[38;2;255;70;137;48;2;39;40;34m=\u001b[0m\u001b[38;2;248;248;242;48;2;39;40;34mcruising_speed_kmh\u001b[0m\u001b[38;2;248;248;242;48;2;39;40;34m)\u001b[0m\u001b[48;2;39;40;34m                                                                         \u001b[0m  \n",
       "  \u001b[38;2;248;248;242;48;2;39;40;34m    \u001b[0m\u001b[38;2;248;248;242;48;2;39;40;34mtravel_times\u001b[0m\u001b[38;2;255;70;137;48;2;39;40;34m.\u001b[0m\u001b[38;2;248;248;242;48;2;39;40;34mappend\u001b[0m\u001b[38;2;248;248;242;48;2;39;40;34m(\u001b[0m\u001b[38;2;248;248;242;48;2;39;40;34m{\u001b[0m\u001b[48;2;39;40;34m                                                                                      \u001b[0m  \n",
       "  \u001b[38;2;248;248;242;48;2;39;40;34m        \u001b[0m\u001b[38;2;230;219;116;48;2;39;40;34m\"\u001b[0m\u001b[38;2;230;219;116;48;2;39;40;34mLocation\u001b[0m\u001b[38;2;230;219;116;48;2;39;40;34m\"\u001b[0m\u001b[38;2;248;248;242;48;2;39;40;34m:\u001b[0m\u001b[38;2;248;248;242;48;2;39;40;34m \u001b[0m\u001b[38;2;248;248;242;48;2;39;40;34mloc\u001b[0m\u001b[38;2;248;248;242;48;2;39;40;34m[\u001b[0m\u001b[38;2;230;219;116;48;2;39;40;34m\"\u001b[0m\u001b[38;2;230;219;116;48;2;39;40;34mname\u001b[0m\u001b[38;2;230;219;116;48;2;39;40;34m\"\u001b[0m\u001b[38;2;248;248;242;48;2;39;40;34m]\u001b[0m\u001b[38;2;248;248;242;48;2;39;40;34m,\u001b[0m\u001b[48;2;39;40;34m                                                                               \u001b[0m  \n",
       "  \u001b[38;2;248;248;242;48;2;39;40;34m        \u001b[0m\u001b[38;2;230;219;116;48;2;39;40;34m\"\u001b[0m\u001b[38;2;230;219;116;48;2;39;40;34mTravel Time (hours)\u001b[0m\u001b[38;2;230;219;116;48;2;39;40;34m\"\u001b[0m\u001b[38;2;248;248;242;48;2;39;40;34m:\u001b[0m\u001b[38;2;248;248;242;48;2;39;40;34m \u001b[0m\u001b[38;2;248;248;242;48;2;39;40;34mround\u001b[0m\u001b[38;2;248;248;242;48;2;39;40;34m(\u001b[0m\u001b[38;2;248;248;242;48;2;39;40;34mtravel_time_hours\u001b[0m\u001b[38;2;248;248;242;48;2;39;40;34m,\u001b[0m\u001b[38;2;248;248;242;48;2;39;40;34m \u001b[0m\u001b[38;2;174;129;255;48;2;39;40;34m2\u001b[0m\u001b[38;2;248;248;242;48;2;39;40;34m)\u001b[0m\u001b[48;2;39;40;34m                                                     \u001b[0m  \n",
       "  \u001b[38;2;248;248;242;48;2;39;40;34m    \u001b[0m\u001b[38;2;248;248;242;48;2;39;40;34m}\u001b[0m\u001b[38;2;248;248;242;48;2;39;40;34m)\u001b[0m\u001b[48;2;39;40;34m                                                                                                         \u001b[0m  \n",
       "  \u001b[48;2;39;40;34m                                                                                                               \u001b[0m  \n",
       "  \u001b[38;2;149;144;119;48;2;39;40;34m# Create pandas DataFrame\u001b[0m\u001b[48;2;39;40;34m                                                                                      \u001b[0m  \n",
       "  \u001b[38;2;248;248;242;48;2;39;40;34mdf_travel_times\u001b[0m\u001b[38;2;248;248;242;48;2;39;40;34m \u001b[0m\u001b[38;2;255;70;137;48;2;39;40;34m=\u001b[0m\u001b[38;2;248;248;242;48;2;39;40;34m \u001b[0m\u001b[38;2;248;248;242;48;2;39;40;34mpd\u001b[0m\u001b[38;2;255;70;137;48;2;39;40;34m.\u001b[0m\u001b[38;2;248;248;242;48;2;39;40;34mDataFrame\u001b[0m\u001b[38;2;248;248;242;48;2;39;40;34m(\u001b[0m\u001b[38;2;248;248;242;48;2;39;40;34mtravel_times\u001b[0m\u001b[38;2;248;248;242;48;2;39;40;34m)\u001b[0m\u001b[48;2;39;40;34m                                                                   \u001b[0m  \n",
       "  \u001b[38;2;248;248;242;48;2;39;40;34mprint\u001b[0m\u001b[38;2;248;248;242;48;2;39;40;34m(\u001b[0m\u001b[38;2;248;248;242;48;2;39;40;34mdf_travel_times\u001b[0m\u001b[38;2;248;248;242;48;2;39;40;34m)\u001b[0m\u001b[48;2;39;40;34m                                                                                         \u001b[0m  \n",
       " ───────────────────────────────────────────────────────────────────────────────────────────────────────────────── \n"
      ]
     },
     "jetTransient": {
      "display_id": null
     },
     "metadata": {},
     "output_type": "display_data"
    },
    {
     "data": {
      "text/html": [
       "<pre style=\"white-space:pre;overflow-x:auto;line-height:normal;font-family:Menlo,'DejaVu Sans Mono',consolas,'Courier New',monospace\"><span style=\"font-weight: bold\">Execution logs:</span>\n",
       "                                      Location  Travel Time (hours)\n",
       "0  Warner Bros. Studio Tour London (Leavesden)                 8.79\n",
       "1                 King's Cross Station, London                 8.77\n",
       "2                    Leadenhall Market, London                 8.76\n",
       "3               Alnwick Castle, Northumberland                 8.88\n",
       "4                      Lacock Abbey, Wiltshire                 8.92\n",
       "5                     Durham Cathedral, Durham                 8.87\n",
       "6               Freshwater West, Pembrokeshire                 9.14\n",
       "7       Glenfinnan Viaduct, Scottish Highlands                 9.14\n",
       "8                      County Wicklow, Ireland                 9.25\n",
       "\n",
       "Out: None\n",
       "</pre>\n"
      ],
      "text/plain": [
       "\u001b[1mExecution logs:\u001b[0m\n",
       "                                      Location  Travel Time (hours)\n",
       "0  Warner Bros. Studio Tour London (Leavesden)                 8.79\n",
       "1                 King's Cross Station, London                 8.77\n",
       "2                    Leadenhall Market, London                 8.76\n",
       "3               Alnwick Castle, Northumberland                 8.88\n",
       "4                      Lacock Abbey, Wiltshire                 8.92\n",
       "5                     Durham Cathedral, Durham                 8.87\n",
       "6               Freshwater West, Pembrokeshire                 9.14\n",
       "7       Glenfinnan Viaduct, Scottish Highlands                 9.14\n",
       "8                      County Wicklow, Ireland                 9.25\n",
       "\n",
       "Out: None\n"
      ]
     },
     "jetTransient": {
      "display_id": null
     },
     "metadata": {},
     "output_type": "display_data"
    },
    {
     "data": {
      "text/html": [
       "<pre style=\"white-space:pre;overflow-x:auto;line-height:normal;font-family:Menlo,'DejaVu Sans Mono',consolas,'Courier New',monospace\"><span style=\"color: #7f7f7f; text-decoration-color: #7f7f7f\">[Step 5: Duration 2.15 seconds| Input tokens: 20,478 | Output tokens: 1,692]</span>\n",
       "</pre>\n"
      ],
      "text/plain": [
       "\u001b[2m[Step 5: Duration 2.15 seconds| Input tokens: 20,478 | Output tokens: 1,692]\u001b[0m\n"
      ]
     },
     "jetTransient": {
      "display_id": null
     },
     "metadata": {},
     "output_type": "display_data"
    },
    {
     "data": {
      "text/html": [
       "<pre style=\"white-space:pre;overflow-x:auto;line-height:normal;font-family:Menlo,'DejaVu Sans Mono',consolas,'Courier New',monospace\"><span style=\"color: #d4b702; text-decoration-color: #d4b702\">━━━━━━━━━━━━━━━━━━━━━━━━━━━━━━━━━━━━━━━━━━━━━━━━━━━━━ </span><span style=\"font-weight: bold\">Step 6</span><span style=\"color: #d4b702; text-decoration-color: #d4b702\"> ━━━━━━━━━━━━━━━━━━━━━━━━━━━━━━━━━━━━━━━━━━━━━━━━━━━━━━</span>\n",
       "</pre>\n"
      ],
      "text/plain": [
       "\u001b[38;2;212;183;2m━━━━━━━━━━━━━━━━━━━━━━━━━━━━━━━━━━━━━━━━━━━━━━━━━━━━━ \u001b[0m\u001b[1mStep 6\u001b[0m\u001b[38;2;212;183;2m ━━━━━━━━━━━━━━━━━━━━━━━━━━━━━━━━━━━━━━━━━━━━━━━━━━━━━━\u001b[0m\n"
      ]
     },
     "jetTransient": {
      "display_id": null
     },
     "metadata": {},
     "output_type": "display_data"
    },
    {
     "data": {
      "text/html": [
       "<pre style=\"white-space:pre;overflow-x:auto;line-height:normal;font-family:Menlo,'DejaVu Sans Mono',consolas,'Courier New',monospace\"> ─ <span style=\"font-weight: bold\">Executing parsed code:</span> ──────────────────────────────────────────────────────────────────────────────────────── \n",
       "  <span style=\"color: #f8f8f2; text-decoration-color: #f8f8f2; background-color: #272822\">cricket_grounds </span><span style=\"color: #ff4689; text-decoration-color: #ff4689; background-color: #272822\">=</span><span style=\"color: #f8f8f2; text-decoration-color: #f8f8f2; background-color: #272822\"> []</span><span style=\"background-color: #272822\">                                                                                           </span>  \n",
       "  <span style=\"background-color: #272822\">                                                                                                               </span>  \n",
       "  <span style=\"color: #959077; text-decoration-color: #959077; background-color: #272822\"># List of key filming locations to check for nearby cricket grounds</span><span style=\"background-color: #272822\">                                            </span>  \n",
       "  <span style=\"color: #f8f8f2; text-decoration-color: #f8f8f2; background-color: #272822\">key_locations </span><span style=\"color: #ff4689; text-decoration-color: #ff4689; background-color: #272822\">=</span><span style=\"color: #f8f8f2; text-decoration-color: #f8f8f2; background-color: #272822\"> [</span><span style=\"background-color: #272822\">                                                                                              </span>  \n",
       "  <span style=\"color: #f8f8f2; text-decoration-color: #f8f8f2; background-color: #272822\">    </span><span style=\"color: #e6db74; text-decoration-color: #e6db74; background-color: #272822\">\"London\"</span><span style=\"color: #f8f8f2; text-decoration-color: #f8f8f2; background-color: #272822\">, </span><span style=\"background-color: #272822\">                                                                                                 </span>  \n",
       "  <span style=\"color: #f8f8f2; text-decoration-color: #f8f8f2; background-color: #272822\">    </span><span style=\"color: #e6db74; text-decoration-color: #e6db74; background-color: #272822\">\"Alnwick Castle\"</span><span style=\"color: #f8f8f2; text-decoration-color: #f8f8f2; background-color: #272822\">, </span><span style=\"background-color: #272822\">                                                                                         </span>  \n",
       "  <span style=\"color: #f8f8f2; text-decoration-color: #f8f8f2; background-color: #272822\">    </span><span style=\"color: #e6db74; text-decoration-color: #e6db74; background-color: #272822\">\"Lacock Abbey\"</span><span style=\"color: #f8f8f2; text-decoration-color: #f8f8f2; background-color: #272822\">, </span><span style=\"background-color: #272822\">                                                                                           </span>  \n",
       "  <span style=\"color: #f8f8f2; text-decoration-color: #f8f8f2; background-color: #272822\">    </span><span style=\"color: #e6db74; text-decoration-color: #e6db74; background-color: #272822\">\"Durham Cathedral\"</span><span style=\"color: #f8f8f2; text-decoration-color: #f8f8f2; background-color: #272822\">, </span><span style=\"background-color: #272822\">                                                                                       </span>  \n",
       "  <span style=\"color: #f8f8f2; text-decoration-color: #f8f8f2; background-color: #272822\">    </span><span style=\"color: #e6db74; text-decoration-color: #e6db74; background-color: #272822\">\"County Wicklow\"</span><span style=\"background-color: #272822\">                                                                                           </span>  \n",
       "  <span style=\"color: #f8f8f2; text-decoration-color: #f8f8f2; background-color: #272822\">]</span><span style=\"background-color: #272822\">                                                                                                              </span>  \n",
       "  <span style=\"background-color: #272822\">                                                                                                               </span>  \n",
       "  <span style=\"color: #66d9ef; text-decoration-color: #66d9ef; background-color: #272822\">for</span><span style=\"color: #f8f8f2; text-decoration-color: #f8f8f2; background-color: #272822\"> loc </span><span style=\"color: #ff4689; text-decoration-color: #ff4689; background-color: #272822\">in</span><span style=\"color: #f8f8f2; text-decoration-color: #f8f8f2; background-color: #272822\"> key_locations:</span><span style=\"background-color: #272822\">                                                                                      </span>  \n",
       "  <span style=\"color: #f8f8f2; text-decoration-color: #f8f8f2; background-color: #272822\">    query </span><span style=\"color: #ff4689; text-decoration-color: #ff4689; background-color: #272822\">=</span><span style=\"color: #f8f8f2; text-decoration-color: #f8f8f2; background-color: #272822\"> </span><span style=\"color: #e6db74; text-decoration-color: #e6db74; background-color: #272822\">f\"famous cricket grounds near {</span><span style=\"color: #f8f8f2; text-decoration-color: #f8f8f2; background-color: #272822\">loc</span><span style=\"color: #e6db74; text-decoration-color: #e6db74; background-color: #272822\">}\"</span><span style=\"background-color: #272822\">                                                               </span>  \n",
       "  <span style=\"color: #f8f8f2; text-decoration-color: #f8f8f2; background-color: #272822\">    search_result </span><span style=\"color: #ff4689; text-decoration-color: #ff4689; background-color: #272822\">=</span><span style=\"color: #f8f8f2; text-decoration-color: #f8f8f2; background-color: #272822\"> web_search(query</span><span style=\"color: #ff4689; text-decoration-color: #ff4689; background-color: #272822\">=</span><span style=\"color: #f8f8f2; text-decoration-color: #f8f8f2; background-color: #272822\">query, filter_year</span><span style=\"color: #ff4689; text-decoration-color: #ff4689; background-color: #272822\">=</span><span style=\"color: #ae81ff; text-decoration-color: #ae81ff; background-color: #272822\">2024</span><span style=\"color: #f8f8f2; text-decoration-color: #f8f8f2; background-color: #272822\">)</span><span style=\"background-color: #272822\">                                                  </span>  \n",
       "  <span style=\"color: #f8f8f2; text-decoration-color: #f8f8f2; background-color: #272822\">    cricket_grounds</span><span style=\"color: #ff4689; text-decoration-color: #ff4689; background-color: #272822\">.</span><span style=\"color: #f8f8f2; text-decoration-color: #f8f8f2; background-color: #272822\">append({</span><span style=\"color: #e6db74; text-decoration-color: #e6db74; background-color: #272822\">\"Location\"</span><span style=\"color: #f8f8f2; text-decoration-color: #f8f8f2; background-color: #272822\">: loc, </span><span style=\"color: #e6db74; text-decoration-color: #e6db74; background-color: #272822\">\"Nearby Cricket Grounds\"</span><span style=\"color: #f8f8f2; text-decoration-color: #f8f8f2; background-color: #272822\">: search_result})</span><span style=\"background-color: #272822\">                         </span>  \n",
       "  <span style=\"background-color: #272822\">                                                                                                               </span>  \n",
       "  <span style=\"color: #f8f8f2; text-decoration-color: #f8f8f2; background-color: #272822\">print(cricket_grounds)</span><span style=\"background-color: #272822\">                                                                                         </span>  \n",
       " ───────────────────────────────────────────────────────────────────────────────────────────────────────────────── \n",
       "</pre>\n"
      ],
      "text/plain": [
       " ─ \u001b[1mExecuting parsed code:\u001b[0m ──────────────────────────────────────────────────────────────────────────────────────── \n",
       "  \u001b[38;2;248;248;242;48;2;39;40;34mcricket_grounds\u001b[0m\u001b[38;2;248;248;242;48;2;39;40;34m \u001b[0m\u001b[38;2;255;70;137;48;2;39;40;34m=\u001b[0m\u001b[38;2;248;248;242;48;2;39;40;34m \u001b[0m\u001b[38;2;248;248;242;48;2;39;40;34m[\u001b[0m\u001b[38;2;248;248;242;48;2;39;40;34m]\u001b[0m\u001b[48;2;39;40;34m                                                                                           \u001b[0m  \n",
       "  \u001b[48;2;39;40;34m                                                                                                               \u001b[0m  \n",
       "  \u001b[38;2;149;144;119;48;2;39;40;34m# List of key filming locations to check for nearby cricket grounds\u001b[0m\u001b[48;2;39;40;34m                                            \u001b[0m  \n",
       "  \u001b[38;2;248;248;242;48;2;39;40;34mkey_locations\u001b[0m\u001b[38;2;248;248;242;48;2;39;40;34m \u001b[0m\u001b[38;2;255;70;137;48;2;39;40;34m=\u001b[0m\u001b[38;2;248;248;242;48;2;39;40;34m \u001b[0m\u001b[38;2;248;248;242;48;2;39;40;34m[\u001b[0m\u001b[48;2;39;40;34m                                                                                              \u001b[0m  \n",
       "  \u001b[38;2;248;248;242;48;2;39;40;34m    \u001b[0m\u001b[38;2;230;219;116;48;2;39;40;34m\"\u001b[0m\u001b[38;2;230;219;116;48;2;39;40;34mLondon\u001b[0m\u001b[38;2;230;219;116;48;2;39;40;34m\"\u001b[0m\u001b[38;2;248;248;242;48;2;39;40;34m,\u001b[0m\u001b[38;2;248;248;242;48;2;39;40;34m \u001b[0m\u001b[48;2;39;40;34m                                                                                                 \u001b[0m  \n",
       "  \u001b[38;2;248;248;242;48;2;39;40;34m    \u001b[0m\u001b[38;2;230;219;116;48;2;39;40;34m\"\u001b[0m\u001b[38;2;230;219;116;48;2;39;40;34mAlnwick Castle\u001b[0m\u001b[38;2;230;219;116;48;2;39;40;34m\"\u001b[0m\u001b[38;2;248;248;242;48;2;39;40;34m,\u001b[0m\u001b[38;2;248;248;242;48;2;39;40;34m \u001b[0m\u001b[48;2;39;40;34m                                                                                         \u001b[0m  \n",
       "  \u001b[38;2;248;248;242;48;2;39;40;34m    \u001b[0m\u001b[38;2;230;219;116;48;2;39;40;34m\"\u001b[0m\u001b[38;2;230;219;116;48;2;39;40;34mLacock Abbey\u001b[0m\u001b[38;2;230;219;116;48;2;39;40;34m\"\u001b[0m\u001b[38;2;248;248;242;48;2;39;40;34m,\u001b[0m\u001b[38;2;248;248;242;48;2;39;40;34m \u001b[0m\u001b[48;2;39;40;34m                                                                                           \u001b[0m  \n",
       "  \u001b[38;2;248;248;242;48;2;39;40;34m    \u001b[0m\u001b[38;2;230;219;116;48;2;39;40;34m\"\u001b[0m\u001b[38;2;230;219;116;48;2;39;40;34mDurham Cathedral\u001b[0m\u001b[38;2;230;219;116;48;2;39;40;34m\"\u001b[0m\u001b[38;2;248;248;242;48;2;39;40;34m,\u001b[0m\u001b[38;2;248;248;242;48;2;39;40;34m \u001b[0m\u001b[48;2;39;40;34m                                                                                       \u001b[0m  \n",
       "  \u001b[38;2;248;248;242;48;2;39;40;34m    \u001b[0m\u001b[38;2;230;219;116;48;2;39;40;34m\"\u001b[0m\u001b[38;2;230;219;116;48;2;39;40;34mCounty Wicklow\u001b[0m\u001b[38;2;230;219;116;48;2;39;40;34m\"\u001b[0m\u001b[48;2;39;40;34m                                                                                           \u001b[0m  \n",
       "  \u001b[38;2;248;248;242;48;2;39;40;34m]\u001b[0m\u001b[48;2;39;40;34m                                                                                                              \u001b[0m  \n",
       "  \u001b[48;2;39;40;34m                                                                                                               \u001b[0m  \n",
       "  \u001b[38;2;102;217;239;48;2;39;40;34mfor\u001b[0m\u001b[38;2;248;248;242;48;2;39;40;34m \u001b[0m\u001b[38;2;248;248;242;48;2;39;40;34mloc\u001b[0m\u001b[38;2;248;248;242;48;2;39;40;34m \u001b[0m\u001b[38;2;255;70;137;48;2;39;40;34min\u001b[0m\u001b[38;2;248;248;242;48;2;39;40;34m \u001b[0m\u001b[38;2;248;248;242;48;2;39;40;34mkey_locations\u001b[0m\u001b[38;2;248;248;242;48;2;39;40;34m:\u001b[0m\u001b[48;2;39;40;34m                                                                                      \u001b[0m  \n",
       "  \u001b[38;2;248;248;242;48;2;39;40;34m    \u001b[0m\u001b[38;2;248;248;242;48;2;39;40;34mquery\u001b[0m\u001b[38;2;248;248;242;48;2;39;40;34m \u001b[0m\u001b[38;2;255;70;137;48;2;39;40;34m=\u001b[0m\u001b[38;2;248;248;242;48;2;39;40;34m \u001b[0m\u001b[38;2;230;219;116;48;2;39;40;34mf\u001b[0m\u001b[38;2;230;219;116;48;2;39;40;34m\"\u001b[0m\u001b[38;2;230;219;116;48;2;39;40;34mfamous cricket grounds near \u001b[0m\u001b[38;2;230;219;116;48;2;39;40;34m{\u001b[0m\u001b[38;2;248;248;242;48;2;39;40;34mloc\u001b[0m\u001b[38;2;230;219;116;48;2;39;40;34m}\u001b[0m\u001b[38;2;230;219;116;48;2;39;40;34m\"\u001b[0m\u001b[48;2;39;40;34m                                                               \u001b[0m  \n",
       "  \u001b[38;2;248;248;242;48;2;39;40;34m    \u001b[0m\u001b[38;2;248;248;242;48;2;39;40;34msearch_result\u001b[0m\u001b[38;2;248;248;242;48;2;39;40;34m \u001b[0m\u001b[38;2;255;70;137;48;2;39;40;34m=\u001b[0m\u001b[38;2;248;248;242;48;2;39;40;34m \u001b[0m\u001b[38;2;248;248;242;48;2;39;40;34mweb_search\u001b[0m\u001b[38;2;248;248;242;48;2;39;40;34m(\u001b[0m\u001b[38;2;248;248;242;48;2;39;40;34mquery\u001b[0m\u001b[38;2;255;70;137;48;2;39;40;34m=\u001b[0m\u001b[38;2;248;248;242;48;2;39;40;34mquery\u001b[0m\u001b[38;2;248;248;242;48;2;39;40;34m,\u001b[0m\u001b[38;2;248;248;242;48;2;39;40;34m \u001b[0m\u001b[38;2;248;248;242;48;2;39;40;34mfilter_year\u001b[0m\u001b[38;2;255;70;137;48;2;39;40;34m=\u001b[0m\u001b[38;2;174;129;255;48;2;39;40;34m2024\u001b[0m\u001b[38;2;248;248;242;48;2;39;40;34m)\u001b[0m\u001b[48;2;39;40;34m                                                  \u001b[0m  \n",
       "  \u001b[38;2;248;248;242;48;2;39;40;34m    \u001b[0m\u001b[38;2;248;248;242;48;2;39;40;34mcricket_grounds\u001b[0m\u001b[38;2;255;70;137;48;2;39;40;34m.\u001b[0m\u001b[38;2;248;248;242;48;2;39;40;34mappend\u001b[0m\u001b[38;2;248;248;242;48;2;39;40;34m(\u001b[0m\u001b[38;2;248;248;242;48;2;39;40;34m{\u001b[0m\u001b[38;2;230;219;116;48;2;39;40;34m\"\u001b[0m\u001b[38;2;230;219;116;48;2;39;40;34mLocation\u001b[0m\u001b[38;2;230;219;116;48;2;39;40;34m\"\u001b[0m\u001b[38;2;248;248;242;48;2;39;40;34m:\u001b[0m\u001b[38;2;248;248;242;48;2;39;40;34m \u001b[0m\u001b[38;2;248;248;242;48;2;39;40;34mloc\u001b[0m\u001b[38;2;248;248;242;48;2;39;40;34m,\u001b[0m\u001b[38;2;248;248;242;48;2;39;40;34m \u001b[0m\u001b[38;2;230;219;116;48;2;39;40;34m\"\u001b[0m\u001b[38;2;230;219;116;48;2;39;40;34mNearby Cricket Grounds\u001b[0m\u001b[38;2;230;219;116;48;2;39;40;34m\"\u001b[0m\u001b[38;2;248;248;242;48;2;39;40;34m:\u001b[0m\u001b[38;2;248;248;242;48;2;39;40;34m \u001b[0m\u001b[38;2;248;248;242;48;2;39;40;34msearch_result\u001b[0m\u001b[38;2;248;248;242;48;2;39;40;34m}\u001b[0m\u001b[38;2;248;248;242;48;2;39;40;34m)\u001b[0m\u001b[48;2;39;40;34m                         \u001b[0m  \n",
       "  \u001b[48;2;39;40;34m                                                                                                               \u001b[0m  \n",
       "  \u001b[38;2;248;248;242;48;2;39;40;34mprint\u001b[0m\u001b[38;2;248;248;242;48;2;39;40;34m(\u001b[0m\u001b[38;2;248;248;242;48;2;39;40;34mcricket_grounds\u001b[0m\u001b[38;2;248;248;242;48;2;39;40;34m)\u001b[0m\u001b[48;2;39;40;34m                                                                                         \u001b[0m  \n",
       " ───────────────────────────────────────────────────────────────────────────────────────────────────────────────── \n"
      ]
     },
     "jetTransient": {
      "display_id": null
     },
     "metadata": {},
     "output_type": "display_data"
    },
    {
     "data": {
      "text/html": [
       "<pre style=\"white-space:pre;overflow-x:auto;line-height:normal;font-family:Menlo,'DejaVu Sans Mono',consolas,'Courier New',monospace\"><span style=\"font-weight: bold\">Execution logs:</span>\n",
       "[{'Location': 'London', 'Nearby Cricket Grounds': \"## Search Results\\n0. [List of cricket grounds in England and \n",
       "Wales](https://en.wikipedia.org/wiki/List_of_cricket_grounds_in_England_and_Wales)\\nDate published: Apr 2, \n",
       "2024\\nSource: Wikipedia\\n\\nHobbs' Ground† (Barclays Bank Ground), Norbury · C. I. Thornton's XI (1888). Kew Green ·\n",
       "Kew, London (1730–32). Laleham Burway†, near Chertsey, Surrey ...\\n\\n1. [The 10 Oldest Cricket Grounds In The \n",
       "World](https://www.worldatlas.com/articles/the-10-oldest-cricket-grounds-in-the-world.html)\\nDate published: Oct \n",
       "17, 2024\\nSource: WorldAtlas\\n\\nLord's Cricket Ground, in St. John's Wood, London, is the oldest cricket venue in \n",
       "the world and also one of the oldest sporting stadiums.\\n\\n2. [Is Lord Cricket Ground Tour worth \n",
       "it?](https://www.reddit.com/r/Cricket/comments/1evhxlo/is_lord_cricket_ground_tour_worth_it/)\\nSource: Reddit · \n",
       "r/Cricket\\n\\nIts 80 GBP for Lords one (45 GBP for Oval) for the whole family. But we're frugal and every \n",
       "museum/palace visit in London adds up.\\n\\n3. [The 10 most picturesque cricket grounds in \n",
       "Britain](https://www.telegraph.co.uk/cricket/0/10-best-picturesque-cricket-grounds-england-wales/)\\nDate published:\n",
       "Mar 26, 2024\\nSource: The Telegraph\\n\\nThe 10 most picturesque cricket grounds in Britain · Abergavenny · Bamburgh \n",
       "· Knole Park · Monkton Combe · Stoneleigh · Threlkeld · Valley of the Rocks.\\n\\n4. [What is the home stadium for \n",
       "the English cricket team?](https://www.quora.com/What-is-the-home-stadium-for-the-English-cricket-team)\\nSource: \n",
       "Quora\\n\\nLords, The Oval, The Rose Bowl, Edgbaston, Trent Bridge, Old Trafford, Headingly and Chester-le-Street. \n",
       "One day matches are played at several other grounds in ...\\n\\n5. [Rose Bowl (cricket \n",
       "ground)](https://en.wikipedia.org/wiki/Rose_Bowl_(cricket_ground))\\nDate published: Jan 23, 2024\\nSource: \n",
       "Wikipedia\\n\\nThe Rose Bowl, known for sponsorship reasons as Utilita Bowl, is a cricket ground and hotel complex in\n",
       "West End, Hampshire.\\n\\n6. [The Oval Cricket Ground is London SE11. My \n",
       "friend](https://www.facebook.com/groups/6143110432467287/posts/7623610427750606/)\\nSource: Facebook · I grew up in \n",
       "South East London\\n\\n... best cricket ground The Oval London. It is every cricketer's dream to play at such \n",
       "prestigious venue. On 21st of September 2024, our club Peper Harrow is ...\\n\\n7. [Lord's Cricket Ground - Tours &amp; \n",
       "Tickets Icon](https://www.stadiumtourtickets.com/en/cricket/london/lords-cricket-ground)\\nDate published: Jun 21, \n",
       "2024\\nSource: stadiumtourtickets.com\\n\\nHome to the Marylebone Cricket Club (MCC) and steeped in history, Lord's \n",
       "offers an immersive stadium tour that promises an unforgettable experience for cricket ...\\n\\n8. [Cricket Tours: 7 \n",
       "Unforgettable London \n",
       "Experiences](https://londonsightseeingtaxitours.com/cricket-tours-explore-londons-cricketing-heritage/)\\nDate \n",
       "published: Nov 18, 2024\\nSource: London Sightseeing Taxi Tours\\n\\nVisiting iconic cricket grounds such as Lord's \n",
       "Cricket Ground, known as the 'Home of Cricket'; Exploring cricket-related exhibits at the Museum of London.\"}, \n",
       "{'Location': 'Alnwick Castle', 'Nearby Cricket Grounds': \"## Search Results\\n0. [Bamburgh Castle Cricket \n",
       "Club](https://www.facebook.com/p/Bamburgh-Castle-Cricket-Club-100091658721369/)\\nSource: Facebook · Bamburgh Castle\n",
       "Cricket Club\\n\\nReformed in 2000s BCCC play friendly cricket games on Sundays, the majority being on the Castle \n",
       "Green.\\n\\n1. [Sports - Alnwick &amp; District Local History Society](http://www.alnwicklhs.org.uk/sports/)\\nDate \n",
       "published: Jul 29, 2024\\nSource: alnwicklhs.org.uk\\n\\nIn 1837, Alnwick Cricket Club was founded by the Duke who had\n",
       "enjoyed cricket in London and introduced it to the landowners and farmers of the county. From 1844 ...\\n\\n2. \n",
       "[Bamburgh Cricket Club to host first game of the season at \n",
       "...](https://www.northumberlandgazette.co.uk/sport/cricket/bamburgh-cricket-club-to-host-first-game-of-the-season-a\n",
       "t-stunning-home-ground-4590773)\\nDate published: Apr 15, 2024\\nSource: Northumberland Gazette\\n\\nBamburgh Castle CC\n",
       "open their season on the Castle Green with a visit from Duncombe Park this Sunday (April 21).\\n\\n3. [WARKWORTH \n",
       "CRICKET CLUB - 2025 Reviews &amp; \n",
       "...](https://www.tripadvisor.co.uk/Restaurant_Review-g1006175-d26457876-Reviews-Warkworth_Cricket_Club-Warkworth_Am\n",
       "ble_Northumberland_England.html)\\nDate published: Jul 17, 2024\\nSource: Tripadvisor\\n\\nTea and coffee. Also has a \n",
       "bar. Great spot to stop and soak up the spectacular views of the castle.\\n\\n4. [Bamburgh \n",
       "Castle](https://www.facebook.com/groups/1546596552319832/posts/3763447017301430/)\\nSource: Facebook · For the Love \n",
       "of Northumberland UK\\n\\nBamburgh Castle Bamburgh Castle in Northumberland UK, a historic location with a cricket \n",
       "ground.\\n\\n5. [Bamburgh Castle History and Film \n",
       "Location](https://www.tiktok.com/@thegreykingdomhistory/video/7382574337984875809)\\nSource: TikTok · \n",
       "thegreykingdomhistory\\n\\nBamburgh Castle: A Coastal Fortress Through Time Nestled on the Northumberland coast, \n",
       "Bamburgh Castle stands as a testament to centuries of history.\\n\\n6. [Explore \n",
       "Corbridge](https://www.visitnorthumberland.com/explore/destinations/towns-villages/corbridge)\\nDate published: May \n",
       "29, 2024\\nSource: Visit Northumberland\\n\\nAydon Castle. Tucked away one mile from the village of Corbridge is Aydon\n",
       "Castle; the perfect location for a family day out.\\n\\n7. [The Clock Tower at Bamburgh Castle holiday home, \n",
       "...](https://www.crabtreeandcrabtree.com/properties/the-clock-tower-at-bamburgh-castle/)\\nDate published: Oct 4, \n",
       "2024\\nSource: Crabtree &amp; Crabtree\\n\\nThis room has magnificent far reaching views over the West Ward of the castle \n",
       "along the coast to Holy Island and across the iconic cricket pitch over the ...\\n\\n8. [Northumberland Activities &amp; \n",
       "Attractions - Fowberry Tower](https://www.fowberrytower.com/activities)\\nDate published: Dec 28, 2024\\nSource: \n",
       "fowberrytower.com\\n\\nThe Cricket Green in the shadows of Bamburgh Castle walls has been used since the 1800's. \n",
       "Matches are usually played on a Sunday afternoon, which just adds to ...\\n\\n9. [Castle View, \n",
       "Bamburgh](https://www.coolplaces.co.uk/self-catering/uk/england/north-east-england/northumberland/bamburgh/12927-ca\n",
       "stle-view)\\nDate published: Jan 17, 2024\\nSource: Cool.Places.UK\\n\\nFor a small Northumberland village, that's \n",
       "rather a lot: three miles of sand, a great seafood restaurant, pubs, tea rooms, quaint streets – and a cricket \n",
       "pitch!\"}, {'Location': 'Lacock Abbey', 'Nearby Cricket Grounds': \"## Search Results\\n0. [Gloucester Cricket Club \n",
       "Ground Tickets \n",
       "[2025]](https://www.trip.com/travel-guide/attraction/gloucester/gloucester-cricket-club-ground-142348916/)\\nDate \n",
       "published: Apr 6, 2024\\nSource: Trip.com\\n\\nBook Gloucester Cricket Club Ground tickets online with Trip.com. Check\n",
       "ticket prices, discover deals, read real visitor reviews, view updated opening hours ...\\n\\n1. [What are some tips \n",
       "for visiting Lacock and Bowden \n",
       "Hill?](https://www.facebook.com/groups/203867930146958/posts/1733353537198382/)\\nSource: Facebook · Lacock \n",
       "Village\\n\\nVisit Watlings jewellers for hand made trinkets and sparkly things. Lovely pubs to eat in and great \n",
       "walks. The Queen consort has a house at Reybridge too!\\n\\n2. [Bath Filming Locations – The Best Places to \n",
       "Visit](https://inandbeyondbath.com/filming-in-bath/)\\nDate published: Nov 12, 2024\\nSource: In &amp; Beyond \n",
       "Bath\\n\\nFilming in Bath has become increasingly popular, leaving the city with lots of iconic scenes from the big \n",
       "screen. Discover iconic and lesser-known spots!\\n\\n3. [Great British Railway \n",
       "Journeys](https://en.wikipedia.org/wiki/Great_British_Railway_Journeys)\\nDate published: Apr 5, 2024\\nSource: \n",
       "Wikipedia\\n\\nThe series features Portillo travelling around the railway networks of Great Britain, Ireland, and the\n",
       "Isle of Man, referring to Bradshaw's Guide\\n\\n4. [Sports Stadia \n",
       "Tour](https://yeoldeenglandtours.co.uk/our-tours-2/private-london-walking-tours/sports-stadia-tour/)\\nDate \n",
       "published: Mar 13, 2024\\nSource: Ye Olde England Tours\\n\\nLord's Cricket Ground isn't just a sporting arena, it's \n",
       "close to a religious experience. Perhaps the oldest sporting ground in the world! Home to the legendary ...\\n\\n5. \n",
       "[Backroads Britain Tours LLC](https://www.facebook.com/p/Backroads-Britain-Tours-LLC-61567194027153/)\\nSource: \n",
       "Facebook · Backroads Britain Tours LLC\\n\\nAt the entrance to the Lacock Abbey grounds is the Fox Talbot Museum \n",
       "dedicated to William Henry Fox Talbot, who invented the positive-negative film process ...\\n\\n6. [visitor \n",
       "guide](https://www.visitwiltshire.co.uk/dbimgs/Visit%20Wilts%20Visitor%20Guide%202024%20WEB%20DPS.pdf)\\nDate \n",
       "published: Jul 27, 2024\\nSource: Visit Wiltshire\\n\\nAre you ready to plan an extraordinary holiday for the upcoming\n",
       "year? If you're considering a staycation, look no further than Wiltshire.\\n\\n7. [Wolf Hall filming locations | \n",
       "Where was the BBC drama ...](https://www.radiotimes.com/tv/drama/wolf-hall-filming-locations/)\\nDate published: Dec\n",
       "15, 2024\\nSource: Radio Times\\n\\nEverything you need to know about where BBC period drama Wolf Hall was filmed as \n",
       "it returns for The Mirror and the Light.\\n\\n8. [The beautiful village that links Harry Potter and Downton \n",
       "...](https://www.express.co.uk/news/uk/1881906/beautiful-village-harry-potter-downton-abbey)\\nDate published: Mar \n",
       "31, 2024\\nSource: Daily Express\\n\\nThe most famous place is Lacock Abbey which was used as Hogwarts School. The \n",
       "cloisters inside were used as the school's corridors.\"}, {'Location': 'Durham Cathedral', 'Nearby Cricket Grounds':\n",
       "\"## Search Results\\n0. [Riverside Cricket Ground (2025) - All You Need to Know \n",
       "...](https://www.tripadvisor.com/Attraction_Review-g1156051-d8377756-Reviews-Riverside_Cricket_Ground-Chester_le_St\n",
       "reet_County_Durham_England.html)\\nDate published: Jun 21, 2024\\nSource: Tripadvisor\\n\\nThe area ; Durham Cricket. \n",
       "4.0. (68) ; Riverside Park. 4.5. (130) ; Gateshead. 5.0. (1) ; Church of St Mary and St Cuthbert. 4.6. (34) ; \n",
       "Lambton Park. 3.6. (11).\\n\\n1. [England's most beautiful cricket \n",
       "grounds](https://www.telegraph.co.uk/travel/destinations/europe/united-kingdom/galleries/Englands-most-beautiful-cr\n",
       "icket-grounds/)\\nDate published: Sep 16, 2024\\nSource: The Telegraph\\n\\nEmirates Durham International Cricket \n",
       "Ground Set in parkland with the beautiful Lumley Castle in the background. It is home to Durham County Cricket \n",
       "Club, as ...\\n\\n2. [Explore](https://www.lumleycastle.com/places-to-explore/)\\nDate published: Sep 28, \n",
       "2024\\nSource: Lumley Castle\\n\\nWalking distance from Lumley Castle, Riverside is home to Durham County Cricket Club\n",
       "and has hosted world-class events, including the 2013 Ashes, with a modern ...\\n\\n3. [Bit of a sticky wicket for \n",
       "today's cricket ❤️](https://www.facebook.com/groups/DurhamPictures/posts/1828025637608307/)\\nSource: Facebook · \n",
       "Pictures of Durham\\n\\nThe racecourse ground is the one further up towards the city centre. This is Durham city's \n",
       "ground. They have Amaani in the clubhouse now so you can get a ...\\n\\n4. [Marylebone Cricket \n",
       "Club](https://en.wikipedia.org/wiki/Marylebone_Cricket_Club)\\nDate published: Oct 1, 2024\\nSource: \n",
       "Wikipedia\\n\\nMarylebone Cricket Club (MCC) is a cricket club founded in 1787 and based since 1814 at Lord's Cricket\n",
       "Ground, which it owns, in St John's Wood, London.\\n\\n5. [Locate the Cricket Ground \n",
       "Quiz](https://www.funtrivia.com/quiz/sports/locate-the-cricket-ground-415477.html)\\nDate published: Feb 13, \n",
       "2024\\nSource: FunTrivia\\n\\nThe map shows some of the most well known cricket grounds of the UK. All you need to do \n",
       "is put the name of the ground next to the correct number.\\n\\n6. [Things To Do In \n",
       "Durham](https://seaham-hall.co.uk/about/things-to-do/)\\nDate published: Jan 27, 2024\\nSource: Seaham Hall\\n\\n... \n",
       "Durham International Cricket Ground or Sedgefield Racecourse. Seaham Golf Club boasts a heathland 18-hole course \n",
       "overlooking a stunning coastline. With ...\\n\\n7. [SEAT UNIQUE RIVERSIDE . DURHAM \n",
       "CRICKET](https://www.durhamcricket.co.uk/wp-content/uploads/2024/01/Meet-Party-Spectate-Email.pdf)\\nDate published:\n",
       "Jan 23, 2024\\nSource: Durham Cricket\\n\\nExperience the allure of our unique venue, offering an unforgettable \n",
       "setting for conferences, meetings, and private events, far removed from the bustling.\\n\\n8. \n",
       "[Chester-le-Street](https://en.wikipedia.org/wiki/Chester-le-Street)\\nDate published: Jul 7, 2024\\nSource: \n",
       "Wikipedia\\n\\nThe Riverside Ground, known for sponsorship reasons as the Banks Homes Riverside, is home to Durham \n",
       "County Cricket Club which became a first class county in ...\"}, {'Location': 'County Wicklow', 'Nearby Cricket \n",
       "Grounds': \"## Search Results\\n0. [Oak Hill Cricket Club Wicklow Ireland | Cricket \n",
       "Ground](https://possible11.com/ground/oak-hill-cricket-club-565/)\\nDate published: Oct 28, 2024\\nSource: \n",
       "Possible11\\n\\nExplore Oak Hill Cricket Club Wicklow Pitch Report, Capacity, Weather Updates and Cricket Match \n",
       "Stats.\\n\\n1. [Hi can anyone tell me where Wickersley cricket club was situated \n",
       "...](https://www.facebook.com/groups/942255969199144/posts/7388232107934799/)\\nDate published: Dec 19, \n",
       "2024\\nSource: Facebook\\n\\nJun 8\\U000f078b\\U000f17e0. \\U000f07dd. In the middle of Bray, County Wicklow, is the \n",
       "oldest sports ground in Ireland. The Carlisle grounds are home to Bray wanderers founded in 1922 ...\\n\\n2. [Cricket\n",
       "in Ireland](https://en.wikipedia.org/wiki/Cricket_in_Ireland)\\nDate published: Jul 15, 2024\\nSource: \n",
       "Wikipedia\\n\\nInternational cricket grounds ; The Village · Malahide Cricket Club · Malahide, Leinster Cricket \n",
       "Union, 11,500 ; Bready · Bready Cricket Club · Magheramason ...\\n\\n3. [Ireland International Venues - The \n",
       "CricketEurope Archives](https://cricketeuropearchive.com/HISTORY/VENUES/index.shtml)\\nDate published: Sep 8, \n",
       "2024\\nSource: cricketeuropearchive.com\\n\\nGrounds which have hosted Ireland men's international matches - including\n",
       "photos, articles, video, maps, and all the scorecards and ground records.\\n\\n4. [Sandyford Cricket Club, Marlay \n",
       "Park (@cricketatmarlay) / ...](https://x.com/cricketatmarlay)\\nSource: X · cricketatmarlay\\n\\nSandyford cricket \n",
       "club, established in 1984 and located at Marlay Park. Account run by @aadityashah4065, @larakshya and \n",
       "@kirankhegde.\\n\\n5. [Kerry island and Wicklow village's unlikely links marked \n",
       "...](https://www.independent.ie/regionals/kerry/south-kerry-news/kerry-island-and-wicklow-villages-unlikely-links-m\n",
       "arked-on-the-cricket-pitch/a196063828.html)\\nDate published: Sep 12, 2024\\nSource: The Irish Independent\\n\\nThe \n",
       "unlikely but strong connection between Ashford in County Wicklow and Kerry's Valentia Island was celebrated once \n",
       "again on Saturday as a local cricket ...\\n\\n6. [Bray, County \n",
       "Wicklow](https://en.wikipedia.org/wiki/Bray,_County_Wicklow)\\nDate published: Feb 21, 2024\\nSource: \n",
       "Wikipedia\\n\\nBray is a coastal town in north County Wicklow, Ireland. It is situated about 20 km (12 mi) south of \n",
       "Dublin city centre on the east coast, and parts of the ...\\n\\n7. [Avoca Mines - The Cornish in County Wicklow, \n",
       "Ireland](https://www.cousinjacksworld.com/destinations/cornish-avoca/)\\nDate published: Mar 7, 2024\\nSource: Cousin\n",
       "Jacks World\\n\\nAvoca was one the richest copper deposits in the British Isles. Learn about the story of the Cornish\n",
       "in Avoca and the Williams family.\\n\\n8. [Green light for 4000-seater National Cricket \n",
       "Stadium](https://www.reddit.com/r/irishpolitics/comments/1es68vo/green_light_for_4000seater_national_cricket/)\\nSou\n",
       "rce: Reddit · r/irishpolitics\\n\\nah shure isn't it great to see the lads do so well in the cricket. No ... Meath, \n",
       "Kildare, Wicklow, or Louth would do, close enough but not in Dublin.\\n\\n9. [Rathdrum &amp; District Community Notice \n",
       "Board](https://www.facebook.com/groups/245208359020984/permalink/2399532353588563/)\\nSource: Facebook\\n\\nAn \n",
       "outstanding cricketer and founder of the Phoenix Club, he established Avondale as their home ground.\"}]\n",
       "\n",
       "Out: None\n",
       "</pre>\n"
      ],
      "text/plain": [
       "\u001b[1mExecution logs:\u001b[0m\n",
       "[{'Location': 'London', 'Nearby Cricket Grounds': \"## Search Results\\n0. [List of cricket grounds in England and \n",
       "Wales](https://en.wikipedia.org/wiki/List_of_cricket_grounds_in_England_and_Wales)\\nDate published: Apr 2, \n",
       "2024\\nSource: Wikipedia\\n\\nHobbs' Ground† (Barclays Bank Ground), Norbury · C. I. Thornton's XI (1888). Kew Green ·\n",
       "Kew, London (1730–32). Laleham Burway†, near Chertsey, Surrey ...\\n\\n1. [The 10 Oldest Cricket Grounds In The \n",
       "World](https://www.worldatlas.com/articles/the-10-oldest-cricket-grounds-in-the-world.html)\\nDate published: Oct \n",
       "17, 2024\\nSource: WorldAtlas\\n\\nLord's Cricket Ground, in St. John's Wood, London, is the oldest cricket venue in \n",
       "the world and also one of the oldest sporting stadiums.\\n\\n2. [Is Lord Cricket Ground Tour worth \n",
       "it?](https://www.reddit.com/r/Cricket/comments/1evhxlo/is_lord_cricket_ground_tour_worth_it/)\\nSource: Reddit · \n",
       "r/Cricket\\n\\nIts 80 GBP for Lords one (45 GBP for Oval) for the whole family. But we're frugal and every \n",
       "museum/palace visit in London adds up.\\n\\n3. [The 10 most picturesque cricket grounds in \n",
       "Britain](https://www.telegraph.co.uk/cricket/0/10-best-picturesque-cricket-grounds-england-wales/)\\nDate published:\n",
       "Mar 26, 2024\\nSource: The Telegraph\\n\\nThe 10 most picturesque cricket grounds in Britain · Abergavenny · Bamburgh \n",
       "· Knole Park · Monkton Combe · Stoneleigh · Threlkeld · Valley of the Rocks.\\n\\n4. [What is the home stadium for \n",
       "the English cricket team?](https://www.quora.com/What-is-the-home-stadium-for-the-English-cricket-team)\\nSource: \n",
       "Quora\\n\\nLords, The Oval, The Rose Bowl, Edgbaston, Trent Bridge, Old Trafford, Headingly and Chester-le-Street. \n",
       "One day matches are played at several other grounds in ...\\n\\n5. [Rose Bowl (cricket \n",
       "ground)](https://en.wikipedia.org/wiki/Rose_Bowl_(cricket_ground))\\nDate published: Jan 23, 2024\\nSource: \n",
       "Wikipedia\\n\\nThe Rose Bowl, known for sponsorship reasons as Utilita Bowl, is a cricket ground and hotel complex in\n",
       "West End, Hampshire.\\n\\n6. [The Oval Cricket Ground is London SE11. My \n",
       "friend](https://www.facebook.com/groups/6143110432467287/posts/7623610427750606/)\\nSource: Facebook · I grew up in \n",
       "South East London\\n\\n... best cricket ground The Oval London. It is every cricketer's dream to play at such \n",
       "prestigious venue. On 21st of September 2024, our club Peper Harrow is ...\\n\\n7. [Lord's Cricket Ground - Tours & \n",
       "Tickets Icon](https://www.stadiumtourtickets.com/en/cricket/london/lords-cricket-ground)\\nDate published: Jun 21, \n",
       "2024\\nSource: stadiumtourtickets.com\\n\\nHome to the Marylebone Cricket Club (MCC) and steeped in history, Lord's \n",
       "offers an immersive stadium tour that promises an unforgettable experience for cricket ...\\n\\n8. [Cricket Tours: 7 \n",
       "Unforgettable London \n",
       "Experiences](https://londonsightseeingtaxitours.com/cricket-tours-explore-londons-cricketing-heritage/)\\nDate \n",
       "published: Nov 18, 2024\\nSource: London Sightseeing Taxi Tours\\n\\nVisiting iconic cricket grounds such as Lord's \n",
       "Cricket Ground, known as the 'Home of Cricket'; Exploring cricket-related exhibits at the Museum of London.\"}, \n",
       "{'Location': 'Alnwick Castle', 'Nearby Cricket Grounds': \"## Search Results\\n0. [Bamburgh Castle Cricket \n",
       "Club](https://www.facebook.com/p/Bamburgh-Castle-Cricket-Club-100091658721369/)\\nSource: Facebook · Bamburgh Castle\n",
       "Cricket Club\\n\\nReformed in 2000s BCCC play friendly cricket games on Sundays, the majority being on the Castle \n",
       "Green.\\n\\n1. [Sports - Alnwick & District Local History Society](http://www.alnwicklhs.org.uk/sports/)\\nDate \n",
       "published: Jul 29, 2024\\nSource: alnwicklhs.org.uk\\n\\nIn 1837, Alnwick Cricket Club was founded by the Duke who had\n",
       "enjoyed cricket in London and introduced it to the landowners and farmers of the county. From 1844 ...\\n\\n2. \n",
       "[Bamburgh Cricket Club to host first game of the season at \n",
       "...](https://www.northumberlandgazette.co.uk/sport/cricket/bamburgh-cricket-club-to-host-first-game-of-the-season-a\n",
       "t-stunning-home-ground-4590773)\\nDate published: Apr 15, 2024\\nSource: Northumberland Gazette\\n\\nBamburgh Castle CC\n",
       "open their season on the Castle Green with a visit from Duncombe Park this Sunday (April 21).\\n\\n3. [WARKWORTH \n",
       "CRICKET CLUB - 2025 Reviews & \n",
       "...](https://www.tripadvisor.co.uk/Restaurant_Review-g1006175-d26457876-Reviews-Warkworth_Cricket_Club-Warkworth_Am\n",
       "ble_Northumberland_England.html)\\nDate published: Jul 17, 2024\\nSource: Tripadvisor\\n\\nTea and coffee. Also has a \n",
       "bar. Great spot to stop and soak up the spectacular views of the castle.\\n\\n4. [Bamburgh \n",
       "Castle](https://www.facebook.com/groups/1546596552319832/posts/3763447017301430/)\\nSource: Facebook · For the Love \n",
       "of Northumberland UK\\n\\nBamburgh Castle Bamburgh Castle in Northumberland UK, a historic location with a cricket \n",
       "ground.\\n\\n5. [Bamburgh Castle History and Film \n",
       "Location](https://www.tiktok.com/@thegreykingdomhistory/video/7382574337984875809)\\nSource: TikTok · \n",
       "thegreykingdomhistory\\n\\nBamburgh Castle: A Coastal Fortress Through Time Nestled on the Northumberland coast, \n",
       "Bamburgh Castle stands as a testament to centuries of history.\\n\\n6. [Explore \n",
       "Corbridge](https://www.visitnorthumberland.com/explore/destinations/towns-villages/corbridge)\\nDate published: May \n",
       "29, 2024\\nSource: Visit Northumberland\\n\\nAydon Castle. Tucked away one mile from the village of Corbridge is Aydon\n",
       "Castle; the perfect location for a family day out.\\n\\n7. [The Clock Tower at Bamburgh Castle holiday home, \n",
       "...](https://www.crabtreeandcrabtree.com/properties/the-clock-tower-at-bamburgh-castle/)\\nDate published: Oct 4, \n",
       "2024\\nSource: Crabtree & Crabtree\\n\\nThis room has magnificent far reaching views over the West Ward of the castle \n",
       "along the coast to Holy Island and across the iconic cricket pitch over the ...\\n\\n8. [Northumberland Activities & \n",
       "Attractions - Fowberry Tower](https://www.fowberrytower.com/activities)\\nDate published: Dec 28, 2024\\nSource: \n",
       "fowberrytower.com\\n\\nThe Cricket Green in the shadows of Bamburgh Castle walls has been used since the 1800's. \n",
       "Matches are usually played on a Sunday afternoon, which just adds to ...\\n\\n9. [Castle View, \n",
       "Bamburgh](https://www.coolplaces.co.uk/self-catering/uk/england/north-east-england/northumberland/bamburgh/12927-ca\n",
       "stle-view)\\nDate published: Jan 17, 2024\\nSource: Cool.Places.UK\\n\\nFor a small Northumberland village, that's \n",
       "rather a lot: three miles of sand, a great seafood restaurant, pubs, tea rooms, quaint streets – and a cricket \n",
       "pitch!\"}, {'Location': 'Lacock Abbey', 'Nearby Cricket Grounds': \"## Search Results\\n0. [Gloucester Cricket Club \n",
       "Ground Tickets \n",
       "[2025]](https://www.trip.com/travel-guide/attraction/gloucester/gloucester-cricket-club-ground-142348916/)\\nDate \n",
       "published: Apr 6, 2024\\nSource: Trip.com\\n\\nBook Gloucester Cricket Club Ground tickets online with Trip.com. Check\n",
       "ticket prices, discover deals, read real visitor reviews, view updated opening hours ...\\n\\n1. [What are some tips \n",
       "for visiting Lacock and Bowden \n",
       "Hill?](https://www.facebook.com/groups/203867930146958/posts/1733353537198382/)\\nSource: Facebook · Lacock \n",
       "Village\\n\\nVisit Watlings jewellers for hand made trinkets and sparkly things. Lovely pubs to eat in and great \n",
       "walks. The Queen consort has a house at Reybridge too!\\n\\n2. [Bath Filming Locations – The Best Places to \n",
       "Visit](https://inandbeyondbath.com/filming-in-bath/)\\nDate published: Nov 12, 2024\\nSource: In & Beyond \n",
       "Bath\\n\\nFilming in Bath has become increasingly popular, leaving the city with lots of iconic scenes from the big \n",
       "screen. Discover iconic and lesser-known spots!\\n\\n3. [Great British Railway \n",
       "Journeys](https://en.wikipedia.org/wiki/Great_British_Railway_Journeys)\\nDate published: Apr 5, 2024\\nSource: \n",
       "Wikipedia\\n\\nThe series features Portillo travelling around the railway networks of Great Britain, Ireland, and the\n",
       "Isle of Man, referring to Bradshaw's Guide\\n\\n4. [Sports Stadia \n",
       "Tour](https://yeoldeenglandtours.co.uk/our-tours-2/private-london-walking-tours/sports-stadia-tour/)\\nDate \n",
       "published: Mar 13, 2024\\nSource: Ye Olde England Tours\\n\\nLord's Cricket Ground isn't just a sporting arena, it's \n",
       "close to a religious experience. Perhaps the oldest sporting ground in the world! Home to the legendary ...\\n\\n5. \n",
       "[Backroads Britain Tours LLC](https://www.facebook.com/p/Backroads-Britain-Tours-LLC-61567194027153/)\\nSource: \n",
       "Facebook · Backroads Britain Tours LLC\\n\\nAt the entrance to the Lacock Abbey grounds is the Fox Talbot Museum \n",
       "dedicated to William Henry Fox Talbot, who invented the positive-negative film process ...\\n\\n6. [visitor \n",
       "guide](https://www.visitwiltshire.co.uk/dbimgs/Visit%20Wilts%20Visitor%20Guide%202024%20WEB%20DPS.pdf)\\nDate \n",
       "published: Jul 27, 2024\\nSource: Visit Wiltshire\\n\\nAre you ready to plan an extraordinary holiday for the upcoming\n",
       "year? If you're considering a staycation, look no further than Wiltshire.\\n\\n7. [Wolf Hall filming locations | \n",
       "Where was the BBC drama ...](https://www.radiotimes.com/tv/drama/wolf-hall-filming-locations/)\\nDate published: Dec\n",
       "15, 2024\\nSource: Radio Times\\n\\nEverything you need to know about where BBC period drama Wolf Hall was filmed as \n",
       "it returns for The Mirror and the Light.\\n\\n8. [The beautiful village that links Harry Potter and Downton \n",
       "...](https://www.express.co.uk/news/uk/1881906/beautiful-village-harry-potter-downton-abbey)\\nDate published: Mar \n",
       "31, 2024\\nSource: Daily Express\\n\\nThe most famous place is Lacock Abbey which was used as Hogwarts School. The \n",
       "cloisters inside were used as the school's corridors.\"}, {'Location': 'Durham Cathedral', 'Nearby Cricket Grounds':\n",
       "\"## Search Results\\n0. [Riverside Cricket Ground (2025) - All You Need to Know \n",
       "...](https://www.tripadvisor.com/Attraction_Review-g1156051-d8377756-Reviews-Riverside_Cricket_Ground-Chester_le_St\n",
       "reet_County_Durham_England.html)\\nDate published: Jun 21, 2024\\nSource: Tripadvisor\\n\\nThe area ; Durham Cricket. \n",
       "4.0. (68) ; Riverside Park. 4.5. (130) ; Gateshead. 5.0. (1) ; Church of St Mary and St Cuthbert. 4.6. (34) ; \n",
       "Lambton Park. 3.6. (11).\\n\\n1. [England's most beautiful cricket \n",
       "grounds](https://www.telegraph.co.uk/travel/destinations/europe/united-kingdom/galleries/Englands-most-beautiful-cr\n",
       "icket-grounds/)\\nDate published: Sep 16, 2024\\nSource: The Telegraph\\n\\nEmirates Durham International Cricket \n",
       "Ground Set in parkland with the beautiful Lumley Castle in the background. It is home to Durham County Cricket \n",
       "Club, as ...\\n\\n2. [Explore](https://www.lumleycastle.com/places-to-explore/)\\nDate published: Sep 28, \n",
       "2024\\nSource: Lumley Castle\\n\\nWalking distance from Lumley Castle, Riverside is home to Durham County Cricket Club\n",
       "and has hosted world-class events, including the 2013 Ashes, with a modern ...\\n\\n3. [Bit of a sticky wicket for \n",
       "today's cricket ❤️](https://www.facebook.com/groups/DurhamPictures/posts/1828025637608307/)\\nSource: Facebook · \n",
       "Pictures of Durham\\n\\nThe racecourse ground is the one further up towards the city centre. This is Durham city's \n",
       "ground. They have Amaani in the clubhouse now so you can get a ...\\n\\n4. [Marylebone Cricket \n",
       "Club](https://en.wikipedia.org/wiki/Marylebone_Cricket_Club)\\nDate published: Oct 1, 2024\\nSource: \n",
       "Wikipedia\\n\\nMarylebone Cricket Club (MCC) is a cricket club founded in 1787 and based since 1814 at Lord's Cricket\n",
       "Ground, which it owns, in St John's Wood, London.\\n\\n5. [Locate the Cricket Ground \n",
       "Quiz](https://www.funtrivia.com/quiz/sports/locate-the-cricket-ground-415477.html)\\nDate published: Feb 13, \n",
       "2024\\nSource: FunTrivia\\n\\nThe map shows some of the most well known cricket grounds of the UK. All you need to do \n",
       "is put the name of the ground next to the correct number.\\n\\n6. [Things To Do In \n",
       "Durham](https://seaham-hall.co.uk/about/things-to-do/)\\nDate published: Jan 27, 2024\\nSource: Seaham Hall\\n\\n... \n",
       "Durham International Cricket Ground or Sedgefield Racecourse. Seaham Golf Club boasts a heathland 18-hole course \n",
       "overlooking a stunning coastline. With ...\\n\\n7. [SEAT UNIQUE RIVERSIDE . DURHAM \n",
       "CRICKET](https://www.durhamcricket.co.uk/wp-content/uploads/2024/01/Meet-Party-Spectate-Email.pdf)\\nDate published:\n",
       "Jan 23, 2024\\nSource: Durham Cricket\\n\\nExperience the allure of our unique venue, offering an unforgettable \n",
       "setting for conferences, meetings, and private events, far removed from the bustling.\\n\\n8. \n",
       "[Chester-le-Street](https://en.wikipedia.org/wiki/Chester-le-Street)\\nDate published: Jul 7, 2024\\nSource: \n",
       "Wikipedia\\n\\nThe Riverside Ground, known for sponsorship reasons as the Banks Homes Riverside, is home to Durham \n",
       "County Cricket Club which became a first class county in ...\"}, {'Location': 'County Wicklow', 'Nearby Cricket \n",
       "Grounds': \"## Search Results\\n0. [Oak Hill Cricket Club Wicklow Ireland | Cricket \n",
       "Ground](https://possible11.com/ground/oak-hill-cricket-club-565/)\\nDate published: Oct 28, 2024\\nSource: \n",
       "Possible11\\n\\nExplore Oak Hill Cricket Club Wicklow Pitch Report, Capacity, Weather Updates and Cricket Match \n",
       "Stats.\\n\\n1. [Hi can anyone tell me where Wickersley cricket club was situated \n",
       "...](https://www.facebook.com/groups/942255969199144/posts/7388232107934799/)\\nDate published: Dec 19, \n",
       "2024\\nSource: Facebook\\n\\nJun 8\\U000f078b\\U000f17e0. \\U000f07dd. In the middle of Bray, County Wicklow, is the \n",
       "oldest sports ground in Ireland. The Carlisle grounds are home to Bray wanderers founded in 1922 ...\\n\\n2. [Cricket\n",
       "in Ireland](https://en.wikipedia.org/wiki/Cricket_in_Ireland)\\nDate published: Jul 15, 2024\\nSource: \n",
       "Wikipedia\\n\\nInternational cricket grounds ; The Village · Malahide Cricket Club · Malahide, Leinster Cricket \n",
       "Union, 11,500 ; Bready · Bready Cricket Club · Magheramason ...\\n\\n3. [Ireland International Venues - The \n",
       "CricketEurope Archives](https://cricketeuropearchive.com/HISTORY/VENUES/index.shtml)\\nDate published: Sep 8, \n",
       "2024\\nSource: cricketeuropearchive.com\\n\\nGrounds which have hosted Ireland men's international matches - including\n",
       "photos, articles, video, maps, and all the scorecards and ground records.\\n\\n4. [Sandyford Cricket Club, Marlay \n",
       "Park (@cricketatmarlay) / ...](https://x.com/cricketatmarlay)\\nSource: X · cricketatmarlay\\n\\nSandyford cricket \n",
       "club, established in 1984 and located at Marlay Park. Account run by @aadityashah4065, @larakshya and \n",
       "@kirankhegde.\\n\\n5. [Kerry island and Wicklow village's unlikely links marked \n",
       "...](https://www.independent.ie/regionals/kerry/south-kerry-news/kerry-island-and-wicklow-villages-unlikely-links-m\n",
       "arked-on-the-cricket-pitch/a196063828.html)\\nDate published: Sep 12, 2024\\nSource: The Irish Independent\\n\\nThe \n",
       "unlikely but strong connection between Ashford in County Wicklow and Kerry's Valentia Island was celebrated once \n",
       "again on Saturday as a local cricket ...\\n\\n6. [Bray, County \n",
       "Wicklow](https://en.wikipedia.org/wiki/Bray,_County_Wicklow)\\nDate published: Feb 21, 2024\\nSource: \n",
       "Wikipedia\\n\\nBray is a coastal town in north County Wicklow, Ireland. It is situated about 20 km (12 mi) south of \n",
       "Dublin city centre on the east coast, and parts of the ...\\n\\n7. [Avoca Mines - The Cornish in County Wicklow, \n",
       "Ireland](https://www.cousinjacksworld.com/destinations/cornish-avoca/)\\nDate published: Mar 7, 2024\\nSource: Cousin\n",
       "Jacks World\\n\\nAvoca was one the richest copper deposits in the British Isles. Learn about the story of the Cornish\n",
       "in Avoca and the Williams family.\\n\\n8. [Green light for 4000-seater National Cricket \n",
       "Stadium](https://www.reddit.com/r/irishpolitics/comments/1es68vo/green_light_for_4000seater_national_cricket/)\\nSou\n",
       "rce: Reddit · r/irishpolitics\\n\\nah shure isn't it great to see the lads do so well in the cricket. No ... Meath, \n",
       "Kildare, Wicklow, or Louth would do, close enough but not in Dublin.\\n\\n9. [Rathdrum & District Community Notice \n",
       "Board](https://www.facebook.com/groups/245208359020984/permalink/2399532353588563/)\\nSource: Facebook\\n\\nAn \n",
       "outstanding cricketer and founder of the Phoenix Club, he established Avondale as their home ground.\"}]\n",
       "\n",
       "Out: None\n"
      ]
     },
     "jetTransient": {
      "display_id": null
     },
     "metadata": {},
     "output_type": "display_data"
    },
    {
     "data": {
      "text/html": [
       "<pre style=\"white-space:pre;overflow-x:auto;line-height:normal;font-family:Menlo,'DejaVu Sans Mono',consolas,'Courier New',monospace\"><span style=\"color: #7f7f7f; text-decoration-color: #7f7f7f\">[Step 6: Duration 19.54 seconds| Input tokens: 27,462 | Output tokens: 1,926]</span>\n",
       "</pre>\n"
      ],
      "text/plain": [
       "\u001b[2m[Step 6: Duration 19.54 seconds| Input tokens: 27,462 | Output tokens: 1,926]\u001b[0m\n"
      ]
     },
     "jetTransient": {
      "display_id": null
     },
     "metadata": {},
     "output_type": "display_data"
    },
    {
     "data": {
      "text/html": [
       "<pre style=\"white-space:pre;overflow-x:auto;line-height:normal;font-family:Menlo,'DejaVu Sans Mono',consolas,'Courier New',monospace\"><span style=\"color: #d4b702; text-decoration-color: #d4b702\">━━━━━━━━━━━━━━━━━━━━━━━━━━━━━━━━━━━━━━━━━━━━━━━━━━━━━ </span><span style=\"font-weight: bold\">Step 7</span><span style=\"color: #d4b702; text-decoration-color: #d4b702\"> ━━━━━━━━━━━━━━━━━━━━━━━━━━━━━━━━━━━━━━━━━━━━━━━━━━━━━━</span>\n",
       "</pre>\n"
      ],
      "text/plain": [
       "\u001b[38;2;212;183;2m━━━━━━━━━━━━━━━━━━━━━━━━━━━━━━━━━━━━━━━━━━━━━━━━━━━━━ \u001b[0m\u001b[1mStep 7\u001b[0m\u001b[38;2;212;183;2m ━━━━━━━━━━━━━━━━━━━━━━━━━━━━━━━━━━━━━━━━━━━━━━━━━━━━━━\u001b[0m\n"
      ]
     },
     "jetTransient": {
      "display_id": null
     },
     "metadata": {},
     "output_type": "display_data"
    },
    {
     "data": {
      "text/html": [
       "<pre style=\"white-space:pre;overflow-x:auto;line-height:normal;font-family:Menlo,'DejaVu Sans Mono',consolas,'Courier New',monospace\"> ─ <span style=\"font-weight: bold\">Executing parsed code:</span> ──────────────────────────────────────────────────────────────────────────────────────── \n",
       "  <span style=\"color: #959077; text-decoration-color: #959077; background-color: #272822\"># Final answer: Return the DataFrame and the list of cricket grounds</span><span style=\"background-color: #272822\">                                           </span>  \n",
       "  <span style=\"color: #f8f8f2; text-decoration-color: #f8f8f2; background-color: #272822\">final_answer({</span><span style=\"background-color: #272822\">                                                                                                 </span>  \n",
       "  <span style=\"color: #f8f8f2; text-decoration-color: #f8f8f2; background-color: #272822\">    </span><span style=\"color: #e6db74; text-decoration-color: #e6db74; background-color: #272822\">\"Air Travel Times from Ahmedabad to Harry Potter Filming Locations\"</span><span style=\"color: #f8f8f2; text-decoration-color: #f8f8f2; background-color: #272822\">: </span><span style=\"background-color: #272822\">                                      </span>  \n",
       "  <span style=\"color: #f8f8f2; text-decoration-color: #f8f8f2; background-color: #272822\">df_travel_times</span><span style=\"color: #ff4689; text-decoration-color: #ff4689; background-color: #272822\">.</span><span style=\"color: #f8f8f2; text-decoration-color: #f8f8f2; background-color: #272822\">to_dict(orient</span><span style=\"color: #ff4689; text-decoration-color: #ff4689; background-color: #272822\">=</span><span style=\"color: #e6db74; text-decoration-color: #e6db74; background-color: #272822\">\"records\"</span><span style=\"color: #f8f8f2; text-decoration-color: #f8f8f2; background-color: #272822\">),</span><span style=\"background-color: #272822\">                                                                     </span>  \n",
       "  <span style=\"color: #f8f8f2; text-decoration-color: #f8f8f2; background-color: #272822\">    </span><span style=\"color: #e6db74; text-decoration-color: #e6db74; background-color: #272822\">\"Famous Cricket Grounds Nearby\"</span><span style=\"color: #f8f8f2; text-decoration-color: #f8f8f2; background-color: #272822\">: cricket_grounds</span><span style=\"background-color: #272822\">                                                           </span>  \n",
       "  <span style=\"color: #f8f8f2; text-decoration-color: #f8f8f2; background-color: #272822\">})</span><span style=\"background-color: #272822\">                                                                                                             </span>  \n",
       " ───────────────────────────────────────────────────────────────────────────────────────────────────────────────── \n",
       "</pre>\n"
      ],
      "text/plain": [
       " ─ \u001b[1mExecuting parsed code:\u001b[0m ──────────────────────────────────────────────────────────────────────────────────────── \n",
       "  \u001b[38;2;149;144;119;48;2;39;40;34m# Final answer: Return the DataFrame and the list of cricket grounds\u001b[0m\u001b[48;2;39;40;34m                                           \u001b[0m  \n",
       "  \u001b[38;2;248;248;242;48;2;39;40;34mfinal_answer\u001b[0m\u001b[38;2;248;248;242;48;2;39;40;34m(\u001b[0m\u001b[38;2;248;248;242;48;2;39;40;34m{\u001b[0m\u001b[48;2;39;40;34m                                                                                                 \u001b[0m  \n",
       "  \u001b[38;2;248;248;242;48;2;39;40;34m    \u001b[0m\u001b[38;2;230;219;116;48;2;39;40;34m\"\u001b[0m\u001b[38;2;230;219;116;48;2;39;40;34mAir Travel Times from Ahmedabad to Harry Potter Filming Locations\u001b[0m\u001b[38;2;230;219;116;48;2;39;40;34m\"\u001b[0m\u001b[38;2;248;248;242;48;2;39;40;34m:\u001b[0m\u001b[38;2;248;248;242;48;2;39;40;34m \u001b[0m\u001b[48;2;39;40;34m                                      \u001b[0m  \n",
       "  \u001b[38;2;248;248;242;48;2;39;40;34mdf_travel_times\u001b[0m\u001b[38;2;255;70;137;48;2;39;40;34m.\u001b[0m\u001b[38;2;248;248;242;48;2;39;40;34mto_dict\u001b[0m\u001b[38;2;248;248;242;48;2;39;40;34m(\u001b[0m\u001b[38;2;248;248;242;48;2;39;40;34morient\u001b[0m\u001b[38;2;255;70;137;48;2;39;40;34m=\u001b[0m\u001b[38;2;230;219;116;48;2;39;40;34m\"\u001b[0m\u001b[38;2;230;219;116;48;2;39;40;34mrecords\u001b[0m\u001b[38;2;230;219;116;48;2;39;40;34m\"\u001b[0m\u001b[38;2;248;248;242;48;2;39;40;34m)\u001b[0m\u001b[38;2;248;248;242;48;2;39;40;34m,\u001b[0m\u001b[48;2;39;40;34m                                                                     \u001b[0m  \n",
       "  \u001b[38;2;248;248;242;48;2;39;40;34m    \u001b[0m\u001b[38;2;230;219;116;48;2;39;40;34m\"\u001b[0m\u001b[38;2;230;219;116;48;2;39;40;34mFamous Cricket Grounds Nearby\u001b[0m\u001b[38;2;230;219;116;48;2;39;40;34m\"\u001b[0m\u001b[38;2;248;248;242;48;2;39;40;34m:\u001b[0m\u001b[38;2;248;248;242;48;2;39;40;34m \u001b[0m\u001b[38;2;248;248;242;48;2;39;40;34mcricket_grounds\u001b[0m\u001b[48;2;39;40;34m                                                           \u001b[0m  \n",
       "  \u001b[38;2;248;248;242;48;2;39;40;34m}\u001b[0m\u001b[38;2;248;248;242;48;2;39;40;34m)\u001b[0m\u001b[48;2;39;40;34m                                                                                                             \u001b[0m  \n",
       " ───────────────────────────────────────────────────────────────────────────────────────────────────────────────── \n"
      ]
     },
     "jetTransient": {
      "display_id": null
     },
     "metadata": {},
     "output_type": "display_data"
    },
    {
     "data": {
      "text/html": [
       "<pre style=\"white-space:pre;overflow-x:auto;line-height:normal;font-family:Menlo,'DejaVu Sans Mono',consolas,'Courier New',monospace\"></pre>\n"
      ],
      "text/plain": []
     },
     "jetTransient": {
      "display_id": null
     },
     "metadata": {},
     "output_type": "display_data"
    },
    {
     "data": {
      "text/html": [
       "<pre style=\"white-space:pre;overflow-x:auto;line-height:normal;font-family:Menlo,'DejaVu Sans Mono',consolas,'Courier New',monospace\"><span style=\"color: #d4b702; text-decoration-color: #d4b702; font-weight: bold\">Final answer: {'Air Travel Times from Ahmedabad to Harry Potter Filming Locations': [{'Location': 'Warner Bros. </span>\n",
       "<span style=\"color: #d4b702; text-decoration-color: #d4b702; font-weight: bold\">Studio Tour London (Leavesden)', 'Travel Time (hours)': 8.79}, {'Location': \"King's Cross Station, London\", 'Travel</span>\n",
       "<span style=\"color: #d4b702; text-decoration-color: #d4b702; font-weight: bold\">Time (hours)': 8.77}, {'Location': 'Leadenhall Market, London', 'Travel Time (hours)': 8.76}, {'Location': 'Alnwick</span>\n",
       "<span style=\"color: #d4b702; text-decoration-color: #d4b702; font-weight: bold\">Castle, Northumberland', 'Travel Time (hours)': 8.88}, {'Location': 'Lacock Abbey, Wiltshire', 'Travel Time </span>\n",
       "<span style=\"color: #d4b702; text-decoration-color: #d4b702; font-weight: bold\">(hours)': 8.92}, {'Location': 'Durham Cathedral, Durham', 'Travel Time (hours)': 8.87}, {'Location': 'Freshwater </span>\n",
       "<span style=\"color: #d4b702; text-decoration-color: #d4b702; font-weight: bold\">West, Pembrokeshire', 'Travel Time (hours)': 9.14}, {'Location': 'Glenfinnan Viaduct, Scottish Highlands', 'Travel </span>\n",
       "<span style=\"color: #d4b702; text-decoration-color: #d4b702; font-weight: bold\">Time (hours)': 9.14}, {'Location': 'County Wicklow, Ireland', 'Travel Time (hours)': 9.25}], 'Famous Cricket </span>\n",
       "<span style=\"color: #d4b702; text-decoration-color: #d4b702; font-weight: bold\">Grounds Nearby': [{'Location': 'London', 'Nearby Cricket Grounds': \"## Search Results\\n0. [List of cricket grounds </span>\n",
       "<span style=\"color: #d4b702; text-decoration-color: #d4b702; font-weight: bold\">in England and Wales](https://en.wikipedia.org/wiki/List_of_cricket_grounds_in_England_and_Wales)\\nDate published: </span>\n",
       "<span style=\"color: #d4b702; text-decoration-color: #d4b702; font-weight: bold\">Apr 2, 2024\\nSource: Wikipedia\\n\\nHobbs' Ground† (Barclays Bank Ground), Norbury · C. I. Thornton's XI (1888). Kew </span>\n",
       "<span style=\"color: #d4b702; text-decoration-color: #d4b702; font-weight: bold\">Green · Kew, London (1730–32). Laleham Burway†, near Chertsey, Surrey ...\\n\\n1. [The 10 Oldest Cricket Grounds In </span>\n",
       "<span style=\"color: #d4b702; text-decoration-color: #d4b702; font-weight: bold\">The World](https://www.worldatlas.com/articles/the-10-oldest-cricket-grounds-in-the-world.html)\\nDate published: </span>\n",
       "<span style=\"color: #d4b702; text-decoration-color: #d4b702; font-weight: bold\">Oct 17, 2024\\nSource: WorldAtlas\\n\\nLord's Cricket Ground, in St. John's Wood, London, is the oldest cricket venue </span>\n",
       "<span style=\"color: #d4b702; text-decoration-color: #d4b702; font-weight: bold\">in the world and also one of the oldest sporting stadiums.\\n\\n2. [Is Lord Cricket Ground Tour worth </span>\n",
       "<span style=\"color: #d4b702; text-decoration-color: #d4b702; font-weight: bold\">it?](https://www.reddit.com/r/Cricket/comments/1evhxlo/is_lord_cricket_ground_tour_worth_it/)\\nSource: Reddit · </span>\n",
       "<span style=\"color: #d4b702; text-decoration-color: #d4b702; font-weight: bold\">r/Cricket\\n\\nIts 80 GBP for Lords one (45 GBP for Oval) for the whole family. But we're frugal and every </span>\n",
       "<span style=\"color: #d4b702; text-decoration-color: #d4b702; font-weight: bold\">museum/palace visit in London adds up.\\n\\n3. [The 10 most picturesque cricket grounds in </span>\n",
       "<span style=\"color: #d4b702; text-decoration-color: #d4b702; font-weight: bold\">Britain](https://www.telegraph.co.uk/cricket/0/10-best-picturesque-cricket-grounds-england-wales/)\\nDate published:</span>\n",
       "<span style=\"color: #d4b702; text-decoration-color: #d4b702; font-weight: bold\">Mar 26, 2024\\nSource: The Telegraph\\n\\nThe 10 most picturesque cricket grounds in Britain · Abergavenny · Bamburgh </span>\n",
       "<span style=\"color: #d4b702; text-decoration-color: #d4b702; font-weight: bold\">· Knole Park · Monkton Combe · Stoneleigh · Threlkeld · Valley of the Rocks.\\n\\n4. [What is the home stadium for </span>\n",
       "<span style=\"color: #d4b702; text-decoration-color: #d4b702; font-weight: bold\">the English cricket team?](https://www.quora.com/What-is-the-home-stadium-for-the-English-cricket-team)\\nSource: </span>\n",
       "<span style=\"color: #d4b702; text-decoration-color: #d4b702; font-weight: bold\">Quora\\n\\nLords, The Oval, The Rose Bowl, Edgbaston, Trent Bridge, Old Trafford, Headingly and Chester-le-Street. </span>\n",
       "<span style=\"color: #d4b702; text-decoration-color: #d4b702; font-weight: bold\">One day matches are played at several other grounds in ...\\n\\n5. [Rose Bowl (cricket </span>\n",
       "<span style=\"color: #d4b702; text-decoration-color: #d4b702; font-weight: bold\">ground)](https://en.wikipedia.org/wiki/Rose_Bowl_(cricket_ground))\\nDate published: Jan 23, 2024\\nSource: </span>\n",
       "<span style=\"color: #d4b702; text-decoration-color: #d4b702; font-weight: bold\">Wikipedia\\n\\nThe Rose Bowl, known for sponsorship reasons as Utilita Bowl, is a cricket ground and hotel complex in</span>\n",
       "<span style=\"color: #d4b702; text-decoration-color: #d4b702; font-weight: bold\">West End, Hampshire.\\n\\n6. [The Oval Cricket Ground is London SE11. My </span>\n",
       "<span style=\"color: #d4b702; text-decoration-color: #d4b702; font-weight: bold\">friend](https://www.facebook.com/groups/6143110432467287/posts/7623610427750606/)\\nSource: Facebook · I grew up in </span>\n",
       "<span style=\"color: #d4b702; text-decoration-color: #d4b702; font-weight: bold\">South East London\\n\\n... best cricket ground The Oval London. It is every cricketer's dream to play at such </span>\n",
       "<span style=\"color: #d4b702; text-decoration-color: #d4b702; font-weight: bold\">prestigious venue. On 21st of September 2024, our club Peper Harrow is ...\\n\\n7. [Lord's Cricket Ground - Tours &amp; </span>\n",
       "<span style=\"color: #d4b702; text-decoration-color: #d4b702; font-weight: bold\">Tickets Icon](https://www.stadiumtourtickets.com/en/cricket/london/lords-cricket-ground)\\nDate published: Jun 21, </span>\n",
       "<span style=\"color: #d4b702; text-decoration-color: #d4b702; font-weight: bold\">2024\\nSource: stadiumtourtickets.com\\n\\nHome to the Marylebone Cricket Club (MCC) and steeped in history, Lord's </span>\n",
       "<span style=\"color: #d4b702; text-decoration-color: #d4b702; font-weight: bold\">offers an immersive stadium tour that promises an unforgettable experience for cricket ...\\n\\n8. [Cricket Tours: 7 </span>\n",
       "<span style=\"color: #d4b702; text-decoration-color: #d4b702; font-weight: bold\">Unforgettable London </span>\n",
       "<span style=\"color: #d4b702; text-decoration-color: #d4b702; font-weight: bold\">Experiences](https://londonsightseeingtaxitours.com/cricket-tours-explore-londons-cricketing-heritage/)\\nDate </span>\n",
       "<span style=\"color: #d4b702; text-decoration-color: #d4b702; font-weight: bold\">published: Nov 18, 2024\\nSource: London Sightseeing Taxi Tours\\n\\nVisiting iconic cricket grounds such as Lord's </span>\n",
       "<span style=\"color: #d4b702; text-decoration-color: #d4b702; font-weight: bold\">Cricket Ground, known as the 'Home of Cricket'; Exploring cricket-related exhibits at the Museum of London.\"}, </span>\n",
       "<span style=\"color: #d4b702; text-decoration-color: #d4b702; font-weight: bold\">{'Location': 'Alnwick Castle', 'Nearby Cricket Grounds': \"## Search Results\\n0. [Bamburgh Castle Cricket </span>\n",
       "<span style=\"color: #d4b702; text-decoration-color: #d4b702; font-weight: bold\">Club](https://www.facebook.com/p/Bamburgh-Castle-Cricket-Club-100091658721369/)\\nSource: Facebook · Bamburgh Castle</span>\n",
       "<span style=\"color: #d4b702; text-decoration-color: #d4b702; font-weight: bold\">Cricket Club\\n\\nReformed in 2000s BCCC play friendly cricket games on Sundays, the majority being on the Castle </span>\n",
       "<span style=\"color: #d4b702; text-decoration-color: #d4b702; font-weight: bold\">Green.\\n\\n1. [Sports - Alnwick &amp; District Local History Society](http://www.alnwicklhs.org.uk/sports/)\\nDate </span>\n",
       "<span style=\"color: #d4b702; text-decoration-color: #d4b702; font-weight: bold\">published: Jul 29, 2024\\nSource: alnwicklhs.org.uk\\n\\nIn 1837, Alnwick Cricket Club was founded by the Duke who had</span>\n",
       "<span style=\"color: #d4b702; text-decoration-color: #d4b702; font-weight: bold\">enjoyed cricket in London and introduced it to the landowners and farmers of the county. From 1844 ...\\n\\n2. </span>\n",
       "<span style=\"color: #d4b702; text-decoration-color: #d4b702; font-weight: bold\">[Bamburgh Cricket Club to host first game of the season at </span>\n",
       "<span style=\"color: #d4b702; text-decoration-color: #d4b702; font-weight: bold\">...](https://www.northumberlandgazette.co.uk/sport/cricket/bamburgh-cricket-club-to-host-first-game-of-the-season-a</span>\n",
       "<span style=\"color: #d4b702; text-decoration-color: #d4b702; font-weight: bold\">t-stunning-home-ground-4590773)\\nDate published: Apr 15, 2024\\nSource: Northumberland Gazette\\n\\nBamburgh Castle CC</span>\n",
       "<span style=\"color: #d4b702; text-decoration-color: #d4b702; font-weight: bold\">open their season on the Castle Green with a visit from Duncombe Park this Sunday (April 21).\\n\\n3. [WARKWORTH </span>\n",
       "<span style=\"color: #d4b702; text-decoration-color: #d4b702; font-weight: bold\">CRICKET CLUB - 2025 Reviews &amp; </span>\n",
       "<span style=\"color: #d4b702; text-decoration-color: #d4b702; font-weight: bold\">...](https://www.tripadvisor.co.uk/Restaurant_Review-g1006175-d26457876-Reviews-Warkworth_Cricket_Club-Warkworth_Am</span>\n",
       "<span style=\"color: #d4b702; text-decoration-color: #d4b702; font-weight: bold\">ble_Northumberland_England.html)\\nDate published: Jul 17, 2024\\nSource: Tripadvisor\\n\\nTea and coffee. Also has a </span>\n",
       "<span style=\"color: #d4b702; text-decoration-color: #d4b702; font-weight: bold\">bar. Great spot to stop and soak up the spectacular views of the castle.\\n\\n4. [Bamburgh </span>\n",
       "<span style=\"color: #d4b702; text-decoration-color: #d4b702; font-weight: bold\">Castle](https://www.facebook.com/groups/1546596552319832/posts/3763447017301430/)\\nSource: Facebook · For the Love </span>\n",
       "<span style=\"color: #d4b702; text-decoration-color: #d4b702; font-weight: bold\">of Northumberland UK\\n\\nBamburgh Castle Bamburgh Castle in Northumberland UK, a historic location with a cricket </span>\n",
       "<span style=\"color: #d4b702; text-decoration-color: #d4b702; font-weight: bold\">ground.\\n\\n5. [Bamburgh Castle History and Film </span>\n",
       "<span style=\"color: #d4b702; text-decoration-color: #d4b702; font-weight: bold\">Location](https://www.tiktok.com/@thegreykingdomhistory/video/7382574337984875809)\\nSource: TikTok · </span>\n",
       "<span style=\"color: #d4b702; text-decoration-color: #d4b702; font-weight: bold\">thegreykingdomhistory\\n\\nBamburgh Castle: A Coastal Fortress Through Time Nestled on the Northumberland coast, </span>\n",
       "<span style=\"color: #d4b702; text-decoration-color: #d4b702; font-weight: bold\">Bamburgh Castle stands as a testament to centuries of history.\\n\\n6. [Explore </span>\n",
       "<span style=\"color: #d4b702; text-decoration-color: #d4b702; font-weight: bold\">Corbridge](https://www.visitnorthumberland.com/explore/destinations/towns-villages/corbridge)\\nDate published: May </span>\n",
       "<span style=\"color: #d4b702; text-decoration-color: #d4b702; font-weight: bold\">29, 2024\\nSource: Visit Northumberland\\n\\nAydon Castle. Tucked away one mile from the village of Corbridge is Aydon</span>\n",
       "<span style=\"color: #d4b702; text-decoration-color: #d4b702; font-weight: bold\">Castle; the perfect location for a family day out.\\n\\n7. [The Clock Tower at Bamburgh Castle holiday home, </span>\n",
       "<span style=\"color: #d4b702; text-decoration-color: #d4b702; font-weight: bold\">...](https://www.crabtreeandcrabtree.com/properties/the-clock-tower-at-bamburgh-castle/)\\nDate published: Oct 4, </span>\n",
       "<span style=\"color: #d4b702; text-decoration-color: #d4b702; font-weight: bold\">2024\\nSource: Crabtree &amp; Crabtree\\n\\nThis room has magnificent far reaching views over the West Ward of the castle </span>\n",
       "<span style=\"color: #d4b702; text-decoration-color: #d4b702; font-weight: bold\">along the coast to Holy Island and across the iconic cricket pitch over the ...\\n\\n8. [Northumberland Activities &amp; </span>\n",
       "<span style=\"color: #d4b702; text-decoration-color: #d4b702; font-weight: bold\">Attractions - Fowberry Tower](https://www.fowberrytower.com/activities)\\nDate published: Dec 28, 2024\\nSource: </span>\n",
       "<span style=\"color: #d4b702; text-decoration-color: #d4b702; font-weight: bold\">fowberrytower.com\\n\\nThe Cricket Green in the shadows of Bamburgh Castle walls has been used since the 1800's. </span>\n",
       "<span style=\"color: #d4b702; text-decoration-color: #d4b702; font-weight: bold\">Matches are usually played on a Sunday afternoon, which just adds to ...\\n\\n9. [Castle View, </span>\n",
       "<span style=\"color: #d4b702; text-decoration-color: #d4b702; font-weight: bold\">Bamburgh](https://www.coolplaces.co.uk/self-catering/uk/england/north-east-england/northumberland/bamburgh/12927-ca</span>\n",
       "<span style=\"color: #d4b702; text-decoration-color: #d4b702; font-weight: bold\">stle-view)\\nDate published: Jan 17, 2024\\nSource: Cool.Places.UK\\n\\nFor a small Northumberland village, that's </span>\n",
       "<span style=\"color: #d4b702; text-decoration-color: #d4b702; font-weight: bold\">rather a lot: three miles of sand, a great seafood restaurant, pubs, tea rooms, quaint streets – and a cricket </span>\n",
       "<span style=\"color: #d4b702; text-decoration-color: #d4b702; font-weight: bold\">pitch!\"}, {'Location': 'Lacock Abbey', 'Nearby Cricket Grounds': \"## Search Results\\n0. [Gloucester Cricket Club </span>\n",
       "<span style=\"color: #d4b702; text-decoration-color: #d4b702; font-weight: bold\">Ground Tickets </span>\n",
       "<span style=\"color: #d4b702; text-decoration-color: #d4b702; font-weight: bold\">[2025]](https://www.trip.com/travel-guide/attraction/gloucester/gloucester-cricket-club-ground-142348916/)\\nDate </span>\n",
       "<span style=\"color: #d4b702; text-decoration-color: #d4b702; font-weight: bold\">published: Apr 6, 2024\\nSource: Trip.com\\n\\nBook Gloucester Cricket Club Ground tickets online with Trip.com. Check</span>\n",
       "<span style=\"color: #d4b702; text-decoration-color: #d4b702; font-weight: bold\">ticket prices, discover deals, read real visitor reviews, view updated opening hours ...\\n\\n1. [What are some tips </span>\n",
       "<span style=\"color: #d4b702; text-decoration-color: #d4b702; font-weight: bold\">for visiting Lacock and Bowden </span>\n",
       "<span style=\"color: #d4b702; text-decoration-color: #d4b702; font-weight: bold\">Hill?](https://www.facebook.com/groups/203867930146958/posts/1733353537198382/)\\nSource: Facebook · Lacock </span>\n",
       "<span style=\"color: #d4b702; text-decoration-color: #d4b702; font-weight: bold\">Village\\n\\nVisit Watlings jewellers for hand made trinkets and sparkly things. Lovely pubs to eat in and great </span>\n",
       "<span style=\"color: #d4b702; text-decoration-color: #d4b702; font-weight: bold\">walks. The Queen consort has a house at Reybridge too!\\n\\n2. [Bath Filming Locations – The Best Places to </span>\n",
       "<span style=\"color: #d4b702; text-decoration-color: #d4b702; font-weight: bold\">Visit](https://inandbeyondbath.com/filming-in-bath/)\\nDate published: Nov 12, 2024\\nSource: In &amp; Beyond </span>\n",
       "<span style=\"color: #d4b702; text-decoration-color: #d4b702; font-weight: bold\">Bath\\n\\nFilming in Bath has become increasingly popular, leaving the city with lots of iconic scenes from the big </span>\n",
       "<span style=\"color: #d4b702; text-decoration-color: #d4b702; font-weight: bold\">screen. Discover iconic and lesser-known spots!\\n\\n3. [Great British Railway </span>\n",
       "<span style=\"color: #d4b702; text-decoration-color: #d4b702; font-weight: bold\">Journeys](https://en.wikipedia.org/wiki/Great_British_Railway_Journeys)\\nDate published: Apr 5, 2024\\nSource: </span>\n",
       "<span style=\"color: #d4b702; text-decoration-color: #d4b702; font-weight: bold\">Wikipedia\\n\\nThe series features Portillo travelling around the railway networks of Great Britain, Ireland, and the</span>\n",
       "<span style=\"color: #d4b702; text-decoration-color: #d4b702; font-weight: bold\">Isle of Man, referring to Bradshaw's Guide\\n\\n4. [Sports Stadia </span>\n",
       "<span style=\"color: #d4b702; text-decoration-color: #d4b702; font-weight: bold\">Tour](https://yeoldeenglandtours.co.uk/our-tours-2/private-london-walking-tours/sports-stadia-tour/)\\nDate </span>\n",
       "<span style=\"color: #d4b702; text-decoration-color: #d4b702; font-weight: bold\">published: Mar 13, 2024\\nSource: Ye Olde England Tours\\n\\nLord's Cricket Ground isn't just a sporting arena, it's </span>\n",
       "<span style=\"color: #d4b702; text-decoration-color: #d4b702; font-weight: bold\">close to a religious experience. Perhaps the oldest sporting ground in the world! Home to the legendary ...\\n\\n5. </span>\n",
       "<span style=\"color: #d4b702; text-decoration-color: #d4b702; font-weight: bold\">[Backroads Britain Tours LLC](https://www.facebook.com/p/Backroads-Britain-Tours-LLC-61567194027153/)\\nSource: </span>\n",
       "<span style=\"color: #d4b702; text-decoration-color: #d4b702; font-weight: bold\">Facebook · Backroads Britain Tours LLC\\n\\nAt the entrance to the Lacock Abbey grounds is the Fox Talbot Museum </span>\n",
       "<span style=\"color: #d4b702; text-decoration-color: #d4b702; font-weight: bold\">dedicated to William Henry Fox Talbot, who invented the positive-negative film process ...\\n\\n6. [visitor </span>\n",
       "<span style=\"color: #d4b702; text-decoration-color: #d4b702; font-weight: bold\">guide](https://www.visitwiltshire.co.uk/dbimgs/Visit%20Wilts%20Visitor%20Guide%202024%20WEB%20DPS.pdf)\\nDate </span>\n",
       "<span style=\"color: #d4b702; text-decoration-color: #d4b702; font-weight: bold\">published: Jul 27, 2024\\nSource: Visit Wiltshire\\n\\nAre you ready to plan an extraordinary holiday for the upcoming</span>\n",
       "<span style=\"color: #d4b702; text-decoration-color: #d4b702; font-weight: bold\">year? If you're considering a staycation, look no further than Wiltshire.\\n\\n7. [Wolf Hall filming locations | </span>\n",
       "<span style=\"color: #d4b702; text-decoration-color: #d4b702; font-weight: bold\">Where was the BBC drama ...](https://www.radiotimes.com/tv/drama/wolf-hall-filming-locations/)\\nDate published: Dec</span>\n",
       "<span style=\"color: #d4b702; text-decoration-color: #d4b702; font-weight: bold\">15, 2024\\nSource: Radio Times\\n\\nEverything you need to know about where BBC period drama Wolf Hall was filmed as </span>\n",
       "<span style=\"color: #d4b702; text-decoration-color: #d4b702; font-weight: bold\">it returns for The Mirror and the Light.\\n\\n8. [The beautiful village that links Harry Potter and Downton </span>\n",
       "<span style=\"color: #d4b702; text-decoration-color: #d4b702; font-weight: bold\">...](https://www.express.co.uk/news/uk/1881906/beautiful-village-harry-potter-downton-abbey)\\nDate published: Mar </span>\n",
       "<span style=\"color: #d4b702; text-decoration-color: #d4b702; font-weight: bold\">31, 2024\\nSource: Daily Express\\n\\nThe most famous place is Lacock Abbey which was used as Hogwarts School. The </span>\n",
       "<span style=\"color: #d4b702; text-decoration-color: #d4b702; font-weight: bold\">cloisters inside were used as the school's corridors.\"}, {'Location': 'Durham Cathedral', 'Nearby Cricket Grounds':</span>\n",
       "<span style=\"color: #d4b702; text-decoration-color: #d4b702; font-weight: bold\">\"## Search Results\\n0. [Riverside Cricket Ground (2025) - All You Need to Know </span>\n",
       "<span style=\"color: #d4b702; text-decoration-color: #d4b702; font-weight: bold\">...](https://www.tripadvisor.com/Attraction_Review-g1156051-d8377756-Reviews-Riverside_Cricket_Ground-Chester_le_St</span>\n",
       "<span style=\"color: #d4b702; text-decoration-color: #d4b702; font-weight: bold\">reet_County_Durham_England.html)\\nDate published: Jun 21, 2024\\nSource: Tripadvisor\\n\\nThe area ; Durham Cricket. </span>\n",
       "<span style=\"color: #d4b702; text-decoration-color: #d4b702; font-weight: bold\">4.0. (68) ; Riverside Park. 4.5. (130) ; Gateshead. 5.0. (1) ; Church of St Mary and St Cuthbert. 4.6. (34) ; </span>\n",
       "<span style=\"color: #d4b702; text-decoration-color: #d4b702; font-weight: bold\">Lambton Park. 3.6. (11).\\n\\n1. [England's most beautiful cricket </span>\n",
       "<span style=\"color: #d4b702; text-decoration-color: #d4b702; font-weight: bold\">grounds](https://www.telegraph.co.uk/travel/destinations/europe/united-kingdom/galleries/Englands-most-beautiful-cr</span>\n",
       "<span style=\"color: #d4b702; text-decoration-color: #d4b702; font-weight: bold\">icket-grounds/)\\nDate published: Sep 16, 2024\\nSource: The Telegraph\\n\\nEmirates Durham International Cricket </span>\n",
       "<span style=\"color: #d4b702; text-decoration-color: #d4b702; font-weight: bold\">Ground Set in parkland with the beautiful Lumley Castle in the background. It is home to Durham County Cricket </span>\n",
       "<span style=\"color: #d4b702; text-decoration-color: #d4b702; font-weight: bold\">Club, as ...\\n\\n2. [Explore](https://www.lumleycastle.com/places-to-explore/)\\nDate published: Sep 28, </span>\n",
       "<span style=\"color: #d4b702; text-decoration-color: #d4b702; font-weight: bold\">2024\\nSource: Lumley Castle\\n\\nWalking distance from Lumley Castle, Riverside is home to Durham County Cricket Club</span>\n",
       "<span style=\"color: #d4b702; text-decoration-color: #d4b702; font-weight: bold\">and has hosted world-class events, including the 2013 Ashes, with a modern ...\\n\\n3. [Bit of a sticky wicket for </span>\n",
       "<span style=\"color: #d4b702; text-decoration-color: #d4b702; font-weight: bold\">today's cricket ❤️](https://www.facebook.com/groups/DurhamPictures/posts/1828025637608307/)\\nSource: Facebook · </span>\n",
       "<span style=\"color: #d4b702; text-decoration-color: #d4b702; font-weight: bold\">Pictures of Durham\\n\\nThe racecourse ground is the one further up towards the city centre. This is Durham city's </span>\n",
       "<span style=\"color: #d4b702; text-decoration-color: #d4b702; font-weight: bold\">ground. They have Amaani in the clubhouse now so you can get a ...\\n\\n4. [Marylebone Cricket </span>\n",
       "<span style=\"color: #d4b702; text-decoration-color: #d4b702; font-weight: bold\">Club](https://en.wikipedia.org/wiki/Marylebone_Cricket_Club)\\nDate published: Oct 1, 2024\\nSource: </span>\n",
       "<span style=\"color: #d4b702; text-decoration-color: #d4b702; font-weight: bold\">Wikipedia\\n\\nMarylebone Cricket Club (MCC) is a cricket club founded in 1787 and based since 1814 at Lord's Cricket</span>\n",
       "<span style=\"color: #d4b702; text-decoration-color: #d4b702; font-weight: bold\">Ground, which it owns, in St John's Wood, London.\\n\\n5. [Locate the Cricket Ground </span>\n",
       "<span style=\"color: #d4b702; text-decoration-color: #d4b702; font-weight: bold\">Quiz](https://www.funtrivia.com/quiz/sports/locate-the-cricket-ground-415477.html)\\nDate published: Feb 13, </span>\n",
       "<span style=\"color: #d4b702; text-decoration-color: #d4b702; font-weight: bold\">2024\\nSource: FunTrivia\\n\\nThe map shows some of the most well known cricket grounds of the UK. All you need to do </span>\n",
       "<span style=\"color: #d4b702; text-decoration-color: #d4b702; font-weight: bold\">is put the name of the ground next to the correct number.\\n\\n6. [Things To Do In </span>\n",
       "<span style=\"color: #d4b702; text-decoration-color: #d4b702; font-weight: bold\">Durham](https://seaham-hall.co.uk/about/things-to-do/)\\nDate published: Jan 27, 2024\\nSource: Seaham Hall\\n\\n... </span>\n",
       "<span style=\"color: #d4b702; text-decoration-color: #d4b702; font-weight: bold\">Durham International Cricket Ground or Sedgefield Racecourse. Seaham Golf Club boasts a heathland 18-hole course </span>\n",
       "<span style=\"color: #d4b702; text-decoration-color: #d4b702; font-weight: bold\">overlooking a stunning coastline. With ...\\n\\n7. [SEAT UNIQUE RIVERSIDE . DURHAM </span>\n",
       "<span style=\"color: #d4b702; text-decoration-color: #d4b702; font-weight: bold\">CRICKET](https://www.durhamcricket.co.uk/wp-content/uploads/2024/01/Meet-Party-Spectate-Email.pdf)\\nDate published:</span>\n",
       "<span style=\"color: #d4b702; text-decoration-color: #d4b702; font-weight: bold\">Jan 23, 2024\\nSource: Durham Cricket\\n\\nExperience the allure of our unique venue, offering an unforgettable </span>\n",
       "<span style=\"color: #d4b702; text-decoration-color: #d4b702; font-weight: bold\">setting for conferences, meetings, and private events, far removed from the bustling.\\n\\n8. </span>\n",
       "<span style=\"color: #d4b702; text-decoration-color: #d4b702; font-weight: bold\">[Chester-le-Street](https://en.wikipedia.org/wiki/Chester-le-Street)\\nDate published: Jul 7, 2024\\nSource: </span>\n",
       "<span style=\"color: #d4b702; text-decoration-color: #d4b702; font-weight: bold\">Wikipedia\\n\\nThe Riverside Ground, known for sponsorship reasons as the Banks Homes Riverside, is home to Durham </span>\n",
       "<span style=\"color: #d4b702; text-decoration-color: #d4b702; font-weight: bold\">County Cricket Club which became a first class county in ...\"}, {'Location': 'County Wicklow', 'Nearby Cricket </span>\n",
       "<span style=\"color: #d4b702; text-decoration-color: #d4b702; font-weight: bold\">Grounds': \"## Search Results\\n0. [Oak Hill Cricket Club Wicklow Ireland | Cricket </span>\n",
       "<span style=\"color: #d4b702; text-decoration-color: #d4b702; font-weight: bold\">Ground](https://possible11.com/ground/oak-hill-cricket-club-565/)\\nDate published: Oct 28, 2024\\nSource: </span>\n",
       "<span style=\"color: #d4b702; text-decoration-color: #d4b702; font-weight: bold\">Possible11\\n\\nExplore Oak Hill Cricket Club Wicklow Pitch Report, Capacity, Weather Updates and Cricket Match </span>\n",
       "<span style=\"color: #d4b702; text-decoration-color: #d4b702; font-weight: bold\">Stats.\\n\\n1. [Hi can anyone tell me where Wickersley cricket club was situated </span>\n",
       "<span style=\"color: #d4b702; text-decoration-color: #d4b702; font-weight: bold\">...](https://www.facebook.com/groups/942255969199144/posts/7388232107934799/)\\nDate published: Dec 19, </span>\n",
       "<span style=\"color: #d4b702; text-decoration-color: #d4b702; font-weight: bold\">2024\\nSource: Facebook\\n\\nJun 8\\U000f078b\\U000f17e0. \\U000f07dd. In the middle of Bray, County Wicklow, is the </span>\n",
       "<span style=\"color: #d4b702; text-decoration-color: #d4b702; font-weight: bold\">oldest sports ground in Ireland. The Carlisle grounds are home to Bray wanderers founded in 1922 ...\\n\\n2. [Cricket</span>\n",
       "<span style=\"color: #d4b702; text-decoration-color: #d4b702; font-weight: bold\">in Ireland](https://en.wikipedia.org/wiki/Cricket_in_Ireland)\\nDate published: Jul 15, 2024\\nSource: </span>\n",
       "<span style=\"color: #d4b702; text-decoration-color: #d4b702; font-weight: bold\">Wikipedia\\n\\nInternational cricket grounds ; The Village · Malahide Cricket Club · Malahide, Leinster Cricket </span>\n",
       "<span style=\"color: #d4b702; text-decoration-color: #d4b702; font-weight: bold\">Union, 11,500 ; Bready · Bready Cricket Club · Magheramason ...\\n\\n3. [Ireland International Venues - The </span>\n",
       "<span style=\"color: #d4b702; text-decoration-color: #d4b702; font-weight: bold\">CricketEurope Archives](https://cricketeuropearchive.com/HISTORY/VENUES/index.shtml)\\nDate published: Sep 8, </span>\n",
       "<span style=\"color: #d4b702; text-decoration-color: #d4b702; font-weight: bold\">2024\\nSource: cricketeuropearchive.com\\n\\nGrounds which have hosted Ireland men's international matches - including</span>\n",
       "<span style=\"color: #d4b702; text-decoration-color: #d4b702; font-weight: bold\">photos, articles, video, maps, and all the scorecards and ground records.\\n\\n4. [Sandyford Cricket Club, Marlay </span>\n",
       "<span style=\"color: #d4b702; text-decoration-color: #d4b702; font-weight: bold\">Park (@cricketatmarlay) / ...](https://x.com/cricketatmarlay)\\nSource: X · cricketatmarlay\\n\\nSandyford cricket </span>\n",
       "<span style=\"color: #d4b702; text-decoration-color: #d4b702; font-weight: bold\">club, established in 1984 and located at Marlay Park. Account run by @aadityashah4065, @larakshya and </span>\n",
       "<span style=\"color: #d4b702; text-decoration-color: #d4b702; font-weight: bold\">@kirankhegde.\\n\\n5. [Kerry island and Wicklow village's unlikely links marked </span>\n",
       "<span style=\"color: #d4b702; text-decoration-color: #d4b702; font-weight: bold\">...](https://www.independent.ie/regionals/kerry/south-kerry-news/kerry-island-and-wicklow-villages-unlikely-links-m</span>\n",
       "<span style=\"color: #d4b702; text-decoration-color: #d4b702; font-weight: bold\">arked-on-the-cricket-pitch/a196063828.html)\\nDate published: Sep 12, 2024\\nSource: The Irish Independent\\n\\nThe </span>\n",
       "<span style=\"color: #d4b702; text-decoration-color: #d4b702; font-weight: bold\">unlikely but strong connection between Ashford in County Wicklow and Kerry's Valentia Island was celebrated once </span>\n",
       "<span style=\"color: #d4b702; text-decoration-color: #d4b702; font-weight: bold\">again on Saturday as a local cricket ...\\n\\n6. [Bray, County </span>\n",
       "<span style=\"color: #d4b702; text-decoration-color: #d4b702; font-weight: bold\">Wicklow](https://en.wikipedia.org/wiki/Bray,_County_Wicklow)\\nDate published: Feb 21, 2024\\nSource: </span>\n",
       "<span style=\"color: #d4b702; text-decoration-color: #d4b702; font-weight: bold\">Wikipedia\\n\\nBray is a coastal town in north County Wicklow, Ireland. It is situated about 20 km (12 mi) south of </span>\n",
       "<span style=\"color: #d4b702; text-decoration-color: #d4b702; font-weight: bold\">Dublin city centre on the east coast, and parts of the ...\\n\\n7. [Avoca Mines - The Cornish in County Wicklow, </span>\n",
       "<span style=\"color: #d4b702; text-decoration-color: #d4b702; font-weight: bold\">Ireland](https://www.cousinjacksworld.com/destinations/cornish-avoca/)\\nDate published: Mar 7, 2024\\nSource: Cousin</span>\n",
       "<span style=\"color: #d4b702; text-decoration-color: #d4b702; font-weight: bold\">Jacks World\\n\\nAvoca was one the richest copper deposits in the British Isles. Learn about the story of the Cornish</span>\n",
       "<span style=\"color: #d4b702; text-decoration-color: #d4b702; font-weight: bold\">in Avoca and the Williams family.\\n\\n8. [Green light for 4000-seater National Cricket </span>\n",
       "<span style=\"color: #d4b702; text-decoration-color: #d4b702; font-weight: bold\">Stadium](https://www.reddit.com/r/irishpolitics/comments/1es68vo/green_light_for_4000seater_national_cricket/)\\nSou</span>\n",
       "<span style=\"color: #d4b702; text-decoration-color: #d4b702; font-weight: bold\">rce: Reddit · r/irishpolitics\\n\\nah shure isn't it great to see the lads do so well in the cricket. No ... Meath, </span>\n",
       "<span style=\"color: #d4b702; text-decoration-color: #d4b702; font-weight: bold\">Kildare, Wicklow, or Louth would do, close enough but not in Dublin.\\n\\n9. [Rathdrum &amp; District Community Notice </span>\n",
       "<span style=\"color: #d4b702; text-decoration-color: #d4b702; font-weight: bold\">Board](https://www.facebook.com/groups/245208359020984/permalink/2399532353588563/)\\nSource: Facebook\\n\\nAn </span>\n",
       "<span style=\"color: #d4b702; text-decoration-color: #d4b702; font-weight: bold\">outstanding cricketer and founder of the Phoenix Club, he established Avondale as their home ground.\"}]}</span>\n",
       "</pre>\n"
      ],
      "text/plain": [
       "\u001b[1;38;2;212;183;2mFinal answer: {'Air Travel Times from Ahmedabad to Harry Potter Filming Locations': [{'Location': 'Warner Bros. \u001b[0m\n",
       "\u001b[1;38;2;212;183;2mStudio Tour London (Leavesden)', 'Travel Time (hours)': 8.79}, {'Location': \"King's Cross Station, London\", 'Travel\u001b[0m\n",
       "\u001b[1;38;2;212;183;2mTime (hours)': 8.77}, {'Location': 'Leadenhall Market, London', 'Travel Time (hours)': 8.76}, {'Location': 'Alnwick\u001b[0m\n",
       "\u001b[1;38;2;212;183;2mCastle, Northumberland', 'Travel Time (hours)': 8.88}, {'Location': 'Lacock Abbey, Wiltshire', 'Travel Time \u001b[0m\n",
       "\u001b[1;38;2;212;183;2m(hours)': 8.92}, {'Location': 'Durham Cathedral, Durham', 'Travel Time (hours)': 8.87}, {'Location': 'Freshwater \u001b[0m\n",
       "\u001b[1;38;2;212;183;2mWest, Pembrokeshire', 'Travel Time (hours)': 9.14}, {'Location': 'Glenfinnan Viaduct, Scottish Highlands', 'Travel \u001b[0m\n",
       "\u001b[1;38;2;212;183;2mTime (hours)': 9.14}, {'Location': 'County Wicklow, Ireland', 'Travel Time (hours)': 9.25}], 'Famous Cricket \u001b[0m\n",
       "\u001b[1;38;2;212;183;2mGrounds Nearby': [{'Location': 'London', 'Nearby Cricket Grounds': \"## Search Results\\n0. [List of cricket grounds \u001b[0m\n",
       "\u001b[1;38;2;212;183;2min England and Wales](https://en.wikipedia.org/wiki/List_of_cricket_grounds_in_England_and_Wales)\\nDate published: \u001b[0m\n",
       "\u001b[1;38;2;212;183;2mApr 2, 2024\\nSource: Wikipedia\\n\\nHobbs' Ground† (Barclays Bank Ground), Norbury · C. I. Thornton's XI (1888). Kew \u001b[0m\n",
       "\u001b[1;38;2;212;183;2mGreen · Kew, London (1730–32). Laleham Burway†, near Chertsey, Surrey ...\\n\\n1. [The 10 Oldest Cricket Grounds In \u001b[0m\n",
       "\u001b[1;38;2;212;183;2mThe World](https://www.worldatlas.com/articles/the-10-oldest-cricket-grounds-in-the-world.html)\\nDate published: \u001b[0m\n",
       "\u001b[1;38;2;212;183;2mOct 17, 2024\\nSource: WorldAtlas\\n\\nLord's Cricket Ground, in St. John's Wood, London, is the oldest cricket venue \u001b[0m\n",
       "\u001b[1;38;2;212;183;2min the world and also one of the oldest sporting stadiums.\\n\\n2. [Is Lord Cricket Ground Tour worth \u001b[0m\n",
       "\u001b[1;38;2;212;183;2mit?](https://www.reddit.com/r/Cricket/comments/1evhxlo/is_lord_cricket_ground_tour_worth_it/)\\nSource: Reddit · \u001b[0m\n",
       "\u001b[1;38;2;212;183;2mr/Cricket\\n\\nIts 80 GBP for Lords one (45 GBP for Oval) for the whole family. But we're frugal and every \u001b[0m\n",
       "\u001b[1;38;2;212;183;2mmuseum/palace visit in London adds up.\\n\\n3. [The 10 most picturesque cricket grounds in \u001b[0m\n",
       "\u001b[1;38;2;212;183;2mBritain](https://www.telegraph.co.uk/cricket/0/10-best-picturesque-cricket-grounds-england-wales/)\\nDate published:\u001b[0m\n",
       "\u001b[1;38;2;212;183;2mMar 26, 2024\\nSource: The Telegraph\\n\\nThe 10 most picturesque cricket grounds in Britain · Abergavenny · Bamburgh \u001b[0m\n",
       "\u001b[1;38;2;212;183;2m· Knole Park · Monkton Combe · Stoneleigh · Threlkeld · Valley of the Rocks.\\n\\n4. [What is the home stadium for \u001b[0m\n",
       "\u001b[1;38;2;212;183;2mthe English cricket team?](https://www.quora.com/What-is-the-home-stadium-for-the-English-cricket-team)\\nSource: \u001b[0m\n",
       "\u001b[1;38;2;212;183;2mQuora\\n\\nLords, The Oval, The Rose Bowl, Edgbaston, Trent Bridge, Old Trafford, Headingly and Chester-le-Street. \u001b[0m\n",
       "\u001b[1;38;2;212;183;2mOne day matches are played at several other grounds in ...\\n\\n5. [Rose Bowl (cricket \u001b[0m\n",
       "\u001b[1;38;2;212;183;2mground)](https://en.wikipedia.org/wiki/Rose_Bowl_(cricket_ground))\\nDate published: Jan 23, 2024\\nSource: \u001b[0m\n",
       "\u001b[1;38;2;212;183;2mWikipedia\\n\\nThe Rose Bowl, known for sponsorship reasons as Utilita Bowl, is a cricket ground and hotel complex in\u001b[0m\n",
       "\u001b[1;38;2;212;183;2mWest End, Hampshire.\\n\\n6. [The Oval Cricket Ground is London SE11. My \u001b[0m\n",
       "\u001b[1;38;2;212;183;2mfriend](https://www.facebook.com/groups/6143110432467287/posts/7623610427750606/)\\nSource: Facebook · I grew up in \u001b[0m\n",
       "\u001b[1;38;2;212;183;2mSouth East London\\n\\n... best cricket ground The Oval London. It is every cricketer's dream to play at such \u001b[0m\n",
       "\u001b[1;38;2;212;183;2mprestigious venue. On 21st of September 2024, our club Peper Harrow is ...\\n\\n7. [Lord's Cricket Ground - Tours & \u001b[0m\n",
       "\u001b[1;38;2;212;183;2mTickets Icon](https://www.stadiumtourtickets.com/en/cricket/london/lords-cricket-ground)\\nDate published: Jun 21, \u001b[0m\n",
       "\u001b[1;38;2;212;183;2m2024\\nSource: stadiumtourtickets.com\\n\\nHome to the Marylebone Cricket Club (MCC) and steeped in history, Lord's \u001b[0m\n",
       "\u001b[1;38;2;212;183;2moffers an immersive stadium tour that promises an unforgettable experience for cricket ...\\n\\n8. [Cricket Tours: 7 \u001b[0m\n",
       "\u001b[1;38;2;212;183;2mUnforgettable London \u001b[0m\n",
       "\u001b[1;38;2;212;183;2mExperiences](https://londonsightseeingtaxitours.com/cricket-tours-explore-londons-cricketing-heritage/)\\nDate \u001b[0m\n",
       "\u001b[1;38;2;212;183;2mpublished: Nov 18, 2024\\nSource: London Sightseeing Taxi Tours\\n\\nVisiting iconic cricket grounds such as Lord's \u001b[0m\n",
       "\u001b[1;38;2;212;183;2mCricket Ground, known as the 'Home of Cricket'; Exploring cricket-related exhibits at the Museum of London.\"}, \u001b[0m\n",
       "\u001b[1;38;2;212;183;2m{'Location': 'Alnwick Castle', 'Nearby Cricket Grounds': \"## Search Results\\n0. [Bamburgh Castle Cricket \u001b[0m\n",
       "\u001b[1;38;2;212;183;2mClub](https://www.facebook.com/p/Bamburgh-Castle-Cricket-Club-100091658721369/)\\nSource: Facebook · Bamburgh Castle\u001b[0m\n",
       "\u001b[1;38;2;212;183;2mCricket Club\\n\\nReformed in 2000s BCCC play friendly cricket games on Sundays, the majority being on the Castle \u001b[0m\n",
       "\u001b[1;38;2;212;183;2mGreen.\\n\\n1. [Sports - Alnwick & District Local History Society](http://www.alnwicklhs.org.uk/sports/)\\nDate \u001b[0m\n",
       "\u001b[1;38;2;212;183;2mpublished: Jul 29, 2024\\nSource: alnwicklhs.org.uk\\n\\nIn 1837, Alnwick Cricket Club was founded by the Duke who had\u001b[0m\n",
       "\u001b[1;38;2;212;183;2menjoyed cricket in London and introduced it to the landowners and farmers of the county. From 1844 ...\\n\\n2. \u001b[0m\n",
       "\u001b[1;38;2;212;183;2m[Bamburgh Cricket Club to host first game of the season at \u001b[0m\n",
       "\u001b[1;38;2;212;183;2m...](https://www.northumberlandgazette.co.uk/sport/cricket/bamburgh-cricket-club-to-host-first-game-of-the-season-a\u001b[0m\n",
       "\u001b[1;38;2;212;183;2mt-stunning-home-ground-4590773)\\nDate published: Apr 15, 2024\\nSource: Northumberland Gazette\\n\\nBamburgh Castle CC\u001b[0m\n",
       "\u001b[1;38;2;212;183;2mopen their season on the Castle Green with a visit from Duncombe Park this Sunday (April 21).\\n\\n3. [WARKWORTH \u001b[0m\n",
       "\u001b[1;38;2;212;183;2mCRICKET CLUB - 2025 Reviews & \u001b[0m\n",
       "\u001b[1;38;2;212;183;2m...](https://www.tripadvisor.co.uk/Restaurant_Review-g1006175-d26457876-Reviews-Warkworth_Cricket_Club-Warkworth_Am\u001b[0m\n",
       "\u001b[1;38;2;212;183;2mble_Northumberland_England.html)\\nDate published: Jul 17, 2024\\nSource: Tripadvisor\\n\\nTea and coffee. Also has a \u001b[0m\n",
       "\u001b[1;38;2;212;183;2mbar. Great spot to stop and soak up the spectacular views of the castle.\\n\\n4. [Bamburgh \u001b[0m\n",
       "\u001b[1;38;2;212;183;2mCastle](https://www.facebook.com/groups/1546596552319832/posts/3763447017301430/)\\nSource: Facebook · For the Love \u001b[0m\n",
       "\u001b[1;38;2;212;183;2mof Northumberland UK\\n\\nBamburgh Castle Bamburgh Castle in Northumberland UK, a historic location with a cricket \u001b[0m\n",
       "\u001b[1;38;2;212;183;2mground.\\n\\n5. [Bamburgh Castle History and Film \u001b[0m\n",
       "\u001b[1;38;2;212;183;2mLocation](https://www.tiktok.com/@thegreykingdomhistory/video/7382574337984875809)\\nSource: TikTok · \u001b[0m\n",
       "\u001b[1;38;2;212;183;2mthegreykingdomhistory\\n\\nBamburgh Castle: A Coastal Fortress Through Time Nestled on the Northumberland coast, \u001b[0m\n",
       "\u001b[1;38;2;212;183;2mBamburgh Castle stands as a testament to centuries of history.\\n\\n6. [Explore \u001b[0m\n",
       "\u001b[1;38;2;212;183;2mCorbridge](https://www.visitnorthumberland.com/explore/destinations/towns-villages/corbridge)\\nDate published: May \u001b[0m\n",
       "\u001b[1;38;2;212;183;2m29, 2024\\nSource: Visit Northumberland\\n\\nAydon Castle. Tucked away one mile from the village of Corbridge is Aydon\u001b[0m\n",
       "\u001b[1;38;2;212;183;2mCastle; the perfect location for a family day out.\\n\\n7. [The Clock Tower at Bamburgh Castle holiday home, \u001b[0m\n",
       "\u001b[1;38;2;212;183;2m...](https://www.crabtreeandcrabtree.com/properties/the-clock-tower-at-bamburgh-castle/)\\nDate published: Oct 4, \u001b[0m\n",
       "\u001b[1;38;2;212;183;2m2024\\nSource: Crabtree & Crabtree\\n\\nThis room has magnificent far reaching views over the West Ward of the castle \u001b[0m\n",
       "\u001b[1;38;2;212;183;2malong the coast to Holy Island and across the iconic cricket pitch over the ...\\n\\n8. [Northumberland Activities & \u001b[0m\n",
       "\u001b[1;38;2;212;183;2mAttractions - Fowberry Tower](https://www.fowberrytower.com/activities)\\nDate published: Dec 28, 2024\\nSource: \u001b[0m\n",
       "\u001b[1;38;2;212;183;2mfowberrytower.com\\n\\nThe Cricket Green in the shadows of Bamburgh Castle walls has been used since the 1800's. \u001b[0m\n",
       "\u001b[1;38;2;212;183;2mMatches are usually played on a Sunday afternoon, which just adds to ...\\n\\n9. [Castle View, \u001b[0m\n",
       "\u001b[1;38;2;212;183;2mBamburgh](https://www.coolplaces.co.uk/self-catering/uk/england/north-east-england/northumberland/bamburgh/12927-ca\u001b[0m\n",
       "\u001b[1;38;2;212;183;2mstle-view)\\nDate published: Jan 17, 2024\\nSource: Cool.Places.UK\\n\\nFor a small Northumberland village, that's \u001b[0m\n",
       "\u001b[1;38;2;212;183;2mrather a lot: three miles of sand, a great seafood restaurant, pubs, tea rooms, quaint streets – and a cricket \u001b[0m\n",
       "\u001b[1;38;2;212;183;2mpitch!\"}, {'Location': 'Lacock Abbey', 'Nearby Cricket Grounds': \"## Search Results\\n0. [Gloucester Cricket Club \u001b[0m\n",
       "\u001b[1;38;2;212;183;2mGround Tickets \u001b[0m\n",
       "\u001b[1;38;2;212;183;2m[2025]](https://www.trip.com/travel-guide/attraction/gloucester/gloucester-cricket-club-ground-142348916/)\\nDate \u001b[0m\n",
       "\u001b[1;38;2;212;183;2mpublished: Apr 6, 2024\\nSource: Trip.com\\n\\nBook Gloucester Cricket Club Ground tickets online with Trip.com. Check\u001b[0m\n",
       "\u001b[1;38;2;212;183;2mticket prices, discover deals, read real visitor reviews, view updated opening hours ...\\n\\n1. [What are some tips \u001b[0m\n",
       "\u001b[1;38;2;212;183;2mfor visiting Lacock and Bowden \u001b[0m\n",
       "\u001b[1;38;2;212;183;2mHill?](https://www.facebook.com/groups/203867930146958/posts/1733353537198382/)\\nSource: Facebook · Lacock \u001b[0m\n",
       "\u001b[1;38;2;212;183;2mVillage\\n\\nVisit Watlings jewellers for hand made trinkets and sparkly things. Lovely pubs to eat in and great \u001b[0m\n",
       "\u001b[1;38;2;212;183;2mwalks. The Queen consort has a house at Reybridge too!\\n\\n2. [Bath Filming Locations – The Best Places to \u001b[0m\n",
       "\u001b[1;38;2;212;183;2mVisit](https://inandbeyondbath.com/filming-in-bath/)\\nDate published: Nov 12, 2024\\nSource: In & Beyond \u001b[0m\n",
       "\u001b[1;38;2;212;183;2mBath\\n\\nFilming in Bath has become increasingly popular, leaving the city with lots of iconic scenes from the big \u001b[0m\n",
       "\u001b[1;38;2;212;183;2mscreen. Discover iconic and lesser-known spots!\\n\\n3. [Great British Railway \u001b[0m\n",
       "\u001b[1;38;2;212;183;2mJourneys](https://en.wikipedia.org/wiki/Great_British_Railway_Journeys)\\nDate published: Apr 5, 2024\\nSource: \u001b[0m\n",
       "\u001b[1;38;2;212;183;2mWikipedia\\n\\nThe series features Portillo travelling around the railway networks of Great Britain, Ireland, and the\u001b[0m\n",
       "\u001b[1;38;2;212;183;2mIsle of Man, referring to Bradshaw's Guide\\n\\n4. [Sports Stadia \u001b[0m\n",
       "\u001b[1;38;2;212;183;2mTour](https://yeoldeenglandtours.co.uk/our-tours-2/private-london-walking-tours/sports-stadia-tour/)\\nDate \u001b[0m\n",
       "\u001b[1;38;2;212;183;2mpublished: Mar 13, 2024\\nSource: Ye Olde England Tours\\n\\nLord's Cricket Ground isn't just a sporting arena, it's \u001b[0m\n",
       "\u001b[1;38;2;212;183;2mclose to a religious experience. Perhaps the oldest sporting ground in the world! Home to the legendary ...\\n\\n5. \u001b[0m\n",
       "\u001b[1;38;2;212;183;2m[Backroads Britain Tours LLC](https://www.facebook.com/p/Backroads-Britain-Tours-LLC-61567194027153/)\\nSource: \u001b[0m\n",
       "\u001b[1;38;2;212;183;2mFacebook · Backroads Britain Tours LLC\\n\\nAt the entrance to the Lacock Abbey grounds is the Fox Talbot Museum \u001b[0m\n",
       "\u001b[1;38;2;212;183;2mdedicated to William Henry Fox Talbot, who invented the positive-negative film process ...\\n\\n6. [visitor \u001b[0m\n",
       "\u001b[1;38;2;212;183;2mguide](https://www.visitwiltshire.co.uk/dbimgs/Visit%20Wilts%20Visitor%20Guide%202024%20WEB%20DPS.pdf)\\nDate \u001b[0m\n",
       "\u001b[1;38;2;212;183;2mpublished: Jul 27, 2024\\nSource: Visit Wiltshire\\n\\nAre you ready to plan an extraordinary holiday for the upcoming\u001b[0m\n",
       "\u001b[1;38;2;212;183;2myear? If you're considering a staycation, look no further than Wiltshire.\\n\\n7. [Wolf Hall filming locations | \u001b[0m\n",
       "\u001b[1;38;2;212;183;2mWhere was the BBC drama ...](https://www.radiotimes.com/tv/drama/wolf-hall-filming-locations/)\\nDate published: Dec\u001b[0m\n",
       "\u001b[1;38;2;212;183;2m15, 2024\\nSource: Radio Times\\n\\nEverything you need to know about where BBC period drama Wolf Hall was filmed as \u001b[0m\n",
       "\u001b[1;38;2;212;183;2mit returns for The Mirror and the Light.\\n\\n8. [The beautiful village that links Harry Potter and Downton \u001b[0m\n",
       "\u001b[1;38;2;212;183;2m...](https://www.express.co.uk/news/uk/1881906/beautiful-village-harry-potter-downton-abbey)\\nDate published: Mar \u001b[0m\n",
       "\u001b[1;38;2;212;183;2m31, 2024\\nSource: Daily Express\\n\\nThe most famous place is Lacock Abbey which was used as Hogwarts School. The \u001b[0m\n",
       "\u001b[1;38;2;212;183;2mcloisters inside were used as the school's corridors.\"}, {'Location': 'Durham Cathedral', 'Nearby Cricket Grounds':\u001b[0m\n",
       "\u001b[1;38;2;212;183;2m\"## Search Results\\n0. [Riverside Cricket Ground (2025) - All You Need to Know \u001b[0m\n",
       "\u001b[1;38;2;212;183;2m...](https://www.tripadvisor.com/Attraction_Review-g1156051-d8377756-Reviews-Riverside_Cricket_Ground-Chester_le_St\u001b[0m\n",
       "\u001b[1;38;2;212;183;2mreet_County_Durham_England.html)\\nDate published: Jun 21, 2024\\nSource: Tripadvisor\\n\\nThe area ; Durham Cricket. \u001b[0m\n",
       "\u001b[1;38;2;212;183;2m4.0. (68) ; Riverside Park. 4.5. (130) ; Gateshead. 5.0. (1) ; Church of St Mary and St Cuthbert. 4.6. (34) ; \u001b[0m\n",
       "\u001b[1;38;2;212;183;2mLambton Park. 3.6. (11).\\n\\n1. [England's most beautiful cricket \u001b[0m\n",
       "\u001b[1;38;2;212;183;2mgrounds](https://www.telegraph.co.uk/travel/destinations/europe/united-kingdom/galleries/Englands-most-beautiful-cr\u001b[0m\n",
       "\u001b[1;38;2;212;183;2micket-grounds/)\\nDate published: Sep 16, 2024\\nSource: The Telegraph\\n\\nEmirates Durham International Cricket \u001b[0m\n",
       "\u001b[1;38;2;212;183;2mGround Set in parkland with the beautiful Lumley Castle in the background. It is home to Durham County Cricket \u001b[0m\n",
       "\u001b[1;38;2;212;183;2mClub, as ...\\n\\n2. [Explore](https://www.lumleycastle.com/places-to-explore/)\\nDate published: Sep 28, \u001b[0m\n",
       "\u001b[1;38;2;212;183;2m2024\\nSource: Lumley Castle\\n\\nWalking distance from Lumley Castle, Riverside is home to Durham County Cricket Club\u001b[0m\n",
       "\u001b[1;38;2;212;183;2mand has hosted world-class events, including the 2013 Ashes, with a modern ...\\n\\n3. [Bit of a sticky wicket for \u001b[0m\n",
       "\u001b[1;38;2;212;183;2mtoday's cricket ❤️](https://www.facebook.com/groups/DurhamPictures/posts/1828025637608307/)\\nSource: Facebook · \u001b[0m\n",
       "\u001b[1;38;2;212;183;2mPictures of Durham\\n\\nThe racecourse ground is the one further up towards the city centre. This is Durham city's \u001b[0m\n",
       "\u001b[1;38;2;212;183;2mground. They have Amaani in the clubhouse now so you can get a ...\\n\\n4. [Marylebone Cricket \u001b[0m\n",
       "\u001b[1;38;2;212;183;2mClub](https://en.wikipedia.org/wiki/Marylebone_Cricket_Club)\\nDate published: Oct 1, 2024\\nSource: \u001b[0m\n",
       "\u001b[1;38;2;212;183;2mWikipedia\\n\\nMarylebone Cricket Club (MCC) is a cricket club founded in 1787 and based since 1814 at Lord's Cricket\u001b[0m\n",
       "\u001b[1;38;2;212;183;2mGround, which it owns, in St John's Wood, London.\\n\\n5. [Locate the Cricket Ground \u001b[0m\n",
       "\u001b[1;38;2;212;183;2mQuiz](https://www.funtrivia.com/quiz/sports/locate-the-cricket-ground-415477.html)\\nDate published: Feb 13, \u001b[0m\n",
       "\u001b[1;38;2;212;183;2m2024\\nSource: FunTrivia\\n\\nThe map shows some of the most well known cricket grounds of the UK. All you need to do \u001b[0m\n",
       "\u001b[1;38;2;212;183;2mis put the name of the ground next to the correct number.\\n\\n6. [Things To Do In \u001b[0m\n",
       "\u001b[1;38;2;212;183;2mDurham](https://seaham-hall.co.uk/about/things-to-do/)\\nDate published: Jan 27, 2024\\nSource: Seaham Hall\\n\\n... \u001b[0m\n",
       "\u001b[1;38;2;212;183;2mDurham International Cricket Ground or Sedgefield Racecourse. Seaham Golf Club boasts a heathland 18-hole course \u001b[0m\n",
       "\u001b[1;38;2;212;183;2moverlooking a stunning coastline. With ...\\n\\n7. [SEAT UNIQUE RIVERSIDE . DURHAM \u001b[0m\n",
       "\u001b[1;38;2;212;183;2mCRICKET](https://www.durhamcricket.co.uk/wp-content/uploads/2024/01/Meet-Party-Spectate-Email.pdf)\\nDate published:\u001b[0m\n",
       "\u001b[1;38;2;212;183;2mJan 23, 2024\\nSource: Durham Cricket\\n\\nExperience the allure of our unique venue, offering an unforgettable \u001b[0m\n",
       "\u001b[1;38;2;212;183;2msetting for conferences, meetings, and private events, far removed from the bustling.\\n\\n8. \u001b[0m\n",
       "\u001b[1;38;2;212;183;2m[Chester-le-Street](https://en.wikipedia.org/wiki/Chester-le-Street)\\nDate published: Jul 7, 2024\\nSource: \u001b[0m\n",
       "\u001b[1;38;2;212;183;2mWikipedia\\n\\nThe Riverside Ground, known for sponsorship reasons as the Banks Homes Riverside, is home to Durham \u001b[0m\n",
       "\u001b[1;38;2;212;183;2mCounty Cricket Club which became a first class county in ...\"}, {'Location': 'County Wicklow', 'Nearby Cricket \u001b[0m\n",
       "\u001b[1;38;2;212;183;2mGrounds': \"## Search Results\\n0. [Oak Hill Cricket Club Wicklow Ireland | Cricket \u001b[0m\n",
       "\u001b[1;38;2;212;183;2mGround](https://possible11.com/ground/oak-hill-cricket-club-565/)\\nDate published: Oct 28, 2024\\nSource: \u001b[0m\n",
       "\u001b[1;38;2;212;183;2mPossible11\\n\\nExplore Oak Hill Cricket Club Wicklow Pitch Report, Capacity, Weather Updates and Cricket Match \u001b[0m\n",
       "\u001b[1;38;2;212;183;2mStats.\\n\\n1. [Hi can anyone tell me where Wickersley cricket club was situated \u001b[0m\n",
       "\u001b[1;38;2;212;183;2m...](https://www.facebook.com/groups/942255969199144/posts/7388232107934799/)\\nDate published: Dec 19, \u001b[0m\n",
       "\u001b[1;38;2;212;183;2m2024\\nSource: Facebook\\n\\nJun 8\\U000f078b\\U000f17e0. \\U000f07dd. In the middle of Bray, County Wicklow, is the \u001b[0m\n",
       "\u001b[1;38;2;212;183;2moldest sports ground in Ireland. The Carlisle grounds are home to Bray wanderers founded in 1922 ...\\n\\n2. [Cricket\u001b[0m\n",
       "\u001b[1;38;2;212;183;2min Ireland](https://en.wikipedia.org/wiki/Cricket_in_Ireland)\\nDate published: Jul 15, 2024\\nSource: \u001b[0m\n",
       "\u001b[1;38;2;212;183;2mWikipedia\\n\\nInternational cricket grounds ; The Village · Malahide Cricket Club · Malahide, Leinster Cricket \u001b[0m\n",
       "\u001b[1;38;2;212;183;2mUnion, 11,500 ; Bready · Bready Cricket Club · Magheramason ...\\n\\n3. [Ireland International Venues - The \u001b[0m\n",
       "\u001b[1;38;2;212;183;2mCricketEurope Archives](https://cricketeuropearchive.com/HISTORY/VENUES/index.shtml)\\nDate published: Sep 8, \u001b[0m\n",
       "\u001b[1;38;2;212;183;2m2024\\nSource: cricketeuropearchive.com\\n\\nGrounds which have hosted Ireland men's international matches - including\u001b[0m\n",
       "\u001b[1;38;2;212;183;2mphotos, articles, video, maps, and all the scorecards and ground records.\\n\\n4. [Sandyford Cricket Club, Marlay \u001b[0m\n",
       "\u001b[1;38;2;212;183;2mPark (@cricketatmarlay) / ...](https://x.com/cricketatmarlay)\\nSource: X · cricketatmarlay\\n\\nSandyford cricket \u001b[0m\n",
       "\u001b[1;38;2;212;183;2mclub, established in 1984 and located at Marlay Park. Account run by @aadityashah4065, @larakshya and \u001b[0m\n",
       "\u001b[1;38;2;212;183;2m@kirankhegde.\\n\\n5. [Kerry island and Wicklow village's unlikely links marked \u001b[0m\n",
       "\u001b[1;38;2;212;183;2m...](https://www.independent.ie/regionals/kerry/south-kerry-news/kerry-island-and-wicklow-villages-unlikely-links-m\u001b[0m\n",
       "\u001b[1;38;2;212;183;2marked-on-the-cricket-pitch/a196063828.html)\\nDate published: Sep 12, 2024\\nSource: The Irish Independent\\n\\nThe \u001b[0m\n",
       "\u001b[1;38;2;212;183;2munlikely but strong connection between Ashford in County Wicklow and Kerry's Valentia Island was celebrated once \u001b[0m\n",
       "\u001b[1;38;2;212;183;2magain on Saturday as a local cricket ...\\n\\n6. [Bray, County \u001b[0m\n",
       "\u001b[1;38;2;212;183;2mWicklow](https://en.wikipedia.org/wiki/Bray,_County_Wicklow)\\nDate published: Feb 21, 2024\\nSource: \u001b[0m\n",
       "\u001b[1;38;2;212;183;2mWikipedia\\n\\nBray is a coastal town in north County Wicklow, Ireland. It is situated about 20 km (12 mi) south of \u001b[0m\n",
       "\u001b[1;38;2;212;183;2mDublin city centre on the east coast, and parts of the ...\\n\\n7. [Avoca Mines - The Cornish in County Wicklow, \u001b[0m\n",
       "\u001b[1;38;2;212;183;2mIreland](https://www.cousinjacksworld.com/destinations/cornish-avoca/)\\nDate published: Mar 7, 2024\\nSource: Cousin\u001b[0m\n",
       "\u001b[1;38;2;212;183;2mJacks World\\n\\nAvoca was one the richest copper deposits in the British Isles. Learn about the story of the Cornish\u001b[0m\n",
       "\u001b[1;38;2;212;183;2min Avoca and the Williams family.\\n\\n8. [Green light for 4000-seater National Cricket \u001b[0m\n",
       "\u001b[1;38;2;212;183;2mStadium](https://www.reddit.com/r/irishpolitics/comments/1es68vo/green_light_for_4000seater_national_cricket/)\\nSou\u001b[0m\n",
       "\u001b[1;38;2;212;183;2mrce: Reddit · r/irishpolitics\\n\\nah shure isn't it great to see the lads do so well in the cricket. No ... Meath, \u001b[0m\n",
       "\u001b[1;38;2;212;183;2mKildare, Wicklow, or Louth would do, close enough but not in Dublin.\\n\\n9. [Rathdrum & District Community Notice \u001b[0m\n",
       "\u001b[1;38;2;212;183;2mBoard](https://www.facebook.com/groups/245208359020984/permalink/2399532353588563/)\\nSource: Facebook\\n\\nAn \u001b[0m\n",
       "\u001b[1;38;2;212;183;2moutstanding cricketer and founder of the Phoenix Club, he established Avondale as their home ground.\"}]}\u001b[0m\n"
      ]
     },
     "jetTransient": {
      "display_id": null
     },
     "metadata": {},
     "output_type": "display_data"
    },
    {
     "data": {
      "text/html": [
       "<pre style=\"white-space:pre;overflow-x:auto;line-height:normal;font-family:Menlo,'DejaVu Sans Mono',consolas,'Courier New',monospace\"><span style=\"color: #7f7f7f; text-decoration-color: #7f7f7f\">[Step 7: Duration 1.66 seconds| Input tokens: 39,557 | Output tokens: 2,048]</span>\n",
       "</pre>\n"
      ],
      "text/plain": [
       "\u001b[2m[Step 7: Duration 1.66 seconds| Input tokens: 39,557 | Output tokens: 2,048]\u001b[0m\n"
      ]
     },
     "jetTransient": {
      "display_id": null
     },
     "metadata": {},
     "output_type": "display_data"
    }
   ],
   "source": [
    "result = agent.run(task)"
   ]
  },
  {
   "cell_type": "code",
   "execution_count": null,
   "id": "ac929826ab926f97",
   "metadata": {},
   "outputs": [],
   "source": []
  }
 ],
 "metadata": {
  "kernelspec": {
   "display_name": "Python 3",
   "language": "python",
   "name": "python3"
  },
  "language_info": {
   "codemirror_mode": {
    "name": "ipython",
    "version": 2
   },
   "file_extension": ".py",
   "mimetype": "text/x-python",
   "name": "python",
   "nbconvert_exporter": "python",
   "pygments_lexer": "ipython2",
   "version": "2.7.6"
  }
 },
 "nbformat": 4,
 "nbformat_minor": 5
}
