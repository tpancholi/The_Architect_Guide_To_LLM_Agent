{
 "cells": [
  {
   "cell_type": "markdown",
   "id": "fd4a4bfe0507627d",
   "metadata": {},
   "source": "## Evaluate Smolagent framework"
  },
  {
   "cell_type": "markdown",
   "id": "91ccd3d9495fee7d",
   "metadata": {},
   "source": [
    "### Ability\n",
    "- This agent will have access to web search via duckduckgo\n",
    "### Purpose\n",
    "- The task of agent is to provide you list of books for tech industry professionals on a given topic"
   ]
  },
  {
   "cell_type": "markdown",
   "id": "b25d4fc126df2541",
   "metadata": {},
   "source": [
    "### Model used\n",
    "- Qwen/Qwen2.5-Coder-32B-Instruct (default)\n",
    "- Qwen/Qwen3-Next-80B-A3B-Instruct"
   ]
  },
  {
   "cell_type": "code",
   "execution_count": 23,
   "id": "27accc7eeafbf5ff",
   "metadata": {
    "ExecuteTime": {
     "end_time": "2025-09-22T13:20:10.175540Z",
     "start_time": "2025-09-22T13:20:10.173305Z"
    }
   },
   "outputs": [],
   "source": [
    "import os"
   ]
  },
  {
   "cell_type": "code",
   "execution_count": 24,
   "id": "7ae3fefe3e2de5ea",
   "metadata": {
    "ExecuteTime": {
     "end_time": "2025-09-22T13:20:10.825398Z",
     "start_time": "2025-09-22T13:20:10.821623Z"
    }
   },
   "outputs": [
    {
     "data": {
      "text/plain": [
       "True"
      ]
     },
     "execution_count": 24,
     "metadata": {},
     "output_type": "execute_result"
    }
   ],
   "source": [
    "from dotenv import load_dotenv, find_dotenv\n",
    "\n",
    "load_dotenv(find_dotenv())"
   ]
  },
  {
   "cell_type": "markdown",
   "id": "d6511827bcf9f9f2",
   "metadata": {},
   "source": [
    "## first we would use codeAgent\n",
    "- codeAgent means the agent will try to write code and use the same to arrive at result"
   ]
  },
  {
   "cell_type": "code",
   "execution_count": 9,
   "id": "99fbd75dbfb77153",
   "metadata": {
    "ExecuteTime": {
     "end_time": "2025-09-22T12:30:21.846514Z",
     "start_time": "2025-09-22T12:30:17.035027Z"
    }
   },
   "outputs": [
    {
     "data": {
      "text/html": [
       "<pre style=\"white-space:pre;overflow-x:auto;line-height:normal;font-family:Menlo,'DejaVu Sans Mono',consolas,'Courier New',monospace\"><span style=\"color: #d4b702; text-decoration-color: #d4b702\">╭──────────────────────────────────────────────────── </span><span style=\"color: #d4b702; text-decoration-color: #d4b702; font-weight: bold\">New run</span><span style=\"color: #d4b702; text-decoration-color: #d4b702\"> ────────────────────────────────────────────────────╮</span>\n",
       "<span style=\"color: #d4b702; text-decoration-color: #d4b702\">│</span>                                                                                                                 <span style=\"color: #d4b702; text-decoration-color: #d4b702\">│</span>\n",
       "<span style=\"color: #d4b702; text-decoration-color: #d4b702\">│</span> <span style=\"font-weight: bold\">Search for the best book recommendation for getting good at programming in rust for programmer who know python</span>  <span style=\"color: #d4b702; text-decoration-color: #d4b702\">│</span>\n",
       "<span style=\"color: #d4b702; text-decoration-color: #d4b702\">│</span>                                                                                                                 <span style=\"color: #d4b702; text-decoration-color: #d4b702\">│</span>\n",
       "<span style=\"color: #d4b702; text-decoration-color: #d4b702\">╰─ InferenceClientModel - Qwen/Qwen3-Next-80B-A3B-Instruct ───────────────────────────────────────────────────────╯</span>\n",
       "</pre>\n"
      ],
      "text/plain": [
       "\u001b[38;2;212;183;2m╭─\u001b[0m\u001b[38;2;212;183;2m───────────────────────────────────────────────────\u001b[0m\u001b[38;2;212;183;2m \u001b[0m\u001b[1;38;2;212;183;2mNew run\u001b[0m\u001b[38;2;212;183;2m \u001b[0m\u001b[38;2;212;183;2m───────────────────────────────────────────────────\u001b[0m\u001b[38;2;212;183;2m─╮\u001b[0m\n",
       "\u001b[38;2;212;183;2m│\u001b[0m                                                                                                                 \u001b[38;2;212;183;2m│\u001b[0m\n",
       "\u001b[38;2;212;183;2m│\u001b[0m \u001b[1mSearch for the best book recommendation for getting good at programming in rust for programmer who know python\u001b[0m  \u001b[38;2;212;183;2m│\u001b[0m\n",
       "\u001b[38;2;212;183;2m│\u001b[0m                                                                                                                 \u001b[38;2;212;183;2m│\u001b[0m\n",
       "\u001b[38;2;212;183;2m╰─\u001b[0m\u001b[38;2;212;183;2m InferenceClientModel - Qwen/Qwen3-Next-80B-A3B-Instruct \u001b[0m\u001b[38;2;212;183;2m──────────────────────────────────────────────────────\u001b[0m\u001b[38;2;212;183;2m─╯\u001b[0m\n"
      ]
     },
     "jetTransient": {
      "display_id": null
     },
     "metadata": {},
     "output_type": "display_data"
    },
    {
     "data": {
      "text/html": [
       "<pre style=\"white-space:pre;overflow-x:auto;line-height:normal;font-family:Menlo,'DejaVu Sans Mono',consolas,'Courier New',monospace\"><span style=\"color: #d4b702; text-decoration-color: #d4b702\">━━━━━━━━━━━━━━━━━━━━━━━━━━━━━━━━━━━━━━━━━━━━━━━━━━━━━ </span><span style=\"font-weight: bold\">Step 1</span><span style=\"color: #d4b702; text-decoration-color: #d4b702\"> ━━━━━━━━━━━━━━━━━━━━━━━━━━━━━━━━━━━━━━━━━━━━━━━━━━━━━━</span>\n",
       "</pre>\n"
      ],
      "text/plain": [
       "\u001b[38;2;212;183;2m━━━━━━━━━━━━━━━━━━━━━━━━━━━━━━━━━━━━━━━━━━━━━━━━━━━━━ \u001b[0m\u001b[1mStep 1\u001b[0m\u001b[38;2;212;183;2m ━━━━━━━━━━━━━━━━━━━━━━━━━━━━━━━━━━━━━━━━━━━━━━━━━━━━━━\u001b[0m\n"
      ]
     },
     "jetTransient": {
      "display_id": null
     },
     "metadata": {},
     "output_type": "display_data"
    },
    {
     "data": {
      "text/html": [
       "<pre style=\"white-space:pre;overflow-x:auto;line-height:normal;font-family:Menlo,'DejaVu Sans Mono',consolas,'Courier New',monospace\"> ─ <span style=\"font-weight: bold\">Executing parsed code:</span> ──────────────────────────────────────────────────────────────────────────────────────── \n",
       "  <span style=\"color: #f8f8f2; text-decoration-color: #f8f8f2; background-color: #272822\">search_result </span><span style=\"color: #ff4689; text-decoration-color: #ff4689; background-color: #272822\">=</span><span style=\"color: #f8f8f2; text-decoration-color: #f8f8f2; background-color: #272822\"> web_search(query</span><span style=\"color: #ff4689; text-decoration-color: #ff4689; background-color: #272822\">=</span><span style=\"color: #e6db74; text-decoration-color: #e6db74; background-color: #272822\">\"best book to learn Rust for Python programmers\"</span><span style=\"color: #f8f8f2; text-decoration-color: #f8f8f2; background-color: #272822\">)</span><span style=\"background-color: #272822\">                             </span>  \n",
       "  <span style=\"color: #f8f8f2; text-decoration-color: #f8f8f2; background-color: #272822\">print(search_result)</span><span style=\"background-color: #272822\">                                                                                           </span>  \n",
       " ───────────────────────────────────────────────────────────────────────────────────────────────────────────────── \n",
       "</pre>\n"
      ],
      "text/plain": [
       " ─ \u001b[1mExecuting parsed code:\u001b[0m ──────────────────────────────────────────────────────────────────────────────────────── \n",
       "  \u001b[38;2;248;248;242;48;2;39;40;34msearch_result\u001b[0m\u001b[38;2;248;248;242;48;2;39;40;34m \u001b[0m\u001b[38;2;255;70;137;48;2;39;40;34m=\u001b[0m\u001b[38;2;248;248;242;48;2;39;40;34m \u001b[0m\u001b[38;2;248;248;242;48;2;39;40;34mweb_search\u001b[0m\u001b[38;2;248;248;242;48;2;39;40;34m(\u001b[0m\u001b[38;2;248;248;242;48;2;39;40;34mquery\u001b[0m\u001b[38;2;255;70;137;48;2;39;40;34m=\u001b[0m\u001b[38;2;230;219;116;48;2;39;40;34m\"\u001b[0m\u001b[38;2;230;219;116;48;2;39;40;34mbest book to learn Rust for Python programmers\u001b[0m\u001b[38;2;230;219;116;48;2;39;40;34m\"\u001b[0m\u001b[38;2;248;248;242;48;2;39;40;34m)\u001b[0m\u001b[48;2;39;40;34m                             \u001b[0m  \n",
       "  \u001b[38;2;248;248;242;48;2;39;40;34mprint\u001b[0m\u001b[38;2;248;248;242;48;2;39;40;34m(\u001b[0m\u001b[38;2;248;248;242;48;2;39;40;34msearch_result\u001b[0m\u001b[38;2;248;248;242;48;2;39;40;34m)\u001b[0m\u001b[48;2;39;40;34m                                                                                           \u001b[0m  \n",
       " ───────────────────────────────────────────────────────────────────────────────────────────────────────────────── \n"
      ]
     },
     "jetTransient": {
      "display_id": null
     },
     "metadata": {},
     "output_type": "display_data"
    },
    {
     "data": {
      "text/html": [
       "<pre style=\"white-space:pre;overflow-x:auto;line-height:normal;font-family:Menlo,'DejaVu Sans Mono',consolas,'Courier New',monospace\"><span style=\"font-weight: bold\">Execution logs:</span>\n",
       "## Search Results\n",
       "\n",
       "[Rust Programming by Gábor Szabó [Leanpub PDF/iPad/Kindle]](https://leanpub.com/rust-programming)\n",
       "... book will help you become a Rust ... The books is based on the training material used for teaching Rust to both\n",
       "Python , C, and C++ developers.\n",
       "\n",
       "[Rust Newcomer from Python - The Rust Programming Language \n",
       "Forum](https://users.rust-lang.org/t/rust-newcomer-from-python/44556)\n",
       "If you are looking for contributors for your Rust project, please reply to this thread with a link to the task in \n",
       "your issue tracker.\n",
       "\n",
       "[Non-Rust books to learn Rust - The Rust Programming \n",
       "Language](https://users.rust-lang.org/t/non-rust-books-to-learn-rust/130445)\n",
       "... for someone already familiar with some C (or a similar language, like Zig, Pascal, Modula, Nim) it should be \n",
       "possible to learn Rust from the official ...\n",
       "\n",
       "[The Rust Programming Language by Steve Klabnik | \n",
       "Goodreads](https://www.goodreads.com/book/show/25008661-the-rust-programming-language)\n",
       "Steve Klabnik is a prominent software developer and open-source advocate known for his contributions to the Rust \n",
       "programming language.\n",
       "\n",
       "[The Best Friends for a Rustacean. Top Books in Learning Rust. \n",
       "-](https://aster.cloud/2024/08/25/the-best-friends-for-a-rustacean-top-books-in-learning-rust/)\n",
       "We ’ ve gathered the best selling software engineering books to learn Rust . ... For developers who’ve mastered the\n",
       "basics, this book is the ...\n",
       "\n",
       "[Rust Book for Devs with an OO Programming Background -](https://programming.dev/post/29678610)\n",
       "... Rust you’ll learn how to apply important design patterns including: Fluent interfaces for creating delightful \n",
       "APIs The Builder pattern to ...\n",
       "\n",
       "[10 Best Rust Programming Books - Programming Geeks \n",
       "Club](https://programmingeeksclub.com/10-best-rust-programming-books/)\n",
       "Whether you ’ re a beginner or an expert programmer , there are many excellent Rust programming books available to \n",
       "help you learn and master ...\n",
       "\n",
       "[The Best Friends for a Rustacean. Top Books in Learning Rust. \n",
       "-](https://globalcloudplatforms.com/2024/08/25/the-best-friends-for-a-rustacean-top-books-in-learning-rust/)\n",
       "We ’ ve gathered the best selling software engineering books to learn Rust . ... For developers who’ve mastered the\n",
       "basics, this book is the ...\n",
       "\n",
       "[The Best Friends for a Rustacean. Top Books in Learning Rust. \n",
       "-](https://dotlah.com/2024/08/25/the-best-friends-for-a-rustacean-top-books-in-learning-rust/)\n",
       "We ’ ve gathered the best selling software engineering books to learn Rust . ... For developers who’ve mastered the\n",
       "basics, this book is the ...\n",
       "\n",
       "[The Best Friends for a Rustacean. Top Books in Learning Rust. \n",
       "-](https://zedreviews.com/2024/08/23/the-best-friends-for-a-rustacean-top-books-in-learning-rust/)\n",
       "We ’ ve gathered the best selling software engineering books to learn Rust . ... For developers who’ve mastered the\n",
       "basics, this book is the ...\n",
       "\n",
       "Out: None\n",
       "</pre>\n"
      ],
      "text/plain": [
       "\u001b[1mExecution logs:\u001b[0m\n",
       "## Search Results\n",
       "\n",
       "[Rust Programming by Gábor Szabó [Leanpub PDF/iPad/Kindle]](https://leanpub.com/rust-programming)\n",
       "... book will help you become a Rust ... The books is based on the training material used for teaching Rust to both\n",
       "Python , C, and C++ developers.\n",
       "\n",
       "[Rust Newcomer from Python - The Rust Programming Language \n",
       "Forum](https://users.rust-lang.org/t/rust-newcomer-from-python/44556)\n",
       "If you are looking for contributors for your Rust project, please reply to this thread with a link to the task in \n",
       "your issue tracker.\n",
       "\n",
       "[Non-Rust books to learn Rust - The Rust Programming \n",
       "Language](https://users.rust-lang.org/t/non-rust-books-to-learn-rust/130445)\n",
       "... for someone already familiar with some C (or a similar language, like Zig, Pascal, Modula, Nim) it should be \n",
       "possible to learn Rust from the official ...\n",
       "\n",
       "[The Rust Programming Language by Steve Klabnik | \n",
       "Goodreads](https://www.goodreads.com/book/show/25008661-the-rust-programming-language)\n",
       "Steve Klabnik is a prominent software developer and open-source advocate known for his contributions to the Rust \n",
       "programming language.\n",
       "\n",
       "[The Best Friends for a Rustacean. Top Books in Learning Rust. \n",
       "-](https://aster.cloud/2024/08/25/the-best-friends-for-a-rustacean-top-books-in-learning-rust/)\n",
       "We ’ ve gathered the best selling software engineering books to learn Rust . ... For developers who’ve mastered the\n",
       "basics, this book is the ...\n",
       "\n",
       "[Rust Book for Devs with an OO Programming Background -](https://programming.dev/post/29678610)\n",
       "... Rust you’ll learn how to apply important design patterns including: Fluent interfaces for creating delightful \n",
       "APIs The Builder pattern to ...\n",
       "\n",
       "[10 Best Rust Programming Books - Programming Geeks \n",
       "Club](https://programmingeeksclub.com/10-best-rust-programming-books/)\n",
       "Whether you ’ re a beginner or an expert programmer , there are many excellent Rust programming books available to \n",
       "help you learn and master ...\n",
       "\n",
       "[The Best Friends for a Rustacean. Top Books in Learning Rust. \n",
       "-](https://globalcloudplatforms.com/2024/08/25/the-best-friends-for-a-rustacean-top-books-in-learning-rust/)\n",
       "We ’ ve gathered the best selling software engineering books to learn Rust . ... For developers who’ve mastered the\n",
       "basics, this book is the ...\n",
       "\n",
       "[The Best Friends for a Rustacean. Top Books in Learning Rust. \n",
       "-](https://dotlah.com/2024/08/25/the-best-friends-for-a-rustacean-top-books-in-learning-rust/)\n",
       "We ’ ve gathered the best selling software engineering books to learn Rust . ... For developers who’ve mastered the\n",
       "basics, this book is the ...\n",
       "\n",
       "[The Best Friends for a Rustacean. Top Books in Learning Rust. \n",
       "-](https://zedreviews.com/2024/08/23/the-best-friends-for-a-rustacean-top-books-in-learning-rust/)\n",
       "We ’ ve gathered the best selling software engineering books to learn Rust . ... For developers who’ve mastered the\n",
       "basics, this book is the ...\n",
       "\n",
       "Out: None\n"
      ]
     },
     "jetTransient": {
      "display_id": null
     },
     "metadata": {},
     "output_type": "display_data"
    },
    {
     "data": {
      "text/html": [
       "<pre style=\"white-space:pre;overflow-x:auto;line-height:normal;font-family:Menlo,'DejaVu Sans Mono',consolas,'Courier New',monospace\"><span style=\"color: #7f7f7f; text-decoration-color: #7f7f7f\">[Step 1: Duration 3.26 seconds| Input tokens: 2,005 | Output tokens: 50]</span>\n",
       "</pre>\n"
      ],
      "text/plain": [
       "\u001b[2m[Step 1: Duration 3.26 seconds| Input tokens: 2,005 | Output tokens: 50]\u001b[0m\n"
      ]
     },
     "jetTransient": {
      "display_id": null
     },
     "metadata": {},
     "output_type": "display_data"
    },
    {
     "data": {
      "text/html": [
       "<pre style=\"white-space:pre;overflow-x:auto;line-height:normal;font-family:Menlo,'DejaVu Sans Mono',consolas,'Courier New',monospace\"><span style=\"color: #d4b702; text-decoration-color: #d4b702\">━━━━━━━━━━━━━━━━━━━━━━━━━━━━━━━━━━━━━━━━━━━━━━━━━━━━━ </span><span style=\"font-weight: bold\">Step 2</span><span style=\"color: #d4b702; text-decoration-color: #d4b702\"> ━━━━━━━━━━━━━━━━━━━━━━━━━━━━━━━━━━━━━━━━━━━━━━━━━━━━━━</span>\n",
       "</pre>\n"
      ],
      "text/plain": [
       "\u001b[38;2;212;183;2m━━━━━━━━━━━━━━━━━━━━━━━━━━━━━━━━━━━━━━━━━━━━━━━━━━━━━ \u001b[0m\u001b[1mStep 2\u001b[0m\u001b[38;2;212;183;2m ━━━━━━━━━━━━━━━━━━━━━━━━━━━━━━━━━━━━━━━━━━━━━━━━━━━━━━\u001b[0m\n"
      ]
     },
     "jetTransient": {
      "display_id": null
     },
     "metadata": {},
     "output_type": "display_data"
    },
    {
     "data": {
      "text/html": [
       "<pre style=\"white-space:pre;overflow-x:auto;line-height:normal;font-family:Menlo,'DejaVu Sans Mono',consolas,'Courier New',monospace\"> ─ <span style=\"font-weight: bold\">Executing parsed code:</span> ──────────────────────────────────────────────────────────────────────────────────────── \n",
       "  <span style=\"color: #f8f8f2; text-decoration-color: #f8f8f2; background-color: #272822\">final_answer(</span><span style=\"color: #e6db74; text-decoration-color: #e6db74; background-color: #272822\">\"The Rust Programming Language by Steve Klabnik\"</span><span style=\"color: #f8f8f2; text-decoration-color: #f8f8f2; background-color: #272822\">)</span><span style=\"background-color: #272822\">                                                 </span>  \n",
       " ───────────────────────────────────────────────────────────────────────────────────────────────────────────────── \n",
       "</pre>\n"
      ],
      "text/plain": [
       " ─ \u001b[1mExecuting parsed code:\u001b[0m ──────────────────────────────────────────────────────────────────────────────────────── \n",
       "  \u001b[38;2;248;248;242;48;2;39;40;34mfinal_answer\u001b[0m\u001b[38;2;248;248;242;48;2;39;40;34m(\u001b[0m\u001b[38;2;230;219;116;48;2;39;40;34m\"\u001b[0m\u001b[38;2;230;219;116;48;2;39;40;34mThe Rust Programming Language by Steve Klabnik\u001b[0m\u001b[38;2;230;219;116;48;2;39;40;34m\"\u001b[0m\u001b[38;2;248;248;242;48;2;39;40;34m)\u001b[0m\u001b[48;2;39;40;34m                                                 \u001b[0m  \n",
       " ───────────────────────────────────────────────────────────────────────────────────────────────────────────────── \n"
      ]
     },
     "jetTransient": {
      "display_id": null
     },
     "metadata": {},
     "output_type": "display_data"
    },
    {
     "data": {
      "text/html": [
       "<pre style=\"white-space:pre;overflow-x:auto;line-height:normal;font-family:Menlo,'DejaVu Sans Mono',consolas,'Courier New',monospace\"></pre>\n"
      ],
      "text/plain": []
     },
     "jetTransient": {
      "display_id": null
     },
     "metadata": {},
     "output_type": "display_data"
    },
    {
     "data": {
      "text/html": [
       "<pre style=\"white-space:pre;overflow-x:auto;line-height:normal;font-family:Menlo,'DejaVu Sans Mono',consolas,'Courier New',monospace\"><span style=\"color: #d4b702; text-decoration-color: #d4b702; font-weight: bold\">Final answer: The Rust Programming Language by Steve Klabnik</span>\n",
       "</pre>\n"
      ],
      "text/plain": [
       "\u001b[1;38;2;212;183;2mFinal answer: The Rust Programming Language by Steve Klabnik\u001b[0m\n"
      ]
     },
     "jetTransient": {
      "display_id": null
     },
     "metadata": {},
     "output_type": "display_data"
    },
    {
     "data": {
      "text/html": [
       "<pre style=\"white-space:pre;overflow-x:auto;line-height:normal;font-family:Menlo,'DejaVu Sans Mono',consolas,'Courier New',monospace\"><span style=\"color: #7f7f7f; text-decoration-color: #7f7f7f\">[Step 2: Duration 1.53 seconds| Input tokens: 4,830 | Output tokens: 133]</span>\n",
       "</pre>\n"
      ],
      "text/plain": [
       "\u001b[2m[Step 2: Duration 1.53 seconds| Input tokens: 4,830 | Output tokens: 133]\u001b[0m\n"
      ]
     },
     "jetTransient": {
      "display_id": null
     },
     "metadata": {},
     "output_type": "display_data"
    },
    {
     "data": {
      "text/plain": [
       "'The Rust Programming Language by Steve Klabnik'"
      ]
     },
     "execution_count": 9,
     "metadata": {},
     "output_type": "execute_result"
    }
   ],
   "source": [
    "from smolagents import CodeAgent, DuckDuckGoSearchTool, InferenceClientModel\n",
    "\n",
    "agent = CodeAgent(\n",
    "\ttools=[DuckDuckGoSearchTool()],\n",
    "\tmodel=InferenceClientModel(\n",
    "\t\tapi_key=os.getenv(\"HF_WRITE_TOKEN\"),\n",
    "\t\tprovider=\"together\",\n",
    "\t\tmodel_id=\"Qwen/Qwen3-Next-80B-A3B-Instruct\",\n",
    "\t),\n",
    ")\n",
    "agent.run(\n",
    "\t\"Search for the best book recommendation for getting good at programming in rust for programmer who know python\"\n",
    ")"
   ]
  },
  {
   "cell_type": "code",
   "execution_count": 10,
   "id": "3d7686ca906a32b6",
   "metadata": {
    "ExecuteTime": {
     "end_time": "2025-09-22T12:32:14.422582Z",
     "start_time": "2025-09-22T12:32:10.145519Z"
    }
   },
   "outputs": [
    {
     "data": {
      "text/html": [
       "<pre style=\"white-space:pre;overflow-x:auto;line-height:normal;font-family:Menlo,'DejaVu Sans Mono',consolas,'Courier New',monospace\"><span style=\"color: #d4b702; text-decoration-color: #d4b702\">╭──────────────────────────────────────────────────── </span><span style=\"color: #d4b702; text-decoration-color: #d4b702; font-weight: bold\">New run</span><span style=\"color: #d4b702; text-decoration-color: #d4b702\"> ────────────────────────────────────────────────────╮</span>\n",
       "<span style=\"color: #d4b702; text-decoration-color: #d4b702\">│</span>                                                                                                                 <span style=\"color: #d4b702; text-decoration-color: #d4b702\">│</span>\n",
       "<span style=\"color: #d4b702; text-decoration-color: #d4b702\">│</span> <span style=\"font-weight: bold\">I want to scale my production rag application, what is the best resource to learn and implement for my company.</span> <span style=\"color: #d4b702; text-decoration-color: #d4b702\">│</span>\n",
       "<span style=\"color: #d4b702; text-decoration-color: #d4b702\">│</span>                                                                                                                 <span style=\"color: #d4b702; text-decoration-color: #d4b702\">│</span>\n",
       "<span style=\"color: #d4b702; text-decoration-color: #d4b702\">╰─ InferenceClientModel - Qwen/Qwen3-Next-80B-A3B-Instruct ───────────────────────────────────────────────────────╯</span>\n",
       "</pre>\n"
      ],
      "text/plain": [
       "\u001b[38;2;212;183;2m╭─\u001b[0m\u001b[38;2;212;183;2m───────────────────────────────────────────────────\u001b[0m\u001b[38;2;212;183;2m \u001b[0m\u001b[1;38;2;212;183;2mNew run\u001b[0m\u001b[38;2;212;183;2m \u001b[0m\u001b[38;2;212;183;2m───────────────────────────────────────────────────\u001b[0m\u001b[38;2;212;183;2m─╮\u001b[0m\n",
       "\u001b[38;2;212;183;2m│\u001b[0m                                                                                                                 \u001b[38;2;212;183;2m│\u001b[0m\n",
       "\u001b[38;2;212;183;2m│\u001b[0m \u001b[1mI want to scale my production rag application, what is the best resource to learn and implement for my company.\u001b[0m \u001b[38;2;212;183;2m│\u001b[0m\n",
       "\u001b[38;2;212;183;2m│\u001b[0m                                                                                                                 \u001b[38;2;212;183;2m│\u001b[0m\n",
       "\u001b[38;2;212;183;2m╰─\u001b[0m\u001b[38;2;212;183;2m InferenceClientModel - Qwen/Qwen3-Next-80B-A3B-Instruct \u001b[0m\u001b[38;2;212;183;2m──────────────────────────────────────────────────────\u001b[0m\u001b[38;2;212;183;2m─╯\u001b[0m\n"
      ]
     },
     "jetTransient": {
      "display_id": null
     },
     "metadata": {},
     "output_type": "display_data"
    },
    {
     "data": {
      "text/html": [
       "<pre style=\"white-space:pre;overflow-x:auto;line-height:normal;font-family:Menlo,'DejaVu Sans Mono',consolas,'Courier New',monospace\"><span style=\"color: #d4b702; text-decoration-color: #d4b702\">━━━━━━━━━━━━━━━━━━━━━━━━━━━━━━━━━━━━━━━━━━━━━━━━━━━━━ </span><span style=\"font-weight: bold\">Step 1</span><span style=\"color: #d4b702; text-decoration-color: #d4b702\"> ━━━━━━━━━━━━━━━━━━━━━━━━━━━━━━━━━━━━━━━━━━━━━━━━━━━━━━</span>\n",
       "</pre>\n"
      ],
      "text/plain": [
       "\u001b[38;2;212;183;2m━━━━━━━━━━━━━━━━━━━━━━━━━━━━━━━━━━━━━━━━━━━━━━━━━━━━━ \u001b[0m\u001b[1mStep 1\u001b[0m\u001b[38;2;212;183;2m ━━━━━━━━━━━━━━━━━━━━━━━━━━━━━━━━━━━━━━━━━━━━━━━━━━━━━━\u001b[0m\n"
      ]
     },
     "jetTransient": {
      "display_id": null
     },
     "metadata": {},
     "output_type": "display_data"
    },
    {
     "data": {
      "text/html": [
       "<pre style=\"white-space:pre;overflow-x:auto;line-height:normal;font-family:Menlo,'DejaVu Sans Mono',consolas,'Courier New',monospace\"> ─ <span style=\"font-weight: bold\">Executing parsed code:</span> ──────────────────────────────────────────────────────────────────────────────────────── \n",
       "  <span style=\"color: #f8f8f2; text-decoration-color: #f8f8f2; background-color: #272822\">search_result </span><span style=\"color: #ff4689; text-decoration-color: #ff4689; background-color: #272822\">=</span><span style=\"color: #f8f8f2; text-decoration-color: #f8f8f2; background-color: #272822\"> web_search(query</span><span style=\"color: #ff4689; text-decoration-color: #ff4689; background-color: #272822\">=</span><span style=\"color: #e6db74; text-decoration-color: #e6db74; background-color: #272822\">\"best resource to learn and implement scaling production RAG application\"</span><span style=\"color: #f8f8f2; text-decoration-color: #f8f8f2; background-color: #272822\">)</span><span style=\"background-color: #272822\">    </span>  \n",
       "  <span style=\"color: #f8f8f2; text-decoration-color: #f8f8f2; background-color: #272822\">print(search_result)</span><span style=\"background-color: #272822\">                                                                                           </span>  \n",
       " ───────────────────────────────────────────────────────────────────────────────────────────────────────────────── \n",
       "</pre>\n"
      ],
      "text/plain": [
       " ─ \u001b[1mExecuting parsed code:\u001b[0m ──────────────────────────────────────────────────────────────────────────────────────── \n",
       "  \u001b[38;2;248;248;242;48;2;39;40;34msearch_result\u001b[0m\u001b[38;2;248;248;242;48;2;39;40;34m \u001b[0m\u001b[38;2;255;70;137;48;2;39;40;34m=\u001b[0m\u001b[38;2;248;248;242;48;2;39;40;34m \u001b[0m\u001b[38;2;248;248;242;48;2;39;40;34mweb_search\u001b[0m\u001b[38;2;248;248;242;48;2;39;40;34m(\u001b[0m\u001b[38;2;248;248;242;48;2;39;40;34mquery\u001b[0m\u001b[38;2;255;70;137;48;2;39;40;34m=\u001b[0m\u001b[38;2;230;219;116;48;2;39;40;34m\"\u001b[0m\u001b[38;2;230;219;116;48;2;39;40;34mbest resource to learn and implement scaling production RAG application\u001b[0m\u001b[38;2;230;219;116;48;2;39;40;34m\"\u001b[0m\u001b[38;2;248;248;242;48;2;39;40;34m)\u001b[0m\u001b[48;2;39;40;34m    \u001b[0m  \n",
       "  \u001b[38;2;248;248;242;48;2;39;40;34mprint\u001b[0m\u001b[38;2;248;248;242;48;2;39;40;34m(\u001b[0m\u001b[38;2;248;248;242;48;2;39;40;34msearch_result\u001b[0m\u001b[38;2;248;248;242;48;2;39;40;34m)\u001b[0m\u001b[48;2;39;40;34m                                                                                           \u001b[0m  \n",
       " ───────────────────────────────────────────────────────────────────────────────────────────────────────────────── \n"
      ]
     },
     "jetTransient": {
      "display_id": null
     },
     "metadata": {},
     "output_type": "display_data"
    },
    {
     "data": {
      "text/html": [
       "<pre style=\"white-space:pre;overflow-x:auto;line-height:normal;font-family:Menlo,'DejaVu Sans Mono',consolas,'Courier New',monospace\"><span style=\"font-weight: bold\">Execution logs:</span>\n",
       "## Search Results\n",
       "\n",
       "[Orkes Best Practices for Production-Scale RAG Systems — An Implementation Guide | Orkes Platform - Microservices \n",
       "and Workflow Orchestration at Scale](https://orkes.io/blog/rag-best-practices/)\n",
       "Learn hands-on the best practices to improve RAG accuracy and response quality: contextual headers, semantic \n",
       "chunks, hybrid search, and reranking.\n",
       "\n",
       "[Medium Building Production-Ready RAG Systems: Best Practices and Latest Tools | by Meeran Malik | \n",
       "Medium](https://medium.com/@meeran03/building-production-ready-rag-systems-best-practices-and-latest-tools-581cae95\n",
       "18e7)\n",
       "May 1, 2025 - Building a RAG system from scratch is complex, but the good news is there’s an ecosystem of tools to \n",
       "help: Vector Databases : These are specialized databases for storing embeddings and supporting fast similarity \n",
       "search at scale.\n",
       "\n",
       "[Anyscale Building RAG-based LLM Applications for \n",
       "Production](https://www.anyscale.com/blog/a-comprehensive-guide-for-building-rag-based-llm-applications-part-1)\n",
       "In this guide, we will learn how to develop and productionize a retrieval augmented generation ( RAG ) based LLM \n",
       "application , with a focus on scale and evaluation.\n",
       "\n",
       "[LlamaIndex Building Performant RAG Applications for Production | LlamaIndex \n",
       "...](https://docs.llamaindex.ai/en/stable/optimizing/production_rag/)\n",
       "Prototyping a RAG application is easy, but making it performant, robust, and scalable to a large knowledge corpus \n",
       "is hard · This guide contains a variety of tips and tricks to improve the performance of your RAG workflow. We \n",
       "first outline some general techniques - they are loosely ordered ...\n",
       "\n",
       "[Coralogix RAG in Production: Deployment Strategies and Practical \n",
       "Considerations](https://coralogix.com/ai-blog/rag-in-production-deployment-strategies-and-practical-considerations/\n",
       ")\n",
       "June 19, 2025 - As organizations rush to implement Retrieval-Augmented Generation ( RAG ) systems, many struggle at\n",
       "the production stage, their prototypes breaking under real-world scale .\n",
       "\n",
       "[Medium Building a Production-Ready RAG Application: A Practical Guide | by Yash Patel | \n",
       "Medium](https://medium.com/@xanoweg441/building-a-production-ready-rag-application-a-practical-guide-d43a29908fe4)\n",
       "September 14, 2024 - Amazon OpenSearch : This service offers robust features like data ingestion pipelines, hybrid \n",
       "search, and integration with Amazon SageMaker for model deployment. OpenSearch is an excellent option for \n",
       "businesses looking to build end-to-end RAG workflows with the flexibility of cloud services.\n",
       "\n",
       "[Netguru Production-Ready RAG: Engineering Guidelines for Scalable \n",
       "Systems](https://www.netguru.com/blog/rag-for-scalable-systems)\n",
       "May 20, 2025 - Learn how to build cost-effective, scalable AI systems with Retrieval Augmented Generation ( RAG ) \n",
       "architecture, optimizing performance and managing data.\n",
       "\n",
       "[NVIDIA Developer How to Take a RAG Application from Pilot to Production in Four Steps | NVIDIA Technical \n",
       "Blog](https://developer.nvidia.com/blog/how-to-take-a-rag-application-from-pilot-to-production-in-four-steps/)\n",
       "October 28, 2024 - Generative AI has the potential to transform every industry. Human workers are already using \n",
       "large language models (LLMs) to explain, reason about, and solve difficult cognitive tasks.\n",
       "\n",
       "[BentoML Building RAG with Open-Source and Custom AI \n",
       "Models](https://www.bentoml.com/blog/building-rag-with-open-source-and-custom-ai-models)\n",
       "Even if the metrics suggest full capacity, there might still be room for more requests and more throughput. This is\n",
       "why solutions like BentoCloud offers concurrency-based autoscaling . Such an approach learns the semantic meanings \n",
       "of different requests, using dynamic batching and wise resource ...\n",
       "\n",
       "[Firecrawl 15 Best Open-Source RAG Frameworks in \n",
       "2025](https://www.firecrawl.dev/blog/best-open-source-rag-frameworks)\n",
       "Document-heavy applications: consider RAGFlow or LLMWare · Production at scale: look at Milvus, Haystack, or \n",
       "LangChain · Limited hardware resources: prioritize LLMWare or LightRAG\n",
       "\n",
       "Out: None\n",
       "</pre>\n"
      ],
      "text/plain": [
       "\u001b[1mExecution logs:\u001b[0m\n",
       "## Search Results\n",
       "\n",
       "[Orkes Best Practices for Production-Scale RAG Systems — An Implementation Guide | Orkes Platform - Microservices \n",
       "and Workflow Orchestration at Scale](https://orkes.io/blog/rag-best-practices/)\n",
       "Learn hands-on the best practices to improve RAG accuracy and response quality: contextual headers, semantic \n",
       "chunks, hybrid search, and reranking.\n",
       "\n",
       "[Medium Building Production-Ready RAG Systems: Best Practices and Latest Tools | by Meeran Malik | \n",
       "Medium](https://medium.com/@meeran03/building-production-ready-rag-systems-best-practices-and-latest-tools-581cae95\n",
       "18e7)\n",
       "May 1, 2025 - Building a RAG system from scratch is complex, but the good news is there’s an ecosystem of tools to \n",
       "help: Vector Databases : These are specialized databases for storing embeddings and supporting fast similarity \n",
       "search at scale.\n",
       "\n",
       "[Anyscale Building RAG-based LLM Applications for \n",
       "Production](https://www.anyscale.com/blog/a-comprehensive-guide-for-building-rag-based-llm-applications-part-1)\n",
       "In this guide, we will learn how to develop and productionize a retrieval augmented generation ( RAG ) based LLM \n",
       "application , with a focus on scale and evaluation.\n",
       "\n",
       "[LlamaIndex Building Performant RAG Applications for Production | LlamaIndex \n",
       "...](https://docs.llamaindex.ai/en/stable/optimizing/production_rag/)\n",
       "Prototyping a RAG application is easy, but making it performant, robust, and scalable to a large knowledge corpus \n",
       "is hard · This guide contains a variety of tips and tricks to improve the performance of your RAG workflow. We \n",
       "first outline some general techniques - they are loosely ordered ...\n",
       "\n",
       "[Coralogix RAG in Production: Deployment Strategies and Practical \n",
       "Considerations](https://coralogix.com/ai-blog/rag-in-production-deployment-strategies-and-practical-considerations/\n",
       ")\n",
       "June 19, 2025 - As organizations rush to implement Retrieval-Augmented Generation ( RAG ) systems, many struggle at\n",
       "the production stage, their prototypes breaking under real-world scale .\n",
       "\n",
       "[Medium Building a Production-Ready RAG Application: A Practical Guide | by Yash Patel | \n",
       "Medium](https://medium.com/@xanoweg441/building-a-production-ready-rag-application-a-practical-guide-d43a29908fe4)\n",
       "September 14, 2024 - Amazon OpenSearch : This service offers robust features like data ingestion pipelines, hybrid \n",
       "search, and integration with Amazon SageMaker for model deployment. OpenSearch is an excellent option for \n",
       "businesses looking to build end-to-end RAG workflows with the flexibility of cloud services.\n",
       "\n",
       "[Netguru Production-Ready RAG: Engineering Guidelines for Scalable \n",
       "Systems](https://www.netguru.com/blog/rag-for-scalable-systems)\n",
       "May 20, 2025 - Learn how to build cost-effective, scalable AI systems with Retrieval Augmented Generation ( RAG ) \n",
       "architecture, optimizing performance and managing data.\n",
       "\n",
       "[NVIDIA Developer How to Take a RAG Application from Pilot to Production in Four Steps | NVIDIA Technical \n",
       "Blog](https://developer.nvidia.com/blog/how-to-take-a-rag-application-from-pilot-to-production-in-four-steps/)\n",
       "October 28, 2024 - Generative AI has the potential to transform every industry. Human workers are already using \n",
       "large language models (LLMs) to explain, reason about, and solve difficult cognitive tasks.\n",
       "\n",
       "[BentoML Building RAG with Open-Source and Custom AI \n",
       "Models](https://www.bentoml.com/blog/building-rag-with-open-source-and-custom-ai-models)\n",
       "Even if the metrics suggest full capacity, there might still be room for more requests and more throughput. This is\n",
       "why solutions like BentoCloud offers concurrency-based autoscaling . Such an approach learns the semantic meanings \n",
       "of different requests, using dynamic batching and wise resource ...\n",
       "\n",
       "[Firecrawl 15 Best Open-Source RAG Frameworks in \n",
       "2025](https://www.firecrawl.dev/blog/best-open-source-rag-frameworks)\n",
       "Document-heavy applications: consider RAGFlow or LLMWare · Production at scale: look at Milvus, Haystack, or \n",
       "LangChain · Limited hardware resources: prioritize LLMWare or LightRAG\n",
       "\n",
       "Out: None\n"
      ]
     },
     "jetTransient": {
      "display_id": null
     },
     "metadata": {},
     "output_type": "display_data"
    },
    {
     "data": {
      "text/html": [
       "<pre style=\"white-space:pre;overflow-x:auto;line-height:normal;font-family:Menlo,'DejaVu Sans Mono',consolas,'Courier New',monospace\"><span style=\"color: #7f7f7f; text-decoration-color: #7f7f7f\">[Step 1: Duration 2.66 seconds| Input tokens: 2,009 | Output tokens: 94]</span>\n",
       "</pre>\n"
      ],
      "text/plain": [
       "\u001b[2m[Step 1: Duration 2.66 seconds| Input tokens: 2,009 | Output tokens: 94]\u001b[0m\n"
      ]
     },
     "jetTransient": {
      "display_id": null
     },
     "metadata": {},
     "output_type": "display_data"
    },
    {
     "data": {
      "text/html": [
       "<pre style=\"white-space:pre;overflow-x:auto;line-height:normal;font-family:Menlo,'DejaVu Sans Mono',consolas,'Courier New',monospace\"><span style=\"color: #d4b702; text-decoration-color: #d4b702\">━━━━━━━━━━━━━━━━━━━━━━━━━━━━━━━━━━━━━━━━━━━━━━━━━━━━━ </span><span style=\"font-weight: bold\">Step 2</span><span style=\"color: #d4b702; text-decoration-color: #d4b702\"> ━━━━━━━━━━━━━━━━━━━━━━━━━━━━━━━━━━━━━━━━━━━━━━━━━━━━━━</span>\n",
       "</pre>\n"
      ],
      "text/plain": [
       "\u001b[38;2;212;183;2m━━━━━━━━━━━━━━━━━━━━━━━━━━━━━━━━━━━━━━━━━━━━━━━━━━━━━ \u001b[0m\u001b[1mStep 2\u001b[0m\u001b[38;2;212;183;2m ━━━━━━━━━━━━━━━━━━━━━━━━━━━━━━━━━━━━━━━━━━━━━━━━━━━━━━\u001b[0m\n"
      ]
     },
     "jetTransient": {
      "display_id": null
     },
     "metadata": {},
     "output_type": "display_data"
    },
    {
     "data": {
      "text/html": [
       "<pre style=\"white-space:pre;overflow-x:auto;line-height:normal;font-family:Menlo,'DejaVu Sans Mono',consolas,'Courier New',monospace\"> ─ <span style=\"font-weight: bold\">Executing parsed code:</span> ──────────────────────────────────────────────────────────────────────────────────────── \n",
       "  <span style=\"color: #f8f8f2; text-decoration-color: #f8f8f2; background-color: #272822\">final_answer(</span><span style=\"color: #e6db74; text-decoration-color: #e6db74; background-color: #272822\">\"https://docs.llamaindex.ai/en/stable/optimizing/production_rag/\"</span><span style=\"color: #f8f8f2; text-decoration-color: #f8f8f2; background-color: #272822\">)</span><span style=\"background-color: #272822\">                                </span>  \n",
       " ───────────────────────────────────────────────────────────────────────────────────────────────────────────────── \n",
       "</pre>\n"
      ],
      "text/plain": [
       " ─ \u001b[1mExecuting parsed code:\u001b[0m ──────────────────────────────────────────────────────────────────────────────────────── \n",
       "  \u001b[38;2;248;248;242;48;2;39;40;34mfinal_answer\u001b[0m\u001b[38;2;248;248;242;48;2;39;40;34m(\u001b[0m\u001b[38;2;230;219;116;48;2;39;40;34m\"\u001b[0m\u001b[38;2;230;219;116;48;2;39;40;34mhttps://docs.llamaindex.ai/en/stable/optimizing/production_rag/\u001b[0m\u001b[38;2;230;219;116;48;2;39;40;34m\"\u001b[0m\u001b[38;2;248;248;242;48;2;39;40;34m)\u001b[0m\u001b[48;2;39;40;34m                                \u001b[0m  \n",
       " ───────────────────────────────────────────────────────────────────────────────────────────────────────────────── \n"
      ]
     },
     "jetTransient": {
      "display_id": null
     },
     "metadata": {},
     "output_type": "display_data"
    },
    {
     "data": {
      "text/html": [
       "<pre style=\"white-space:pre;overflow-x:auto;line-height:normal;font-family:Menlo,'DejaVu Sans Mono',consolas,'Courier New',monospace\"></pre>\n"
      ],
      "text/plain": []
     },
     "jetTransient": {
      "display_id": null
     },
     "metadata": {},
     "output_type": "display_data"
    },
    {
     "data": {
      "text/html": [
       "<pre style=\"white-space:pre;overflow-x:auto;line-height:normal;font-family:Menlo,'DejaVu Sans Mono',consolas,'Courier New',monospace\"><span style=\"color: #d4b702; text-decoration-color: #d4b702; font-weight: bold\">Final answer: https://docs.llamaindex.ai/en/stable/optimizing/production_rag/</span>\n",
       "</pre>\n"
      ],
      "text/plain": [
       "\u001b[1;38;2;212;183;2mFinal answer: https://docs.llamaindex.ai/en/stable/optimizing/production_rag/\u001b[0m\n"
      ]
     },
     "jetTransient": {
      "display_id": null
     },
     "metadata": {},
     "output_type": "display_data"
    },
    {
     "data": {
      "text/html": [
       "<pre style=\"white-space:pre;overflow-x:auto;line-height:normal;font-family:Menlo,'DejaVu Sans Mono',consolas,'Courier New',monospace\"><span style=\"color: #7f7f7f; text-decoration-color: #7f7f7f\">[Step 2: Duration 1.61 seconds| Input tokens: 5,084 | Output tokens: 238]</span>\n",
       "</pre>\n"
      ],
      "text/plain": [
       "\u001b[2m[Step 2: Duration 1.61 seconds| Input tokens: 5,084 | Output tokens: 238]\u001b[0m\n"
      ]
     },
     "jetTransient": {
      "display_id": null
     },
     "metadata": {},
     "output_type": "display_data"
    },
    {
     "data": {
      "text/plain": [
       "'https://docs.llamaindex.ai/en/stable/optimizing/production_rag/'"
      ]
     },
     "execution_count": 10,
     "metadata": {},
     "output_type": "execute_result"
    }
   ],
   "source": [
    "agent.run(\n",
    "\t\"I want to scale my production rag application, what is the best resource to learn and implement for my company.\"\n",
    ")"
   ]
  },
  {
   "cell_type": "code",
   "execution_count": 12,
   "id": "506b160d39a8dd8c",
   "metadata": {
    "ExecuteTime": {
     "end_time": "2025-09-22T12:37:36.548391Z",
     "start_time": "2025-09-22T12:37:36.534637Z"
    }
   },
   "outputs": [],
   "source": [
    "agent_reg = CodeAgent(\n",
    "\ttools=[DuckDuckGoSearchTool()],\n",
    "\tmodel=InferenceClientModel(\n",
    "\t\tapi_key=os.getenv(\"HF_WRITE_TOKEN\"), provider=\"together\"\n",
    "\t),\n",
    ")"
   ]
  },
  {
   "cell_type": "code",
   "execution_count": 13,
   "id": "445bb8b1b9553a2b",
   "metadata": {
    "ExecuteTime": {
     "end_time": "2025-09-22T12:38:01.247924Z",
     "start_time": "2025-09-22T12:37:51.025453Z"
    }
   },
   "outputs": [
    {
     "data": {
      "text/html": [
       "<pre style=\"white-space:pre;overflow-x:auto;line-height:normal;font-family:Menlo,'DejaVu Sans Mono',consolas,'Courier New',monospace\"><span style=\"color: #d4b702; text-decoration-color: #d4b702\">╭──────────────────────────────────────────────────── </span><span style=\"color: #d4b702; text-decoration-color: #d4b702; font-weight: bold\">New run</span><span style=\"color: #d4b702; text-decoration-color: #d4b702\"> ────────────────────────────────────────────────────╮</span>\n",
       "<span style=\"color: #d4b702; text-decoration-color: #d4b702\">│</span>                                                                                                                 <span style=\"color: #d4b702; text-decoration-color: #d4b702\">│</span>\n",
       "<span style=\"color: #d4b702; text-decoration-color: #d4b702\">│</span> <span style=\"font-weight: bold\">Search for the best book recommendation for getting good at programming in rust for programmer who know python</span>  <span style=\"color: #d4b702; text-decoration-color: #d4b702\">│</span>\n",
       "<span style=\"color: #d4b702; text-decoration-color: #d4b702\">│</span>                                                                                                                 <span style=\"color: #d4b702; text-decoration-color: #d4b702\">│</span>\n",
       "<span style=\"color: #d4b702; text-decoration-color: #d4b702\">╰─ InferenceClientModel - Qwen/Qwen2.5-Coder-32B-Instruct ────────────────────────────────────────────────────────╯</span>\n",
       "</pre>\n"
      ],
      "text/plain": [
       "\u001b[38;2;212;183;2m╭─\u001b[0m\u001b[38;2;212;183;2m───────────────────────────────────────────────────\u001b[0m\u001b[38;2;212;183;2m \u001b[0m\u001b[1;38;2;212;183;2mNew run\u001b[0m\u001b[38;2;212;183;2m \u001b[0m\u001b[38;2;212;183;2m───────────────────────────────────────────────────\u001b[0m\u001b[38;2;212;183;2m─╮\u001b[0m\n",
       "\u001b[38;2;212;183;2m│\u001b[0m                                                                                                                 \u001b[38;2;212;183;2m│\u001b[0m\n",
       "\u001b[38;2;212;183;2m│\u001b[0m \u001b[1mSearch for the best book recommendation for getting good at programming in rust for programmer who know python\u001b[0m  \u001b[38;2;212;183;2m│\u001b[0m\n",
       "\u001b[38;2;212;183;2m│\u001b[0m                                                                                                                 \u001b[38;2;212;183;2m│\u001b[0m\n",
       "\u001b[38;2;212;183;2m╰─\u001b[0m\u001b[38;2;212;183;2m InferenceClientModel - Qwen/Qwen2.5-Coder-32B-Instruct \u001b[0m\u001b[38;2;212;183;2m───────────────────────────────────────────────────────\u001b[0m\u001b[38;2;212;183;2m─╯\u001b[0m\n"
      ]
     },
     "jetTransient": {
      "display_id": null
     },
     "metadata": {},
     "output_type": "display_data"
    },
    {
     "data": {
      "text/html": [
       "<pre style=\"white-space:pre;overflow-x:auto;line-height:normal;font-family:Menlo,'DejaVu Sans Mono',consolas,'Courier New',monospace\"><span style=\"color: #d4b702; text-decoration-color: #d4b702\">━━━━━━━━━━━━━━━━━━━━━━━━━━━━━━━━━━━━━━━━━━━━━━━━━━━━━ </span><span style=\"font-weight: bold\">Step 1</span><span style=\"color: #d4b702; text-decoration-color: #d4b702\"> ━━━━━━━━━━━━━━━━━━━━━━━━━━━━━━━━━━━━━━━━━━━━━━━━━━━━━━</span>\n",
       "</pre>\n"
      ],
      "text/plain": [
       "\u001b[38;2;212;183;2m━━━━━━━━━━━━━━━━━━━━━━━━━━━━━━━━━━━━━━━━━━━━━━━━━━━━━ \u001b[0m\u001b[1mStep 1\u001b[0m\u001b[38;2;212;183;2m ━━━━━━━━━━━━━━━━━━━━━━━━━━━━━━━━━━━━━━━━━━━━━━━━━━━━━━\u001b[0m\n"
      ]
     },
     "jetTransient": {
      "display_id": null
     },
     "metadata": {},
     "output_type": "display_data"
    },
    {
     "data": {
      "text/html": [
       "<pre style=\"white-space:pre;overflow-x:auto;line-height:normal;font-family:Menlo,'DejaVu Sans Mono',consolas,'Courier New',monospace\"> ─ <span style=\"font-weight: bold\">Executing parsed code:</span> ──────────────────────────────────────────────────────────────────────────────────────── \n",
       "  <span style=\"color: #f8f8f2; text-decoration-color: #f8f8f2; background-color: #272822\">search_results </span><span style=\"color: #ff4689; text-decoration-color: #ff4689; background-color: #272822\">=</span><span style=\"color: #f8f8f2; text-decoration-color: #f8f8f2; background-color: #272822\"> web_search(query</span><span style=\"color: #ff4689; text-decoration-color: #ff4689; background-color: #272822\">=</span><span style=\"color: #e6db74; text-decoration-color: #e6db74; background-color: #272822\">\"best book to learn Rust for Python programmers\"</span><span style=\"color: #f8f8f2; text-decoration-color: #f8f8f2; background-color: #272822\">)</span><span style=\"background-color: #272822\">                            </span>  \n",
       "  <span style=\"color: #f8f8f2; text-decoration-color: #f8f8f2; background-color: #272822\">print(search_results)</span><span style=\"background-color: #272822\">                                                                                          </span>  \n",
       " ───────────────────────────────────────────────────────────────────────────────────────────────────────────────── \n",
       "</pre>\n"
      ],
      "text/plain": [
       " ─ \u001b[1mExecuting parsed code:\u001b[0m ──────────────────────────────────────────────────────────────────────────────────────── \n",
       "  \u001b[38;2;248;248;242;48;2;39;40;34msearch_results\u001b[0m\u001b[38;2;248;248;242;48;2;39;40;34m \u001b[0m\u001b[38;2;255;70;137;48;2;39;40;34m=\u001b[0m\u001b[38;2;248;248;242;48;2;39;40;34m \u001b[0m\u001b[38;2;248;248;242;48;2;39;40;34mweb_search\u001b[0m\u001b[38;2;248;248;242;48;2;39;40;34m(\u001b[0m\u001b[38;2;248;248;242;48;2;39;40;34mquery\u001b[0m\u001b[38;2;255;70;137;48;2;39;40;34m=\u001b[0m\u001b[38;2;230;219;116;48;2;39;40;34m\"\u001b[0m\u001b[38;2;230;219;116;48;2;39;40;34mbest book to learn Rust for Python programmers\u001b[0m\u001b[38;2;230;219;116;48;2;39;40;34m\"\u001b[0m\u001b[38;2;248;248;242;48;2;39;40;34m)\u001b[0m\u001b[48;2;39;40;34m                            \u001b[0m  \n",
       "  \u001b[38;2;248;248;242;48;2;39;40;34mprint\u001b[0m\u001b[38;2;248;248;242;48;2;39;40;34m(\u001b[0m\u001b[38;2;248;248;242;48;2;39;40;34msearch_results\u001b[0m\u001b[38;2;248;248;242;48;2;39;40;34m)\u001b[0m\u001b[48;2;39;40;34m                                                                                          \u001b[0m  \n",
       " ───────────────────────────────────────────────────────────────────────────────────────────────────────────────── \n"
      ]
     },
     "jetTransient": {
      "display_id": null
     },
     "metadata": {},
     "output_type": "display_data"
    },
    {
     "data": {
      "text/html": [
       "<pre style=\"white-space:pre;overflow-x:auto;line-height:normal;font-family:Menlo,'DejaVu Sans Mono',consolas,'Courier New',monospace\"><span style=\"font-weight: bold\">Execution logs:</span>\n",
       "## Search Results\n",
       "\n",
       "[Best Rust Programming Books To Read in 2025 - \n",
       "CloudSpinx](https://cloudspinx.com/best-rust-programming-books-to-read/)\n",
       "He has mastered and used different kinds of programming languages like C, Java, Python and even Go for developing \n",
       "various applications. This author in this book describes web development using the Rust programming language which \n",
       "will get you up and running with modern web frameworks and comes with examples of RESTful microservices \n",
       "development.\n",
       "\n",
       "[Best Book to learn rust : r/rust - Reddit](https://www.reddit.com/r/rust/comments/sjclfb/best_book_to_learn_rust/)\n",
       "This book gives you a fast introduction to Rust so that you may get started with low-level system programming and \n",
       "developing web applications, network services, and embedded programs.\n",
       "\n",
       "[Top 5 Books to Learn Rust - rustjobs.dev](https://rustjobs.dev/blog/top-5-books-to-learn-rust/)\n",
       "The strong adoption of Rust in the tech realm is creating a burgeoning demand for adept Rust developers. Our list \n",
       "of top 5 books is curated to equip you with the essential Rust knowledge, bolstering your skills to seize exciting \n",
       "job opportunities in this domain. 1. The Rust Programming Language by Steve Klabnik and Carol Nichols This is the \n",
       "official book on Rust , often referred to as \"the book ...\n",
       "\n",
       "[Seven Rust books that don't suck — Bitfield Consulting](https://bitfieldconsulting.com/posts/best-rust-books)\n",
       "The only word for Programming Rust is \"magisterial\": at over 700 pages, it's not a book to be taken lightly, in any\n",
       "sense of the word. However, while there is a fair amount of overlap with other books such as The Rust Programming \n",
       "Language and Rust for Rustaceans, it does contain an awful lot of value. Programming Rust goes through everything \n",
       "in the language and standard library very ...\n",
       "\n",
       "[7 Rust Books Experts Recommend for Mastery - BookAuthority](https://bookauthority.org/books/best-rust-books)\n",
       "7 Rust Books That Separate Experts from Amateurs Curated by Steve Klabnik, co-author of The Rust Programming \n",
       "Language, and Pratham Prasoon, blockchain developer, these Rust books offer unparalleled insights for programmers .\n",
       "\n",
       "[9 Best Rust Programming Courses and Books for Beginners in \n",
       "2025](https://medium.com/javarevisited/7-best-rust-programming-courses-and-books-for-beginners-in-2021-2ed2311af46c\n",
       ")\n",
       "Hello guys, If you are looking to learn the Rust Programming language in 2025 and looking for useful resources like\n",
       "books , tutorials, and online courses, then you have come to the right place ...\n",
       "\n",
       "[Top 5 Rust Books to Master the Language and Ecosystem in 2024](https://travis.media/blog/top-5-rust-books/)\n",
       "Let's explore the top 5 Rust books to master the language and ecosystem. From beginner guides to advanced topics, \n",
       "find the perfect resource for your Rust learning journey.\n",
       "\n",
       "[GitHub - sger/RustBooks: List of Rust books](https://github.com/sger/RustBooks)\n",
       "Rust in Action is a book for intermediate programmers who want to explore the world of the Rust programming \n",
       "language. It's intended for people who may have exhausted the free material on the web, but who still want to learn\n",
       "more.\n",
       "\n",
       "[10 Best Rust Programming Books - Programming Geeks \n",
       "Club](https://programmingeeksclub.com/10-best-rust-programming-books/)\n",
       "Learn Rust programming with the 10 best books for beginners &amp; experts. Discover the top resources for mastering \n",
       "syntax, performance, systems programming &amp; more.\n",
       "\n",
       "[Top Rust Books recommended by experts - MentorCruise](https://mentorcruise.com/books/rust/)\n",
       "This book is your guide to mastering Rust programming, equipping you with essential skills and insights for \n",
       "efficient system programming. It starts by introducing Rust's significance in the system programming domain and \n",
       "highlighting its advantages over traditional languages like C/C++. Recommended by the experts and mentors at \n",
       "MentorCruise.\n",
       "\n",
       "Out: None\n",
       "</pre>\n"
      ],
      "text/plain": [
       "\u001b[1mExecution logs:\u001b[0m\n",
       "## Search Results\n",
       "\n",
       "[Best Rust Programming Books To Read in 2025 - \n",
       "CloudSpinx](https://cloudspinx.com/best-rust-programming-books-to-read/)\n",
       "He has mastered and used different kinds of programming languages like C, Java, Python and even Go for developing \n",
       "various applications. This author in this book describes web development using the Rust programming language which \n",
       "will get you up and running with modern web frameworks and comes with examples of RESTful microservices \n",
       "development.\n",
       "\n",
       "[Best Book to learn rust : r/rust - Reddit](https://www.reddit.com/r/rust/comments/sjclfb/best_book_to_learn_rust/)\n",
       "This book gives you a fast introduction to Rust so that you may get started with low-level system programming and \n",
       "developing web applications, network services, and embedded programs.\n",
       "\n",
       "[Top 5 Books to Learn Rust - rustjobs.dev](https://rustjobs.dev/blog/top-5-books-to-learn-rust/)\n",
       "The strong adoption of Rust in the tech realm is creating a burgeoning demand for adept Rust developers. Our list \n",
       "of top 5 books is curated to equip you with the essential Rust knowledge, bolstering your skills to seize exciting \n",
       "job opportunities in this domain. 1. The Rust Programming Language by Steve Klabnik and Carol Nichols This is the \n",
       "official book on Rust , often referred to as \"the book ...\n",
       "\n",
       "[Seven Rust books that don't suck — Bitfield Consulting](https://bitfieldconsulting.com/posts/best-rust-books)\n",
       "The only word for Programming Rust is \"magisterial\": at over 700 pages, it's not a book to be taken lightly, in any\n",
       "sense of the word. However, while there is a fair amount of overlap with other books such as The Rust Programming \n",
       "Language and Rust for Rustaceans, it does contain an awful lot of value. Programming Rust goes through everything \n",
       "in the language and standard library very ...\n",
       "\n",
       "[7 Rust Books Experts Recommend for Mastery - BookAuthority](https://bookauthority.org/books/best-rust-books)\n",
       "7 Rust Books That Separate Experts from Amateurs Curated by Steve Klabnik, co-author of The Rust Programming \n",
       "Language, and Pratham Prasoon, blockchain developer, these Rust books offer unparalleled insights for programmers .\n",
       "\n",
       "[9 Best Rust Programming Courses and Books for Beginners in \n",
       "2025](https://medium.com/javarevisited/7-best-rust-programming-courses-and-books-for-beginners-in-2021-2ed2311af46c\n",
       ")\n",
       "Hello guys, If you are looking to learn the Rust Programming language in 2025 and looking for useful resources like\n",
       "books , tutorials, and online courses, then you have come to the right place ...\n",
       "\n",
       "[Top 5 Rust Books to Master the Language and Ecosystem in 2024](https://travis.media/blog/top-5-rust-books/)\n",
       "Let's explore the top 5 Rust books to master the language and ecosystem. From beginner guides to advanced topics, \n",
       "find the perfect resource for your Rust learning journey.\n",
       "\n",
       "[GitHub - sger/RustBooks: List of Rust books](https://github.com/sger/RustBooks)\n",
       "Rust in Action is a book for intermediate programmers who want to explore the world of the Rust programming \n",
       "language. It's intended for people who may have exhausted the free material on the web, but who still want to learn\n",
       "more.\n",
       "\n",
       "[10 Best Rust Programming Books - Programming Geeks \n",
       "Club](https://programmingeeksclub.com/10-best-rust-programming-books/)\n",
       "Learn Rust programming with the 10 best books for beginners & experts. Discover the top resources for mastering \n",
       "syntax, performance, systems programming & more.\n",
       "\n",
       "[Top Rust Books recommended by experts - MentorCruise](https://mentorcruise.com/books/rust/)\n",
       "This book is your guide to mastering Rust programming, equipping you with essential skills and insights for \n",
       "efficient system programming. It starts by introducing Rust's significance in the system programming domain and \n",
       "highlighting its advantages over traditional languages like C/C++. Recommended by the experts and mentors at \n",
       "MentorCruise.\n",
       "\n",
       "Out: None\n"
      ]
     },
     "jetTransient": {
      "display_id": null
     },
     "metadata": {},
     "output_type": "display_data"
    },
    {
     "data": {
      "text/html": [
       "<pre style=\"white-space:pre;overflow-x:auto;line-height:normal;font-family:Menlo,'DejaVu Sans Mono',consolas,'Courier New',monospace\"><span style=\"color: #7f7f7f; text-decoration-color: #7f7f7f\">[Step 1: Duration 2.84 seconds| Input tokens: 2,005 | Output tokens: 75]</span>\n",
       "</pre>\n"
      ],
      "text/plain": [
       "\u001b[2m[Step 1: Duration 2.84 seconds| Input tokens: 2,005 | Output tokens: 75]\u001b[0m\n"
      ]
     },
     "jetTransient": {
      "display_id": null
     },
     "metadata": {},
     "output_type": "display_data"
    },
    {
     "data": {
      "text/html": [
       "<pre style=\"white-space:pre;overflow-x:auto;line-height:normal;font-family:Menlo,'DejaVu Sans Mono',consolas,'Courier New',monospace\"><span style=\"color: #d4b702; text-decoration-color: #d4b702\">━━━━━━━━━━━━━━━━━━━━━━━━━━━━━━━━━━━━━━━━━━━━━━━━━━━━━ </span><span style=\"font-weight: bold\">Step 2</span><span style=\"color: #d4b702; text-decoration-color: #d4b702\"> ━━━━━━━━━━━━━━━━━━━━━━━━━━━━━━━━━━━━━━━━━━━━━━━━━━━━━━</span>\n",
       "</pre>\n"
      ],
      "text/plain": [
       "\u001b[38;2;212;183;2m━━━━━━━━━━━━━━━━━━━━━━━━━━━━━━━━━━━━━━━━━━━━━━━━━━━━━ \u001b[0m\u001b[1mStep 2\u001b[0m\u001b[38;2;212;183;2m ━━━━━━━━━━━━━━━━━━━━━━━━━━━━━━━━━━━━━━━━━━━━━━━━━━━━━━\u001b[0m\n"
      ]
     },
     "jetTransient": {
      "display_id": null
     },
     "metadata": {},
     "output_type": "display_data"
    },
    {
     "data": {
      "text/html": [
       "<pre style=\"white-space:pre;overflow-x:auto;line-height:normal;font-family:Menlo,'DejaVu Sans Mono',consolas,'Courier New',monospace\"> ─ <span style=\"font-weight: bold\">Executing parsed code:</span> ──────────────────────────────────────────────────────────────────────────────────────── \n",
       "  <span style=\"color: #f8f8f2; text-decoration-color: #f8f8f2; background-color: #272822\">book1_details </span><span style=\"color: #ff4689; text-decoration-color: #ff4689; background-color: #272822\">=</span><span style=\"color: #f8f8f2; text-decoration-color: #f8f8f2; background-color: #272822\"> web_search(query</span><span style=\"color: #ff4689; text-decoration-color: #ff4689; background-color: #272822\">=</span><span style=\"color: #e6db74; text-decoration-color: #e6db74; background-color: #272822\">\"Programming Rust by Jim Blandy and Jason Orendorff\"</span><span style=\"color: #f8f8f2; text-decoration-color: #f8f8f2; background-color: #272822\">)</span><span style=\"background-color: #272822\">                         </span>  \n",
       "  <span style=\"color: #f8f8f2; text-decoration-color: #f8f8f2; background-color: #272822\">book2_details </span><span style=\"color: #ff4689; text-decoration-color: #ff4689; background-color: #272822\">=</span><span style=\"color: #f8f8f2; text-decoration-color: #f8f8f2; background-color: #272822\"> web_search(query</span><span style=\"color: #ff4689; text-decoration-color: #ff4689; background-color: #272822\">=</span><span style=\"color: #e6db74; text-decoration-color: #e6db74; background-color: #272822\">\"The Rust Programming Language by Steve Klabnik and Carol Nichols\"</span><span style=\"color: #f8f8f2; text-decoration-color: #f8f8f2; background-color: #272822\">)</span><span style=\"background-color: #272822\">           </span>  \n",
       "  <span style=\"color: #f8f8f2; text-decoration-color: #f8f8f2; background-color: #272822\">print(</span><span style=\"color: #e6db74; text-decoration-color: #e6db74; background-color: #272822\">\"Programming Rust details:\"</span><span style=\"color: #f8f8f2; text-decoration-color: #f8f8f2; background-color: #272822\">, book1_details)</span><span style=\"background-color: #272822\">                                                              </span>  \n",
       "  <span style=\"color: #f8f8f2; text-decoration-color: #f8f8f2; background-color: #272822\">print(</span><span style=\"color: #e6db74; text-decoration-color: #e6db74; background-color: #272822\">\"The Rust Programming Language details:\"</span><span style=\"color: #f8f8f2; text-decoration-color: #f8f8f2; background-color: #272822\">, book2_details)</span><span style=\"background-color: #272822\">                                                 </span>  \n",
       " ───────────────────────────────────────────────────────────────────────────────────────────────────────────────── \n",
       "</pre>\n"
      ],
      "text/plain": [
       " ─ \u001b[1mExecuting parsed code:\u001b[0m ──────────────────────────────────────────────────────────────────────────────────────── \n",
       "  \u001b[38;2;248;248;242;48;2;39;40;34mbook1_details\u001b[0m\u001b[38;2;248;248;242;48;2;39;40;34m \u001b[0m\u001b[38;2;255;70;137;48;2;39;40;34m=\u001b[0m\u001b[38;2;248;248;242;48;2;39;40;34m \u001b[0m\u001b[38;2;248;248;242;48;2;39;40;34mweb_search\u001b[0m\u001b[38;2;248;248;242;48;2;39;40;34m(\u001b[0m\u001b[38;2;248;248;242;48;2;39;40;34mquery\u001b[0m\u001b[38;2;255;70;137;48;2;39;40;34m=\u001b[0m\u001b[38;2;230;219;116;48;2;39;40;34m\"\u001b[0m\u001b[38;2;230;219;116;48;2;39;40;34mProgramming Rust by Jim Blandy and Jason Orendorff\u001b[0m\u001b[38;2;230;219;116;48;2;39;40;34m\"\u001b[0m\u001b[38;2;248;248;242;48;2;39;40;34m)\u001b[0m\u001b[48;2;39;40;34m                         \u001b[0m  \n",
       "  \u001b[38;2;248;248;242;48;2;39;40;34mbook2_details\u001b[0m\u001b[38;2;248;248;242;48;2;39;40;34m \u001b[0m\u001b[38;2;255;70;137;48;2;39;40;34m=\u001b[0m\u001b[38;2;248;248;242;48;2;39;40;34m \u001b[0m\u001b[38;2;248;248;242;48;2;39;40;34mweb_search\u001b[0m\u001b[38;2;248;248;242;48;2;39;40;34m(\u001b[0m\u001b[38;2;248;248;242;48;2;39;40;34mquery\u001b[0m\u001b[38;2;255;70;137;48;2;39;40;34m=\u001b[0m\u001b[38;2;230;219;116;48;2;39;40;34m\"\u001b[0m\u001b[38;2;230;219;116;48;2;39;40;34mThe Rust Programming Language by Steve Klabnik and Carol Nichols\u001b[0m\u001b[38;2;230;219;116;48;2;39;40;34m\"\u001b[0m\u001b[38;2;248;248;242;48;2;39;40;34m)\u001b[0m\u001b[48;2;39;40;34m           \u001b[0m  \n",
       "  \u001b[38;2;248;248;242;48;2;39;40;34mprint\u001b[0m\u001b[38;2;248;248;242;48;2;39;40;34m(\u001b[0m\u001b[38;2;230;219;116;48;2;39;40;34m\"\u001b[0m\u001b[38;2;230;219;116;48;2;39;40;34mProgramming Rust details:\u001b[0m\u001b[38;2;230;219;116;48;2;39;40;34m\"\u001b[0m\u001b[38;2;248;248;242;48;2;39;40;34m,\u001b[0m\u001b[38;2;248;248;242;48;2;39;40;34m \u001b[0m\u001b[38;2;248;248;242;48;2;39;40;34mbook1_details\u001b[0m\u001b[38;2;248;248;242;48;2;39;40;34m)\u001b[0m\u001b[48;2;39;40;34m                                                              \u001b[0m  \n",
       "  \u001b[38;2;248;248;242;48;2;39;40;34mprint\u001b[0m\u001b[38;2;248;248;242;48;2;39;40;34m(\u001b[0m\u001b[38;2;230;219;116;48;2;39;40;34m\"\u001b[0m\u001b[38;2;230;219;116;48;2;39;40;34mThe Rust Programming Language details:\u001b[0m\u001b[38;2;230;219;116;48;2;39;40;34m\"\u001b[0m\u001b[38;2;248;248;242;48;2;39;40;34m,\u001b[0m\u001b[38;2;248;248;242;48;2;39;40;34m \u001b[0m\u001b[38;2;248;248;242;48;2;39;40;34mbook2_details\u001b[0m\u001b[38;2;248;248;242;48;2;39;40;34m)\u001b[0m\u001b[48;2;39;40;34m                                                 \u001b[0m  \n",
       " ───────────────────────────────────────────────────────────────────────────────────────────────────────────────── \n"
      ]
     },
     "jetTransient": {
      "display_id": null
     },
     "metadata": {},
     "output_type": "display_data"
    },
    {
     "data": {
      "text/html": [
       "<pre style=\"white-space:pre;overflow-x:auto;line-height:normal;font-family:Menlo,'DejaVu Sans Mono',consolas,'Courier New',monospace\"><span style=\"font-weight: bold\">Execution logs:</span>\n",
       "Programming Rust details: ## Search Results\n",
       "\n",
       "[Programming Rust - by Jim Blandy, Jason Orendorff &amp; Leonora](https://books.danielhofstetter.com/programming-rust/)\n",
       "Although numeric types and the char type are distinct, Rust does provide byte literals , character-like literals \n",
       "for u8 values: b 'X' represents the ...\n",
       "\n",
       "[Jim Blandy and Jason Orendorff on Rust – \n",
       "O’Reilly](https://www.oreilly.com/content/jim-blandy-and-jason-orendorff-on-rust/)\n",
       "Programming Rust ,\" by Jim Blandy and Jason Orendorff , will be published by O ’ Reilly in October, and is \n",
       "currently available in Early Release .\n",
       "\n",
       "[Programming Rust - Programming Rust \n",
       "[Book]](https://www.oreilly.com/library/view/programming-rust/9781491927274/copyright-page01.html)\n",
       "Programming Rust by Jim Blandy , Jason Orendorff ... Programming Rust , the cover image, and related trade dress \n",
       "are trademarks of O’Reilly Media ...\n",
       "\n",
       "[Programming Rust by Jason Orendorff | Fast, Safe \n",
       "Systems](https://www.booktopia.com.au/programming-rust-jason-orendorff/book/9781492052593.html)\n",
       "The Rust programming language offers the rare and valuable combination of statically ... Authors Jim Blandy , Jason\n",
       "Orendorff , and Leonora F.S.\n",
       "\n",
       "[The Top Programming Books for Learning Rust | \n",
       "TutorialEdge.net](https://tutorialedge.net/rust/best-books-for-learning-rust/)\n",
       "The authors; Jim Blandy and Jason Orendorff are both experienced systems programmers and are both very qualified to\n",
       "teach you the basics of the Rust ...\n",
       "\n",
       "[O’Reilly’s “Programming Rust” by Jim \n",
       "Blandy](https://fullstackfeed.com/oreillys-programming-rust-by-jim-blandy-available-for-kindle/)\n",
       "Amazon.com: Programming Rust : Fast, Safe Systems Development eBook: Jim Blandy , Jason Orendorff : Kindle Store … \n",
       "Read more\n",
       "\n",
       "[Rusty Programming | Electronic \n",
       "Design](https://www.electronicdesign.com/techxchange/article/55275755/electronic-design-rusty-programming)\n",
       "Plenty of other Rust books are available, too, such as Programing Rust by Jim Blandy , Jason Orendorff , and \n",
       "Leonora Tindall.\n",
       "\n",
       "[8 Best Rust Books in 2023 - Josip Miskovic](https://josipmisko.com/best-rust-books)\n",
       "The book begins by explaining how Rust represents values in memory and teaching beginners how to write simple \n",
       "functions in Rust .\n",
       "\n",
       "[Jim Blandy](https://www.red-bean.com/~jimb/)\n",
       "Jason Orendorff , Nora Tindall, and I are the authors of Programming Rust , a book about the Rust programming \n",
       "language, published by O'Reilly.\n",
       "\n",
       "[Top 5 Rust Books 2024](https://www.codelz.com/top-5-rust-books-2024/)\n",
       "Programming Rust \" by Jim Blandy and Jason Orendorff ... Rust in Action introduces the Rust programming language by\n",
       "exploring numerous systems ...\n",
       "The Rust Programming Language details: ## Search Results\n",
       "\n",
       "[The Rust Programming Language: Klabnik, Steve, Nichols, Carol \n",
       "...](https://www.amazon.com/Rust-Programming-Language-Steve-Klabnik/dp/1593278284)\n",
       "Steve Klabnik works at Mozilla, is on the core team of Rust , and leads the documentation team. Klabnik is a \n",
       "frequent speaker at conferences and is a prolific open source contributor, previously working on projects such as \n",
       "Ruby and Ruby on Rails. Carol Nichols is a member of the Rust Tools and Community Teams. She's a co-founder of \n",
       "Integer 32, LLC, the world's first Rust -focused software ...\n",
       "\n",
       "[The Rust Programming Language](https://doc.rust-lang.org/stable/book/)\n",
       "The Rust Programming Language by Steve Klabnik , Carol Nichols , and Chris Krycho, with contributions from the Rust\n",
       "Community This version of the text assumes you're using Rust 1.85.0 (released 2025-02-17) or later with edition = \n",
       "\"2024\" in the Cargo.toml file of all projects to configure them to use Rust 2024 edition idioms.\n",
       "\n",
       "[The Rust Programming Language, 3rd Edition by Steve Klabnik, Carol \n",
       "...](https://www.penguinrandomhouse.com/books/790517/the-rust-programming-language-3rd-edition-by-steve-klabnik-car\n",
       "ol-nichols-and-chris-krycho-with-contributions-from-the-rust-community/)\n",
       "Building on two successful editions (135,000+ copies sold), this book adds essential updates to a title considered \n",
       "the Rust programming language's official documentation. The Rust Programming Language , 3rd Edition is the official\n",
       "guide to Rust 2024 and the latest iteration of one of the bestselling Rust books of all time. Rust provides control\n",
       "of low-level details along with high-level ...\n",
       "\n",
       "[The Rust Programming Language - Steve Klabnik, Carol Nichols - Google \n",
       "Books](https://books.google.com/books/about/The_Rust_Programming_Language.html?id=iVv6DwAAQBAJ)\n",
       "The Rust Programming Language is the official book on Rust , an open-source, community-developed systems \n",
       "programming language that runs blazingly fast, prevents segfaults, and guarantees thread safety.\n",
       "\n",
       "[The Rust Programming Language, 2nd Edition - \n",
       "Goodreads](https://www.goodreads.com/book/show/63891183-the-rust-programming-language-2nd-edition)\n",
       "Steve Klabnik is a prominent software developer and open-source advocate known for his contributions to the Rust \n",
       "programming language . Right now he works as a software engineer at Oxide Computer. Steve is considered one of the \n",
       "leading experts on Rust , and is widely respected for his knowledge and expertise. He is also a strong advocate for\n",
       "open-source software, believing that it has the power ...\n",
       "\n",
       "[The Rust Programming Language (Covers Rust 2018) by Steve Klabnik \n",
       "...](https://www.barnesandnoble.com/w/the-rust-programming-language-steve-klabnik/1126049059)\n",
       "Steve Klabnik is the Community Team Leader for the Rust team at Mozilla, in charge of official Rust community \n",
       "documentation as well as the key Rust community advocate. Klabnik is a frequent speaker at conferences and one of \n",
       "the world's most prolific contributors to Rails projects. Carol Nichols is a member of the Rust Community Team. \n",
       "She's been active in the Rust community and is an organizer ...\n",
       "\n",
       "[The Rust Programming Language - The Rust Programming Language](https://rust-book.cs.brown.edu/title-page.html)\n",
       "The Rust Programming Language by Steve Klabnik , Carol Nichols , and Chris Krycho, with contributions from the Rust\n",
       "Community ( and with experimental modifications!) This version of the text assumes you're using Rust 1.85.0 \n",
       "(released 2025-02-17) or later with edition = \"2024\" in the Cargo.toml file of all projects to configure them to \n",
       "use Rust 2024 edition idioms. See the \"Installation ...\n",
       "\n",
       "[The Rust Programming Language, 3rd Edition: Klabnik, Steve, Nichols \n",
       "...](https://www.amazon.com/Rust-Programming-Language-3rd/dp/1718504446)\n",
       "The Rust Programming Language , 3rd Edition is the official guide to Rust 2024 and the latest iteration of one of \n",
       "the bestselling Rust books of all time. Rust provides control of low-level details along with high-level \n",
       "ergonomics, allowing you to improve productivity and eliminate the hassle traditionally associated with low-level \n",
       "languages .\n",
       "\n",
       "[The Rust Programming Language, 2nd Edition | No Starch \n",
       "Press](https://nostarch.com/rust-programming-language-2nd-edition)\n",
       "Carol Nichols is a member of the Rust Community Team and a former member of the Rust Core Team. Also active in the \n",
       "Ruby community, she was a key organizer of the Steel City Ruby Conference 2012-2014. Steve Klabnik is the Community\n",
       "Team Leader for the Rust team at Mozilla, in charge of official Rust community documentation, as well as a trusted \n",
       "Rust community advocate. Klabnik is a frequent ...\n",
       "\n",
       "[The Rust Programming Language, 2nd Edition by Steve Klabnik, Carol \n",
       "...](https://www.penguinrandomhouse.com/books/719544/the-rust-programming-language-2nd-edition-by-steve-klabnik-and\n",
       "-carol-nichols/)\n",
       "Rust has been repeatedly voted \"Most Loved Language \" on the StackOverflow Developer Survey. The Rust Programming \n",
       "Language , 2nd Edition is the official guide to Rust 2021: an open source systems programming language that will \n",
       "help you write faster, more reliable software.\n",
       "\n",
       "Out: None\n",
       "</pre>\n"
      ],
      "text/plain": [
       "\u001b[1mExecution logs:\u001b[0m\n",
       "Programming Rust details: ## Search Results\n",
       "\n",
       "[Programming Rust - by Jim Blandy, Jason Orendorff & Leonora](https://books.danielhofstetter.com/programming-rust/)\n",
       "Although numeric types and the char type are distinct, Rust does provide byte literals , character-like literals \n",
       "for u8 values: b 'X' represents the ...\n",
       "\n",
       "[Jim Blandy and Jason Orendorff on Rust – \n",
       "O’Reilly](https://www.oreilly.com/content/jim-blandy-and-jason-orendorff-on-rust/)\n",
       "Programming Rust ,\" by Jim Blandy and Jason Orendorff , will be published by O ’ Reilly in October, and is \n",
       "currently available in Early Release .\n",
       "\n",
       "[Programming Rust - Programming Rust \n",
       "[Book]](https://www.oreilly.com/library/view/programming-rust/9781491927274/copyright-page01.html)\n",
       "Programming Rust by Jim Blandy , Jason Orendorff ... Programming Rust , the cover image, and related trade dress \n",
       "are trademarks of O’Reilly Media ...\n",
       "\n",
       "[Programming Rust by Jason Orendorff | Fast, Safe \n",
       "Systems](https://www.booktopia.com.au/programming-rust-jason-orendorff/book/9781492052593.html)\n",
       "The Rust programming language offers the rare and valuable combination of statically ... Authors Jim Blandy , Jason\n",
       "Orendorff , and Leonora F.S.\n",
       "\n",
       "[The Top Programming Books for Learning Rust | \n",
       "TutorialEdge.net](https://tutorialedge.net/rust/best-books-for-learning-rust/)\n",
       "The authors; Jim Blandy and Jason Orendorff are both experienced systems programmers and are both very qualified to\n",
       "teach you the basics of the Rust ...\n",
       "\n",
       "[O’Reilly’s “Programming Rust” by Jim \n",
       "Blandy](https://fullstackfeed.com/oreillys-programming-rust-by-jim-blandy-available-for-kindle/)\n",
       "Amazon.com: Programming Rust : Fast, Safe Systems Development eBook: Jim Blandy , Jason Orendorff : Kindle Store … \n",
       "Read more\n",
       "\n",
       "[Rusty Programming | Electronic \n",
       "Design](https://www.electronicdesign.com/techxchange/article/55275755/electronic-design-rusty-programming)\n",
       "Plenty of other Rust books are available, too, such as Programing Rust by Jim Blandy , Jason Orendorff , and \n",
       "Leonora Tindall.\n",
       "\n",
       "[8 Best Rust Books in 2023 - Josip Miskovic](https://josipmisko.com/best-rust-books)\n",
       "The book begins by explaining how Rust represents values in memory and teaching beginners how to write simple \n",
       "functions in Rust .\n",
       "\n",
       "[Jim Blandy](https://www.red-bean.com/~jimb/)\n",
       "Jason Orendorff , Nora Tindall, and I are the authors of Programming Rust , a book about the Rust programming \n",
       "language, published by O'Reilly.\n",
       "\n",
       "[Top 5 Rust Books 2024](https://www.codelz.com/top-5-rust-books-2024/)\n",
       "Programming Rust \" by Jim Blandy and Jason Orendorff ... Rust in Action introduces the Rust programming language by\n",
       "exploring numerous systems ...\n",
       "The Rust Programming Language details: ## Search Results\n",
       "\n",
       "[The Rust Programming Language: Klabnik, Steve, Nichols, Carol \n",
       "...](https://www.amazon.com/Rust-Programming-Language-Steve-Klabnik/dp/1593278284)\n",
       "Steve Klabnik works at Mozilla, is on the core team of Rust , and leads the documentation team. Klabnik is a \n",
       "frequent speaker at conferences and is a prolific open source contributor, previously working on projects such as \n",
       "Ruby and Ruby on Rails. Carol Nichols is a member of the Rust Tools and Community Teams. She's a co-founder of \n",
       "Integer 32, LLC, the world's first Rust -focused software ...\n",
       "\n",
       "[The Rust Programming Language](https://doc.rust-lang.org/stable/book/)\n",
       "The Rust Programming Language by Steve Klabnik , Carol Nichols , and Chris Krycho, with contributions from the Rust\n",
       "Community This version of the text assumes you're using Rust 1.85.0 (released 2025-02-17) or later with edition = \n",
       "\"2024\" in the Cargo.toml file of all projects to configure them to use Rust 2024 edition idioms.\n",
       "\n",
       "[The Rust Programming Language, 3rd Edition by Steve Klabnik, Carol \n",
       "...](https://www.penguinrandomhouse.com/books/790517/the-rust-programming-language-3rd-edition-by-steve-klabnik-car\n",
       "ol-nichols-and-chris-krycho-with-contributions-from-the-rust-community/)\n",
       "Building on two successful editions (135,000+ copies sold), this book adds essential updates to a title considered \n",
       "the Rust programming language's official documentation. The Rust Programming Language , 3rd Edition is the official\n",
       "guide to Rust 2024 and the latest iteration of one of the bestselling Rust books of all time. Rust provides control\n",
       "of low-level details along with high-level ...\n",
       "\n",
       "[The Rust Programming Language - Steve Klabnik, Carol Nichols - Google \n",
       "Books](https://books.google.com/books/about/The_Rust_Programming_Language.html?id=iVv6DwAAQBAJ)\n",
       "The Rust Programming Language is the official book on Rust , an open-source, community-developed systems \n",
       "programming language that runs blazingly fast, prevents segfaults, and guarantees thread safety.\n",
       "\n",
       "[The Rust Programming Language, 2nd Edition - \n",
       "Goodreads](https://www.goodreads.com/book/show/63891183-the-rust-programming-language-2nd-edition)\n",
       "Steve Klabnik is a prominent software developer and open-source advocate known for his contributions to the Rust \n",
       "programming language . Right now he works as a software engineer at Oxide Computer. Steve is considered one of the \n",
       "leading experts on Rust , and is widely respected for his knowledge and expertise. He is also a strong advocate for\n",
       "open-source software, believing that it has the power ...\n",
       "\n",
       "[The Rust Programming Language (Covers Rust 2018) by Steve Klabnik \n",
       "...](https://www.barnesandnoble.com/w/the-rust-programming-language-steve-klabnik/1126049059)\n",
       "Steve Klabnik is the Community Team Leader for the Rust team at Mozilla, in charge of official Rust community \n",
       "documentation as well as the key Rust community advocate. Klabnik is a frequent speaker at conferences and one of \n",
       "the world's most prolific contributors to Rails projects. Carol Nichols is a member of the Rust Community Team. \n",
       "She's been active in the Rust community and is an organizer ...\n",
       "\n",
       "[The Rust Programming Language - The Rust Programming Language](https://rust-book.cs.brown.edu/title-page.html)\n",
       "The Rust Programming Language by Steve Klabnik , Carol Nichols , and Chris Krycho, with contributions from the Rust\n",
       "Community ( and with experimental modifications!) This version of the text assumes you're using Rust 1.85.0 \n",
       "(released 2025-02-17) or later with edition = \"2024\" in the Cargo.toml file of all projects to configure them to \n",
       "use Rust 2024 edition idioms. See the \"Installation ...\n",
       "\n",
       "[The Rust Programming Language, 3rd Edition: Klabnik, Steve, Nichols \n",
       "...](https://www.amazon.com/Rust-Programming-Language-3rd/dp/1718504446)\n",
       "The Rust Programming Language , 3rd Edition is the official guide to Rust 2024 and the latest iteration of one of \n",
       "the bestselling Rust books of all time. Rust provides control of low-level details along with high-level \n",
       "ergonomics, allowing you to improve productivity and eliminate the hassle traditionally associated with low-level \n",
       "languages .\n",
       "\n",
       "[The Rust Programming Language, 2nd Edition | No Starch \n",
       "Press](https://nostarch.com/rust-programming-language-2nd-edition)\n",
       "Carol Nichols is a member of the Rust Community Team and a former member of the Rust Core Team. Also active in the \n",
       "Ruby community, she was a key organizer of the Steel City Ruby Conference 2012-2014. Steve Klabnik is the Community\n",
       "Team Leader for the Rust team at Mozilla, in charge of official Rust community documentation, as well as a trusted \n",
       "Rust community advocate. Klabnik is a frequent ...\n",
       "\n",
       "[The Rust Programming Language, 2nd Edition by Steve Klabnik, Carol \n",
       "...](https://www.penguinrandomhouse.com/books/719544/the-rust-programming-language-2nd-edition-by-steve-klabnik-and\n",
       "-carol-nichols/)\n",
       "Rust has been repeatedly voted \"Most Loved Language \" on the StackOverflow Developer Survey. The Rust Programming \n",
       "Language , 2nd Edition is the official guide to Rust 2021: an open source systems programming language that will \n",
       "help you write faster, more reliable software.\n",
       "\n",
       "Out: None\n"
      ]
     },
     "jetTransient": {
      "display_id": null
     },
     "metadata": {},
     "output_type": "display_data"
    },
    {
     "data": {
      "text/html": [
       "<pre style=\"white-space:pre;overflow-x:auto;line-height:normal;font-family:Menlo,'DejaVu Sans Mono',consolas,'Courier New',monospace\"><span style=\"color: #7f7f7f; text-decoration-color: #7f7f7f\">[Step 2: Duration 5.27 seconds| Input tokens: 4,991 | Output tokens: 270]</span>\n",
       "</pre>\n"
      ],
      "text/plain": [
       "\u001b[2m[Step 2: Duration 5.27 seconds| Input tokens: 4,991 | Output tokens: 270]\u001b[0m\n"
      ]
     },
     "jetTransient": {
      "display_id": null
     },
     "metadata": {},
     "output_type": "display_data"
    },
    {
     "data": {
      "text/html": [
       "<pre style=\"white-space:pre;overflow-x:auto;line-height:normal;font-family:Menlo,'DejaVu Sans Mono',consolas,'Courier New',monospace\"><span style=\"color: #d4b702; text-decoration-color: #d4b702\">━━━━━━━━━━━━━━━━━━━━━━━━━━━━━━━━━━━━━━━━━━━━━━━━━━━━━ </span><span style=\"font-weight: bold\">Step 3</span><span style=\"color: #d4b702; text-decoration-color: #d4b702\"> ━━━━━━━━━━━━━━━━━━━━━━━━━━━━━━━━━━━━━━━━━━━━━━━━━━━━━━</span>\n",
       "</pre>\n"
      ],
      "text/plain": [
       "\u001b[38;2;212;183;2m━━━━━━━━━━━━━━━━━━━━━━━━━━━━━━━━━━━━━━━━━━━━━━━━━━━━━ \u001b[0m\u001b[1mStep 3\u001b[0m\u001b[38;2;212;183;2m ━━━━━━━━━━━━━━━━━━━━━━━━━━━━━━━━━━━━━━━━━━━━━━━━━━━━━━\u001b[0m\n"
      ]
     },
     "jetTransient": {
      "display_id": null
     },
     "metadata": {},
     "output_type": "display_data"
    },
    {
     "data": {
      "text/html": [
       "<pre style=\"white-space:pre;overflow-x:auto;line-height:normal;font-family:Menlo,'DejaVu Sans Mono',consolas,'Courier New',monospace\"> ─ <span style=\"font-weight: bold\">Executing parsed code:</span> ──────────────────────────────────────────────────────────────────────────────────────── \n",
       "  <span style=\"color: #f8f8f2; text-decoration-color: #f8f8f2; background-color: #272822\">final_answer(</span><span style=\"color: #e6db74; text-decoration-color: #e6db74; background-color: #272822\">\"Programming Rust by Jim Blandy and Jason Orendorff\"</span><span style=\"color: #f8f8f2; text-decoration-color: #f8f8f2; background-color: #272822\">)</span><span style=\"background-color: #272822\">                                             </span>  \n",
       " ───────────────────────────────────────────────────────────────────────────────────────────────────────────────── \n",
       "</pre>\n"
      ],
      "text/plain": [
       " ─ \u001b[1mExecuting parsed code:\u001b[0m ──────────────────────────────────────────────────────────────────────────────────────── \n",
       "  \u001b[38;2;248;248;242;48;2;39;40;34mfinal_answer\u001b[0m\u001b[38;2;248;248;242;48;2;39;40;34m(\u001b[0m\u001b[38;2;230;219;116;48;2;39;40;34m\"\u001b[0m\u001b[38;2;230;219;116;48;2;39;40;34mProgramming Rust by Jim Blandy and Jason Orendorff\u001b[0m\u001b[38;2;230;219;116;48;2;39;40;34m\"\u001b[0m\u001b[38;2;248;248;242;48;2;39;40;34m)\u001b[0m\u001b[48;2;39;40;34m                                             \u001b[0m  \n",
       " ───────────────────────────────────────────────────────────────────────────────────────────────────────────────── \n"
      ]
     },
     "jetTransient": {
      "display_id": null
     },
     "metadata": {},
     "output_type": "display_data"
    },
    {
     "data": {
      "text/html": [
       "<pre style=\"white-space:pre;overflow-x:auto;line-height:normal;font-family:Menlo,'DejaVu Sans Mono',consolas,'Courier New',monospace\"></pre>\n"
      ],
      "text/plain": []
     },
     "jetTransient": {
      "display_id": null
     },
     "metadata": {},
     "output_type": "display_data"
    },
    {
     "data": {
      "text/html": [
       "<pre style=\"white-space:pre;overflow-x:auto;line-height:normal;font-family:Menlo,'DejaVu Sans Mono',consolas,'Courier New',monospace\"><span style=\"color: #d4b702; text-decoration-color: #d4b702; font-weight: bold\">Final answer: Programming Rust by Jim Blandy and Jason Orendorff</span>\n",
       "</pre>\n"
      ],
      "text/plain": [
       "\u001b[1;38;2;212;183;2mFinal answer: Programming Rust by Jim Blandy and Jason Orendorff\u001b[0m\n"
      ]
     },
     "jetTransient": {
      "display_id": null
     },
     "metadata": {},
     "output_type": "display_data"
    },
    {
     "data": {
      "text/html": [
       "<pre style=\"white-space:pre;overflow-x:auto;line-height:normal;font-family:Menlo,'DejaVu Sans Mono',consolas,'Courier New',monospace\"><span style=\"color: #7f7f7f; text-decoration-color: #7f7f7f\">[Step 3: Duration 2.10 seconds| Input tokens: 10,193 | Output tokens: 408]</span>\n",
       "</pre>\n"
      ],
      "text/plain": [
       "\u001b[2m[Step 3: Duration 2.10 seconds| Input tokens: 10,193 | Output tokens: 408]\u001b[0m\n"
      ]
     },
     "jetTransient": {
      "display_id": null
     },
     "metadata": {},
     "output_type": "display_data"
    },
    {
     "data": {
      "text/plain": [
       "'Programming Rust by Jim Blandy and Jason Orendorff'"
      ]
     },
     "execution_count": 13,
     "metadata": {},
     "output_type": "execute_result"
    }
   ],
   "source": [
    "agent_reg.run(\n",
    "\t\"Search for the best book recommendation for getting good at programming in rust for programmer who know python\"\n",
    ")"
   ]
  },
  {
   "cell_type": "code",
   "execution_count": 14,
   "id": "9a7f092943d5f82c",
   "metadata": {
    "ExecuteTime": {
     "end_time": "2025-09-22T12:39:18.768338Z",
     "start_time": "2025-09-22T12:38:53.039772Z"
    }
   },
   "outputs": [
    {
     "data": {
      "text/html": [
       "<pre style=\"white-space:pre;overflow-x:auto;line-height:normal;font-family:Menlo,'DejaVu Sans Mono',consolas,'Courier New',monospace\"><span style=\"color: #d4b702; text-decoration-color: #d4b702\">╭──────────────────────────────────────────────────── </span><span style=\"color: #d4b702; text-decoration-color: #d4b702; font-weight: bold\">New run</span><span style=\"color: #d4b702; text-decoration-color: #d4b702\"> ────────────────────────────────────────────────────╮</span>\n",
       "<span style=\"color: #d4b702; text-decoration-color: #d4b702\">│</span>                                                                                                                 <span style=\"color: #d4b702; text-decoration-color: #d4b702\">│</span>\n",
       "<span style=\"color: #d4b702; text-decoration-color: #d4b702\">│</span> <span style=\"font-weight: bold\">I want to scale my production rag application, what is the best resource to learn and implement for my company.</span> <span style=\"color: #d4b702; text-decoration-color: #d4b702\">│</span>\n",
       "<span style=\"color: #d4b702; text-decoration-color: #d4b702\">│</span>                                                                                                                 <span style=\"color: #d4b702; text-decoration-color: #d4b702\">│</span>\n",
       "<span style=\"color: #d4b702; text-decoration-color: #d4b702\">╰─ InferenceClientModel - Qwen/Qwen2.5-Coder-32B-Instruct ────────────────────────────────────────────────────────╯</span>\n",
       "</pre>\n"
      ],
      "text/plain": [
       "\u001b[38;2;212;183;2m╭─\u001b[0m\u001b[38;2;212;183;2m───────────────────────────────────────────────────\u001b[0m\u001b[38;2;212;183;2m \u001b[0m\u001b[1;38;2;212;183;2mNew run\u001b[0m\u001b[38;2;212;183;2m \u001b[0m\u001b[38;2;212;183;2m───────────────────────────────────────────────────\u001b[0m\u001b[38;2;212;183;2m─╮\u001b[0m\n",
       "\u001b[38;2;212;183;2m│\u001b[0m                                                                                                                 \u001b[38;2;212;183;2m│\u001b[0m\n",
       "\u001b[38;2;212;183;2m│\u001b[0m \u001b[1mI want to scale my production rag application, what is the best resource to learn and implement for my company.\u001b[0m \u001b[38;2;212;183;2m│\u001b[0m\n",
       "\u001b[38;2;212;183;2m│\u001b[0m                                                                                                                 \u001b[38;2;212;183;2m│\u001b[0m\n",
       "\u001b[38;2;212;183;2m╰─\u001b[0m\u001b[38;2;212;183;2m InferenceClientModel - Qwen/Qwen2.5-Coder-32B-Instruct \u001b[0m\u001b[38;2;212;183;2m───────────────────────────────────────────────────────\u001b[0m\u001b[38;2;212;183;2m─╯\u001b[0m\n"
      ]
     },
     "jetTransient": {
      "display_id": null
     },
     "metadata": {},
     "output_type": "display_data"
    },
    {
     "data": {
      "text/html": [
       "<pre style=\"white-space:pre;overflow-x:auto;line-height:normal;font-family:Menlo,'DejaVu Sans Mono',consolas,'Courier New',monospace\"><span style=\"color: #d4b702; text-decoration-color: #d4b702\">━━━━━━━━━━━━━━━━━━━━━━━━━━━━━━━━━━━━━━━━━━━━━━━━━━━━━ </span><span style=\"font-weight: bold\">Step 1</span><span style=\"color: #d4b702; text-decoration-color: #d4b702\"> ━━━━━━━━━━━━━━━━━━━━━━━━━━━━━━━━━━━━━━━━━━━━━━━━━━━━━━</span>\n",
       "</pre>\n"
      ],
      "text/plain": [
       "\u001b[38;2;212;183;2m━━━━━━━━━━━━━━━━━━━━━━━━━━━━━━━━━━━━━━━━━━━━━━━━━━━━━ \u001b[0m\u001b[1mStep 1\u001b[0m\u001b[38;2;212;183;2m ━━━━━━━━━━━━━━━━━━━━━━━━━━━━━━━━━━━━━━━━━━━━━━━━━━━━━━\u001b[0m\n"
      ]
     },
     "jetTransient": {
      "display_id": null
     },
     "metadata": {},
     "output_type": "display_data"
    },
    {
     "data": {
      "text/html": [
       "<pre style=\"white-space:pre;overflow-x:auto;line-height:normal;font-family:Menlo,'DejaVu Sans Mono',consolas,'Courier New',monospace\"> ─ <span style=\"font-weight: bold\">Executing parsed code:</span> ──────────────────────────────────────────────────────────────────────────────────────── \n",
       "  <span style=\"color: #f8f8f2; text-decoration-color: #f8f8f2; background-color: #272822\">search_results </span><span style=\"color: #ff4689; text-decoration-color: #ff4689; background-color: #272822\">=</span><span style=\"color: #f8f8f2; text-decoration-color: #f8f8f2; background-color: #272822\"> web_search(query</span><span style=\"color: #ff4689; text-decoration-color: #ff4689; background-color: #272822\">=</span><span style=\"color: #e6db74; text-decoration-color: #e6db74; background-color: #272822\">\"scaling production rag application\"</span><span style=\"color: #f8f8f2; text-decoration-color: #f8f8f2; background-color: #272822\">)</span><span style=\"background-color: #272822\">                                        </span>  \n",
       "  <span style=\"color: #f8f8f2; text-decoration-color: #f8f8f2; background-color: #272822\">print(search_results)</span><span style=\"background-color: #272822\">                                                                                          </span>  \n",
       " ───────────────────────────────────────────────────────────────────────────────────────────────────────────────── \n",
       "</pre>\n"
      ],
      "text/plain": [
       " ─ \u001b[1mExecuting parsed code:\u001b[0m ──────────────────────────────────────────────────────────────────────────────────────── \n",
       "  \u001b[38;2;248;248;242;48;2;39;40;34msearch_results\u001b[0m\u001b[38;2;248;248;242;48;2;39;40;34m \u001b[0m\u001b[38;2;255;70;137;48;2;39;40;34m=\u001b[0m\u001b[38;2;248;248;242;48;2;39;40;34m \u001b[0m\u001b[38;2;248;248;242;48;2;39;40;34mweb_search\u001b[0m\u001b[38;2;248;248;242;48;2;39;40;34m(\u001b[0m\u001b[38;2;248;248;242;48;2;39;40;34mquery\u001b[0m\u001b[38;2;255;70;137;48;2;39;40;34m=\u001b[0m\u001b[38;2;230;219;116;48;2;39;40;34m\"\u001b[0m\u001b[38;2;230;219;116;48;2;39;40;34mscaling production rag application\u001b[0m\u001b[38;2;230;219;116;48;2;39;40;34m\"\u001b[0m\u001b[38;2;248;248;242;48;2;39;40;34m)\u001b[0m\u001b[48;2;39;40;34m                                        \u001b[0m  \n",
       "  \u001b[38;2;248;248;242;48;2;39;40;34mprint\u001b[0m\u001b[38;2;248;248;242;48;2;39;40;34m(\u001b[0m\u001b[38;2;248;248;242;48;2;39;40;34msearch_results\u001b[0m\u001b[38;2;248;248;242;48;2;39;40;34m)\u001b[0m\u001b[48;2;39;40;34m                                                                                          \u001b[0m  \n",
       " ───────────────────────────────────────────────────────────────────────────────────────────────────────────────── \n"
      ]
     },
     "jetTransient": {
      "display_id": null
     },
     "metadata": {},
     "output_type": "display_data"
    },
    {
     "data": {
      "text/html": [
       "<pre style=\"white-space:pre;overflow-x:auto;line-height:normal;font-family:Menlo,'DejaVu Sans Mono',consolas,'Courier New',monospace\"><span style=\"font-weight: bold\">Execution logs:</span>\n",
       "## Search Results\n",
       "\n",
       "[Recuperar contraseña de Facebook: con y sin correo o número - \n",
       "CCM](https://es.ccm.net/aplicaciones-e-internet/redes-sociales-y-mensajeria/915-que-hacer-si-olvidaste-tu-contrasen\n",
       "a-de-facebook/)\n",
       "Jul 19, 2023 · ¿Has olvidado tu contraseña de Facebook y no puedes entrar? En este artículo te explicamos cómo \n",
       "recuperar tu cuenta si olvidaste tu contraseña, incluso sin usar tu correo o tu …\n",
       "\n",
       "[Descargar Facebook gratis para PC, iOS, Android APK - \n",
       "CCM](https://es.ccm.net/descargas/comunicacion/5426-facebook/)\n",
       "Jan 23, 2024 · Con más de 2.800 millones de usuarios activos al mes, la red social más grande del mundo te permite \n",
       "permanecer en contacto con amigos y familiares y volver a conectarte con …\n",
       "\n",
       "[Cómo 'hackear' una cuenta de Facebook: sin teléfono, correo - \n",
       "CCM](https://es.ccm.net/aplicaciones-e-internet/redes-sociales-y-mensajeria/2172-como-hackear-una-cuenta-de-faceboo\n",
       "k/)\n",
       "Oct 25, 2023 · En Internet puedes encontrar sitios que ofrecen tutoriales de cómo hackear una cuenta de Facebook, \n",
       "ya sea mediante un keylogger o ingeniería social. También, puedes …\n",
       "\n",
       "[Facebook Parejas: cómo activarlo, app, PC, no aparece 2023 - \n",
       "CCM](https://es.ccm.net/aplicaciones-e-internet/redes-sociales-y-mensajeria/1700-como-activar-facebook-parejas/)\n",
       "Jun 15, 2023 · Facebook Parejas o Facebook Dating es el servicio de citas y encuentros de Facebook. La red social \n",
       "tiene tanta información sobre sus usuarios (para bien y para mal), que …\n",
       "\n",
       "[Revenir a l'ancien facebook [Résolu] - \n",
       "CommentCaMarche](https://forums.commentcamarche.net/forum/affich-8406097-revenir-a-l-ancien-facebook)\n",
       "Comment revenir à l'ancienne version facebook sur android Facebook ancienne version se connecter - Meilleures \n",
       "réponses Revenir à l'ancienne version page facebook - Meilleures …\n",
       "\n",
       "[Facebook : qui choisi les suggestions d'amis ? \n",
       "[Résolu]](https://forums.commentcamarche.net/forum/affich-12611242-facebook-qui-choisi-les-suggestions-d-amis)\n",
       "- facebook utilise votre liste de contacts sur votre adresse mail - facebook vous envoie les suggestions de vos \n",
       "amis :affiché en tant que notification - facebook vous envoie les suggestions …\n",
       "\n",
       "[Cómo entrar directo a tu Facebook sin poner la contraseña - \n",
       "CCM](https://es.ccm.net/aplicaciones-e-internet/redes-sociales-y-mensajeria/2074-como-entrar-en-tu-facebook-directa\n",
       "mente-sin-contrasena/)\n",
       "Sep 18, 2023 · Por este motivo, la red social te permite guardar tu cuenta en el navegador de tu PC para ir a tu \n",
       "Facebook directamente y sin contraseña. Te contamos cómo hacerlo.\n",
       "\n",
       "[Impossible de se connecter sur Facebook sur mon \n",
       "PC](https://forums.commentcamarche.net/forum/affich-32697574-impossible-de-se-connecter-sur-facebook-sur-mon-pc)\n",
       "Oct 26, 2015 · Bonjour Depuis 3 ou quatre jours je ne peux plus me connecter sur mon pc alors que sur mon tèlèphone\n",
       "cela fonctionne. J ai essayé de réinitialiser mon mot de passe en vain. J ai …\n",
       "\n",
       "[Descargar Facebook Lite gratis para Android APK - \n",
       "CCM](https://es.ccm.net/descargas/comunicacion/6642-facebook-lite-para-android-apk/)\n",
       "Aug 29, 2023 · Facebook Lite es una aplicación que te permite disfrutar de la famosa red social con la ventaja de \n",
       "que ocupa menos espacio en tu dispositivo. Al ser más ligera que la aplicación …\n",
       "\n",
       "[Impossible de créer ou gérer une page \n",
       "Facebook](https://forums.commentcamarche.net/forum/affich-37703948-impossible-de-creer-ou-gerer-une-page-facebook)\n",
       "Oct 9, 2022 · A voir également: Vous avez créé trop de pages récemment. réessayez plus tard Impossible de créer une\n",
       "page facebook - Meilleures réponses Impossible de créer la page: vous …\n",
       "\n",
       "Out: None\n",
       "</pre>\n"
      ],
      "text/plain": [
       "\u001b[1mExecution logs:\u001b[0m\n",
       "## Search Results\n",
       "\n",
       "[Recuperar contraseña de Facebook: con y sin correo o número - \n",
       "CCM](https://es.ccm.net/aplicaciones-e-internet/redes-sociales-y-mensajeria/915-que-hacer-si-olvidaste-tu-contrasen\n",
       "a-de-facebook/)\n",
       "Jul 19, 2023 · ¿Has olvidado tu contraseña de Facebook y no puedes entrar? En este artículo te explicamos cómo \n",
       "recuperar tu cuenta si olvidaste tu contraseña, incluso sin usar tu correo o tu …\n",
       "\n",
       "[Descargar Facebook gratis para PC, iOS, Android APK - \n",
       "CCM](https://es.ccm.net/descargas/comunicacion/5426-facebook/)\n",
       "Jan 23, 2024 · Con más de 2.800 millones de usuarios activos al mes, la red social más grande del mundo te permite \n",
       "permanecer en contacto con amigos y familiares y volver a conectarte con …\n",
       "\n",
       "[Cómo 'hackear' una cuenta de Facebook: sin teléfono, correo - \n",
       "CCM](https://es.ccm.net/aplicaciones-e-internet/redes-sociales-y-mensajeria/2172-como-hackear-una-cuenta-de-faceboo\n",
       "k/)\n",
       "Oct 25, 2023 · En Internet puedes encontrar sitios que ofrecen tutoriales de cómo hackear una cuenta de Facebook, \n",
       "ya sea mediante un keylogger o ingeniería social. También, puedes …\n",
       "\n",
       "[Facebook Parejas: cómo activarlo, app, PC, no aparece 2023 - \n",
       "CCM](https://es.ccm.net/aplicaciones-e-internet/redes-sociales-y-mensajeria/1700-como-activar-facebook-parejas/)\n",
       "Jun 15, 2023 · Facebook Parejas o Facebook Dating es el servicio de citas y encuentros de Facebook. La red social \n",
       "tiene tanta información sobre sus usuarios (para bien y para mal), que …\n",
       "\n",
       "[Revenir a l'ancien facebook [Résolu] - \n",
       "CommentCaMarche](https://forums.commentcamarche.net/forum/affich-8406097-revenir-a-l-ancien-facebook)\n",
       "Comment revenir à l'ancienne version facebook sur android Facebook ancienne version se connecter - Meilleures \n",
       "réponses Revenir à l'ancienne version page facebook - Meilleures …\n",
       "\n",
       "[Facebook : qui choisi les suggestions d'amis ? \n",
       "[Résolu]](https://forums.commentcamarche.net/forum/affich-12611242-facebook-qui-choisi-les-suggestions-d-amis)\n",
       "- facebook utilise votre liste de contacts sur votre adresse mail - facebook vous envoie les suggestions de vos \n",
       "amis :affiché en tant que notification - facebook vous envoie les suggestions …\n",
       "\n",
       "[Cómo entrar directo a tu Facebook sin poner la contraseña - \n",
       "CCM](https://es.ccm.net/aplicaciones-e-internet/redes-sociales-y-mensajeria/2074-como-entrar-en-tu-facebook-directa\n",
       "mente-sin-contrasena/)\n",
       "Sep 18, 2023 · Por este motivo, la red social te permite guardar tu cuenta en el navegador de tu PC para ir a tu \n",
       "Facebook directamente y sin contraseña. Te contamos cómo hacerlo.\n",
       "\n",
       "[Impossible de se connecter sur Facebook sur mon \n",
       "PC](https://forums.commentcamarche.net/forum/affich-32697574-impossible-de-se-connecter-sur-facebook-sur-mon-pc)\n",
       "Oct 26, 2015 · Bonjour Depuis 3 ou quatre jours je ne peux plus me connecter sur mon pc alors que sur mon tèlèphone\n",
       "cela fonctionne. J ai essayé de réinitialiser mon mot de passe en vain. J ai …\n",
       "\n",
       "[Descargar Facebook Lite gratis para Android APK - \n",
       "CCM](https://es.ccm.net/descargas/comunicacion/6642-facebook-lite-para-android-apk/)\n",
       "Aug 29, 2023 · Facebook Lite es una aplicación que te permite disfrutar de la famosa red social con la ventaja de \n",
       "que ocupa menos espacio en tu dispositivo. Al ser más ligera que la aplicación …\n",
       "\n",
       "[Impossible de créer ou gérer une page \n",
       "Facebook](https://forums.commentcamarche.net/forum/affich-37703948-impossible-de-creer-ou-gerer-une-page-facebook)\n",
       "Oct 9, 2022 · A voir également: Vous avez créé trop de pages récemment. réessayez plus tard Impossible de créer une\n",
       "page facebook - Meilleures réponses Impossible de créer la page: vous …\n",
       "\n",
       "Out: None\n"
      ]
     },
     "jetTransient": {
      "display_id": null
     },
     "metadata": {},
     "output_type": "display_data"
    },
    {
     "data": {
      "text/html": [
       "<pre style=\"white-space:pre;overflow-x:auto;line-height:normal;font-family:Menlo,'DejaVu Sans Mono',consolas,'Courier New',monospace\"><span style=\"color: #7f7f7f; text-decoration-color: #7f7f7f\">[Step 1: Duration 1.98 seconds| Input tokens: 2,009 | Output tokens: 76]</span>\n",
       "</pre>\n"
      ],
      "text/plain": [
       "\u001b[2m[Step 1: Duration 1.98 seconds| Input tokens: 2,009 | Output tokens: 76]\u001b[0m\n"
      ]
     },
     "jetTransient": {
      "display_id": null
     },
     "metadata": {},
     "output_type": "display_data"
    },
    {
     "data": {
      "text/html": [
       "<pre style=\"white-space:pre;overflow-x:auto;line-height:normal;font-family:Menlo,'DejaVu Sans Mono',consolas,'Courier New',monospace\"><span style=\"color: #d4b702; text-decoration-color: #d4b702\">━━━━━━━━━━━━━━━━━━━━━━━━━━━━━━━━━━━━━━━━━━━━━━━━━━━━━ </span><span style=\"font-weight: bold\">Step 2</span><span style=\"color: #d4b702; text-decoration-color: #d4b702\"> ━━━━━━━━━━━━━━━━━━━━━━━━━━━━━━━━━━━━━━━━━━━━━━━━━━━━━━</span>\n",
       "</pre>\n"
      ],
      "text/plain": [
       "\u001b[38;2;212;183;2m━━━━━━━━━━━━━━━━━━━━━━━━━━━━━━━━━━━━━━━━━━━━━━━━━━━━━ \u001b[0m\u001b[1mStep 2\u001b[0m\u001b[38;2;212;183;2m ━━━━━━━━━━━━━━━━━━━━━━━━━━━━━━━━━━━━━━━━━━━━━━━━━━━━━━\u001b[0m\n"
      ]
     },
     "jetTransient": {
      "display_id": null
     },
     "metadata": {},
     "output_type": "display_data"
    },
    {
     "data": {
      "text/html": [
       "<pre style=\"white-space:pre;overflow-x:auto;line-height:normal;font-family:Menlo,'DejaVu Sans Mono',consolas,'Courier New',monospace\"> ─ <span style=\"font-weight: bold\">Executing parsed code:</span> ──────────────────────────────────────────────────────────────────────────────────────── \n",
       "  <span style=\"color: #f8f8f2; text-decoration-color: #f8f8f2; background-color: #272822\">search_results </span><span style=\"color: #ff4689; text-decoration-color: #ff4689; background-color: #272822\">=</span><span style=\"color: #f8f8f2; text-decoration-color: #f8f8f2; background-color: #272822\"> web_search(query</span><span style=\"color: #ff4689; text-decoration-color: #ff4689; background-color: #272822\">=</span><span style=\"color: #e6db74; text-decoration-color: #e6db74; background-color: #272822\">\"scaling production rag application resources\"</span><span style=\"color: #f8f8f2; text-decoration-color: #f8f8f2; background-color: #272822\">)</span><span style=\"background-color: #272822\">                              </span>  \n",
       "  <span style=\"color: #f8f8f2; text-decoration-color: #f8f8f2; background-color: #272822\">print(search_results)</span><span style=\"background-color: #272822\">                                                                                          </span>  \n",
       " ───────────────────────────────────────────────────────────────────────────────────────────────────────────────── \n",
       "</pre>\n"
      ],
      "text/plain": [
       " ─ \u001b[1mExecuting parsed code:\u001b[0m ──────────────────────────────────────────────────────────────────────────────────────── \n",
       "  \u001b[38;2;248;248;242;48;2;39;40;34msearch_results\u001b[0m\u001b[38;2;248;248;242;48;2;39;40;34m \u001b[0m\u001b[38;2;255;70;137;48;2;39;40;34m=\u001b[0m\u001b[38;2;248;248;242;48;2;39;40;34m \u001b[0m\u001b[38;2;248;248;242;48;2;39;40;34mweb_search\u001b[0m\u001b[38;2;248;248;242;48;2;39;40;34m(\u001b[0m\u001b[38;2;248;248;242;48;2;39;40;34mquery\u001b[0m\u001b[38;2;255;70;137;48;2;39;40;34m=\u001b[0m\u001b[38;2;230;219;116;48;2;39;40;34m\"\u001b[0m\u001b[38;2;230;219;116;48;2;39;40;34mscaling production rag application resources\u001b[0m\u001b[38;2;230;219;116;48;2;39;40;34m\"\u001b[0m\u001b[38;2;248;248;242;48;2;39;40;34m)\u001b[0m\u001b[48;2;39;40;34m                              \u001b[0m  \n",
       "  \u001b[38;2;248;248;242;48;2;39;40;34mprint\u001b[0m\u001b[38;2;248;248;242;48;2;39;40;34m(\u001b[0m\u001b[38;2;248;248;242;48;2;39;40;34msearch_results\u001b[0m\u001b[38;2;248;248;242;48;2;39;40;34m)\u001b[0m\u001b[48;2;39;40;34m                                                                                          \u001b[0m  \n",
       " ───────────────────────────────────────────────────────────────────────────────────────────────────────────────── \n"
      ]
     },
     "jetTransient": {
      "display_id": null
     },
     "metadata": {},
     "output_type": "display_data"
    },
    {
     "data": {
      "text/html": [
       "<pre style=\"white-space:pre;overflow-x:auto;line-height:normal;font-family:Menlo,'DejaVu Sans Mono',consolas,'Courier New',monospace\"><span style=\"font-weight: bold\">Execution logs:</span>\n",
       "## Search Results\n",
       "\n",
       "[Orkes Best Practices for Production-Scale RAG Systems — An Implementation Guide | Orkes Platform - Microservices \n",
       "and Workflow Orchestration at Scale](https://orkes.io/blog/rag-best-practices/)\n",
       "RAG (retrieval-augmented generation) is a popular method for providing AI models access to such background \n",
       "knowledge . At a high level, such knowledge gets chunked and stored in a database, which is later used to retrieve \n",
       "the most relevant information based on the user query.\n",
       "\n",
       "[Towards Data Science Scaling RAG from POC to Production | Towards Data \n",
       "Science](https://towardsdatascience.com/scaling-rag-from-poc-to-production-31bd45d195c8/)\n",
       "January 13, 2025 - Use design thinking to integrate ... try to implement. Scaling RAG from POC to production comes \n",
       "with its challenges, but with careful planning and execution, many of these can be overcome ....\n",
       "\n",
       "[LlamaIndex Building Performant RAG Applications for Production | LlamaIndex \n",
       "...](https://docs.llamaindex.ai/en/stable/optimizing/production_rag/)\n",
       "A big issue with the standard RAG ... scales up - e.g. if you have 100 different PDFs. In this setting, given a \n",
       "query you may want to use structured information to help with more precise retrieval; for instance, if you ask a \n",
       "question that’s only relevant to two PDFs, using structured information to ensure those two PDFs get returned \n",
       "beyond raw embedding similarity with chunks. ... There’s a few ways of performing more structured tagging/retrieval\n",
       "for production -quality RAG systems, each ...\n",
       "\n",
       "[Netguru Production-Ready RAG: Engineering Guidelines for Scalable \n",
       "Systems](https://www.netguru.com/blog/rag-for-scalable-systems)\n",
       "May 20, 2025 - Focusing on these engineering ... resources effectively. Start implementing these practices to build\n",
       "RAG applications that deliver consistent, reliable results as your user demands grow. ... Kacper is an experienced \n",
       "digital marketing manager with core expertise built around search engine... Check out the knowledge base collected \n",
       "and distilled by experienced professionals. At Netguru we specialize in designing, building, shipping and scaling \n",
       "beautiful, usable products with blazing-fast ...\n",
       "\n",
       "[Anyscale Building RAG-based LLM Applications for \n",
       "Production](https://www.anyscale.com/blog/a-comprehensive-guide-for-building-rag-based-llm-applications-part-1)\n",
       "For the most up-to-date content on how to run the best RAG pipelines with Ray, read our updated blog. ... 🚀 Scale \n",
       "the major workloads (load, chunk, embed, index, serve, etc.) across multiple workers with different compute \n",
       "resources . ✅ Evaluate different configurations of our application to ...\n",
       "\n",
       "[Superlinked Scaling RAG for Production | VectorHub by \n",
       "Superlinked](https://superlinked.com/vectorhub/articles/scaling-rag-production)\n",
       "Productionizing, in the context ... the end user machine state. Productionizing also involves scaling the system to\n",
       "handle varying levels of user demand and traffic, ensuring consistent performance and availability ....\n",
       "\n",
       "[Medium Building Production-Ready RAG Systems: Best Practices and Latest Tools | by Meeran Malik | \n",
       "Medium](https://medium.com/@meeran03/building-production-ready-rag-systems-best-practices-and-latest-tools-581cae95\n",
       "18e7)\n",
       "May 1, 2025 - Building Production -Ready RAG Systems: Best Practices and Latest Tools How to build production \n",
       "-grade Retrieval-Augmented Generation ( RAG ) systems with the latest 2024–2025 techniques. Explore …\n",
       "\n",
       "[Coralogix RAG in Production: Deployment Strategies and Practical \n",
       "Considerations](https://coralogix.com/ai-blog/rag-in-production-deployment-strategies-and-practical-considerations/\n",
       ")\n",
       "June 19, 2025 - For instance, a study on biomedical ... in large- scale knowledge graphs by leveraging \n",
       "domain-specific retrieval and generation techniques. Both grounding and RAG aim to enhance the factual accuracy of \n",
       "generated content; RAG ’s retrieval step provides a more robust and dynamic approach, making it particularly \n",
       "suitable for applications requiring precise and contextually relevant information. The objectives of development \n",
       "and production often differ ...\n",
       "\n",
       "[ChatBees 12 Strategies for Achieving Effective RAG Scale Systems](https://www.chatbees.ai/blog/rag-scale)\n",
       "June 10, 2024 - From setting clear criteria to regular evaluations, these strategies will ensure that your RAG \n",
       "scale system is serving its purpose efficiently.\n",
       "\n",
       "[Medium Building a Production-Ready RAG Application: A Practical Guide | by Yash Patel | \n",
       "Medium](https://medium.com/@xanoweg441/building-a-production-ready-rag-application-a-practical-guide-d43a29908fe4)\n",
       "September 14, 2024 - With advancements in retrieval ... modular, configurable RAG applications is key to handling \n",
       "real-world, large- scale workloads. This guide dives into the building blocks of RAG systems and how you can \n",
       "configure them to create robust, production -ready AI solutions...\n",
       "\n",
       "Out: None\n",
       "</pre>\n"
      ],
      "text/plain": [
       "\u001b[1mExecution logs:\u001b[0m\n",
       "## Search Results\n",
       "\n",
       "[Orkes Best Practices for Production-Scale RAG Systems — An Implementation Guide | Orkes Platform - Microservices \n",
       "and Workflow Orchestration at Scale](https://orkes.io/blog/rag-best-practices/)\n",
       "RAG (retrieval-augmented generation) is a popular method for providing AI models access to such background \n",
       "knowledge . At a high level, such knowledge gets chunked and stored in a database, which is later used to retrieve \n",
       "the most relevant information based on the user query.\n",
       "\n",
       "[Towards Data Science Scaling RAG from POC to Production | Towards Data \n",
       "Science](https://towardsdatascience.com/scaling-rag-from-poc-to-production-31bd45d195c8/)\n",
       "January 13, 2025 - Use design thinking to integrate ... try to implement. Scaling RAG from POC to production comes \n",
       "with its challenges, but with careful planning and execution, many of these can be overcome ....\n",
       "\n",
       "[LlamaIndex Building Performant RAG Applications for Production | LlamaIndex \n",
       "...](https://docs.llamaindex.ai/en/stable/optimizing/production_rag/)\n",
       "A big issue with the standard RAG ... scales up - e.g. if you have 100 different PDFs. In this setting, given a \n",
       "query you may want to use structured information to help with more precise retrieval; for instance, if you ask a \n",
       "question that’s only relevant to two PDFs, using structured information to ensure those two PDFs get returned \n",
       "beyond raw embedding similarity with chunks. ... There’s a few ways of performing more structured tagging/retrieval\n",
       "for production -quality RAG systems, each ...\n",
       "\n",
       "[Netguru Production-Ready RAG: Engineering Guidelines for Scalable \n",
       "Systems](https://www.netguru.com/blog/rag-for-scalable-systems)\n",
       "May 20, 2025 - Focusing on these engineering ... resources effectively. Start implementing these practices to build\n",
       "RAG applications that deliver consistent, reliable results as your user demands grow. ... Kacper is an experienced \n",
       "digital marketing manager with core expertise built around search engine... Check out the knowledge base collected \n",
       "and distilled by experienced professionals. At Netguru we specialize in designing, building, shipping and scaling \n",
       "beautiful, usable products with blazing-fast ...\n",
       "\n",
       "[Anyscale Building RAG-based LLM Applications for \n",
       "Production](https://www.anyscale.com/blog/a-comprehensive-guide-for-building-rag-based-llm-applications-part-1)\n",
       "For the most up-to-date content on how to run the best RAG pipelines with Ray, read our updated blog. ... 🚀 Scale \n",
       "the major workloads (load, chunk, embed, index, serve, etc.) across multiple workers with different compute \n",
       "resources . ✅ Evaluate different configurations of our application to ...\n",
       "\n",
       "[Superlinked Scaling RAG for Production | VectorHub by \n",
       "Superlinked](https://superlinked.com/vectorhub/articles/scaling-rag-production)\n",
       "Productionizing, in the context ... the end user machine state. Productionizing also involves scaling the system to\n",
       "handle varying levels of user demand and traffic, ensuring consistent performance and availability ....\n",
       "\n",
       "[Medium Building Production-Ready RAG Systems: Best Practices and Latest Tools | by Meeran Malik | \n",
       "Medium](https://medium.com/@meeran03/building-production-ready-rag-systems-best-practices-and-latest-tools-581cae95\n",
       "18e7)\n",
       "May 1, 2025 - Building Production -Ready RAG Systems: Best Practices and Latest Tools How to build production \n",
       "-grade Retrieval-Augmented Generation ( RAG ) systems with the latest 2024–2025 techniques. Explore …\n",
       "\n",
       "[Coralogix RAG in Production: Deployment Strategies and Practical \n",
       "Considerations](https://coralogix.com/ai-blog/rag-in-production-deployment-strategies-and-practical-considerations/\n",
       ")\n",
       "June 19, 2025 - For instance, a study on biomedical ... in large- scale knowledge graphs by leveraging \n",
       "domain-specific retrieval and generation techniques. Both grounding and RAG aim to enhance the factual accuracy of \n",
       "generated content; RAG ’s retrieval step provides a more robust and dynamic approach, making it particularly \n",
       "suitable for applications requiring precise and contextually relevant information. The objectives of development \n",
       "and production often differ ...\n",
       "\n",
       "[ChatBees 12 Strategies for Achieving Effective RAG Scale Systems](https://www.chatbees.ai/blog/rag-scale)\n",
       "June 10, 2024 - From setting clear criteria to regular evaluations, these strategies will ensure that your RAG \n",
       "scale system is serving its purpose efficiently.\n",
       "\n",
       "[Medium Building a Production-Ready RAG Application: A Practical Guide | by Yash Patel | \n",
       "Medium](https://medium.com/@xanoweg441/building-a-production-ready-rag-application-a-practical-guide-d43a29908fe4)\n",
       "September 14, 2024 - With advancements in retrieval ... modular, configurable RAG applications is key to handling \n",
       "real-world, large- scale workloads. This guide dives into the building blocks of RAG systems and how you can \n",
       "configure them to create robust, production -ready AI solutions...\n",
       "\n",
       "Out: None\n"
      ]
     },
     "jetTransient": {
      "display_id": null
     },
     "metadata": {},
     "output_type": "display_data"
    },
    {
     "data": {
      "text/html": [
       "<pre style=\"white-space:pre;overflow-x:auto;line-height:normal;font-family:Menlo,'DejaVu Sans Mono',consolas,'Courier New',monospace\"><span style=\"color: #7f7f7f; text-decoration-color: #7f7f7f\">[Step 2: Duration 2.47 seconds| Input tokens: 5,169 | Output tokens: 136]</span>\n",
       "</pre>\n"
      ],
      "text/plain": [
       "\u001b[2m[Step 2: Duration 2.47 seconds| Input tokens: 5,169 | Output tokens: 136]\u001b[0m\n"
      ]
     },
     "jetTransient": {
      "display_id": null
     },
     "metadata": {},
     "output_type": "display_data"
    },
    {
     "data": {
      "text/html": [
       "<pre style=\"white-space:pre;overflow-x:auto;line-height:normal;font-family:Menlo,'DejaVu Sans Mono',consolas,'Courier New',monospace\"><span style=\"color: #d4b702; text-decoration-color: #d4b702\">━━━━━━━━━━━━━━━━━━━━━━━━━━━━━━━━━━━━━━━━━━━━━━━━━━━━━ </span><span style=\"font-weight: bold\">Step 3</span><span style=\"color: #d4b702; text-decoration-color: #d4b702\"> ━━━━━━━━━━━━━━━━━━━━━━━━━━━━━━━━━━━━━━━━━━━━━━━━━━━━━━</span>\n",
       "</pre>\n"
      ],
      "text/plain": [
       "\u001b[38;2;212;183;2m━━━━━━━━━━━━━━━━━━━━━━━━━━━━━━━━━━━━━━━━━━━━━━━━━━━━━ \u001b[0m\u001b[1mStep 3\u001b[0m\u001b[38;2;212;183;2m ━━━━━━━━━━━━━━━━━━━━━━━━━━━━━━━━━━━━━━━━━━━━━━━━━━━━━━\u001b[0m\n"
      ]
     },
     "jetTransient": {
      "display_id": null
     },
     "metadata": {},
     "output_type": "display_data"
    },
    {
     "data": {
      "text/html": [
       "<pre style=\"white-space:pre;overflow-x:auto;line-height:normal;font-family:Menlo,'DejaVu Sans Mono',consolas,'Courier New',monospace\"> ─ <span style=\"font-weight: bold\">Executing parsed code:</span> ──────────────────────────────────────────────────────────────────────────────────────── \n",
       "  <span style=\"color: #959077; text-decoration-color: #959077; background-color: #272822\"># Extracting the top 3 results for closer inspection</span><span style=\"background-color: #272822\">                                                           </span>  \n",
       "  <span style=\"color: #f8f8f2; text-decoration-color: #f8f8f2; background-color: #272822\">top_results </span><span style=\"color: #ff4689; text-decoration-color: #ff4689; background-color: #272822\">=</span><span style=\"color: #f8f8f2; text-decoration-color: #f8f8f2; background-color: #272822\"> search_results[:</span><span style=\"color: #ae81ff; text-decoration-color: #ae81ff; background-color: #272822\">3</span><span style=\"color: #f8f8f2; text-decoration-color: #f8f8f2; background-color: #272822\">]</span><span style=\"background-color: #272822\">                                                                               </span>  \n",
       "  <span style=\"color: #f8f8f2; text-decoration-color: #f8f8f2; background-color: #272822\">print(top_results)</span><span style=\"background-color: #272822\">                                                                                             </span>  \n",
       " ───────────────────────────────────────────────────────────────────────────────────────────────────────────────── \n",
       "</pre>\n"
      ],
      "text/plain": [
       " ─ \u001b[1mExecuting parsed code:\u001b[0m ──────────────────────────────────────────────────────────────────────────────────────── \n",
       "  \u001b[38;2;149;144;119;48;2;39;40;34m# Extracting the top 3 results for closer inspection\u001b[0m\u001b[48;2;39;40;34m                                                           \u001b[0m  \n",
       "  \u001b[38;2;248;248;242;48;2;39;40;34mtop_results\u001b[0m\u001b[38;2;248;248;242;48;2;39;40;34m \u001b[0m\u001b[38;2;255;70;137;48;2;39;40;34m=\u001b[0m\u001b[38;2;248;248;242;48;2;39;40;34m \u001b[0m\u001b[38;2;248;248;242;48;2;39;40;34msearch_results\u001b[0m\u001b[38;2;248;248;242;48;2;39;40;34m[\u001b[0m\u001b[38;2;248;248;242;48;2;39;40;34m:\u001b[0m\u001b[38;2;174;129;255;48;2;39;40;34m3\u001b[0m\u001b[38;2;248;248;242;48;2;39;40;34m]\u001b[0m\u001b[48;2;39;40;34m                                                                               \u001b[0m  \n",
       "  \u001b[38;2;248;248;242;48;2;39;40;34mprint\u001b[0m\u001b[38;2;248;248;242;48;2;39;40;34m(\u001b[0m\u001b[38;2;248;248;242;48;2;39;40;34mtop_results\u001b[0m\u001b[38;2;248;248;242;48;2;39;40;34m)\u001b[0m\u001b[48;2;39;40;34m                                                                                             \u001b[0m  \n",
       " ───────────────────────────────────────────────────────────────────────────────────────────────────────────────── \n"
      ]
     },
     "jetTransient": {
      "display_id": null
     },
     "metadata": {},
     "output_type": "display_data"
    },
    {
     "data": {
      "text/html": [
       "<pre style=\"white-space:pre;overflow-x:auto;line-height:normal;font-family:Menlo,'DejaVu Sans Mono',consolas,'Courier New',monospace\"><span style=\"font-weight: bold\">Execution logs:</span>\n",
       "## \n",
       "\n",
       "Out: None\n",
       "</pre>\n"
      ],
      "text/plain": [
       "\u001b[1mExecution logs:\u001b[0m\n",
       "## \n",
       "\n",
       "Out: None\n"
      ]
     },
     "jetTransient": {
      "display_id": null
     },
     "metadata": {},
     "output_type": "display_data"
    },
    {
     "data": {
      "text/html": [
       "<pre style=\"white-space:pre;overflow-x:auto;line-height:normal;font-family:Menlo,'DejaVu Sans Mono',consolas,'Courier New',monospace\"><span style=\"color: #7f7f7f; text-decoration-color: #7f7f7f\">[Step 3: Duration 1.29 seconds| Input tokens: 9,524 | Output tokens: 202]</span>\n",
       "</pre>\n"
      ],
      "text/plain": [
       "\u001b[2m[Step 3: Duration 1.29 seconds| Input tokens: 9,524 | Output tokens: 202]\u001b[0m\n"
      ]
     },
     "jetTransient": {
      "display_id": null
     },
     "metadata": {},
     "output_type": "display_data"
    },
    {
     "data": {
      "text/html": [
       "<pre style=\"white-space:pre;overflow-x:auto;line-height:normal;font-family:Menlo,'DejaVu Sans Mono',consolas,'Courier New',monospace\"><span style=\"color: #d4b702; text-decoration-color: #d4b702\">━━━━━━━━━━━━━━━━━━━━━━━━━━━━━━━━━━━━━━━━━━━━━━━━━━━━━ </span><span style=\"font-weight: bold\">Step 4</span><span style=\"color: #d4b702; text-decoration-color: #d4b702\"> ━━━━━━━━━━━━━━━━━━━━━━━━━━━━━━━━━━━━━━━━━━━━━━━━━━━━━━</span>\n",
       "</pre>\n"
      ],
      "text/plain": [
       "\u001b[38;2;212;183;2m━━━━━━━━━━━━━━━━━━━━━━━━━━━━━━━━━━━━━━━━━━━━━━━━━━━━━ \u001b[0m\u001b[1mStep 4\u001b[0m\u001b[38;2;212;183;2m ━━━━━━━━━━━━━━━━━━━━━━━━━━━━━━━━━━━━━━━━━━━━━━━━━━━━━━\u001b[0m\n"
      ]
     },
     "jetTransient": {
      "display_id": null
     },
     "metadata": {},
     "output_type": "display_data"
    },
    {
     "data": {
      "text/html": [
       "<pre style=\"white-space:pre;overflow-x:auto;line-height:normal;font-family:Menlo,'DejaVu Sans Mono',consolas,'Courier New',monospace\"> ─ <span style=\"font-weight: bold\">Executing parsed code:</span> ──────────────────────────────────────────────────────────────────────────────────────── \n",
       "  <span style=\"color: #959077; text-decoration-color: #959077; background-color: #272822\"># Ensure search_results is a list and extract the top 3 results</span><span style=\"background-color: #272822\">                                                </span>  \n",
       "  <span style=\"color: #66d9ef; text-decoration-color: #66d9ef; background-color: #272822\">if</span><span style=\"color: #f8f8f2; text-decoration-color: #f8f8f2; background-color: #272822\"> isinstance(search_results, list):</span><span style=\"background-color: #272822\">                                                                           </span>  \n",
       "  <span style=\"color: #f8f8f2; text-decoration-color: #f8f8f2; background-color: #272822\">    top_results </span><span style=\"color: #ff4689; text-decoration-color: #ff4689; background-color: #272822\">=</span><span style=\"color: #f8f8f2; text-decoration-color: #f8f8f2; background-color: #272822\"> search_results[:</span><span style=\"color: #ae81ff; text-decoration-color: #ae81ff; background-color: #272822\">3</span><span style=\"color: #f8f8f2; text-decoration-color: #f8f8f2; background-color: #272822\">]</span><span style=\"background-color: #272822\">                                                                           </span>  \n",
       "  <span style=\"color: #66d9ef; text-decoration-color: #66d9ef; background-color: #272822\">else</span><span style=\"color: #f8f8f2; text-decoration-color: #f8f8f2; background-color: #272822\">:</span><span style=\"background-color: #272822\">                                                                                                          </span>  \n",
       "  <span style=\"color: #f8f8f2; text-decoration-color: #f8f8f2; background-color: #272822\">    top_results </span><span style=\"color: #ff4689; text-decoration-color: #ff4689; background-color: #272822\">=</span><span style=\"color: #f8f8f2; text-decoration-color: #f8f8f2; background-color: #272822\"> []</span><span style=\"background-color: #272822\">                                                                                           </span>  \n",
       "  <span style=\"background-color: #272822\">                                                                                                               </span>  \n",
       "  <span style=\"color: #f8f8f2; text-decoration-color: #f8f8f2; background-color: #272822\">print(top_results)</span><span style=\"background-color: #272822\">                                                                                             </span>  \n",
       " ───────────────────────────────────────────────────────────────────────────────────────────────────────────────── \n",
       "</pre>\n"
      ],
      "text/plain": [
       " ─ \u001b[1mExecuting parsed code:\u001b[0m ──────────────────────────────────────────────────────────────────────────────────────── \n",
       "  \u001b[38;2;149;144;119;48;2;39;40;34m# Ensure search_results is a list and extract the top 3 results\u001b[0m\u001b[48;2;39;40;34m                                                \u001b[0m  \n",
       "  \u001b[38;2;102;217;239;48;2;39;40;34mif\u001b[0m\u001b[38;2;248;248;242;48;2;39;40;34m \u001b[0m\u001b[38;2;248;248;242;48;2;39;40;34misinstance\u001b[0m\u001b[38;2;248;248;242;48;2;39;40;34m(\u001b[0m\u001b[38;2;248;248;242;48;2;39;40;34msearch_results\u001b[0m\u001b[38;2;248;248;242;48;2;39;40;34m,\u001b[0m\u001b[38;2;248;248;242;48;2;39;40;34m \u001b[0m\u001b[38;2;248;248;242;48;2;39;40;34mlist\u001b[0m\u001b[38;2;248;248;242;48;2;39;40;34m)\u001b[0m\u001b[38;2;248;248;242;48;2;39;40;34m:\u001b[0m\u001b[48;2;39;40;34m                                                                           \u001b[0m  \n",
       "  \u001b[38;2;248;248;242;48;2;39;40;34m    \u001b[0m\u001b[38;2;248;248;242;48;2;39;40;34mtop_results\u001b[0m\u001b[38;2;248;248;242;48;2;39;40;34m \u001b[0m\u001b[38;2;255;70;137;48;2;39;40;34m=\u001b[0m\u001b[38;2;248;248;242;48;2;39;40;34m \u001b[0m\u001b[38;2;248;248;242;48;2;39;40;34msearch_results\u001b[0m\u001b[38;2;248;248;242;48;2;39;40;34m[\u001b[0m\u001b[38;2;248;248;242;48;2;39;40;34m:\u001b[0m\u001b[38;2;174;129;255;48;2;39;40;34m3\u001b[0m\u001b[38;2;248;248;242;48;2;39;40;34m]\u001b[0m\u001b[48;2;39;40;34m                                                                           \u001b[0m  \n",
       "  \u001b[38;2;102;217;239;48;2;39;40;34melse\u001b[0m\u001b[38;2;248;248;242;48;2;39;40;34m:\u001b[0m\u001b[48;2;39;40;34m                                                                                                          \u001b[0m  \n",
       "  \u001b[38;2;248;248;242;48;2;39;40;34m    \u001b[0m\u001b[38;2;248;248;242;48;2;39;40;34mtop_results\u001b[0m\u001b[38;2;248;248;242;48;2;39;40;34m \u001b[0m\u001b[38;2;255;70;137;48;2;39;40;34m=\u001b[0m\u001b[38;2;248;248;242;48;2;39;40;34m \u001b[0m\u001b[38;2;248;248;242;48;2;39;40;34m[\u001b[0m\u001b[38;2;248;248;242;48;2;39;40;34m]\u001b[0m\u001b[48;2;39;40;34m                                                                                           \u001b[0m  \n",
       "  \u001b[48;2;39;40;34m                                                                                                               \u001b[0m  \n",
       "  \u001b[38;2;248;248;242;48;2;39;40;34mprint\u001b[0m\u001b[38;2;248;248;242;48;2;39;40;34m(\u001b[0m\u001b[38;2;248;248;242;48;2;39;40;34mtop_results\u001b[0m\u001b[38;2;248;248;242;48;2;39;40;34m)\u001b[0m\u001b[48;2;39;40;34m                                                                                             \u001b[0m  \n",
       " ───────────────────────────────────────────────────────────────────────────────────────────────────────────────── \n"
      ]
     },
     "jetTransient": {
      "display_id": null
     },
     "metadata": {},
     "output_type": "display_data"
    },
    {
     "data": {
      "text/html": [
       "<pre style=\"white-space:pre;overflow-x:auto;line-height:normal;font-family:Menlo,'DejaVu Sans Mono',consolas,'Courier New',monospace\"><span style=\"font-weight: bold\">Execution logs:</span>\n",
       "[]\n",
       "\n",
       "Out: None\n",
       "</pre>\n"
      ],
      "text/plain": [
       "\u001b[1mExecution logs:\u001b[0m\n",
       "[]\n",
       "\n",
       "Out: None\n"
      ]
     },
     "jetTransient": {
      "display_id": null
     },
     "metadata": {},
     "output_type": "display_data"
    },
    {
     "data": {
      "text/html": [
       "<pre style=\"white-space:pre;overflow-x:auto;line-height:normal;font-family:Menlo,'DejaVu Sans Mono',consolas,'Courier New',monospace\"><span style=\"color: #7f7f7f; text-decoration-color: #7f7f7f\">[Step 4: Duration 1.54 seconds| Input tokens: 14,030 | Output tokens: 282]</span>\n",
       "</pre>\n"
      ],
      "text/plain": [
       "\u001b[2m[Step 4: Duration 1.54 seconds| Input tokens: 14,030 | Output tokens: 282]\u001b[0m\n"
      ]
     },
     "jetTransient": {
      "display_id": null
     },
     "metadata": {},
     "output_type": "display_data"
    },
    {
     "data": {
      "text/html": [
       "<pre style=\"white-space:pre;overflow-x:auto;line-height:normal;font-family:Menlo,'DejaVu Sans Mono',consolas,'Courier New',monospace\"><span style=\"color: #d4b702; text-decoration-color: #d4b702\">━━━━━━━━━━━━━━━━━━━━━━━━━━━━━━━━━━━━━━━━━━━━━━━━━━━━━ </span><span style=\"font-weight: bold\">Step 5</span><span style=\"color: #d4b702; text-decoration-color: #d4b702\"> ━━━━━━━━━━━━━━━━━━━━━━━━━━━━━━━━━━━━━━━━━━━━━━━━━━━━━━</span>\n",
       "</pre>\n"
      ],
      "text/plain": [
       "\u001b[38;2;212;183;2m━━━━━━━━━━━━━━━━━━━━━━━━━━━━━━━━━━━━━━━━━━━━━━━━━━━━━ \u001b[0m\u001b[1mStep 5\u001b[0m\u001b[38;2;212;183;2m ━━━━━━━━━━━━━━━━━━━━━━━━━━━━━━━━━━━━━━━━━━━━━━━━━━━━━━\u001b[0m\n"
      ]
     },
     "jetTransient": {
      "display_id": null
     },
     "metadata": {},
     "output_type": "display_data"
    },
    {
     "data": {
      "text/html": [
       "<pre style=\"white-space:pre;overflow-x:auto;line-height:normal;font-family:Menlo,'DejaVu Sans Mono',consolas,'Courier New',monospace\"> ─ <span style=\"font-weight: bold\">Executing parsed code:</span> ──────────────────────────────────────────────────────────────────────────────────────── \n",
       "  <span style=\"color: #f8f8f2; text-decoration-color: #f8f8f2; background-color: #272822\">search_results </span><span style=\"color: #ff4689; text-decoration-color: #ff4689; background-color: #272822\">=</span><span style=\"color: #f8f8f2; text-decoration-color: #f8f8f2; background-color: #272822\"> web_search(query</span><span style=\"color: #ff4689; text-decoration-color: #ff4689; background-color: #272822\">=</span><span style=\"color: #e6db74; text-decoration-color: #e6db74; background-color: #272822\">\"scaling production rag application resources\"</span><span style=\"color: #f8f8f2; text-decoration-color: #f8f8f2; background-color: #272822\">)</span><span style=\"background-color: #272822\">                              </span>  \n",
       "  <span style=\"color: #66d9ef; text-decoration-color: #66d9ef; background-color: #272822\">if</span><span style=\"color: #f8f8f2; text-decoration-color: #f8f8f2; background-color: #272822\"> isinstance(search_results, list):</span><span style=\"background-color: #272822\">                                                                           </span>  \n",
       "  <span style=\"color: #f8f8f2; text-decoration-color: #f8f8f2; background-color: #272822\">    top_results </span><span style=\"color: #ff4689; text-decoration-color: #ff4689; background-color: #272822\">=</span><span style=\"color: #f8f8f2; text-decoration-color: #f8f8f2; background-color: #272822\"> search_results[:</span><span style=\"color: #ae81ff; text-decoration-color: #ae81ff; background-color: #272822\">3</span><span style=\"color: #f8f8f2; text-decoration-color: #f8f8f2; background-color: #272822\">]</span><span style=\"background-color: #272822\">                                                                           </span>  \n",
       "  <span style=\"color: #66d9ef; text-decoration-color: #66d9ef; background-color: #272822\">else</span><span style=\"color: #f8f8f2; text-decoration-color: #f8f8f2; background-color: #272822\">:</span><span style=\"background-color: #272822\">                                                                                                          </span>  \n",
       "  <span style=\"color: #f8f8f2; text-decoration-color: #f8f8f2; background-color: #272822\">    top_results </span><span style=\"color: #ff4689; text-decoration-color: #ff4689; background-color: #272822\">=</span><span style=\"color: #f8f8f2; text-decoration-color: #f8f8f2; background-color: #272822\"> []</span><span style=\"background-color: #272822\">                                                                                           </span>  \n",
       "  <span style=\"background-color: #272822\">                                                                                                               </span>  \n",
       "  <span style=\"color: #f8f8f2; text-decoration-color: #f8f8f2; background-color: #272822\">print(top_results)</span><span style=\"background-color: #272822\">                                                                                             </span>  \n",
       " ───────────────────────────────────────────────────────────────────────────────────────────────────────────────── \n",
       "</pre>\n"
      ],
      "text/plain": [
       " ─ \u001b[1mExecuting parsed code:\u001b[0m ──────────────────────────────────────────────────────────────────────────────────────── \n",
       "  \u001b[38;2;248;248;242;48;2;39;40;34msearch_results\u001b[0m\u001b[38;2;248;248;242;48;2;39;40;34m \u001b[0m\u001b[38;2;255;70;137;48;2;39;40;34m=\u001b[0m\u001b[38;2;248;248;242;48;2;39;40;34m \u001b[0m\u001b[38;2;248;248;242;48;2;39;40;34mweb_search\u001b[0m\u001b[38;2;248;248;242;48;2;39;40;34m(\u001b[0m\u001b[38;2;248;248;242;48;2;39;40;34mquery\u001b[0m\u001b[38;2;255;70;137;48;2;39;40;34m=\u001b[0m\u001b[38;2;230;219;116;48;2;39;40;34m\"\u001b[0m\u001b[38;2;230;219;116;48;2;39;40;34mscaling production rag application resources\u001b[0m\u001b[38;2;230;219;116;48;2;39;40;34m\"\u001b[0m\u001b[38;2;248;248;242;48;2;39;40;34m)\u001b[0m\u001b[48;2;39;40;34m                              \u001b[0m  \n",
       "  \u001b[38;2;102;217;239;48;2;39;40;34mif\u001b[0m\u001b[38;2;248;248;242;48;2;39;40;34m \u001b[0m\u001b[38;2;248;248;242;48;2;39;40;34misinstance\u001b[0m\u001b[38;2;248;248;242;48;2;39;40;34m(\u001b[0m\u001b[38;2;248;248;242;48;2;39;40;34msearch_results\u001b[0m\u001b[38;2;248;248;242;48;2;39;40;34m,\u001b[0m\u001b[38;2;248;248;242;48;2;39;40;34m \u001b[0m\u001b[38;2;248;248;242;48;2;39;40;34mlist\u001b[0m\u001b[38;2;248;248;242;48;2;39;40;34m)\u001b[0m\u001b[38;2;248;248;242;48;2;39;40;34m:\u001b[0m\u001b[48;2;39;40;34m                                                                           \u001b[0m  \n",
       "  \u001b[38;2;248;248;242;48;2;39;40;34m    \u001b[0m\u001b[38;2;248;248;242;48;2;39;40;34mtop_results\u001b[0m\u001b[38;2;248;248;242;48;2;39;40;34m \u001b[0m\u001b[38;2;255;70;137;48;2;39;40;34m=\u001b[0m\u001b[38;2;248;248;242;48;2;39;40;34m \u001b[0m\u001b[38;2;248;248;242;48;2;39;40;34msearch_results\u001b[0m\u001b[38;2;248;248;242;48;2;39;40;34m[\u001b[0m\u001b[38;2;248;248;242;48;2;39;40;34m:\u001b[0m\u001b[38;2;174;129;255;48;2;39;40;34m3\u001b[0m\u001b[38;2;248;248;242;48;2;39;40;34m]\u001b[0m\u001b[48;2;39;40;34m                                                                           \u001b[0m  \n",
       "  \u001b[38;2;102;217;239;48;2;39;40;34melse\u001b[0m\u001b[38;2;248;248;242;48;2;39;40;34m:\u001b[0m\u001b[48;2;39;40;34m                                                                                                          \u001b[0m  \n",
       "  \u001b[38;2;248;248;242;48;2;39;40;34m    \u001b[0m\u001b[38;2;248;248;242;48;2;39;40;34mtop_results\u001b[0m\u001b[38;2;248;248;242;48;2;39;40;34m \u001b[0m\u001b[38;2;255;70;137;48;2;39;40;34m=\u001b[0m\u001b[38;2;248;248;242;48;2;39;40;34m \u001b[0m\u001b[38;2;248;248;242;48;2;39;40;34m[\u001b[0m\u001b[38;2;248;248;242;48;2;39;40;34m]\u001b[0m\u001b[48;2;39;40;34m                                                                                           \u001b[0m  \n",
       "  \u001b[48;2;39;40;34m                                                                                                               \u001b[0m  \n",
       "  \u001b[38;2;248;248;242;48;2;39;40;34mprint\u001b[0m\u001b[38;2;248;248;242;48;2;39;40;34m(\u001b[0m\u001b[38;2;248;248;242;48;2;39;40;34mtop_results\u001b[0m\u001b[38;2;248;248;242;48;2;39;40;34m)\u001b[0m\u001b[48;2;39;40;34m                                                                                             \u001b[0m  \n",
       " ───────────────────────────────────────────────────────────────────────────────────────────────────────────────── \n"
      ]
     },
     "jetTransient": {
      "display_id": null
     },
     "metadata": {},
     "output_type": "display_data"
    },
    {
     "data": {
      "text/html": [
       "<pre style=\"white-space:pre;overflow-x:auto;line-height:normal;font-family:Menlo,'DejaVu Sans Mono',consolas,'Courier New',monospace\"><span style=\"font-weight: bold\">Execution logs:</span>\n",
       "[]\n",
       "\n",
       "Out: None\n",
       "</pre>\n"
      ],
      "text/plain": [
       "\u001b[1mExecution logs:\u001b[0m\n",
       "[]\n",
       "\n",
       "Out: None\n"
      ]
     },
     "jetTransient": {
      "display_id": null
     },
     "metadata": {},
     "output_type": "display_data"
    },
    {
     "data": {
      "text/html": [
       "<pre style=\"white-space:pre;overflow-x:auto;line-height:normal;font-family:Menlo,'DejaVu Sans Mono',consolas,'Courier New',monospace\"><span style=\"color: #7f7f7f; text-decoration-color: #7f7f7f\">[Step 5: Duration 3.30 seconds| Input tokens: 18,722 | Output tokens: 360]</span>\n",
       "</pre>\n"
      ],
      "text/plain": [
       "\u001b[2m[Step 5: Duration 3.30 seconds| Input tokens: 18,722 | Output tokens: 360]\u001b[0m\n"
      ]
     },
     "jetTransient": {
      "display_id": null
     },
     "metadata": {},
     "output_type": "display_data"
    },
    {
     "data": {
      "text/html": [
       "<pre style=\"white-space:pre;overflow-x:auto;line-height:normal;font-family:Menlo,'DejaVu Sans Mono',consolas,'Courier New',monospace\"><span style=\"color: #d4b702; text-decoration-color: #d4b702\">━━━━━━━━━━━━━━━━━━━━━━━━━━━━━━━━━━━━━━━━━━━━━━━━━━━━━ </span><span style=\"font-weight: bold\">Step 6</span><span style=\"color: #d4b702; text-decoration-color: #d4b702\"> ━━━━━━━━━━━━━━━━━━━━━━━━━━━━━━━━━━━━━━━━━━━━━━━━━━━━━━</span>\n",
       "</pre>\n"
      ],
      "text/plain": [
       "\u001b[38;2;212;183;2m━━━━━━━━━━━━━━━━━━━━━━━━━━━━━━━━━━━━━━━━━━━━━━━━━━━━━ \u001b[0m\u001b[1mStep 6\u001b[0m\u001b[38;2;212;183;2m ━━━━━━━━━━━━━━━━━━━━━━━━━━━━━━━━━━━━━━━━━━━━━━━━━━━━━━\u001b[0m\n"
      ]
     },
     "jetTransient": {
      "display_id": null
     },
     "metadata": {},
     "output_type": "display_data"
    },
    {
     "data": {
      "text/html": [
       "<pre style=\"white-space:pre;overflow-x:auto;line-height:normal;font-family:Menlo,'DejaVu Sans Mono',consolas,'Courier New',monospace\"> ─ <span style=\"font-weight: bold\">Executing parsed code:</span> ──────────────────────────────────────────────────────────────────────────────────────── \n",
       "  <span style=\"color: #f8f8f2; text-decoration-color: #f8f8f2; background-color: #272822\">search_results </span><span style=\"color: #ff4689; text-decoration-color: #ff4689; background-color: #272822\">=</span><span style=\"color: #f8f8f2; text-decoration-color: #f8f8f2; background-color: #272822\"> web_search(query</span><span style=\"color: #ff4689; text-decoration-color: #ff4689; background-color: #272822\">=</span><span style=\"color: #e6db74; text-decoration-color: #e6db74; background-color: #272822\">\"best practices for scaling production rag application\"</span><span style=\"color: #f8f8f2; text-decoration-color: #f8f8f2; background-color: #272822\">)</span><span style=\"background-color: #272822\">                     </span>  \n",
       "  <span style=\"color: #66d9ef; text-decoration-color: #66d9ef; background-color: #272822\">if</span><span style=\"color: #f8f8f2; text-decoration-color: #f8f8f2; background-color: #272822\"> isinstance(search_results, list):</span><span style=\"background-color: #272822\">                                                                           </span>  \n",
       "  <span style=\"color: #f8f8f2; text-decoration-color: #f8f8f2; background-color: #272822\">    top_results </span><span style=\"color: #ff4689; text-decoration-color: #ff4689; background-color: #272822\">=</span><span style=\"color: #f8f8f2; text-decoration-color: #f8f8f2; background-color: #272822\"> search_results[:</span><span style=\"color: #ae81ff; text-decoration-color: #ae81ff; background-color: #272822\">3</span><span style=\"color: #f8f8f2; text-decoration-color: #f8f8f2; background-color: #272822\">]</span><span style=\"background-color: #272822\">                                                                           </span>  \n",
       "  <span style=\"color: #66d9ef; text-decoration-color: #66d9ef; background-color: #272822\">else</span><span style=\"color: #f8f8f2; text-decoration-color: #f8f8f2; background-color: #272822\">:</span><span style=\"background-color: #272822\">                                                                                                          </span>  \n",
       "  <span style=\"color: #f8f8f2; text-decoration-color: #f8f8f2; background-color: #272822\">    top_results </span><span style=\"color: #ff4689; text-decoration-color: #ff4689; background-color: #272822\">=</span><span style=\"color: #f8f8f2; text-decoration-color: #f8f8f2; background-color: #272822\"> []</span><span style=\"background-color: #272822\">                                                                                           </span>  \n",
       "  <span style=\"background-color: #272822\">                                                                                                               </span>  \n",
       "  <span style=\"color: #f8f8f2; text-decoration-color: #f8f8f2; background-color: #272822\">print(top_results)</span><span style=\"background-color: #272822\">                                                                                             </span>  \n",
       " ───────────────────────────────────────────────────────────────────────────────────────────────────────────────── \n",
       "</pre>\n"
      ],
      "text/plain": [
       " ─ \u001b[1mExecuting parsed code:\u001b[0m ──────────────────────────────────────────────────────────────────────────────────────── \n",
       "  \u001b[38;2;248;248;242;48;2;39;40;34msearch_results\u001b[0m\u001b[38;2;248;248;242;48;2;39;40;34m \u001b[0m\u001b[38;2;255;70;137;48;2;39;40;34m=\u001b[0m\u001b[38;2;248;248;242;48;2;39;40;34m \u001b[0m\u001b[38;2;248;248;242;48;2;39;40;34mweb_search\u001b[0m\u001b[38;2;248;248;242;48;2;39;40;34m(\u001b[0m\u001b[38;2;248;248;242;48;2;39;40;34mquery\u001b[0m\u001b[38;2;255;70;137;48;2;39;40;34m=\u001b[0m\u001b[38;2;230;219;116;48;2;39;40;34m\"\u001b[0m\u001b[38;2;230;219;116;48;2;39;40;34mbest practices for scaling production rag application\u001b[0m\u001b[38;2;230;219;116;48;2;39;40;34m\"\u001b[0m\u001b[38;2;248;248;242;48;2;39;40;34m)\u001b[0m\u001b[48;2;39;40;34m                     \u001b[0m  \n",
       "  \u001b[38;2;102;217;239;48;2;39;40;34mif\u001b[0m\u001b[38;2;248;248;242;48;2;39;40;34m \u001b[0m\u001b[38;2;248;248;242;48;2;39;40;34misinstance\u001b[0m\u001b[38;2;248;248;242;48;2;39;40;34m(\u001b[0m\u001b[38;2;248;248;242;48;2;39;40;34msearch_results\u001b[0m\u001b[38;2;248;248;242;48;2;39;40;34m,\u001b[0m\u001b[38;2;248;248;242;48;2;39;40;34m \u001b[0m\u001b[38;2;248;248;242;48;2;39;40;34mlist\u001b[0m\u001b[38;2;248;248;242;48;2;39;40;34m)\u001b[0m\u001b[38;2;248;248;242;48;2;39;40;34m:\u001b[0m\u001b[48;2;39;40;34m                                                                           \u001b[0m  \n",
       "  \u001b[38;2;248;248;242;48;2;39;40;34m    \u001b[0m\u001b[38;2;248;248;242;48;2;39;40;34mtop_results\u001b[0m\u001b[38;2;248;248;242;48;2;39;40;34m \u001b[0m\u001b[38;2;255;70;137;48;2;39;40;34m=\u001b[0m\u001b[38;2;248;248;242;48;2;39;40;34m \u001b[0m\u001b[38;2;248;248;242;48;2;39;40;34msearch_results\u001b[0m\u001b[38;2;248;248;242;48;2;39;40;34m[\u001b[0m\u001b[38;2;248;248;242;48;2;39;40;34m:\u001b[0m\u001b[38;2;174;129;255;48;2;39;40;34m3\u001b[0m\u001b[38;2;248;248;242;48;2;39;40;34m]\u001b[0m\u001b[48;2;39;40;34m                                                                           \u001b[0m  \n",
       "  \u001b[38;2;102;217;239;48;2;39;40;34melse\u001b[0m\u001b[38;2;248;248;242;48;2;39;40;34m:\u001b[0m\u001b[48;2;39;40;34m                                                                                                          \u001b[0m  \n",
       "  \u001b[38;2;248;248;242;48;2;39;40;34m    \u001b[0m\u001b[38;2;248;248;242;48;2;39;40;34mtop_results\u001b[0m\u001b[38;2;248;248;242;48;2;39;40;34m \u001b[0m\u001b[38;2;255;70;137;48;2;39;40;34m=\u001b[0m\u001b[38;2;248;248;242;48;2;39;40;34m \u001b[0m\u001b[38;2;248;248;242;48;2;39;40;34m[\u001b[0m\u001b[38;2;248;248;242;48;2;39;40;34m]\u001b[0m\u001b[48;2;39;40;34m                                                                                           \u001b[0m  \n",
       "  \u001b[48;2;39;40;34m                                                                                                               \u001b[0m  \n",
       "  \u001b[38;2;248;248;242;48;2;39;40;34mprint\u001b[0m\u001b[38;2;248;248;242;48;2;39;40;34m(\u001b[0m\u001b[38;2;248;248;242;48;2;39;40;34mtop_results\u001b[0m\u001b[38;2;248;248;242;48;2;39;40;34m)\u001b[0m\u001b[48;2;39;40;34m                                                                                             \u001b[0m  \n",
       " ───────────────────────────────────────────────────────────────────────────────────────────────────────────────── \n"
      ]
     },
     "jetTransient": {
      "display_id": null
     },
     "metadata": {},
     "output_type": "display_data"
    },
    {
     "data": {
      "text/html": [
       "<pre style=\"white-space:pre;overflow-x:auto;line-height:normal;font-family:Menlo,'DejaVu Sans Mono',consolas,'Courier New',monospace\"><span style=\"font-weight: bold\">Execution logs:</span>\n",
       "[]\n",
       "\n",
       "Out: None\n",
       "</pre>\n"
      ],
      "text/plain": [
       "\u001b[1mExecution logs:\u001b[0m\n",
       "[]\n",
       "\n",
       "Out: None\n"
      ]
     },
     "jetTransient": {
      "display_id": null
     },
     "metadata": {},
     "output_type": "display_data"
    },
    {
     "data": {
      "text/html": [
       "<pre style=\"white-space:pre;overflow-x:auto;line-height:normal;font-family:Menlo,'DejaVu Sans Mono',consolas,'Courier New',monospace\"><span style=\"color: #7f7f7f; text-decoration-color: #7f7f7f\">[Step 6: Duration 2.59 seconds| Input tokens: 23,599 | Output tokens: 448]</span>\n",
       "</pre>\n"
      ],
      "text/plain": [
       "\u001b[2m[Step 6: Duration 2.59 seconds| Input tokens: 23,599 | Output tokens: 448]\u001b[0m\n"
      ]
     },
     "jetTransient": {
      "display_id": null
     },
     "metadata": {},
     "output_type": "display_data"
    },
    {
     "data": {
      "text/html": [
       "<pre style=\"white-space:pre;overflow-x:auto;line-height:normal;font-family:Menlo,'DejaVu Sans Mono',consolas,'Courier New',monospace\"><span style=\"color: #d4b702; text-decoration-color: #d4b702\">━━━━━━━━━━━━━━━━━━━━━━━━━━━━━━━━━━━━━━━━━━━━━━━━━━━━━ </span><span style=\"font-weight: bold\">Step 7</span><span style=\"color: #d4b702; text-decoration-color: #d4b702\"> ━━━━━━━━━━━━━━━━━━━━━━━━━━━━━━━━━━━━━━━━━━━━━━━━━━━━━━</span>\n",
       "</pre>\n"
      ],
      "text/plain": [
       "\u001b[38;2;212;183;2m━━━━━━━━━━━━━━━━━━━━━━━━━━━━━━━━━━━━━━━━━━━━━━━━━━━━━ \u001b[0m\u001b[1mStep 7\u001b[0m\u001b[38;2;212;183;2m ━━━━━━━━━━━━━━━━━━━━━━━━━━━━━━━━━━━━━━━━━━━━━━━━━━━━━━\u001b[0m\n"
      ]
     },
     "jetTransient": {
      "display_id": null
     },
     "metadata": {},
     "output_type": "display_data"
    },
    {
     "data": {
      "text/html": [
       "<pre style=\"white-space:pre;overflow-x:auto;line-height:normal;font-family:Menlo,'DejaVu Sans Mono',consolas,'Courier New',monospace\"> ─ <span style=\"font-weight: bold\">Executing parsed code:</span> ──────────────────────────────────────────────────────────────────────────────────────── \n",
       "  <span style=\"color: #f8f8f2; text-decoration-color: #f8f8f2; background-color: #272822\">search_results </span><span style=\"color: #ff4689; text-decoration-color: #ff4689; background-color: #272822\">=</span><span style=\"color: #f8f8f2; text-decoration-color: #f8f8f2; background-color: #272822\"> web_search(query</span><span style=\"color: #ff4689; text-decoration-color: #ff4689; background-color: #272822\">=</span><span style=\"color: #e6db74; text-decoration-color: #e6db74; background-color: #272822\">\"best practices for scaling production rag application\"</span><span style=\"color: #f8f8f2; text-decoration-color: #f8f8f2; background-color: #272822\">)</span><span style=\"background-color: #272822\">                     </span>  \n",
       "  <span style=\"color: #f8f8f2; text-decoration-color: #f8f8f2; background-color: #272822\">print(</span><span style=\"color: #e6db74; text-decoration-color: #e6db74; background-color: #272822\">\"Search Results:\"</span><span style=\"color: #f8f8f2; text-decoration-color: #f8f8f2; background-color: #272822\">, search_results)</span><span style=\"background-color: #272822\">                                                                       </span>  \n",
       "  <span style=\"background-color: #272822\">                                                                                                               </span>  \n",
       "  <span style=\"color: #66d9ef; text-decoration-color: #66d9ef; background-color: #272822\">if</span><span style=\"color: #f8f8f2; text-decoration-color: #f8f8f2; background-color: #272822\"> isinstance(search_results, list):</span><span style=\"background-color: #272822\">                                                                           </span>  \n",
       "  <span style=\"color: #f8f8f2; text-decoration-color: #f8f8f2; background-color: #272822\">    top_results </span><span style=\"color: #ff4689; text-decoration-color: #ff4689; background-color: #272822\">=</span><span style=\"color: #f8f8f2; text-decoration-color: #f8f8f2; background-color: #272822\"> search_results[:</span><span style=\"color: #ae81ff; text-decoration-color: #ae81ff; background-color: #272822\">3</span><span style=\"color: #f8f8f2; text-decoration-color: #f8f8f2; background-color: #272822\">]</span><span style=\"background-color: #272822\">                                                                           </span>  \n",
       "  <span style=\"color: #66d9ef; text-decoration-color: #66d9ef; background-color: #272822\">else</span><span style=\"color: #f8f8f2; text-decoration-color: #f8f8f2; background-color: #272822\">:</span><span style=\"background-color: #272822\">                                                                                                          </span>  \n",
       "  <span style=\"color: #f8f8f2; text-decoration-color: #f8f8f2; background-color: #272822\">    top_results </span><span style=\"color: #ff4689; text-decoration-color: #ff4689; background-color: #272822\">=</span><span style=\"color: #f8f8f2; text-decoration-color: #f8f8f2; background-color: #272822\"> []</span><span style=\"background-color: #272822\">                                                                                           </span>  \n",
       "  <span style=\"background-color: #272822\">                                                                                                               </span>  \n",
       "  <span style=\"color: #f8f8f2; text-decoration-color: #f8f8f2; background-color: #272822\">print(</span><span style=\"color: #e6db74; text-decoration-color: #e6db74; background-color: #272822\">\"Top Results:\"</span><span style=\"color: #f8f8f2; text-decoration-color: #f8f8f2; background-color: #272822\">, top_results)</span><span style=\"background-color: #272822\">                                                                             </span>  \n",
       " ───────────────────────────────────────────────────────────────────────────────────────────────────────────────── \n",
       "</pre>\n"
      ],
      "text/plain": [
       " ─ \u001b[1mExecuting parsed code:\u001b[0m ──────────────────────────────────────────────────────────────────────────────────────── \n",
       "  \u001b[38;2;248;248;242;48;2;39;40;34msearch_results\u001b[0m\u001b[38;2;248;248;242;48;2;39;40;34m \u001b[0m\u001b[38;2;255;70;137;48;2;39;40;34m=\u001b[0m\u001b[38;2;248;248;242;48;2;39;40;34m \u001b[0m\u001b[38;2;248;248;242;48;2;39;40;34mweb_search\u001b[0m\u001b[38;2;248;248;242;48;2;39;40;34m(\u001b[0m\u001b[38;2;248;248;242;48;2;39;40;34mquery\u001b[0m\u001b[38;2;255;70;137;48;2;39;40;34m=\u001b[0m\u001b[38;2;230;219;116;48;2;39;40;34m\"\u001b[0m\u001b[38;2;230;219;116;48;2;39;40;34mbest practices for scaling production rag application\u001b[0m\u001b[38;2;230;219;116;48;2;39;40;34m\"\u001b[0m\u001b[38;2;248;248;242;48;2;39;40;34m)\u001b[0m\u001b[48;2;39;40;34m                     \u001b[0m  \n",
       "  \u001b[38;2;248;248;242;48;2;39;40;34mprint\u001b[0m\u001b[38;2;248;248;242;48;2;39;40;34m(\u001b[0m\u001b[38;2;230;219;116;48;2;39;40;34m\"\u001b[0m\u001b[38;2;230;219;116;48;2;39;40;34mSearch Results:\u001b[0m\u001b[38;2;230;219;116;48;2;39;40;34m\"\u001b[0m\u001b[38;2;248;248;242;48;2;39;40;34m,\u001b[0m\u001b[38;2;248;248;242;48;2;39;40;34m \u001b[0m\u001b[38;2;248;248;242;48;2;39;40;34msearch_results\u001b[0m\u001b[38;2;248;248;242;48;2;39;40;34m)\u001b[0m\u001b[48;2;39;40;34m                                                                       \u001b[0m  \n",
       "  \u001b[48;2;39;40;34m                                                                                                               \u001b[0m  \n",
       "  \u001b[38;2;102;217;239;48;2;39;40;34mif\u001b[0m\u001b[38;2;248;248;242;48;2;39;40;34m \u001b[0m\u001b[38;2;248;248;242;48;2;39;40;34misinstance\u001b[0m\u001b[38;2;248;248;242;48;2;39;40;34m(\u001b[0m\u001b[38;2;248;248;242;48;2;39;40;34msearch_results\u001b[0m\u001b[38;2;248;248;242;48;2;39;40;34m,\u001b[0m\u001b[38;2;248;248;242;48;2;39;40;34m \u001b[0m\u001b[38;2;248;248;242;48;2;39;40;34mlist\u001b[0m\u001b[38;2;248;248;242;48;2;39;40;34m)\u001b[0m\u001b[38;2;248;248;242;48;2;39;40;34m:\u001b[0m\u001b[48;2;39;40;34m                                                                           \u001b[0m  \n",
       "  \u001b[38;2;248;248;242;48;2;39;40;34m    \u001b[0m\u001b[38;2;248;248;242;48;2;39;40;34mtop_results\u001b[0m\u001b[38;2;248;248;242;48;2;39;40;34m \u001b[0m\u001b[38;2;255;70;137;48;2;39;40;34m=\u001b[0m\u001b[38;2;248;248;242;48;2;39;40;34m \u001b[0m\u001b[38;2;248;248;242;48;2;39;40;34msearch_results\u001b[0m\u001b[38;2;248;248;242;48;2;39;40;34m[\u001b[0m\u001b[38;2;248;248;242;48;2;39;40;34m:\u001b[0m\u001b[38;2;174;129;255;48;2;39;40;34m3\u001b[0m\u001b[38;2;248;248;242;48;2;39;40;34m]\u001b[0m\u001b[48;2;39;40;34m                                                                           \u001b[0m  \n",
       "  \u001b[38;2;102;217;239;48;2;39;40;34melse\u001b[0m\u001b[38;2;248;248;242;48;2;39;40;34m:\u001b[0m\u001b[48;2;39;40;34m                                                                                                          \u001b[0m  \n",
       "  \u001b[38;2;248;248;242;48;2;39;40;34m    \u001b[0m\u001b[38;2;248;248;242;48;2;39;40;34mtop_results\u001b[0m\u001b[38;2;248;248;242;48;2;39;40;34m \u001b[0m\u001b[38;2;255;70;137;48;2;39;40;34m=\u001b[0m\u001b[38;2;248;248;242;48;2;39;40;34m \u001b[0m\u001b[38;2;248;248;242;48;2;39;40;34m[\u001b[0m\u001b[38;2;248;248;242;48;2;39;40;34m]\u001b[0m\u001b[48;2;39;40;34m                                                                                           \u001b[0m  \n",
       "  \u001b[48;2;39;40;34m                                                                                                               \u001b[0m  \n",
       "  \u001b[38;2;248;248;242;48;2;39;40;34mprint\u001b[0m\u001b[38;2;248;248;242;48;2;39;40;34m(\u001b[0m\u001b[38;2;230;219;116;48;2;39;40;34m\"\u001b[0m\u001b[38;2;230;219;116;48;2;39;40;34mTop Results:\u001b[0m\u001b[38;2;230;219;116;48;2;39;40;34m\"\u001b[0m\u001b[38;2;248;248;242;48;2;39;40;34m,\u001b[0m\u001b[38;2;248;248;242;48;2;39;40;34m \u001b[0m\u001b[38;2;248;248;242;48;2;39;40;34mtop_results\u001b[0m\u001b[38;2;248;248;242;48;2;39;40;34m)\u001b[0m\u001b[48;2;39;40;34m                                                                             \u001b[0m  \n",
       " ───────────────────────────────────────────────────────────────────────────────────────────────────────────────── \n"
      ]
     },
     "jetTransient": {
      "display_id": null
     },
     "metadata": {},
     "output_type": "display_data"
    },
    {
     "data": {
      "text/html": [
       "<pre style=\"white-space:pre;overflow-x:auto;line-height:normal;font-family:Menlo,'DejaVu Sans Mono',consolas,'Courier New',monospace\"><span style=\"font-weight: bold\">Execution logs:</span>\n",
       "Search Results: ## Search Results\n",
       "\n",
       "[Building Production-Ready RAG Systems: Best Practices and ... - \n",
       "Medium](https://medium.com/@meeran03/building-production-ready-rag-systems-best-practices-and-latest-tools-581cae95\n",
       "18e7)\n",
       "Building Production -Ready RAG Systems: Best Practices and Latest Tools How to build production -grade \n",
       "Retrieval-Augmented Generation ( RAG ) systems with the latest 2024-2025 techniques. Explore …\n",
       "\n",
       "[From Zero to Hero: Proven Methods to Optimize RAG for Production \n",
       "...](https://techcommunity.microsoft.com/blog/azure-ai-foundry-blog/from-zero-to-hero-proven-methods-to-optimize-ra\n",
       "g-for-production/4450040)\n",
       "While prototyping RAG models is relatively straightforward, optimizing them for production environments poses \n",
       "unique challenges due to scalability, latency, and robustness requirements. This blog dives deeply into practical \n",
       "and advanced strategies to optimize RAG systems for production , ensuring they are performant, reliable, and \n",
       "scalable.\n",
       "\n",
       "[Here's how to build a Production-Ready RAG \n",
       "System](https://ragaboutit.com/heres-how-to-build-a-production-ready-rag-system/)\n",
       "Here's how to build a Production -Ready RAG System Introduction The promise of generative AI is rapidly \n",
       "transforming industries, and at the heart of many practical enterprise applications lies Retrieval Augmented \n",
       "Generation ( RAG ). You've likely seen impressive demos or experimented with RAG's ability to ground Large Language\n",
       "Models (LLMs) with specific, factual data, drastically reducing ...\n",
       "\n",
       "[RAG in Production: Deployment Strategies &amp; Practical ... - \n",
       "Aporia](https://coralogix.com/ai-blog/rag-in-production-deployment-strategies-and-practical-considerations/)\n",
       "This article cuts through the noise, offering actionable strategies for scaling RAG systems from development to \n",
       "production . We provide a comprehensive blueprint for building robust, responsive RAG systems based on recent \n",
       "advances in vector database management, LLM deployment architectures, and API design.\n",
       "\n",
       "[Best Practices for Production-Scale RAG Systems — An Implementation \n",
       "...](https://orkes.io/blog/rag-best-practices/)\n",
       "Learn hands-on the best practices to improve RAG accuracy and response quality: contextual headers, semantic \n",
       "chunks, hybrid search, and reranking.\n",
       "\n",
       "[RAG In Production - Best Practices Notes - Behitek](https://behitek.com/blog/2024/07/18/rag-in-production/)\n",
       "When deployed in production , RAG systems can provide more accurate and contextually relevant responses. This guide\n",
       "outlines best practices for implementing RAG models in a production environment, ensuring robustness, scalability, \n",
       "and efficiency.\n",
       "\n",
       "[Scaling RAG for Real-World Applications - ML \n",
       "Journey](https://mljourney.com/scaling-rag-for-real-world-applications/)\n",
       "This architectural framework serves as a flexible template that can evolve with your application's scale and \n",
       "complexity. Best Practices for Production -Grade RAG 1. Optimize Retrieval First Poor retrieval = poor generation. \n",
       "Use top-k tuning and similarity thresholds. Test multiple embedding models across your data domain.\n",
       "\n",
       "[Scalable RAG Architecture | Production \n",
       "Design](https://apxml.com/courses/optimizing-rag-for-production/chapter-1-production-rag-foundations/production-rag\n",
       "-architecture-scaling)\n",
       "Review RAG architecture components and design considerations for building scalable systems ready for production \n",
       "workloads.\n",
       "\n",
       "[Production-Ready RAG Systems: End to End \n",
       "Guide](https://www.saumilsrivastava.ai/blog/production-ready-rag-systems-end-to-end-guide)\n",
       "Fig 1. Comparing RAG architectural patterns: Simple, Advanced, and Agentic, each scaling in complexity and \n",
       "capability to meet diverse application needs. Please note that code examples in this document are illustrative and \n",
       "conceptual. They focus on underlying principles and are not tied to specific vendor implementations to ensure broad\n",
       "applicability. The RAG Implementation Framework To address ...\n",
       "\n",
       "[Building Production-Ready RAG Apps: Tips &amp; Tools](https://www.chitika.com/building-production-ready-rag-apps/)\n",
       "Building a production -ready RAG application requires the right strategies and tools. This guide covers key best \n",
       "practices , performance optimization, and essential technologies to ensure scalability, accuracy, and efficiency in\n",
       "real-world AI applications .\n",
       "Top Results: []\n",
       "\n",
       "Out: None\n",
       "</pre>\n"
      ],
      "text/plain": [
       "\u001b[1mExecution logs:\u001b[0m\n",
       "Search Results: ## Search Results\n",
       "\n",
       "[Building Production-Ready RAG Systems: Best Practices and ... - \n",
       "Medium](https://medium.com/@meeran03/building-production-ready-rag-systems-best-practices-and-latest-tools-581cae95\n",
       "18e7)\n",
       "Building Production -Ready RAG Systems: Best Practices and Latest Tools How to build production -grade \n",
       "Retrieval-Augmented Generation ( RAG ) systems with the latest 2024-2025 techniques. Explore …\n",
       "\n",
       "[From Zero to Hero: Proven Methods to Optimize RAG for Production \n",
       "...](https://techcommunity.microsoft.com/blog/azure-ai-foundry-blog/from-zero-to-hero-proven-methods-to-optimize-ra\n",
       "g-for-production/4450040)\n",
       "While prototyping RAG models is relatively straightforward, optimizing them for production environments poses \n",
       "unique challenges due to scalability, latency, and robustness requirements. This blog dives deeply into practical \n",
       "and advanced strategies to optimize RAG systems for production , ensuring they are performant, reliable, and \n",
       "scalable.\n",
       "\n",
       "[Here's how to build a Production-Ready RAG \n",
       "System](https://ragaboutit.com/heres-how-to-build-a-production-ready-rag-system/)\n",
       "Here's how to build a Production -Ready RAG System Introduction The promise of generative AI is rapidly \n",
       "transforming industries, and at the heart of many practical enterprise applications lies Retrieval Augmented \n",
       "Generation ( RAG ). You've likely seen impressive demos or experimented with RAG's ability to ground Large Language\n",
       "Models (LLMs) with specific, factual data, drastically reducing ...\n",
       "\n",
       "[RAG in Production: Deployment Strategies & Practical ... - \n",
       "Aporia](https://coralogix.com/ai-blog/rag-in-production-deployment-strategies-and-practical-considerations/)\n",
       "This article cuts through the noise, offering actionable strategies for scaling RAG systems from development to \n",
       "production . We provide a comprehensive blueprint for building robust, responsive RAG systems based on recent \n",
       "advances in vector database management, LLM deployment architectures, and API design.\n",
       "\n",
       "[Best Practices for Production-Scale RAG Systems — An Implementation \n",
       "...](https://orkes.io/blog/rag-best-practices/)\n",
       "Learn hands-on the best practices to improve RAG accuracy and response quality: contextual headers, semantic \n",
       "chunks, hybrid search, and reranking.\n",
       "\n",
       "[RAG In Production - Best Practices Notes - Behitek](https://behitek.com/blog/2024/07/18/rag-in-production/)\n",
       "When deployed in production , RAG systems can provide more accurate and contextually relevant responses. This guide\n",
       "outlines best practices for implementing RAG models in a production environment, ensuring robustness, scalability, \n",
       "and efficiency.\n",
       "\n",
       "[Scaling RAG for Real-World Applications - ML \n",
       "Journey](https://mljourney.com/scaling-rag-for-real-world-applications/)\n",
       "This architectural framework serves as a flexible template that can evolve with your application's scale and \n",
       "complexity. Best Practices for Production -Grade RAG 1. Optimize Retrieval First Poor retrieval = poor generation. \n",
       "Use top-k tuning and similarity thresholds. Test multiple embedding models across your data domain.\n",
       "\n",
       "[Scalable RAG Architecture | Production \n",
       "Design](https://apxml.com/courses/optimizing-rag-for-production/chapter-1-production-rag-foundations/production-rag\n",
       "-architecture-scaling)\n",
       "Review RAG architecture components and design considerations for building scalable systems ready for production \n",
       "workloads.\n",
       "\n",
       "[Production-Ready RAG Systems: End to End \n",
       "Guide](https://www.saumilsrivastava.ai/blog/production-ready-rag-systems-end-to-end-guide)\n",
       "Fig 1. Comparing RAG architectural patterns: Simple, Advanced, and Agentic, each scaling in complexity and \n",
       "capability to meet diverse application needs. Please note that code examples in this document are illustrative and \n",
       "conceptual. They focus on underlying principles and are not tied to specific vendor implementations to ensure broad\n",
       "applicability. The RAG Implementation Framework To address ...\n",
       "\n",
       "[Building Production-Ready RAG Apps: Tips & Tools](https://www.chitika.com/building-production-ready-rag-apps/)\n",
       "Building a production -ready RAG application requires the right strategies and tools. This guide covers key best \n",
       "practices , performance optimization, and essential technologies to ensure scalability, accuracy, and efficiency in\n",
       "real-world AI applications .\n",
       "Top Results: []\n",
       "\n",
       "Out: None\n"
      ]
     },
     "jetTransient": {
      "display_id": null
     },
     "metadata": {},
     "output_type": "display_data"
    },
    {
     "data": {
      "text/html": [
       "<pre style=\"white-space:pre;overflow-x:auto;line-height:normal;font-family:Menlo,'DejaVu Sans Mono',consolas,'Courier New',monospace\"><span style=\"color: #7f7f7f; text-decoration-color: #7f7f7f\">[Step 7: Duration 2.92 seconds| Input tokens: 28,673 | Output tokens: 550]</span>\n",
       "</pre>\n"
      ],
      "text/plain": [
       "\u001b[2m[Step 7: Duration 2.92 seconds| Input tokens: 28,673 | Output tokens: 550]\u001b[0m\n"
      ]
     },
     "jetTransient": {
      "display_id": null
     },
     "metadata": {},
     "output_type": "display_data"
    },
    {
     "data": {
      "text/html": [
       "<pre style=\"white-space:pre;overflow-x:auto;line-height:normal;font-family:Menlo,'DejaVu Sans Mono',consolas,'Courier New',monospace\"><span style=\"color: #d4b702; text-decoration-color: #d4b702\">━━━━━━━━━━━━━━━━━━━━━━━━━━━━━━━━━━━━━━━━━━━━━━━━━━━━━ </span><span style=\"font-weight: bold\">Step 8</span><span style=\"color: #d4b702; text-decoration-color: #d4b702\"> ━━━━━━━━━━━━━━━━━━━━━━━━━━━━━━━━━━━━━━━━━━━━━━━━━━━━━━</span>\n",
       "</pre>\n"
      ],
      "text/plain": [
       "\u001b[38;2;212;183;2m━━━━━━━━━━━━━━━━━━━━━━━━━━━━━━━━━━━━━━━━━━━━━━━━━━━━━ \u001b[0m\u001b[1mStep 8\u001b[0m\u001b[38;2;212;183;2m ━━━━━━━━━━━━━━━━━━━━━━━━━━━━━━━━━━━━━━━━━━━━━━━━━━━━━━\u001b[0m\n"
      ]
     },
     "jetTransient": {
      "display_id": null
     },
     "metadata": {},
     "output_type": "display_data"
    },
    {
     "data": {
      "text/html": [
       "<pre style=\"white-space:pre;overflow-x:auto;line-height:normal;font-family:Menlo,'DejaVu Sans Mono',consolas,'Courier New',monospace\"> ─ <span style=\"font-weight: bold\">Executing parsed code:</span> ──────────────────────────────────────────────────────────────────────────────────────── \n",
       "  <span style=\"color: #f8f8f2; text-decoration-color: #f8f8f2; background-color: #272822\">search_results </span><span style=\"color: #ff4689; text-decoration-color: #ff4689; background-color: #272822\">=</span><span style=\"color: #f8f8f2; text-decoration-color: #f8f8f2; background-color: #272822\"> web_search(query</span><span style=\"color: #ff4689; text-decoration-color: #ff4689; background-color: #272822\">=</span><span style=\"color: #e6db74; text-decoration-color: #e6db74; background-color: #272822\">\"best practices for scaling production rag application\"</span><span style=\"color: #f8f8f2; text-decoration-color: #f8f8f2; background-color: #272822\">)</span><span style=\"background-color: #272822\">                     </span>  \n",
       "  <span style=\"color: #f8f8f2; text-decoration-color: #f8f8f2; background-color: #272822\">print(</span><span style=\"color: #e6db74; text-decoration-color: #e6db74; background-color: #272822\">\"Search Results:\"</span><span style=\"color: #f8f8f2; text-decoration-color: #f8f8f2; background-color: #272822\">, search_results)</span><span style=\"background-color: #272822\">                                                                       </span>  \n",
       "  <span style=\"background-color: #272822\">                                                                                                               </span>  \n",
       "  <span style=\"color: #959077; text-decoration-color: #959077; background-color: #272822\"># Manually inspecting the search results</span><span style=\"background-color: #272822\">                                                                       </span>  \n",
       "  <span style=\"color: #66d9ef; text-decoration-color: #66d9ef; background-color: #272822\">if</span><span style=\"color: #f8f8f2; text-decoration-color: #f8f8f2; background-color: #272822\"> isinstance(search_results, str):</span><span style=\"background-color: #272822\">                                                                            </span>  \n",
       "  <span style=\"color: #f8f8f2; text-decoration-color: #f8f8f2; background-color: #272822\">    search_results </span><span style=\"color: #ff4689; text-decoration-color: #ff4689; background-color: #272822\">=</span><span style=\"color: #f8f8f2; text-decoration-color: #f8f8f2; background-color: #272822\"> search_results</span><span style=\"color: #ff4689; text-decoration-color: #ff4689; background-color: #272822\">.</span><span style=\"color: #f8f8f2; text-decoration-color: #f8f8f2; background-color: #272822\">split(</span><span style=\"color: #e6db74; text-decoration-color: #e6db74; background-color: #272822\">'</span><span style=\"color: #ae81ff; text-decoration-color: #ae81ff; background-color: #272822\">\\n</span><span style=\"color: #e6db74; text-decoration-color: #e6db74; background-color: #272822\">'</span><span style=\"color: #f8f8f2; text-decoration-color: #f8f8f2; background-color: #272822\">)</span><span style=\"background-color: #272822\">                                                                </span>  \n",
       "  <span style=\"color: #f8f8f2; text-decoration-color: #f8f8f2; background-color: #272822\">    top_results </span><span style=\"color: #ff4689; text-decoration-color: #ff4689; background-color: #272822\">=</span><span style=\"color: #f8f8f2; text-decoration-color: #f8f8f2; background-color: #272822\"> search_results[</span><span style=\"color: #ae81ff; text-decoration-color: #ae81ff; background-color: #272822\">1</span><span style=\"color: #f8f8f2; text-decoration-color: #f8f8f2; background-color: #272822\">:</span><span style=\"color: #ae81ff; text-decoration-color: #ae81ff; background-color: #272822\">4</span><span style=\"color: #f8f8f2; text-decoration-color: #f8f8f2; background-color: #272822\">]  </span><span style=\"color: #959077; text-decoration-color: #959077; background-color: #272822\"># Skip the first line which is a header</span><span style=\"background-color: #272822\">                                 </span>  \n",
       "  <span style=\"color: #66d9ef; text-decoration-color: #66d9ef; background-color: #272822\">else</span><span style=\"color: #f8f8f2; text-decoration-color: #f8f8f2; background-color: #272822\">:</span><span style=\"background-color: #272822\">                                                                                                          </span>  \n",
       "  <span style=\"color: #f8f8f2; text-decoration-color: #f8f8f2; background-color: #272822\">    top_results </span><span style=\"color: #ff4689; text-decoration-color: #ff4689; background-color: #272822\">=</span><span style=\"color: #f8f8f2; text-decoration-color: #f8f8f2; background-color: #272822\"> []</span><span style=\"background-color: #272822\">                                                                                           </span>  \n",
       "  <span style=\"background-color: #272822\">                                                                                                               </span>  \n",
       "  <span style=\"color: #f8f8f2; text-decoration-color: #f8f8f2; background-color: #272822\">print(</span><span style=\"color: #e6db74; text-decoration-color: #e6db74; background-color: #272822\">\"Top Results:\"</span><span style=\"color: #f8f8f2; text-decoration-color: #f8f8f2; background-color: #272822\">, top_results)</span><span style=\"background-color: #272822\">                                                                             </span>  \n",
       " ───────────────────────────────────────────────────────────────────────────────────────────────────────────────── \n",
       "</pre>\n"
      ],
      "text/plain": [
       " ─ \u001b[1mExecuting parsed code:\u001b[0m ──────────────────────────────────────────────────────────────────────────────────────── \n",
       "  \u001b[38;2;248;248;242;48;2;39;40;34msearch_results\u001b[0m\u001b[38;2;248;248;242;48;2;39;40;34m \u001b[0m\u001b[38;2;255;70;137;48;2;39;40;34m=\u001b[0m\u001b[38;2;248;248;242;48;2;39;40;34m \u001b[0m\u001b[38;2;248;248;242;48;2;39;40;34mweb_search\u001b[0m\u001b[38;2;248;248;242;48;2;39;40;34m(\u001b[0m\u001b[38;2;248;248;242;48;2;39;40;34mquery\u001b[0m\u001b[38;2;255;70;137;48;2;39;40;34m=\u001b[0m\u001b[38;2;230;219;116;48;2;39;40;34m\"\u001b[0m\u001b[38;2;230;219;116;48;2;39;40;34mbest practices for scaling production rag application\u001b[0m\u001b[38;2;230;219;116;48;2;39;40;34m\"\u001b[0m\u001b[38;2;248;248;242;48;2;39;40;34m)\u001b[0m\u001b[48;2;39;40;34m                     \u001b[0m  \n",
       "  \u001b[38;2;248;248;242;48;2;39;40;34mprint\u001b[0m\u001b[38;2;248;248;242;48;2;39;40;34m(\u001b[0m\u001b[38;2;230;219;116;48;2;39;40;34m\"\u001b[0m\u001b[38;2;230;219;116;48;2;39;40;34mSearch Results:\u001b[0m\u001b[38;2;230;219;116;48;2;39;40;34m\"\u001b[0m\u001b[38;2;248;248;242;48;2;39;40;34m,\u001b[0m\u001b[38;2;248;248;242;48;2;39;40;34m \u001b[0m\u001b[38;2;248;248;242;48;2;39;40;34msearch_results\u001b[0m\u001b[38;2;248;248;242;48;2;39;40;34m)\u001b[0m\u001b[48;2;39;40;34m                                                                       \u001b[0m  \n",
       "  \u001b[48;2;39;40;34m                                                                                                               \u001b[0m  \n",
       "  \u001b[38;2;149;144;119;48;2;39;40;34m# Manually inspecting the search results\u001b[0m\u001b[48;2;39;40;34m                                                                       \u001b[0m  \n",
       "  \u001b[38;2;102;217;239;48;2;39;40;34mif\u001b[0m\u001b[38;2;248;248;242;48;2;39;40;34m \u001b[0m\u001b[38;2;248;248;242;48;2;39;40;34misinstance\u001b[0m\u001b[38;2;248;248;242;48;2;39;40;34m(\u001b[0m\u001b[38;2;248;248;242;48;2;39;40;34msearch_results\u001b[0m\u001b[38;2;248;248;242;48;2;39;40;34m,\u001b[0m\u001b[38;2;248;248;242;48;2;39;40;34m \u001b[0m\u001b[38;2;248;248;242;48;2;39;40;34mstr\u001b[0m\u001b[38;2;248;248;242;48;2;39;40;34m)\u001b[0m\u001b[38;2;248;248;242;48;2;39;40;34m:\u001b[0m\u001b[48;2;39;40;34m                                                                            \u001b[0m  \n",
       "  \u001b[38;2;248;248;242;48;2;39;40;34m    \u001b[0m\u001b[38;2;248;248;242;48;2;39;40;34msearch_results\u001b[0m\u001b[38;2;248;248;242;48;2;39;40;34m \u001b[0m\u001b[38;2;255;70;137;48;2;39;40;34m=\u001b[0m\u001b[38;2;248;248;242;48;2;39;40;34m \u001b[0m\u001b[38;2;248;248;242;48;2;39;40;34msearch_results\u001b[0m\u001b[38;2;255;70;137;48;2;39;40;34m.\u001b[0m\u001b[38;2;248;248;242;48;2;39;40;34msplit\u001b[0m\u001b[38;2;248;248;242;48;2;39;40;34m(\u001b[0m\u001b[38;2;230;219;116;48;2;39;40;34m'\u001b[0m\u001b[38;2;174;129;255;48;2;39;40;34m\\n\u001b[0m\u001b[38;2;230;219;116;48;2;39;40;34m'\u001b[0m\u001b[38;2;248;248;242;48;2;39;40;34m)\u001b[0m\u001b[48;2;39;40;34m                                                                \u001b[0m  \n",
       "  \u001b[38;2;248;248;242;48;2;39;40;34m    \u001b[0m\u001b[38;2;248;248;242;48;2;39;40;34mtop_results\u001b[0m\u001b[38;2;248;248;242;48;2;39;40;34m \u001b[0m\u001b[38;2;255;70;137;48;2;39;40;34m=\u001b[0m\u001b[38;2;248;248;242;48;2;39;40;34m \u001b[0m\u001b[38;2;248;248;242;48;2;39;40;34msearch_results\u001b[0m\u001b[38;2;248;248;242;48;2;39;40;34m[\u001b[0m\u001b[38;2;174;129;255;48;2;39;40;34m1\u001b[0m\u001b[38;2;248;248;242;48;2;39;40;34m:\u001b[0m\u001b[38;2;174;129;255;48;2;39;40;34m4\u001b[0m\u001b[38;2;248;248;242;48;2;39;40;34m]\u001b[0m\u001b[38;2;248;248;242;48;2;39;40;34m  \u001b[0m\u001b[38;2;149;144;119;48;2;39;40;34m# Skip the first line which is a header\u001b[0m\u001b[48;2;39;40;34m                                 \u001b[0m  \n",
       "  \u001b[38;2;102;217;239;48;2;39;40;34melse\u001b[0m\u001b[38;2;248;248;242;48;2;39;40;34m:\u001b[0m\u001b[48;2;39;40;34m                                                                                                          \u001b[0m  \n",
       "  \u001b[38;2;248;248;242;48;2;39;40;34m    \u001b[0m\u001b[38;2;248;248;242;48;2;39;40;34mtop_results\u001b[0m\u001b[38;2;248;248;242;48;2;39;40;34m \u001b[0m\u001b[38;2;255;70;137;48;2;39;40;34m=\u001b[0m\u001b[38;2;248;248;242;48;2;39;40;34m \u001b[0m\u001b[38;2;248;248;242;48;2;39;40;34m[\u001b[0m\u001b[38;2;248;248;242;48;2;39;40;34m]\u001b[0m\u001b[48;2;39;40;34m                                                                                           \u001b[0m  \n",
       "  \u001b[48;2;39;40;34m                                                                                                               \u001b[0m  \n",
       "  \u001b[38;2;248;248;242;48;2;39;40;34mprint\u001b[0m\u001b[38;2;248;248;242;48;2;39;40;34m(\u001b[0m\u001b[38;2;230;219;116;48;2;39;40;34m\"\u001b[0m\u001b[38;2;230;219;116;48;2;39;40;34mTop Results:\u001b[0m\u001b[38;2;230;219;116;48;2;39;40;34m\"\u001b[0m\u001b[38;2;248;248;242;48;2;39;40;34m,\u001b[0m\u001b[38;2;248;248;242;48;2;39;40;34m \u001b[0m\u001b[38;2;248;248;242;48;2;39;40;34mtop_results\u001b[0m\u001b[38;2;248;248;242;48;2;39;40;34m)\u001b[0m\u001b[48;2;39;40;34m                                                                             \u001b[0m  \n",
       " ───────────────────────────────────────────────────────────────────────────────────────────────────────────────── \n"
      ]
     },
     "jetTransient": {
      "display_id": null
     },
     "metadata": {},
     "output_type": "display_data"
    },
    {
     "data": {
      "text/html": [
       "<pre style=\"white-space:pre;overflow-x:auto;line-height:normal;font-family:Menlo,'DejaVu Sans Mono',consolas,'Courier New',monospace\"><span style=\"font-weight: bold\">Execution logs:</span>\n",
       "Search Results: ## Search Results\n",
       "\n",
       "[Building Production -Ready RAG Systems: Best Practices \n",
       "and](https://medium.com/@meeran03/building-production-ready-rag-systems-best-practices-and-latest-tools-581cae9518e\n",
       "7)\n",
       "May 1, 2025 · Building Production-Ready RAG Systems: Best Practices and Latest Tools How to build production-grade \n",
       "Retrieval-Augmented Generation (RAG) systems with the latest …\n",
       "\n",
       "[From Zero to Hero: Proven Methods to Optimize RAG for Production \n",
       "…](https://techcommunity.microsoft.com/blog/azure-ai-foundry-blog/from-zero-to-hero-proven-methods-to-optimize-rag-\n",
       "for-production/4450040)\n",
       "While prototyping RAG models is relatively straightforward, optimizing them for production environments poses \n",
       "unique challenges due to scalability, latency, and robustness requirements. …\n",
       "\n",
       "[Here’s how to build a Production -Ready RAG \n",
       "System](https://ragaboutit.com/heres-how-to-build-a-production-ready-rag-system/)\n",
       "Jun 11, 2025 · Here’s how to build a Production-Ready RAG System Introduction The promise of generative AI is \n",
       "rapidly transforming industries, and at the heart of many practical enterprise …\n",
       "\n",
       "[RAG in Production : Deployment Strategies &amp; Practical ... - \n",
       "Aporia](https://coralogix.com/ai-blog/rag-in-production-deployment-strategies-and-practical-considerations/)\n",
       "Sep 2, 2024 · This article cuts through the noise, offering actionable strategies for scaling RAG systems from \n",
       "development to production. We provide a comprehensive blueprint for building …\n",
       "\n",
       "[Best Practices for Production - Scale RAG Systems — An …](https://orkes.io/blog/rag-best-practices/)\n",
       "Feb 20, 2025 · Learn hands-on the best practices to improve RAG accuracy and response quality: contextual headers, \n",
       "semantic chunks, hybrid search, and reranking.\n",
       "\n",
       "[RAG In Production - Best Practices Notes - Behitek](https://behitek.com/blog/2024/07/18/rag-in-production/)\n",
       "Jul 18, 2024 · When deployed in production, RAG systems can provide more accurate and contextually relevant \n",
       "responses. This guide outlines best practices for implementing RAG models …\n",
       "\n",
       "[Scaling RAG for Real-World Applications - ML \n",
       "Journey](https://mljourney.com/scaling-rag-for-real-world-applications/)\n",
       "Apr 25, 2025 · This architectural framework serves as a flexible template that can evolve with your application’s \n",
       "scale and complexity. Best Practices for Production-Grade RAG 1. Optimize …\n",
       "\n",
       "[Scalable RAG Architecture | Production \n",
       "Design](https://apxml.com/courses/optimizing-rag-for-production/chapter-1-production-rag-foundations/production-rag\n",
       "-architecture-scaling)\n",
       "Review RAG architecture components and design considerations for building scalable systems ready for production \n",
       "workloads.\n",
       "\n",
       "[Production -Ready RAG Systems: End to End \n",
       "Guide](https://www.saumilsrivastava.ai/blog/production-ready-rag-systems-end-to-end-guide)\n",
       "May 16, 2025 · Fig 1. Comparing RAG architectural patterns: Simple, Advanced, and Agentic, each scaling in \n",
       "complexity and capability to meet diverse application needs. Please note that code …\n",
       "\n",
       "[Building Production -Ready RAG Apps: Tips &amp; Tools](https://www.chitika.com/building-production-ready-rag-apps/)\n",
       "Mar 10, 2025 · Building a production-ready RAG application requires the right strategies and tools. This guide \n",
       "covers key best practices, performance optimization, and essential technologies to …\n",
       "Top Results: ['', '[Building Production -Ready RAG Systems: Best Practices \n",
       "and](https://medium.com/@meeran03/building-production-ready-rag-systems-best-practices-and-latest-tools-581cae9518e\n",
       "7)', 'May 1, 2025 · Building Production-Ready RAG Systems: Best Practices and Latest Tools How to build \n",
       "production-grade Retrieval-Augmented Generation (RAG) systems with the latest …']\n",
       "\n",
       "Out: None\n",
       "</pre>\n"
      ],
      "text/plain": [
       "\u001b[1mExecution logs:\u001b[0m\n",
       "Search Results: ## Search Results\n",
       "\n",
       "[Building Production -Ready RAG Systems: Best Practices \n",
       "and](https://medium.com/@meeran03/building-production-ready-rag-systems-best-practices-and-latest-tools-581cae9518e\n",
       "7)\n",
       "May 1, 2025 · Building Production-Ready RAG Systems: Best Practices and Latest Tools How to build production-grade \n",
       "Retrieval-Augmented Generation (RAG) systems with the latest …\n",
       "\n",
       "[From Zero to Hero: Proven Methods to Optimize RAG for Production \n",
       "…](https://techcommunity.microsoft.com/blog/azure-ai-foundry-blog/from-zero-to-hero-proven-methods-to-optimize-rag-\n",
       "for-production/4450040)\n",
       "While prototyping RAG models is relatively straightforward, optimizing them for production environments poses \n",
       "unique challenges due to scalability, latency, and robustness requirements. …\n",
       "\n",
       "[Here’s how to build a Production -Ready RAG \n",
       "System](https://ragaboutit.com/heres-how-to-build-a-production-ready-rag-system/)\n",
       "Jun 11, 2025 · Here’s how to build a Production-Ready RAG System Introduction The promise of generative AI is \n",
       "rapidly transforming industries, and at the heart of many practical enterprise …\n",
       "\n",
       "[RAG in Production : Deployment Strategies & Practical ... - \n",
       "Aporia](https://coralogix.com/ai-blog/rag-in-production-deployment-strategies-and-practical-considerations/)\n",
       "Sep 2, 2024 · This article cuts through the noise, offering actionable strategies for scaling RAG systems from \n",
       "development to production. We provide a comprehensive blueprint for building …\n",
       "\n",
       "[Best Practices for Production - Scale RAG Systems — An …](https://orkes.io/blog/rag-best-practices/)\n",
       "Feb 20, 2025 · Learn hands-on the best practices to improve RAG accuracy and response quality: contextual headers, \n",
       "semantic chunks, hybrid search, and reranking.\n",
       "\n",
       "[RAG In Production - Best Practices Notes - Behitek](https://behitek.com/blog/2024/07/18/rag-in-production/)\n",
       "Jul 18, 2024 · When deployed in production, RAG systems can provide more accurate and contextually relevant \n",
       "responses. This guide outlines best practices for implementing RAG models …\n",
       "\n",
       "[Scaling RAG for Real-World Applications - ML \n",
       "Journey](https://mljourney.com/scaling-rag-for-real-world-applications/)\n",
       "Apr 25, 2025 · This architectural framework serves as a flexible template that can evolve with your application’s \n",
       "scale and complexity. Best Practices for Production-Grade RAG 1. Optimize …\n",
       "\n",
       "[Scalable RAG Architecture | Production \n",
       "Design](https://apxml.com/courses/optimizing-rag-for-production/chapter-1-production-rag-foundations/production-rag\n",
       "-architecture-scaling)\n",
       "Review RAG architecture components and design considerations for building scalable systems ready for production \n",
       "workloads.\n",
       "\n",
       "[Production -Ready RAG Systems: End to End \n",
       "Guide](https://www.saumilsrivastava.ai/blog/production-ready-rag-systems-end-to-end-guide)\n",
       "May 16, 2025 · Fig 1. Comparing RAG architectural patterns: Simple, Advanced, and Agentic, each scaling in \n",
       "complexity and capability to meet diverse application needs. Please note that code …\n",
       "\n",
       "[Building Production -Ready RAG Apps: Tips & Tools](https://www.chitika.com/building-production-ready-rag-apps/)\n",
       "Mar 10, 2025 · Building a production-ready RAG application requires the right strategies and tools. This guide \n",
       "covers key best practices, performance optimization, and essential technologies to …\n",
       "Top Results: ['', '[Building Production -Ready RAG Systems: Best Practices \n",
       "and](https://medium.com/@meeran03/building-production-ready-rag-systems-best-practices-and-latest-tools-581cae9518e\n",
       "7)', 'May 1, 2025 · Building Production-Ready RAG Systems: Best Practices and Latest Tools How to build \n",
       "production-grade Retrieval-Augmented Generation (RAG) systems with the latest …']\n",
       "\n",
       "Out: None\n"
      ]
     },
     "jetTransient": {
      "display_id": null
     },
     "metadata": {},
     "output_type": "display_data"
    },
    {
     "data": {
      "text/html": [
       "<pre style=\"white-space:pre;overflow-x:auto;line-height:normal;font-family:Menlo,'DejaVu Sans Mono',consolas,'Courier New',monospace\"><span style=\"color: #7f7f7f; text-decoration-color: #7f7f7f\">[Step 8: Duration 2.50 seconds| Input tokens: 34,849 | Output tokens: 688]</span>\n",
       "</pre>\n"
      ],
      "text/plain": [
       "\u001b[2m[Step 8: Duration 2.50 seconds| Input tokens: 34,849 | Output tokens: 688]\u001b[0m\n"
      ]
     },
     "jetTransient": {
      "display_id": null
     },
     "metadata": {},
     "output_type": "display_data"
    },
    {
     "data": {
      "text/html": [
       "<pre style=\"white-space:pre;overflow-x:auto;line-height:normal;font-family:Menlo,'DejaVu Sans Mono',consolas,'Courier New',monospace\"><span style=\"color: #d4b702; text-decoration-color: #d4b702\">━━━━━━━━━━━━━━━━━━━━━━━━━━━━━━━━━━━━━━━━━━━━━━━━━━━━━ </span><span style=\"font-weight: bold\">Step 9</span><span style=\"color: #d4b702; text-decoration-color: #d4b702\"> ━━━━━━━━━━━━━━━━━━━━━━━━━━━━━━━━━━━━━━━━━━━━━━━━━━━━━━</span>\n",
       "</pre>\n"
      ],
      "text/plain": [
       "\u001b[38;2;212;183;2m━━━━━━━━━━━━━━━━━━━━━━━━━━━━━━━━━━━━━━━━━━━━━━━━━━━━━ \u001b[0m\u001b[1mStep 9\u001b[0m\u001b[38;2;212;183;2m ━━━━━━━━━━━━━━━━━━━━━━━━━━━━━━━━━━━━━━━━━━━━━━━━━━━━━━\u001b[0m\n"
      ]
     },
     "jetTransient": {
      "display_id": null
     },
     "metadata": {},
     "output_type": "display_data"
    },
    {
     "data": {
      "text/html": [
       "<pre style=\"white-space:pre;overflow-x:auto;line-height:normal;font-family:Menlo,'DejaVu Sans Mono',consolas,'Courier New',monospace\"> ─ <span style=\"font-weight: bold\">Executing parsed code:</span> ──────────────────────────────────────────────────────────────────────────────────────── \n",
       "  <span style=\"color: #f8f8f2; text-decoration-color: #f8f8f2; background-color: #272822\">search_results </span><span style=\"color: #ff4689; text-decoration-color: #ff4689; background-color: #272822\">=</span><span style=\"color: #f8f8f2; text-decoration-color: #f8f8f2; background-color: #272822\"> web_search(query</span><span style=\"color: #ff4689; text-decoration-color: #ff4689; background-color: #272822\">=</span><span style=\"color: #e6db74; text-decoration-color: #e6db74; background-color: #272822\">\"best practices for scaling production rag application\"</span><span style=\"color: #f8f8f2; text-decoration-color: #f8f8f2; background-color: #272822\">)</span><span style=\"background-color: #272822\">                     </span>  \n",
       "  <span style=\"color: #f8f8f2; text-decoration-color: #f8f8f2; background-color: #272822\">print(</span><span style=\"color: #e6db74; text-decoration-color: #e6db74; background-color: #272822\">\"Search Results:\"</span><span style=\"color: #f8f8f2; text-decoration-color: #f8f8f2; background-color: #272822\">, search_results)</span><span style=\"background-color: #272822\">                                                                       </span>  \n",
       "  <span style=\"background-color: #272822\">                                                                                                               </span>  \n",
       "  <span style=\"color: #959077; text-decoration-color: #959077; background-color: #272822\"># Manually inspecting the search results</span><span style=\"background-color: #272822\">                                                                       </span>  \n",
       "  <span style=\"color: #66d9ef; text-decoration-color: #66d9ef; background-color: #272822\">if</span><span style=\"color: #f8f8f2; text-decoration-color: #f8f8f2; background-color: #272822\"> isinstance(search_results, str):</span><span style=\"background-color: #272822\">                                                                            </span>  \n",
       "  <span style=\"color: #f8f8f2; text-decoration-color: #f8f8f2; background-color: #272822\">    search_results </span><span style=\"color: #ff4689; text-decoration-color: #ff4689; background-color: #272822\">=</span><span style=\"color: #f8f8f2; text-decoration-color: #f8f8f2; background-color: #272822\"> search_results</span><span style=\"color: #ff4689; text-decoration-color: #ff4689; background-color: #272822\">.</span><span style=\"color: #f8f8f2; text-decoration-color: #f8f8f2; background-color: #272822\">split(</span><span style=\"color: #e6db74; text-decoration-color: #e6db74; background-color: #272822\">'</span><span style=\"color: #ae81ff; text-decoration-color: #ae81ff; background-color: #272822\">\\n</span><span style=\"color: #e6db74; text-decoration-color: #e6db74; background-color: #272822\">'</span><span style=\"color: #f8f8f2; text-decoration-color: #f8f8f2; background-color: #272822\">)</span><span style=\"background-color: #272822\">                                                                </span>  \n",
       "  <span style=\"color: #f8f8f2; text-decoration-color: #f8f8f2; background-color: #272822\">    </span><span style=\"color: #959077; text-decoration-color: #959077; background-color: #272822\"># Filter out empty lines and lines that do not start with '['</span><span style=\"background-color: #272822\">                                              </span>  \n",
       "  <span style=\"color: #f8f8f2; text-decoration-color: #f8f8f2; background-color: #272822\">    search_results </span><span style=\"color: #ff4689; text-decoration-color: #ff4689; background-color: #272822\">=</span><span style=\"color: #f8f8f2; text-decoration-color: #f8f8f2; background-color: #272822\"> [line </span><span style=\"color: #66d9ef; text-decoration-color: #66d9ef; background-color: #272822\">for</span><span style=\"color: #f8f8f2; text-decoration-color: #f8f8f2; background-color: #272822\"> line </span><span style=\"color: #ff4689; text-decoration-color: #ff4689; background-color: #272822\">in</span><span style=\"color: #f8f8f2; text-decoration-color: #f8f8f2; background-color: #272822\"> search_results </span><span style=\"color: #66d9ef; text-decoration-color: #66d9ef; background-color: #272822\">if</span><span style=\"color: #f8f8f2; text-decoration-color: #f8f8f2; background-color: #272822\"> line</span><span style=\"color: #ff4689; text-decoration-color: #ff4689; background-color: #272822\">.</span><span style=\"color: #f8f8f2; text-decoration-color: #f8f8f2; background-color: #272822\">strip() </span><span style=\"color: #ff4689; text-decoration-color: #ff4689; background-color: #272822\">and</span><span style=\"color: #f8f8f2; text-decoration-color: #f8f8f2; background-color: #272822\"> line</span><span style=\"color: #ff4689; text-decoration-color: #ff4689; background-color: #272822\">.</span><span style=\"color: #f8f8f2; text-decoration-color: #f8f8f2; background-color: #272822\">strip()</span><span style=\"color: #ff4689; text-decoration-color: #ff4689; background-color: #272822\">.</span><span style=\"color: #f8f8f2; text-decoration-color: #f8f8f2; background-color: #272822\">startswith(</span><span style=\"color: #e6db74; text-decoration-color: #e6db74; background-color: #272822\">'['</span><span style=\"color: #f8f8f2; text-decoration-color: #f8f8f2; background-color: #272822\">)]</span><span style=\"background-color: #272822\">        </span>  \n",
       "  <span style=\"color: #f8f8f2; text-decoration-color: #f8f8f2; background-color: #272822\">    top_results </span><span style=\"color: #ff4689; text-decoration-color: #ff4689; background-color: #272822\">=</span><span style=\"color: #f8f8f2; text-decoration-color: #f8f8f2; background-color: #272822\"> search_results[:</span><span style=\"color: #ae81ff; text-decoration-color: #ae81ff; background-color: #272822\">3</span><span style=\"color: #f8f8f2; text-decoration-color: #f8f8f2; background-color: #272822\">]  </span><span style=\"color: #959077; text-decoration-color: #959077; background-color: #272822\"># Get the top 3 results</span><span style=\"background-color: #272822\">                                                  </span>  \n",
       "  <span style=\"color: #66d9ef; text-decoration-color: #66d9ef; background-color: #272822\">else</span><span style=\"color: #f8f8f2; text-decoration-color: #f8f8f2; background-color: #272822\">:</span><span style=\"background-color: #272822\">                                                                                                          </span>  \n",
       "  <span style=\"color: #f8f8f2; text-decoration-color: #f8f8f2; background-color: #272822\">    top_results </span><span style=\"color: #ff4689; text-decoration-color: #ff4689; background-color: #272822\">=</span><span style=\"color: #f8f8f2; text-decoration-color: #f8f8f2; background-color: #272822\"> []</span><span style=\"background-color: #272822\">                                                                                           </span>  \n",
       "  <span style=\"background-color: #272822\">                                                                                                               </span>  \n",
       "  <span style=\"color: #f8f8f2; text-decoration-color: #f8f8f2; background-color: #272822\">print(</span><span style=\"color: #e6db74; text-decoration-color: #e6db74; background-color: #272822\">\"Top Results:\"</span><span style=\"color: #f8f8f2; text-decoration-color: #f8f8f2; background-color: #272822\">, top_results)</span><span style=\"background-color: #272822\">                                                                             </span>  \n",
       " ───────────────────────────────────────────────────────────────────────────────────────────────────────────────── \n",
       "</pre>\n"
      ],
      "text/plain": [
       " ─ \u001b[1mExecuting parsed code:\u001b[0m ──────────────────────────────────────────────────────────────────────────────────────── \n",
       "  \u001b[38;2;248;248;242;48;2;39;40;34msearch_results\u001b[0m\u001b[38;2;248;248;242;48;2;39;40;34m \u001b[0m\u001b[38;2;255;70;137;48;2;39;40;34m=\u001b[0m\u001b[38;2;248;248;242;48;2;39;40;34m \u001b[0m\u001b[38;2;248;248;242;48;2;39;40;34mweb_search\u001b[0m\u001b[38;2;248;248;242;48;2;39;40;34m(\u001b[0m\u001b[38;2;248;248;242;48;2;39;40;34mquery\u001b[0m\u001b[38;2;255;70;137;48;2;39;40;34m=\u001b[0m\u001b[38;2;230;219;116;48;2;39;40;34m\"\u001b[0m\u001b[38;2;230;219;116;48;2;39;40;34mbest practices for scaling production rag application\u001b[0m\u001b[38;2;230;219;116;48;2;39;40;34m\"\u001b[0m\u001b[38;2;248;248;242;48;2;39;40;34m)\u001b[0m\u001b[48;2;39;40;34m                     \u001b[0m  \n",
       "  \u001b[38;2;248;248;242;48;2;39;40;34mprint\u001b[0m\u001b[38;2;248;248;242;48;2;39;40;34m(\u001b[0m\u001b[38;2;230;219;116;48;2;39;40;34m\"\u001b[0m\u001b[38;2;230;219;116;48;2;39;40;34mSearch Results:\u001b[0m\u001b[38;2;230;219;116;48;2;39;40;34m\"\u001b[0m\u001b[38;2;248;248;242;48;2;39;40;34m,\u001b[0m\u001b[38;2;248;248;242;48;2;39;40;34m \u001b[0m\u001b[38;2;248;248;242;48;2;39;40;34msearch_results\u001b[0m\u001b[38;2;248;248;242;48;2;39;40;34m)\u001b[0m\u001b[48;2;39;40;34m                                                                       \u001b[0m  \n",
       "  \u001b[48;2;39;40;34m                                                                                                               \u001b[0m  \n",
       "  \u001b[38;2;149;144;119;48;2;39;40;34m# Manually inspecting the search results\u001b[0m\u001b[48;2;39;40;34m                                                                       \u001b[0m  \n",
       "  \u001b[38;2;102;217;239;48;2;39;40;34mif\u001b[0m\u001b[38;2;248;248;242;48;2;39;40;34m \u001b[0m\u001b[38;2;248;248;242;48;2;39;40;34misinstance\u001b[0m\u001b[38;2;248;248;242;48;2;39;40;34m(\u001b[0m\u001b[38;2;248;248;242;48;2;39;40;34msearch_results\u001b[0m\u001b[38;2;248;248;242;48;2;39;40;34m,\u001b[0m\u001b[38;2;248;248;242;48;2;39;40;34m \u001b[0m\u001b[38;2;248;248;242;48;2;39;40;34mstr\u001b[0m\u001b[38;2;248;248;242;48;2;39;40;34m)\u001b[0m\u001b[38;2;248;248;242;48;2;39;40;34m:\u001b[0m\u001b[48;2;39;40;34m                                                                            \u001b[0m  \n",
       "  \u001b[38;2;248;248;242;48;2;39;40;34m    \u001b[0m\u001b[38;2;248;248;242;48;2;39;40;34msearch_results\u001b[0m\u001b[38;2;248;248;242;48;2;39;40;34m \u001b[0m\u001b[38;2;255;70;137;48;2;39;40;34m=\u001b[0m\u001b[38;2;248;248;242;48;2;39;40;34m \u001b[0m\u001b[38;2;248;248;242;48;2;39;40;34msearch_results\u001b[0m\u001b[38;2;255;70;137;48;2;39;40;34m.\u001b[0m\u001b[38;2;248;248;242;48;2;39;40;34msplit\u001b[0m\u001b[38;2;248;248;242;48;2;39;40;34m(\u001b[0m\u001b[38;2;230;219;116;48;2;39;40;34m'\u001b[0m\u001b[38;2;174;129;255;48;2;39;40;34m\\n\u001b[0m\u001b[38;2;230;219;116;48;2;39;40;34m'\u001b[0m\u001b[38;2;248;248;242;48;2;39;40;34m)\u001b[0m\u001b[48;2;39;40;34m                                                                \u001b[0m  \n",
       "  \u001b[38;2;248;248;242;48;2;39;40;34m    \u001b[0m\u001b[38;2;149;144;119;48;2;39;40;34m# Filter out empty lines and lines that do not start with '['\u001b[0m\u001b[48;2;39;40;34m                                              \u001b[0m  \n",
       "  \u001b[38;2;248;248;242;48;2;39;40;34m    \u001b[0m\u001b[38;2;248;248;242;48;2;39;40;34msearch_results\u001b[0m\u001b[38;2;248;248;242;48;2;39;40;34m \u001b[0m\u001b[38;2;255;70;137;48;2;39;40;34m=\u001b[0m\u001b[38;2;248;248;242;48;2;39;40;34m \u001b[0m\u001b[38;2;248;248;242;48;2;39;40;34m[\u001b[0m\u001b[38;2;248;248;242;48;2;39;40;34mline\u001b[0m\u001b[38;2;248;248;242;48;2;39;40;34m \u001b[0m\u001b[38;2;102;217;239;48;2;39;40;34mfor\u001b[0m\u001b[38;2;248;248;242;48;2;39;40;34m \u001b[0m\u001b[38;2;248;248;242;48;2;39;40;34mline\u001b[0m\u001b[38;2;248;248;242;48;2;39;40;34m \u001b[0m\u001b[38;2;255;70;137;48;2;39;40;34min\u001b[0m\u001b[38;2;248;248;242;48;2;39;40;34m \u001b[0m\u001b[38;2;248;248;242;48;2;39;40;34msearch_results\u001b[0m\u001b[38;2;248;248;242;48;2;39;40;34m \u001b[0m\u001b[38;2;102;217;239;48;2;39;40;34mif\u001b[0m\u001b[38;2;248;248;242;48;2;39;40;34m \u001b[0m\u001b[38;2;248;248;242;48;2;39;40;34mline\u001b[0m\u001b[38;2;255;70;137;48;2;39;40;34m.\u001b[0m\u001b[38;2;248;248;242;48;2;39;40;34mstrip\u001b[0m\u001b[38;2;248;248;242;48;2;39;40;34m(\u001b[0m\u001b[38;2;248;248;242;48;2;39;40;34m)\u001b[0m\u001b[38;2;248;248;242;48;2;39;40;34m \u001b[0m\u001b[38;2;255;70;137;48;2;39;40;34mand\u001b[0m\u001b[38;2;248;248;242;48;2;39;40;34m \u001b[0m\u001b[38;2;248;248;242;48;2;39;40;34mline\u001b[0m\u001b[38;2;255;70;137;48;2;39;40;34m.\u001b[0m\u001b[38;2;248;248;242;48;2;39;40;34mstrip\u001b[0m\u001b[38;2;248;248;242;48;2;39;40;34m(\u001b[0m\u001b[38;2;248;248;242;48;2;39;40;34m)\u001b[0m\u001b[38;2;255;70;137;48;2;39;40;34m.\u001b[0m\u001b[38;2;248;248;242;48;2;39;40;34mstartswith\u001b[0m\u001b[38;2;248;248;242;48;2;39;40;34m(\u001b[0m\u001b[38;2;230;219;116;48;2;39;40;34m'\u001b[0m\u001b[38;2;230;219;116;48;2;39;40;34m[\u001b[0m\u001b[38;2;230;219;116;48;2;39;40;34m'\u001b[0m\u001b[38;2;248;248;242;48;2;39;40;34m)\u001b[0m\u001b[38;2;248;248;242;48;2;39;40;34m]\u001b[0m\u001b[48;2;39;40;34m        \u001b[0m  \n",
       "  \u001b[38;2;248;248;242;48;2;39;40;34m    \u001b[0m\u001b[38;2;248;248;242;48;2;39;40;34mtop_results\u001b[0m\u001b[38;2;248;248;242;48;2;39;40;34m \u001b[0m\u001b[38;2;255;70;137;48;2;39;40;34m=\u001b[0m\u001b[38;2;248;248;242;48;2;39;40;34m \u001b[0m\u001b[38;2;248;248;242;48;2;39;40;34msearch_results\u001b[0m\u001b[38;2;248;248;242;48;2;39;40;34m[\u001b[0m\u001b[38;2;248;248;242;48;2;39;40;34m:\u001b[0m\u001b[38;2;174;129;255;48;2;39;40;34m3\u001b[0m\u001b[38;2;248;248;242;48;2;39;40;34m]\u001b[0m\u001b[38;2;248;248;242;48;2;39;40;34m  \u001b[0m\u001b[38;2;149;144;119;48;2;39;40;34m# Get the top 3 results\u001b[0m\u001b[48;2;39;40;34m                                                  \u001b[0m  \n",
       "  \u001b[38;2;102;217;239;48;2;39;40;34melse\u001b[0m\u001b[38;2;248;248;242;48;2;39;40;34m:\u001b[0m\u001b[48;2;39;40;34m                                                                                                          \u001b[0m  \n",
       "  \u001b[38;2;248;248;242;48;2;39;40;34m    \u001b[0m\u001b[38;2;248;248;242;48;2;39;40;34mtop_results\u001b[0m\u001b[38;2;248;248;242;48;2;39;40;34m \u001b[0m\u001b[38;2;255;70;137;48;2;39;40;34m=\u001b[0m\u001b[38;2;248;248;242;48;2;39;40;34m \u001b[0m\u001b[38;2;248;248;242;48;2;39;40;34m[\u001b[0m\u001b[38;2;248;248;242;48;2;39;40;34m]\u001b[0m\u001b[48;2;39;40;34m                                                                                           \u001b[0m  \n",
       "  \u001b[48;2;39;40;34m                                                                                                               \u001b[0m  \n",
       "  \u001b[38;2;248;248;242;48;2;39;40;34mprint\u001b[0m\u001b[38;2;248;248;242;48;2;39;40;34m(\u001b[0m\u001b[38;2;230;219;116;48;2;39;40;34m\"\u001b[0m\u001b[38;2;230;219;116;48;2;39;40;34mTop Results:\u001b[0m\u001b[38;2;230;219;116;48;2;39;40;34m\"\u001b[0m\u001b[38;2;248;248;242;48;2;39;40;34m,\u001b[0m\u001b[38;2;248;248;242;48;2;39;40;34m \u001b[0m\u001b[38;2;248;248;242;48;2;39;40;34mtop_results\u001b[0m\u001b[38;2;248;248;242;48;2;39;40;34m)\u001b[0m\u001b[48;2;39;40;34m                                                                             \u001b[0m  \n",
       " ───────────────────────────────────────────────────────────────────────────────────────────────────────────────── \n"
      ]
     },
     "jetTransient": {
      "display_id": null
     },
     "metadata": {},
     "output_type": "display_data"
    },
    {
     "data": {
      "text/html": [
       "<pre style=\"white-space:pre;overflow-x:auto;line-height:normal;font-family:Menlo,'DejaVu Sans Mono',consolas,'Courier New',monospace\"><span style=\"font-weight: bold\">Execution logs:</span>\n",
       "Search Results: ## Search Results\n",
       "\n",
       "[Building Performant RAG Applications for Production - \n",
       "LlamaIndex](https://docs.llamaindex.ai/en/stable/optimizing/production_rag/)\n",
       "General Techniques for Building Production -Grade RAG .Prototyping a RAG application is easy, but making it \n",
       "performant, robust, and scalable to a large knowledge corpus is hard. This guide contains a variety of tips and \n",
       "tricks to improve the performance of your RAG workflow.\n",
       "\n",
       "[Essential Guide to RAG App Development with OpenAI and \n",
       "Anyscale](https://myscale.com/blog/beginners-guide-rag-app-development-openai-anyscale/)\n",
       "# Best Practices for Scaling with Anyscale. When scaling your RAG app with Anyscale, it's essential to adhere to \n",
       "best practices that maximize efficiency and effectiveness.\n",
       "\n",
       "[Practical Tips and Tricks for Developers Building RAG \n",
       "Applications](https://pub.towardsai.net/practical-tips-and-tricks-for-developers-building-rag-applications-6d3354b5\n",
       "2735)\n",
       "By following these best practices , you’ll be well on your way to building a robust and efficient vector \n",
       "search-powered application .Plan for Scalability. Once you have found success with your MVP RAG application , it’s \n",
       "time to start preparing for production deployment.\n",
       "\n",
       "[How to Take a RAG Application from Pilot to Production in Four \n",
       "Steps](https://developer.nvidia.com/blog/how-to-take-a-rag-application-from-pilot-to-production-in-four-steps/)\n",
       "Building production RAG applications requires collaboration between many stakeholders.To hear about the latest \n",
       "innovations and best practices for building RAG applications , check out the retrieval-augmented generation \n",
       "sessions from NVIDIA GTC 2024.\n",
       "\n",
       "[What No One Tells You About Building RAG Systems for... | \n",
       "Medium](https://medium.com/@amdj3dax/building-rag-systems-in-production-the-hard-won-lessons-nobody-talks-about-71d\n",
       "b252e5e3e)\n",
       "Uncover the hidden challenges and practical solutions for implementing RAG at scale in real-world enterprise \n",
       "environments.Key lessons from building a production -grade RAG system — where data quality, retrieval strategies, \n",
       "and smart technical choices matter more than the LLM itself.\n",
       "\n",
       "[How to Build a Production -Ready RAG System \n",
       "with...](https://ragaboutit.com/how-to-build-a-production-ready-rag-system-with-deepseek-v3-the-complete-open-sourc\n",
       "e-enterprise-implementation-guide/)\n",
       "In practical RAG scenarios, DeepSeek-V3 demonstrates remarkable consistency. Production Deployment and Scaling \n",
       "Strategies. Moving from development to production requires addressing performance, reliability, and security \n",
       "concerns that don’t exist in prototype environments.\n",
       "\n",
       "[3 Best Practices to Improve RAG \n",
       "Performance](https://www.data-mania-hub.com/p/3-best-practices-to-improve-rag-performance)\n",
       "There are several straightforward best practices you can put into place to improve RAG performance, so that the AI \n",
       "applications you build are actually helpful to other people in real life.\n",
       "\n",
       "[Understanding What Matters for LLM Ingestion and... | \n",
       "Unstructured](https://unstructured.io/blog/understanding-what-matters-for-llm-ingestion-and-preprocessing?modal=con\n",
       "tact-sales)\n",
       "LLM ingestion and preprocessing for RAG -architectures is complex and incredibly challenging in production \n",
       "settings. It involves not just converting files into RAG -ready formats but also requires orchestrating entire \n",
       "workflow automations to operate at scale .\n",
       "\n",
       "[Evaluating and Optimizing RAG Agents with Azure AI Foundry: Best \n",
       "...](https://techcommunity.microsoft.com/blog/azure-ai-foundry-blog/the-future-of-ai-evaluating-and-optimizing-cust\n",
       "om-rag-agents-using-azure-ai-foun/4455215)\n",
       "Best Practice 1: Evaluate your RAG App . Complex queries are a common scenario for RAG -powered agents. In both \n",
       "principle and practice , agentic RAG is an advanced RAG pattern compared to traditional RAG patterns in agentic \n",
       "scenarios.\n",
       "\n",
       "[Don’t make this “data mess” mistakes with Langchain and \n",
       "RAG](https://readmedium.com/dont-make-this-data-mess-mistakes-with-langchain-and-rag-a07f813c21e9)\n",
       "The Productionalization Conundrum: Scaling an application from prototype to production comes with its own set of \n",
       "challenges. The key issues here are handling failures, retries, ensuring scalability, and syncing data sources \n",
       "periodically.\n",
       "Top Results: ['[Building Performant RAG Applications for Production - \n",
       "LlamaIndex](https://docs.llamaindex.ai/en/stable/optimizing/production_rag/)', '[Essential Guide to RAG App \n",
       "Development with OpenAI and \n",
       "Anyscale](https://myscale.com/blog/beginners-guide-rag-app-development-openai-anyscale/)', '[Practical Tips and \n",
       "Tricks for Developers Building RAG \n",
       "Applications](https://pub.towardsai.net/practical-tips-and-tricks-for-developers-building-rag-applications-6d3354b5\n",
       "2735)']\n",
       "\n",
       "Out: None\n",
       "</pre>\n"
      ],
      "text/plain": [
       "\u001b[1mExecution logs:\u001b[0m\n",
       "Search Results: ## Search Results\n",
       "\n",
       "[Building Performant RAG Applications for Production - \n",
       "LlamaIndex](https://docs.llamaindex.ai/en/stable/optimizing/production_rag/)\n",
       "General Techniques for Building Production -Grade RAG .Prototyping a RAG application is easy, but making it \n",
       "performant, robust, and scalable to a large knowledge corpus is hard. This guide contains a variety of tips and \n",
       "tricks to improve the performance of your RAG workflow.\n",
       "\n",
       "[Essential Guide to RAG App Development with OpenAI and \n",
       "Anyscale](https://myscale.com/blog/beginners-guide-rag-app-development-openai-anyscale/)\n",
       "# Best Practices for Scaling with Anyscale. When scaling your RAG app with Anyscale, it's essential to adhere to \n",
       "best practices that maximize efficiency and effectiveness.\n",
       "\n",
       "[Practical Tips and Tricks for Developers Building RAG \n",
       "Applications](https://pub.towardsai.net/practical-tips-and-tricks-for-developers-building-rag-applications-6d3354b5\n",
       "2735)\n",
       "By following these best practices , you’ll be well on your way to building a robust and efficient vector \n",
       "search-powered application .Plan for Scalability. Once you have found success with your MVP RAG application , it’s \n",
       "time to start preparing for production deployment.\n",
       "\n",
       "[How to Take a RAG Application from Pilot to Production in Four \n",
       "Steps](https://developer.nvidia.com/blog/how-to-take-a-rag-application-from-pilot-to-production-in-four-steps/)\n",
       "Building production RAG applications requires collaboration between many stakeholders.To hear about the latest \n",
       "innovations and best practices for building RAG applications , check out the retrieval-augmented generation \n",
       "sessions from NVIDIA GTC 2024.\n",
       "\n",
       "[What No One Tells You About Building RAG Systems for... | \n",
       "Medium](https://medium.com/@amdj3dax/building-rag-systems-in-production-the-hard-won-lessons-nobody-talks-about-71d\n",
       "b252e5e3e)\n",
       "Uncover the hidden challenges and practical solutions for implementing RAG at scale in real-world enterprise \n",
       "environments.Key lessons from building a production -grade RAG system — where data quality, retrieval strategies, \n",
       "and smart technical choices matter more than the LLM itself.\n",
       "\n",
       "[How to Build a Production -Ready RAG System \n",
       "with...](https://ragaboutit.com/how-to-build-a-production-ready-rag-system-with-deepseek-v3-the-complete-open-sourc\n",
       "e-enterprise-implementation-guide/)\n",
       "In practical RAG scenarios, DeepSeek-V3 demonstrates remarkable consistency. Production Deployment and Scaling \n",
       "Strategies. Moving from development to production requires addressing performance, reliability, and security \n",
       "concerns that don’t exist in prototype environments.\n",
       "\n",
       "[3 Best Practices to Improve RAG \n",
       "Performance](https://www.data-mania-hub.com/p/3-best-practices-to-improve-rag-performance)\n",
       "There are several straightforward best practices you can put into place to improve RAG performance, so that the AI \n",
       "applications you build are actually helpful to other people in real life.\n",
       "\n",
       "[Understanding What Matters for LLM Ingestion and... | \n",
       "Unstructured](https://unstructured.io/blog/understanding-what-matters-for-llm-ingestion-and-preprocessing?modal=con\n",
       "tact-sales)\n",
       "LLM ingestion and preprocessing for RAG -architectures is complex and incredibly challenging in production \n",
       "settings. It involves not just converting files into RAG -ready formats but also requires orchestrating entire \n",
       "workflow automations to operate at scale .\n",
       "\n",
       "[Evaluating and Optimizing RAG Agents with Azure AI Foundry: Best \n",
       "...](https://techcommunity.microsoft.com/blog/azure-ai-foundry-blog/the-future-of-ai-evaluating-and-optimizing-cust\n",
       "om-rag-agents-using-azure-ai-foun/4455215)\n",
       "Best Practice 1: Evaluate your RAG App . Complex queries are a common scenario for RAG -powered agents. In both \n",
       "principle and practice , agentic RAG is an advanced RAG pattern compared to traditional RAG patterns in agentic \n",
       "scenarios.\n",
       "\n",
       "[Don’t make this “data mess” mistakes with Langchain and \n",
       "RAG](https://readmedium.com/dont-make-this-data-mess-mistakes-with-langchain-and-rag-a07f813c21e9)\n",
       "The Productionalization Conundrum: Scaling an application from prototype to production comes with its own set of \n",
       "challenges. The key issues here are handling failures, retries, ensuring scalability, and syncing data sources \n",
       "periodically.\n",
       "Top Results: ['[Building Performant RAG Applications for Production - \n",
       "LlamaIndex](https://docs.llamaindex.ai/en/stable/optimizing/production_rag/)', '[Essential Guide to RAG App \n",
       "Development with OpenAI and \n",
       "Anyscale](https://myscale.com/blog/beginners-guide-rag-app-development-openai-anyscale/)', '[Practical Tips and \n",
       "Tricks for Developers Building RAG \n",
       "Applications](https://pub.towardsai.net/practical-tips-and-tricks-for-developers-building-rag-applications-6d3354b5\n",
       "2735)']\n",
       "\n",
       "Out: None\n"
      ]
     },
     "jetTransient": {
      "display_id": null
     },
     "metadata": {},
     "output_type": "display_data"
    },
    {
     "data": {
      "text/html": [
       "<pre style=\"white-space:pre;overflow-x:auto;line-height:normal;font-family:Menlo,'DejaVu Sans Mono',consolas,'Courier New',monospace\"><span style=\"color: #7f7f7f; text-decoration-color: #7f7f7f\">[Step 9: Duration 3.85 seconds| Input tokens: 42,182 | Output tokens: 849]</span>\n",
       "</pre>\n"
      ],
      "text/plain": [
       "\u001b[2m[Step 9: Duration 3.85 seconds| Input tokens: 42,182 | Output tokens: 849]\u001b[0m\n"
      ]
     },
     "jetTransient": {
      "display_id": null
     },
     "metadata": {},
     "output_type": "display_data"
    },
    {
     "data": {
      "text/html": [
       "<pre style=\"white-space:pre;overflow-x:auto;line-height:normal;font-family:Menlo,'DejaVu Sans Mono',consolas,'Courier New',monospace\"><span style=\"color: #d4b702; text-decoration-color: #d4b702\">━━━━━━━━━━━━━━━━━━━━━━━━━━━━━━━━━━━━━━━━━━━━━━━━━━━━━ </span><span style=\"font-weight: bold\">Step 10</span><span style=\"color: #d4b702; text-decoration-color: #d4b702\"> ━━━━━━━━━━━━━━━━━━━━━━━━━━━━━━━━━━━━━━━━━━━━━━━━━━━━━</span>\n",
       "</pre>\n"
      ],
      "text/plain": [
       "\u001b[38;2;212;183;2m━━━━━━━━━━━━━━━━━━━━━━━━━━━━━━━━━━━━━━━━━━━━━━━━━━━━━ \u001b[0m\u001b[1mStep 10\u001b[0m\u001b[38;2;212;183;2m ━━━━━━━━━━━━━━━━━━━━━━━━━━━━━━━━━━━━━━━━━━━━━━━━━━━━━\u001b[0m\n"
      ]
     },
     "jetTransient": {
      "display_id": null
     },
     "metadata": {},
     "output_type": "display_data"
    },
    {
     "data": {
      "text/html": [
       "<pre style=\"white-space:pre;overflow-x:auto;line-height:normal;font-family:Menlo,'DejaVu Sans Mono',consolas,'Courier New',monospace\"> ─ <span style=\"font-weight: bold\">Executing parsed code:</span> ──────────────────────────────────────────────────────────────────────────────────────── \n",
       "  <span style=\"color: #f8f8f2; text-decoration-color: #f8f8f2; background-color: #272822\">final_answer(</span><span style=\"color: #e6db74; text-decoration-color: #e6db74; background-color: #272822\">\"Essential Guide to RAG App Development with OpenAI and Anyscale\"</span><span style=\"color: #f8f8f2; text-decoration-color: #f8f8f2; background-color: #272822\">)</span><span style=\"background-color: #272822\">                                </span>  \n",
       " ───────────────────────────────────────────────────────────────────────────────────────────────────────────────── \n",
       "</pre>\n"
      ],
      "text/plain": [
       " ─ \u001b[1mExecuting parsed code:\u001b[0m ──────────────────────────────────────────────────────────────────────────────────────── \n",
       "  \u001b[38;2;248;248;242;48;2;39;40;34mfinal_answer\u001b[0m\u001b[38;2;248;248;242;48;2;39;40;34m(\u001b[0m\u001b[38;2;230;219;116;48;2;39;40;34m\"\u001b[0m\u001b[38;2;230;219;116;48;2;39;40;34mEssential Guide to RAG App Development with OpenAI and Anyscale\u001b[0m\u001b[38;2;230;219;116;48;2;39;40;34m\"\u001b[0m\u001b[38;2;248;248;242;48;2;39;40;34m)\u001b[0m\u001b[48;2;39;40;34m                                \u001b[0m  \n",
       " ───────────────────────────────────────────────────────────────────────────────────────────────────────────────── \n"
      ]
     },
     "jetTransient": {
      "display_id": null
     },
     "metadata": {},
     "output_type": "display_data"
    },
    {
     "data": {
      "text/html": [
       "<pre style=\"white-space:pre;overflow-x:auto;line-height:normal;font-family:Menlo,'DejaVu Sans Mono',consolas,'Courier New',monospace\"></pre>\n"
      ],
      "text/plain": []
     },
     "jetTransient": {
      "display_id": null
     },
     "metadata": {},
     "output_type": "display_data"
    },
    {
     "data": {
      "text/html": [
       "<pre style=\"white-space:pre;overflow-x:auto;line-height:normal;font-family:Menlo,'DejaVu Sans Mono',consolas,'Courier New',monospace\"><span style=\"color: #d4b702; text-decoration-color: #d4b702; font-weight: bold\">Final answer: Essential Guide to RAG App Development with OpenAI and Anyscale</span>\n",
       "</pre>\n"
      ],
      "text/plain": [
       "\u001b[1;38;2;212;183;2mFinal answer: Essential Guide to RAG App Development with OpenAI and Anyscale\u001b[0m\n"
      ]
     },
     "jetTransient": {
      "display_id": null
     },
     "metadata": {},
     "output_type": "display_data"
    },
    {
     "data": {
      "text/html": [
       "<pre style=\"white-space:pre;overflow-x:auto;line-height:normal;font-family:Menlo,'DejaVu Sans Mono',consolas,'Courier New',monospace\"><span style=\"color: #7f7f7f; text-decoration-color: #7f7f7f\">[Step 10: Duration 3.28 seconds| Input tokens: 50,907 | Output tokens: 1,076]</span>\n",
       "</pre>\n"
      ],
      "text/plain": [
       "\u001b[2m[Step 10: Duration 3.28 seconds| Input tokens: 50,907 | Output tokens: 1,076]\u001b[0m\n"
      ]
     },
     "jetTransient": {
      "display_id": null
     },
     "metadata": {},
     "output_type": "display_data"
    },
    {
     "data": {
      "text/plain": [
       "'Essential Guide to RAG App Development with OpenAI and Anyscale'"
      ]
     },
     "execution_count": 14,
     "metadata": {},
     "output_type": "execute_result"
    }
   ],
   "source": [
    "agent_reg.run(\n",
    "\t\"I want to scale my production rag application, what is the best resource to learn and implement for my company.\"\n",
    ")"
   ]
  },
  {
   "cell_type": "markdown",
   "id": "48913a035f7b81f6",
   "metadata": {},
   "source": [
    "## Let's try the same with toolagent now\n",
    "- it will interact with `json` for input output and communication"
   ]
  },
  {
   "cell_type": "code",
   "execution_count": 15,
   "id": "8fd332c782c48ada",
   "metadata": {
    "ExecuteTime": {
     "end_time": "2025-09-22T12:45:35.537185Z",
     "start_time": "2025-09-22T12:45:35.535241Z"
    }
   },
   "outputs": [],
   "source": [
    "from smolagents import ToolCallingAgent, DuckDuckGoSearchTool, InferenceClientModel"
   ]
  },
  {
   "cell_type": "code",
   "execution_count": 17,
   "id": "21d8432c08e4f995",
   "metadata": {
    "ExecuteTime": {
     "end_time": "2025-09-22T12:47:45.513589Z",
     "start_time": "2025-09-22T12:47:45.504330Z"
    }
   },
   "outputs": [],
   "source": [
    "tool_agent_reg = ToolCallingAgent(\n",
    "\ttools=[DuckDuckGoSearchTool()],\n",
    "\tmodel=InferenceClientModel(\n",
    "\t\tprovider=\"together\", api_key=os.getenv(\"HF_WRITE_TOKEN\")\n",
    "\t),\n",
    ")"
   ]
  },
  {
   "cell_type": "code",
   "execution_count": 19,
   "id": "4a80467be487b989",
   "metadata": {
    "ExecuteTime": {
     "end_time": "2025-09-22T12:48:35.731443Z",
     "start_time": "2025-09-22T12:48:35.722671Z"
    }
   },
   "outputs": [],
   "source": [
    "tool_agent = ToolCallingAgent(\n",
    "\ttools=[DuckDuckGoSearchTool()],\n",
    "\tmodel=InferenceClientModel(\n",
    "\t\tprovider=\"together\",\n",
    "\t\tmodel_id=\"Qwen/Qwen3-Next-80B-A3B-Instruct\",\n",
    "\t\tapi_key=os.getenv(\"HF_WRITE_TOKEN\"),\n",
    "\t),\n",
    ")"
   ]
  },
  {
   "cell_type": "code",
   "execution_count": 20,
   "id": "5d0249b71b8bc430",
   "metadata": {
    "ExecuteTime": {
     "end_time": "2025-09-22T12:50:13.815839Z",
     "start_time": "2025-09-22T12:50:04.227684Z"
    }
   },
   "outputs": [
    {
     "data": {
      "text/html": [
       "<pre style=\"white-space:pre;overflow-x:auto;line-height:normal;font-family:Menlo,'DejaVu Sans Mono',consolas,'Courier New',monospace\"><span style=\"color: #d4b702; text-decoration-color: #d4b702\">╭──────────────────────────────────────────────────── </span><span style=\"color: #d4b702; text-decoration-color: #d4b702; font-weight: bold\">New run</span><span style=\"color: #d4b702; text-decoration-color: #d4b702\"> ────────────────────────────────────────────────────╮</span>\n",
       "<span style=\"color: #d4b702; text-decoration-color: #d4b702\">│</span>                                                                                                                 <span style=\"color: #d4b702; text-decoration-color: #d4b702\">│</span>\n",
       "<span style=\"color: #d4b702; text-decoration-color: #d4b702\">│</span> <span style=\"font-weight: bold\">I want to scale my production rag application, what is the best resource to learn and implement for my company.</span> <span style=\"color: #d4b702; text-decoration-color: #d4b702\">│</span>\n",
       "<span style=\"color: #d4b702; text-decoration-color: #d4b702\">│</span>                                                                                                                 <span style=\"color: #d4b702; text-decoration-color: #d4b702\">│</span>\n",
       "<span style=\"color: #d4b702; text-decoration-color: #d4b702\">╰─ InferenceClientModel - Qwen/Qwen2.5-Coder-32B-Instruct ────────────────────────────────────────────────────────╯</span>\n",
       "</pre>\n"
      ],
      "text/plain": [
       "\u001b[38;2;212;183;2m╭─\u001b[0m\u001b[38;2;212;183;2m───────────────────────────────────────────────────\u001b[0m\u001b[38;2;212;183;2m \u001b[0m\u001b[1;38;2;212;183;2mNew run\u001b[0m\u001b[38;2;212;183;2m \u001b[0m\u001b[38;2;212;183;2m───────────────────────────────────────────────────\u001b[0m\u001b[38;2;212;183;2m─╮\u001b[0m\n",
       "\u001b[38;2;212;183;2m│\u001b[0m                                                                                                                 \u001b[38;2;212;183;2m│\u001b[0m\n",
       "\u001b[38;2;212;183;2m│\u001b[0m \u001b[1mI want to scale my production rag application, what is the best resource to learn and implement for my company.\u001b[0m \u001b[38;2;212;183;2m│\u001b[0m\n",
       "\u001b[38;2;212;183;2m│\u001b[0m                                                                                                                 \u001b[38;2;212;183;2m│\u001b[0m\n",
       "\u001b[38;2;212;183;2m╰─\u001b[0m\u001b[38;2;212;183;2m InferenceClientModel - Qwen/Qwen2.5-Coder-32B-Instruct \u001b[0m\u001b[38;2;212;183;2m───────────────────────────────────────────────────────\u001b[0m\u001b[38;2;212;183;2m─╯\u001b[0m\n"
      ]
     },
     "jetTransient": {
      "display_id": null
     },
     "metadata": {},
     "output_type": "display_data"
    },
    {
     "data": {
      "text/html": [
       "<pre style=\"white-space:pre;overflow-x:auto;line-height:normal;font-family:Menlo,'DejaVu Sans Mono',consolas,'Courier New',monospace\"><span style=\"color: #d4b702; text-decoration-color: #d4b702\">━━━━━━━━━━━━━━━━━━━━━━━━━━━━━━━━━━━━━━━━━━━━━━━━━━━━━ </span><span style=\"font-weight: bold\">Step 1</span><span style=\"color: #d4b702; text-decoration-color: #d4b702\"> ━━━━━━━━━━━━━━━━━━━━━━━━━━━━━━━━━━━━━━━━━━━━━━━━━━━━━━</span>\n",
       "</pre>\n"
      ],
      "text/plain": [
       "\u001b[38;2;212;183;2m━━━━━━━━━━━━━━━━━━━━━━━━━━━━━━━━━━━━━━━━━━━━━━━━━━━━━ \u001b[0m\u001b[1mStep 1\u001b[0m\u001b[38;2;212;183;2m ━━━━━━━━━━━━━━━━━━━━━━━━━━━━━━━━━━━━━━━━━━━━━━━━━━━━━━\u001b[0m\n"
      ]
     },
     "jetTransient": {
      "display_id": null
     },
     "metadata": {},
     "output_type": "display_data"
    },
    {
     "data": {
      "text/html": [
       "<pre style=\"white-space:pre;overflow-x:auto;line-height:normal;font-family:Menlo,'DejaVu Sans Mono',consolas,'Courier New',monospace\">╭─────────────────────────────────────────────────────────────────────────────────────────────────────────────────╮\n",
       "│ Calling tool: 'web_search' with arguments: {'query': 'best resources to learn and implement production rag      │\n",
       "│ application scaling'}                                                                                           │\n",
       "╰─────────────────────────────────────────────────────────────────────────────────────────────────────────────────╯\n",
       "</pre>\n"
      ],
      "text/plain": [
       "╭─────────────────────────────────────────────────────────────────────────────────────────────────────────────────╮\n",
       "│ Calling tool: 'web_search' with arguments: {'query': 'best resources to learn and implement production rag      │\n",
       "│ application scaling'}                                                                                           │\n",
       "╰─────────────────────────────────────────────────────────────────────────────────────────────────────────────────╯\n"
      ]
     },
     "jetTransient": {
      "display_id": null
     },
     "metadata": {},
     "output_type": "display_data"
    },
    {
     "data": {
      "text/html": [
       "<pre style=\"white-space:pre;overflow-x:auto;line-height:normal;font-family:Menlo,'DejaVu Sans Mono',consolas,'Courier New',monospace\">Observations: ## Search Results\n",
       "\n",
       "|Medium Building Production-Ready RAG Systems: Best Practices and Latest Tools | by Meeran Malik | \n",
       "Medium](https://medium.com/@meeran03/building-production-ready-rag-systems-best-practices-and-latest-tools-581cae95\n",
       "18e7)\n",
       "May 1, 2025 - Building a RAG system from scratch is complex, but the good news is there’s an ecosystem of tools to \n",
       "help: Vector Databases : These are specialized databases for storing embeddings and supporting fast similarity \n",
       "search at scale.\n",
       "\n",
       "|RAG in Production: Deployment Strategies &amp; Practical \n",
       "...](https://coralogix.com/ai-blog/rag-in-production-deployment-strategies-and-practical-considerations/)\n",
       "Sep 2, 2024 · Whether you’re fine-tuning retrieval algorithms or architecting system-wide scaling solutions, this \n",
       "guide equips you with actionable insights to transform your RAG implementation from a proof of concept into a \n",
       "production -ready deployment.\n",
       "\n",
       "|Production-Ready RAG: Engineering Guidelines for Scalable \n",
       "Systems](https://www.netguru.com/blog/rag-for-scalable-systems)\n",
       "Sep 10, 2025 · Building scalable AI solutions isn't just about throwing more resources at the problem. Success \n",
       "depends on understanding effective RAG architecture, selecting appropriate vector databases and embedding \n",
       "strategies for your domain, and creating data pipelines that enable continuous improvement.\n",
       "\n",
       "|Scalable RAG Architecture | Production \n",
       "Design](https://apxml.com/courses/optimizing-rag-for-production/chapter-1-production-rag-foundations/production-rag\n",
       "-architecture-scaling)\n",
       "For RAG systems , scaling considerations must be woven into the architectural fabric from the outset, not bolted on\n",
       "as an afterthought. This section examines the architectural decisions critical for building RAG systems that can \n",
       "gracefully scale to meet production demands.\n",
       "\n",
       "|Scaling RAG for Real-World Applications - ML \n",
       "Journey](https://mljourney.com/scaling-rag-for-real-world-applications/)\n",
       "Apr 25, 2025 · In this article, we’ll explore what it takes to scale RAG for real-world applications , covering key\n",
       "components, performance bottlenecks, architectural strategies, and deployment tips.\n",
       "\n",
       "|Building Scalable RAG Pipelines with Ray and Anyscale](https://www.anyscale.com/blog/rag-pipelines-how-to)\n",
       "Jun 4, 2025 · In this follow-up, we take a deeper look at real-world challenges and show how Anyscale and Ray can \n",
       "help you build more scalable , production -ready RAG systems. All of the notebooks covered in this guide are \n",
       "available in Anyscale Workspaces.\n",
       "\n",
       "|Production-Ready RAG Systems: End to End \n",
       "Guide](https://www.saumilsrivastava.ai/blog/production-ready-rag-systems-end-to-end-guide)\n",
       "May 16, 2025 · Development Resources : What team size and expertise are available for implementation ? Based on \n",
       "these requirements, you can select an appropriate architectural approach: Simple RAG : For smaller datasets, lower \n",
       "query volumes, and moderate accuracy requirements.\n",
       "\n",
       "|Orkes Best Practices for Production-Scale RAG Systems — An Implementation Guide | Orkes Platform - Microservices \n",
       "and Workflow Orchestration at Scale](https://orkes.io/blog/rag-best-practices/)\n",
       "Learn hands-on the best practices to improve RAG accuracy and response quality: contextual headers, semantic \n",
       "chunks, hybrid search, and reranking .\n",
       "\n",
       "|LlamaIndex Building Performant RAG Applications for Production | LlamaIndex \n",
       "...](https://docs.llamaindex.ai/en/stable/optimizing/production_rag/)\n",
       "A big issue with the standard RAG stack (top-k retrieval + basic text splitting) is that it doesn’t do well as the \n",
       "number of documents scales up - e.g. if you have 100 different PDFs.\n",
       "\n",
       "|Anyscale Building RAG-based LLM Applications for \n",
       "Production](https://www.anyscale.com/blog/a-comprehensive-guide-for-building-rag-based-llm-applications-part-1)\n",
       "In this guide, we will learn how to develop and productionize a retrieval augmented generation ( RAG ) based LLM \n",
       "application , with a focus on scale and evaluation.\n",
       "</pre>\n"
      ],
      "text/plain": [
       "Observations: ## Search Results\n",
       "\n",
       "|Medium Building Production-Ready RAG Systems: Best Practices and Latest Tools | by Meeran Malik | \n",
       "Medium](https://medium.com/@meeran03/building-production-ready-rag-systems-best-practices-and-latest-tools-581cae95\n",
       "18e7)\n",
       "May 1, 2025 - Building a RAG system from scratch is complex, but the good news is there’s an ecosystem of tools to \n",
       "help: Vector Databases : These are specialized databases for storing embeddings and supporting fast similarity \n",
       "search at scale.\n",
       "\n",
       "|RAG in Production: Deployment Strategies & Practical \n",
       "...](https://coralogix.com/ai-blog/rag-in-production-deployment-strategies-and-practical-considerations/)\n",
       "Sep 2, 2024 · Whether you’re fine-tuning retrieval algorithms or architecting system-wide scaling solutions, this \n",
       "guide equips you with actionable insights to transform your RAG implementation from a proof of concept into a \n",
       "production -ready deployment.\n",
       "\n",
       "|Production-Ready RAG: Engineering Guidelines for Scalable \n",
       "Systems](https://www.netguru.com/blog/rag-for-scalable-systems)\n",
       "Sep 10, 2025 · Building scalable AI solutions isn't just about throwing more resources at the problem. Success \n",
       "depends on understanding effective RAG architecture, selecting appropriate vector databases and embedding \n",
       "strategies for your domain, and creating data pipelines that enable continuous improvement.\n",
       "\n",
       "|Scalable RAG Architecture | Production \n",
       "Design](https://apxml.com/courses/optimizing-rag-for-production/chapter-1-production-rag-foundations/production-rag\n",
       "-architecture-scaling)\n",
       "For RAG systems , scaling considerations must be woven into the architectural fabric from the outset, not bolted on\n",
       "as an afterthought. This section examines the architectural decisions critical for building RAG systems that can \n",
       "gracefully scale to meet production demands.\n",
       "\n",
       "|Scaling RAG for Real-World Applications - ML \n",
       "Journey](https://mljourney.com/scaling-rag-for-real-world-applications/)\n",
       "Apr 25, 2025 · In this article, we’ll explore what it takes to scale RAG for real-world applications , covering key\n",
       "components, performance bottlenecks, architectural strategies, and deployment tips.\n",
       "\n",
       "|Building Scalable RAG Pipelines with Ray and Anyscale](https://www.anyscale.com/blog/rag-pipelines-how-to)\n",
       "Jun 4, 2025 · In this follow-up, we take a deeper look at real-world challenges and show how Anyscale and Ray can \n",
       "help you build more scalable , production -ready RAG systems. All of the notebooks covered in this guide are \n",
       "available in Anyscale Workspaces.\n",
       "\n",
       "|Production-Ready RAG Systems: End to End \n",
       "Guide](https://www.saumilsrivastava.ai/blog/production-ready-rag-systems-end-to-end-guide)\n",
       "May 16, 2025 · Development Resources : What team size and expertise are available for implementation ? Based on \n",
       "these requirements, you can select an appropriate architectural approach: Simple RAG : For smaller datasets, lower \n",
       "query volumes, and moderate accuracy requirements.\n",
       "\n",
       "|Orkes Best Practices for Production-Scale RAG Systems — An Implementation Guide | Orkes Platform - Microservices \n",
       "and Workflow Orchestration at Scale](https://orkes.io/blog/rag-best-practices/)\n",
       "Learn hands-on the best practices to improve RAG accuracy and response quality: contextual headers, semantic \n",
       "chunks, hybrid search, and reranking .\n",
       "\n",
       "|LlamaIndex Building Performant RAG Applications for Production | LlamaIndex \n",
       "...](https://docs.llamaindex.ai/en/stable/optimizing/production_rag/)\n",
       "A big issue with the standard RAG stack (top-k retrieval + basic text splitting) is that it doesn’t do well as the \n",
       "number of documents scales up - e.g. if you have 100 different PDFs.\n",
       "\n",
       "|Anyscale Building RAG-based LLM Applications for \n",
       "Production](https://www.anyscale.com/blog/a-comprehensive-guide-for-building-rag-based-llm-applications-part-1)\n",
       "In this guide, we will learn how to develop and productionize a retrieval augmented generation ( RAG ) based LLM \n",
       "application , with a focus on scale and evaluation.\n"
      ]
     },
     "jetTransient": {
      "display_id": null
     },
     "metadata": {},
     "output_type": "display_data"
    },
    {
     "data": {
      "text/html": [
       "<pre style=\"white-space:pre;overflow-x:auto;line-height:normal;font-family:Menlo,'DejaVu Sans Mono',consolas,'Courier New',monospace\"><span style=\"color: #7f7f7f; text-decoration-color: #7f7f7f\">[Step 1: Duration 3.98 seconds| Input tokens: 1,197 | Output tokens: 28]</span>\n",
       "</pre>\n"
      ],
      "text/plain": [
       "\u001b[2m[Step 1: Duration 3.98 seconds| Input tokens: 1,197 | Output tokens: 28]\u001b[0m\n"
      ]
     },
     "jetTransient": {
      "display_id": null
     },
     "metadata": {},
     "output_type": "display_data"
    },
    {
     "data": {
      "text/html": [
       "<pre style=\"white-space:pre;overflow-x:auto;line-height:normal;font-family:Menlo,'DejaVu Sans Mono',consolas,'Courier New',monospace\"><span style=\"color: #d4b702; text-decoration-color: #d4b702\">━━━━━━━━━━━━━━━━━━━━━━━━━━━━━━━━━━━━━━━━━━━━━━━━━━━━━ </span><span style=\"font-weight: bold\">Step 2</span><span style=\"color: #d4b702; text-decoration-color: #d4b702\"> ━━━━━━━━━━━━━━━━━━━━━━━━━━━━━━━━━━━━━━━━━━━━━━━━━━━━━━</span>\n",
       "</pre>\n"
      ],
      "text/plain": [
       "\u001b[38;2;212;183;2m━━━━━━━━━━━━━━━━━━━━━━━━━━━━━━━━━━━━━━━━━━━━━━━━━━━━━ \u001b[0m\u001b[1mStep 2\u001b[0m\u001b[38;2;212;183;2m ━━━━━━━━━━━━━━━━━━━━━━━━━━━━━━━━━━━━━━━━━━━━━━━━━━━━━━\u001b[0m\n"
      ]
     },
     "jetTransient": {
      "display_id": null
     },
     "metadata": {},
     "output_type": "display_data"
    },
    {
     "data": {
      "text/html": [
       "<pre style=\"white-space:pre;overflow-x:auto;line-height:normal;font-family:Menlo,'DejaVu Sans Mono',consolas,'Courier New',monospace\">╭─────────────────────────────────────────────────────────────────────────────────────────────────────────────────╮\n",
       "│ Calling tool: 'final_answer' with arguments: {'answer': 'Based on the search results, the following resources   │\n",
       "│ are highly recommended for learning and implementing scalable production RAG applications:\\n\\n1. **Medium       │\n",
       "│ Article by Meeran Malik**: [Building Production-Ready RAG Systems: Best Practices and Latest                    │\n",
       "│ Tools](https://medium.com/@meeran03/building-production-ready-rag-systems-best-practices-and-latest-tools-581ca │\n",
       "│ e9518e7)\\n2. **Coralogix Blog**: [RAG in Production: Deployment Strategies &amp; Practical                          │\n",
       "│ Considerations](https://coralogix.com/ai-blog/rag-in-production-deployment-strategies-and-practical-considerati │\n",
       "│ ons/)\\n3. **Netguru Blog**: [Production-Ready RAG: Engineering Guidelines for Scalable                          │\n",
       "│ Systems](https://www.netguru.com/blog/rag-for-scalable-systems)\\n4. **APXML Course**: [Scalable RAG             │\n",
       "│ Architecture](https://apxml.com/courses/optimizing-rag-for-production/chapter-1-production-rag-foundations/prod │\n",
       "│ uction-rag-architecture-scaling)\\n5. **ML Journey Article**: [Scaling RAG for Real-World                        │\n",
       "│ Applications](https://mljourney.com/scaling-rag-for-real-world-applications/)\\n6. **Anyscale Blog**: [Building  │\n",
       "│ Scalable RAG Pipelines with Ray and Anyscale](https://www.anyscale.com/blog/rag-pipelines-how-to)\\n7. **Saumil  │\n",
       "│ Srivastava Blog**: [Production-Ready RAG Systems: End to End                                                    │\n",
       "│ Guide](https://www.saumilsrivastava.ai/blog/production-ready-rag-systems-end-to-end-guide)\\n8. **Orkes Blog**:  │\n",
       "│ [Best Practices for Production-Scale RAG Systems](https://orkes.io/blog/rag-best-practices/)\\n9. **LlamaIndex   │\n",
       "│ Documentation**: [Building Performant RAG Applications for                                                      │\n",
       "│ Production](https://docs.llamaindex.ai/en/stable/optimizing/production_rag/)\\n10. **Anyscale Comprehensive      │\n",
       "│ Guide**: [Building RAG-based LLM Applications for                                                               │\n",
       "│ Production](https://www.anyscale.com/blog/a-comprehensive-guide-for-building-rag-based-llm-applications-part-1) │\n",
       "│ \\n\\nThese resources cover best practices, architectural considerations, and practical implementation strategies │\n",
       "│ for scaling RAG applications in production.'}                                                                   │\n",
       "╰─────────────────────────────────────────────────────────────────────────────────────────────────────────────────╯\n",
       "</pre>\n"
      ],
      "text/plain": [
       "╭─────────────────────────────────────────────────────────────────────────────────────────────────────────────────╮\n",
       "│ Calling tool: 'final_answer' with arguments: {'answer': 'Based on the search results, the following resources   │\n",
       "│ are highly recommended for learning and implementing scalable production RAG applications:\\n\\n1. **Medium       │\n",
       "│ Article by Meeran Malik**: [Building Production-Ready RAG Systems: Best Practices and Latest                    │\n",
       "│ Tools](https://medium.com/@meeran03/building-production-ready-rag-systems-best-practices-and-latest-tools-581ca │\n",
       "│ e9518e7)\\n2. **Coralogix Blog**: [RAG in Production: Deployment Strategies & Practical                          │\n",
       "│ Considerations](https://coralogix.com/ai-blog/rag-in-production-deployment-strategies-and-practical-considerati │\n",
       "│ ons/)\\n3. **Netguru Blog**: [Production-Ready RAG: Engineering Guidelines for Scalable                          │\n",
       "│ Systems](https://www.netguru.com/blog/rag-for-scalable-systems)\\n4. **APXML Course**: [Scalable RAG             │\n",
       "│ Architecture](https://apxml.com/courses/optimizing-rag-for-production/chapter-1-production-rag-foundations/prod │\n",
       "│ uction-rag-architecture-scaling)\\n5. **ML Journey Article**: [Scaling RAG for Real-World                        │\n",
       "│ Applications](https://mljourney.com/scaling-rag-for-real-world-applications/)\\n6. **Anyscale Blog**: [Building  │\n",
       "│ Scalable RAG Pipelines with Ray and Anyscale](https://www.anyscale.com/blog/rag-pipelines-how-to)\\n7. **Saumil  │\n",
       "│ Srivastava Blog**: [Production-Ready RAG Systems: End to End                                                    │\n",
       "│ Guide](https://www.saumilsrivastava.ai/blog/production-ready-rag-systems-end-to-end-guide)\\n8. **Orkes Blog**:  │\n",
       "│ [Best Practices for Production-Scale RAG Systems](https://orkes.io/blog/rag-best-practices/)\\n9. **LlamaIndex   │\n",
       "│ Documentation**: [Building Performant RAG Applications for                                                      │\n",
       "│ Production](https://docs.llamaindex.ai/en/stable/optimizing/production_rag/)\\n10. **Anyscale Comprehensive      │\n",
       "│ Guide**: [Building RAG-based LLM Applications for                                                               │\n",
       "│ Production](https://www.anyscale.com/blog/a-comprehensive-guide-for-building-rag-based-llm-applications-part-1) │\n",
       "│ \\n\\nThese resources cover best practices, architectural considerations, and practical implementation strategies │\n",
       "│ for scaling RAG applications in production.'}                                                                   │\n",
       "╰─────────────────────────────────────────────────────────────────────────────────────────────────────────────────╯\n"
      ]
     },
     "jetTransient": {
      "display_id": null
     },
     "metadata": {},
     "output_type": "display_data"
    },
    {
     "data": {
      "text/html": [
       "<pre style=\"white-space:pre;overflow-x:auto;line-height:normal;font-family:Menlo,'DejaVu Sans Mono',consolas,'Courier New',monospace\">Observations: Based on the search results, the following resources are highly recommended for learning and \n",
       "implementing scalable production RAG applications:\n",
       "\n",
       "1. **Medium Article by Meeran Malik**: |Building Production-Ready RAG Systems: Best Practices and Latest \n",
       "Tools](https://medium.com/@meeran03/building-production-ready-rag-systems-best-practices-and-latest-tools-581cae951\n",
       "8e7)\n",
       "2. **Coralogix Blog**: |RAG in Production: Deployment Strategies &amp; Practical \n",
       "Considerations](https://coralogix.com/ai-blog/rag-in-production-deployment-strategies-and-practical-considerations/\n",
       ")\n",
       "3. **Netguru Blog**: |Production-Ready RAG: Engineering Guidelines for Scalable \n",
       "Systems](https://www.netguru.com/blog/rag-for-scalable-systems)\n",
       "4. **APXML Course**: |Scalable RAG \n",
       "Architecture](https://apxml.com/courses/optimizing-rag-for-production/chapter-1-production-rag-foundations/producti\n",
       "on-rag-architecture-scaling)\n",
       "5. **ML Journey Article**: |Scaling RAG for Real-World \n",
       "Applications](https://mljourney.com/scaling-rag-for-real-world-applications/)\n",
       "6. **Anyscale Blog**: |Building Scalable RAG Pipelines with Ray and \n",
       "Anyscale](https://www.anyscale.com/blog/rag-pipelines-how-to)\n",
       "7. **Saumil Srivastava Blog**: |Production-Ready RAG Systems: End to End \n",
       "Guide](https://www.saumilsrivastava.ai/blog/production-ready-rag-systems-end-to-end-guide)\n",
       "8. **Orkes Blog**: |Best Practices for Production-Scale RAG Systems](https://orkes.io/blog/rag-best-practices/)\n",
       "9. **LlamaIndex Documentation**: |Building Performant RAG Applications for \n",
       "Production](https://docs.llamaindex.ai/en/stable/optimizing/production_rag/)\n",
       "10. **Anyscale Comprehensive Guide**: |Building RAG-based LLM Applications for \n",
       "Production](https://www.anyscale.com/blog/a-comprehensive-guide-for-building-rag-based-llm-applications-part-1)\n",
       "\n",
       "These resources cover best practices, architectural considerations, and practical implementation strategies for \n",
       "scaling RAG applications in production.\n",
       "</pre>\n"
      ],
      "text/plain": [
       "Observations: Based on the search results, the following resources are highly recommended for learning and \n",
       "implementing scalable production RAG applications:\n",
       "\n",
       "1. **Medium Article by Meeran Malik**: |Building Production-Ready RAG Systems: Best Practices and Latest \n",
       "Tools](https://medium.com/@meeran03/building-production-ready-rag-systems-best-practices-and-latest-tools-581cae951\n",
       "8e7)\n",
       "2. **Coralogix Blog**: |RAG in Production: Deployment Strategies & Practical \n",
       "Considerations](https://coralogix.com/ai-blog/rag-in-production-deployment-strategies-and-practical-considerations/\n",
       ")\n",
       "3. **Netguru Blog**: |Production-Ready RAG: Engineering Guidelines for Scalable \n",
       "Systems](https://www.netguru.com/blog/rag-for-scalable-systems)\n",
       "4. **APXML Course**: |Scalable RAG \n",
       "Architecture](https://apxml.com/courses/optimizing-rag-for-production/chapter-1-production-rag-foundations/producti\n",
       "on-rag-architecture-scaling)\n",
       "5. **ML Journey Article**: |Scaling RAG for Real-World \n",
       "Applications](https://mljourney.com/scaling-rag-for-real-world-applications/)\n",
       "6. **Anyscale Blog**: |Building Scalable RAG Pipelines with Ray and \n",
       "Anyscale](https://www.anyscale.com/blog/rag-pipelines-how-to)\n",
       "7. **Saumil Srivastava Blog**: |Production-Ready RAG Systems: End to End \n",
       "Guide](https://www.saumilsrivastava.ai/blog/production-ready-rag-systems-end-to-end-guide)\n",
       "8. **Orkes Blog**: |Best Practices for Production-Scale RAG Systems](https://orkes.io/blog/rag-best-practices/)\n",
       "9. **LlamaIndex Documentation**: |Building Performant RAG Applications for \n",
       "Production](https://docs.llamaindex.ai/en/stable/optimizing/production_rag/)\n",
       "10. **Anyscale Comprehensive Guide**: |Building RAG-based LLM Applications for \n",
       "Production](https://www.anyscale.com/blog/a-comprehensive-guide-for-building-rag-based-llm-applications-part-1)\n",
       "\n",
       "These resources cover best practices, architectural considerations, and practical implementation strategies for \n",
       "scaling RAG applications in production.\n"
      ]
     },
     "jetTransient": {
      "display_id": null
     },
     "metadata": {},
     "output_type": "display_data"
    },
    {
     "data": {
      "text/html": [
       "<pre style=\"white-space:pre;overflow-x:auto;line-height:normal;font-family:Menlo,'DejaVu Sans Mono',consolas,'Courier New',monospace\"><span style=\"color: #d4b702; text-decoration-color: #d4b702; font-weight: bold\">Final answer: Based on the search results, the following resources are highly recommended for learning and </span>\n",
       "<span style=\"color: #d4b702; text-decoration-color: #d4b702; font-weight: bold\">implementing scalable production RAG applications:</span>\n",
       "\n",
       "<span style=\"color: #d4b702; text-decoration-color: #d4b702; font-weight: bold\">1. **Medium Article by Meeran Malik**: [Building Production-Ready RAG Systems: Best Practices and Latest </span>\n",
       "<span style=\"color: #d4b702; text-decoration-color: #d4b702; font-weight: bold\">Tools](https://medium.com/@meeran03/building-production-ready-rag-systems-best-practices-and-latest-tools-581cae951</span>\n",
       "<span style=\"color: #d4b702; text-decoration-color: #d4b702; font-weight: bold\">8e7)</span>\n",
       "<span style=\"color: #d4b702; text-decoration-color: #d4b702; font-weight: bold\">2. **Coralogix Blog**: [RAG in Production: Deployment Strategies &amp; Practical </span>\n",
       "<span style=\"color: #d4b702; text-decoration-color: #d4b702; font-weight: bold\">Considerations](https://coralogix.com/ai-blog/rag-in-production-deployment-strategies-and-practical-considerations/</span>\n",
       "<span style=\"color: #d4b702; text-decoration-color: #d4b702; font-weight: bold\">)</span>\n",
       "<span style=\"color: #d4b702; text-decoration-color: #d4b702; font-weight: bold\">3. **Netguru Blog**: [Production-Ready RAG: Engineering Guidelines for Scalable </span>\n",
       "<span style=\"color: #d4b702; text-decoration-color: #d4b702; font-weight: bold\">Systems](https://www.netguru.com/blog/rag-for-scalable-systems)</span>\n",
       "<span style=\"color: #d4b702; text-decoration-color: #d4b702; font-weight: bold\">4. **APXML Course**: [Scalable RAG </span>\n",
       "<span style=\"color: #d4b702; text-decoration-color: #d4b702; font-weight: bold\">Architecture](https://apxml.com/courses/optimizing-rag-for-production/chapter-1-production-rag-foundations/producti</span>\n",
       "<span style=\"color: #d4b702; text-decoration-color: #d4b702; font-weight: bold\">on-rag-architecture-scaling)</span>\n",
       "<span style=\"color: #d4b702; text-decoration-color: #d4b702; font-weight: bold\">5. **ML Journey Article**: [Scaling RAG for Real-World </span>\n",
       "<span style=\"color: #d4b702; text-decoration-color: #d4b702; font-weight: bold\">Applications](https://mljourney.com/scaling-rag-for-real-world-applications/)</span>\n",
       "<span style=\"color: #d4b702; text-decoration-color: #d4b702; font-weight: bold\">6. **Anyscale Blog**: [Building Scalable RAG Pipelines with Ray and </span>\n",
       "<span style=\"color: #d4b702; text-decoration-color: #d4b702; font-weight: bold\">Anyscale](https://www.anyscale.com/blog/rag-pipelines-how-to)</span>\n",
       "<span style=\"color: #d4b702; text-decoration-color: #d4b702; font-weight: bold\">7. **Saumil Srivastava Blog**: [Production-Ready RAG Systems: End to End </span>\n",
       "<span style=\"color: #d4b702; text-decoration-color: #d4b702; font-weight: bold\">Guide](https://www.saumilsrivastava.ai/blog/production-ready-rag-systems-end-to-end-guide)</span>\n",
       "<span style=\"color: #d4b702; text-decoration-color: #d4b702; font-weight: bold\">8. **Orkes Blog**: [Best Practices for Production-Scale RAG Systems](https://orkes.io/blog/rag-best-practices/)</span>\n",
       "<span style=\"color: #d4b702; text-decoration-color: #d4b702; font-weight: bold\">9. **LlamaIndex Documentation**: [Building Performant RAG Applications for </span>\n",
       "<span style=\"color: #d4b702; text-decoration-color: #d4b702; font-weight: bold\">Production](https://docs.llamaindex.ai/en/stable/optimizing/production_rag/)</span>\n",
       "<span style=\"color: #d4b702; text-decoration-color: #d4b702; font-weight: bold\">10. **Anyscale Comprehensive Guide**: [Building RAG-based LLM Applications for </span>\n",
       "<span style=\"color: #d4b702; text-decoration-color: #d4b702; font-weight: bold\">Production](https://www.anyscale.com/blog/a-comprehensive-guide-for-building-rag-based-llm-applications-part-1)</span>\n",
       "\n",
       "<span style=\"color: #d4b702; text-decoration-color: #d4b702; font-weight: bold\">These resources cover best practices, architectural considerations, and practical implementation strategies for </span>\n",
       "<span style=\"color: #d4b702; text-decoration-color: #d4b702; font-weight: bold\">scaling RAG applications in production.</span>\n",
       "</pre>\n"
      ],
      "text/plain": [
       "\u001b[1;38;2;212;183;2mFinal answer: Based on the search results, the following resources are highly recommended for learning and \u001b[0m\n",
       "\u001b[1;38;2;212;183;2mimplementing scalable production RAG applications:\u001b[0m\n",
       "\n",
       "\u001b[1;38;2;212;183;2m1. **Medium Article by Meeran Malik**: [Building Production-Ready RAG Systems: Best Practices and Latest \u001b[0m\n",
       "\u001b[1;38;2;212;183;2mTools](https://medium.com/@meeran03/building-production-ready-rag-systems-best-practices-and-latest-tools-581cae951\u001b[0m\n",
       "\u001b[1;38;2;212;183;2m8e7)\u001b[0m\n",
       "\u001b[1;38;2;212;183;2m2. **Coralogix Blog**: [RAG in Production: Deployment Strategies & Practical \u001b[0m\n",
       "\u001b[1;38;2;212;183;2mConsiderations](https://coralogix.com/ai-blog/rag-in-production-deployment-strategies-and-practical-considerations/\u001b[0m\n",
       "\u001b[1;38;2;212;183;2m)\u001b[0m\n",
       "\u001b[1;38;2;212;183;2m3. **Netguru Blog**: [Production-Ready RAG: Engineering Guidelines for Scalable \u001b[0m\n",
       "\u001b[1;38;2;212;183;2mSystems](https://www.netguru.com/blog/rag-for-scalable-systems)\u001b[0m\n",
       "\u001b[1;38;2;212;183;2m4. **APXML Course**: [Scalable RAG \u001b[0m\n",
       "\u001b[1;38;2;212;183;2mArchitecture](https://apxml.com/courses/optimizing-rag-for-production/chapter-1-production-rag-foundations/producti\u001b[0m\n",
       "\u001b[1;38;2;212;183;2mon-rag-architecture-scaling)\u001b[0m\n",
       "\u001b[1;38;2;212;183;2m5. **ML Journey Article**: [Scaling RAG for Real-World \u001b[0m\n",
       "\u001b[1;38;2;212;183;2mApplications](https://mljourney.com/scaling-rag-for-real-world-applications/)\u001b[0m\n",
       "\u001b[1;38;2;212;183;2m6. **Anyscale Blog**: [Building Scalable RAG Pipelines with Ray and \u001b[0m\n",
       "\u001b[1;38;2;212;183;2mAnyscale](https://www.anyscale.com/blog/rag-pipelines-how-to)\u001b[0m\n",
       "\u001b[1;38;2;212;183;2m7. **Saumil Srivastava Blog**: [Production-Ready RAG Systems: End to End \u001b[0m\n",
       "\u001b[1;38;2;212;183;2mGuide](https://www.saumilsrivastava.ai/blog/production-ready-rag-systems-end-to-end-guide)\u001b[0m\n",
       "\u001b[1;38;2;212;183;2m8. **Orkes Blog**: [Best Practices for Production-Scale RAG Systems](https://orkes.io/blog/rag-best-practices/)\u001b[0m\n",
       "\u001b[1;38;2;212;183;2m9. **LlamaIndex Documentation**: [Building Performant RAG Applications for \u001b[0m\n",
       "\u001b[1;38;2;212;183;2mProduction](https://docs.llamaindex.ai/en/stable/optimizing/production_rag/)\u001b[0m\n",
       "\u001b[1;38;2;212;183;2m10. **Anyscale Comprehensive Guide**: [Building RAG-based LLM Applications for \u001b[0m\n",
       "\u001b[1;38;2;212;183;2mProduction](https://www.anyscale.com/blog/a-comprehensive-guide-for-building-rag-based-llm-applications-part-1)\u001b[0m\n",
       "\n",
       "\u001b[1;38;2;212;183;2mThese resources cover best practices, architectural considerations, and practical implementation strategies for \u001b[0m\n",
       "\u001b[1;38;2;212;183;2mscaling RAG applications in production.\u001b[0m\n"
      ]
     },
     "jetTransient": {
      "display_id": null
     },
     "metadata": {},
     "output_type": "display_data"
    },
    {
     "data": {
      "text/html": [
       "<pre style=\"white-space:pre;overflow-x:auto;line-height:normal;font-family:Menlo,'DejaVu Sans Mono',consolas,'Courier New',monospace\"><span style=\"color: #7f7f7f; text-decoration-color: #7f7f7f\">[Step 2: Duration 5.60 seconds| Input tokens: 3,327 | Output tokens: 525]</span>\n",
       "</pre>\n"
      ],
      "text/plain": [
       "\u001b[2m[Step 2: Duration 5.60 seconds| Input tokens: 3,327 | Output tokens: 525]\u001b[0m\n"
      ]
     },
     "jetTransient": {
      "display_id": null
     },
     "metadata": {},
     "output_type": "display_data"
    },
    {
     "data": {
      "text/plain": [
       "'Based on the search results, the following resources are highly recommended for learning and implementing scalable production RAG applications:\\n\\n1. **Medium Article by Meeran Malik**: [Building Production-Ready RAG Systems: Best Practices and Latest Tools](https://medium.com/@meeran03/building-production-ready-rag-systems-best-practices-and-latest-tools-581cae9518e7)\\n2. **Coralogix Blog**: [RAG in Production: Deployment Strategies & Practical Considerations](https://coralogix.com/ai-blog/rag-in-production-deployment-strategies-and-practical-considerations/)\\n3. **Netguru Blog**: [Production-Ready RAG: Engineering Guidelines for Scalable Systems](https://www.netguru.com/blog/rag-for-scalable-systems)\\n4. **APXML Course**: [Scalable RAG Architecture](https://apxml.com/courses/optimizing-rag-for-production/chapter-1-production-rag-foundations/production-rag-architecture-scaling)\\n5. **ML Journey Article**: [Scaling RAG for Real-World Applications](https://mljourney.com/scaling-rag-for-real-world-applications/)\\n6. **Anyscale Blog**: [Building Scalable RAG Pipelines with Ray and Anyscale](https://www.anyscale.com/blog/rag-pipelines-how-to)\\n7. **Saumil Srivastava Blog**: [Production-Ready RAG Systems: End to End Guide](https://www.saumilsrivastava.ai/blog/production-ready-rag-systems-end-to-end-guide)\\n8. **Orkes Blog**: [Best Practices for Production-Scale RAG Systems](https://orkes.io/blog/rag-best-practices/)\\n9. **LlamaIndex Documentation**: [Building Performant RAG Applications for Production](https://docs.llamaindex.ai/en/stable/optimizing/production_rag/)\\n10. **Anyscale Comprehensive Guide**: [Building RAG-based LLM Applications for Production](https://www.anyscale.com/blog/a-comprehensive-guide-for-building-rag-based-llm-applications-part-1)\\n\\nThese resources cover best practices, architectural considerations, and practical implementation strategies for scaling RAG applications in production.'"
      ]
     },
     "execution_count": 20,
     "metadata": {},
     "output_type": "execute_result"
    }
   ],
   "source": [
    "tool_agent_reg.run(\n",
    "\t\"I want to scale my production rag application, what is the best resource to learn and implement for my company.\"\n",
    ")"
   ]
  },
  {
   "cell_type": "code",
   "execution_count": 21,
   "id": "611b46be3f19f25a",
   "metadata": {
    "ExecuteTime": {
     "end_time": "2025-09-22T12:50:34.903820Z",
     "start_time": "2025-09-22T12:50:29.766909Z"
    }
   },
   "outputs": [
    {
     "data": {
      "text/html": [
       "<pre style=\"white-space:pre;overflow-x:auto;line-height:normal;font-family:Menlo,'DejaVu Sans Mono',consolas,'Courier New',monospace\"><span style=\"color: #d4b702; text-decoration-color: #d4b702\">╭──────────────────────────────────────────────────── </span><span style=\"color: #d4b702; text-decoration-color: #d4b702; font-weight: bold\">New run</span><span style=\"color: #d4b702; text-decoration-color: #d4b702\"> ────────────────────────────────────────────────────╮</span>\n",
       "<span style=\"color: #d4b702; text-decoration-color: #d4b702\">│</span>                                                                                                                 <span style=\"color: #d4b702; text-decoration-color: #d4b702\">│</span>\n",
       "<span style=\"color: #d4b702; text-decoration-color: #d4b702\">│</span> <span style=\"font-weight: bold\">Search for the best book recommendation for getting good at programming in rust for programmer who know python</span>  <span style=\"color: #d4b702; text-decoration-color: #d4b702\">│</span>\n",
       "<span style=\"color: #d4b702; text-decoration-color: #d4b702\">│</span>                                                                                                                 <span style=\"color: #d4b702; text-decoration-color: #d4b702\">│</span>\n",
       "<span style=\"color: #d4b702; text-decoration-color: #d4b702\">╰─ InferenceClientModel - Qwen/Qwen2.5-Coder-32B-Instruct ────────────────────────────────────────────────────────╯</span>\n",
       "</pre>\n"
      ],
      "text/plain": [
       "\u001b[38;2;212;183;2m╭─\u001b[0m\u001b[38;2;212;183;2m───────────────────────────────────────────────────\u001b[0m\u001b[38;2;212;183;2m \u001b[0m\u001b[1;38;2;212;183;2mNew run\u001b[0m\u001b[38;2;212;183;2m \u001b[0m\u001b[38;2;212;183;2m───────────────────────────────────────────────────\u001b[0m\u001b[38;2;212;183;2m─╮\u001b[0m\n",
       "\u001b[38;2;212;183;2m│\u001b[0m                                                                                                                 \u001b[38;2;212;183;2m│\u001b[0m\n",
       "\u001b[38;2;212;183;2m│\u001b[0m \u001b[1mSearch for the best book recommendation for getting good at programming in rust for programmer who know python\u001b[0m  \u001b[38;2;212;183;2m│\u001b[0m\n",
       "\u001b[38;2;212;183;2m│\u001b[0m                                                                                                                 \u001b[38;2;212;183;2m│\u001b[0m\n",
       "\u001b[38;2;212;183;2m╰─\u001b[0m\u001b[38;2;212;183;2m InferenceClientModel - Qwen/Qwen2.5-Coder-32B-Instruct \u001b[0m\u001b[38;2;212;183;2m───────────────────────────────────────────────────────\u001b[0m\u001b[38;2;212;183;2m─╯\u001b[0m\n"
      ]
     },
     "jetTransient": {
      "display_id": null
     },
     "metadata": {},
     "output_type": "display_data"
    },
    {
     "data": {
      "text/html": [
       "<pre style=\"white-space:pre;overflow-x:auto;line-height:normal;font-family:Menlo,'DejaVu Sans Mono',consolas,'Courier New',monospace\"><span style=\"color: #d4b702; text-decoration-color: #d4b702\">━━━━━━━━━━━━━━━━━━━━━━━━━━━━━━━━━━━━━━━━━━━━━━━━━━━━━ </span><span style=\"font-weight: bold\">Step 1</span><span style=\"color: #d4b702; text-decoration-color: #d4b702\"> ━━━━━━━━━━━━━━━━━━━━━━━━━━━━━━━━━━━━━━━━━━━━━━━━━━━━━━</span>\n",
       "</pre>\n"
      ],
      "text/plain": [
       "\u001b[38;2;212;183;2m━━━━━━━━━━━━━━━━━━━━━━━━━━━━━━━━━━━━━━━━━━━━━━━━━━━━━ \u001b[0m\u001b[1mStep 1\u001b[0m\u001b[38;2;212;183;2m ━━━━━━━━━━━━━━━━━━━━━━━━━━━━━━━━━━━━━━━━━━━━━━━━━━━━━━\u001b[0m\n"
      ]
     },
     "jetTransient": {
      "display_id": null
     },
     "metadata": {},
     "output_type": "display_data"
    },
    {
     "data": {
      "text/html": [
       "<pre style=\"white-space:pre;overflow-x:auto;line-height:normal;font-family:Menlo,'DejaVu Sans Mono',consolas,'Courier New',monospace\">╭─────────────────────────────────────────────────────────────────────────────────────────────────────────────────╮\n",
       "│ Calling tool: 'web_search' with arguments: {'query': 'best book recommendation for getting good at programming  │\n",
       "│ in rust for python programmers'}                                                                                │\n",
       "╰─────────────────────────────────────────────────────────────────────────────────────────────────────────────────╯\n",
       "</pre>\n"
      ],
      "text/plain": [
       "╭─────────────────────────────────────────────────────────────────────────────────────────────────────────────────╮\n",
       "│ Calling tool: 'web_search' with arguments: {'query': 'best book recommendation for getting good at programming  │\n",
       "│ in rust for python programmers'}                                                                                │\n",
       "╰─────────────────────────────────────────────────────────────────────────────────────────────────────────────────╯\n"
      ]
     },
     "jetTransient": {
      "display_id": null
     },
     "metadata": {},
     "output_type": "display_data"
    },
    {
     "data": {
      "text/html": [
       "<pre style=\"white-space:pre;overflow-x:auto;line-height:normal;font-family:Menlo,'DejaVu Sans Mono',consolas,'Courier New',monospace\">Observations: ## Search Results\n",
       "\n",
       "|articles - \"it is best\" vs. \"it is the best\" - English Language \n",
       "...](https://ell.stackexchange.com/questions/77629/it-is-best-vs-it-is-the-best)\n",
       "Jan 2, 2016 · The word \"best\" is an adjective, and adjectives do not take articles by themselves. Because the noun \n",
       "car is modified by the superlative adjective best, and because this makes …\n",
       "\n",
       "|adverbs - About \"best\" , \"the best\" , and \"most\" - English \n",
       "…](https://ell.stackexchange.com/questions/106993/about-best-the-best-and-most)\n",
       "Oct 20, 2016 · Both sentences could mean the same thing, however I like you best. I like chocolate best, better \n",
       "than anything else can be used when what one is choosing from is not …\n",
       "\n",
       "|difference - \"What was best\" vs \"what was the best\"? - English \n",
       "…](https://ell.stackexchange.com/questions/182964/what-was-best-vs-what-was-the-best)\n",
       "Oct 18, 2018 · In the following sentence, however, best is an adjective: \"What was best?\" If we insert the word \n",
       "the, we get a noun phrase, the best. You could certainly declare that after …\n",
       "\n",
       "|grammar - It was the best ever vs it is the best ever? - English \n",
       "...](https://ell.stackexchange.com/questions/336995/it-was-the-best-ever-vs-it-is-the-best-ever)\n",
       "May 29, 2023 · So, \" It is the best ever \" means it's the best of all time, up to the present. \" It was the best \n",
       "ever \" means either it was the best up to that point in time, and a better one may have …\n",
       "\n",
       "|\"Which one is the best\" vs. \"which one the best \n",
       "is\"](https://ell.stackexchange.com/questions/315927/which-one-is-the-best-vs-which-one-the-best-is)\n",
       "May 25, 2022 · \"Which one is the best\" is obviously a question format, so it makes sense that \" which one the best \n",
       "is \" should be the correct form. This is very good instinct, and you could …\n",
       "\n",
       "|how to use “best” as adverb? - English Language Learners Stack \n",
       "…](https://ell.stackexchange.com/questions/203492/how-to-use-best-as-adverb)\n",
       "1 Your example already shows how to use \"best\" as an adverb. It is also a superlative, like \"greatest\", or \n",
       "\"highest\", so just as you would use it as an adjective to show that something is …\n",
       "\n",
       "|expressions - \"it's best\" - how should it be used? - English \n",
       "…](https://ell.stackexchange.com/questions/267973/its-best-how-should-it-be-used)\n",
       "Dec 8, 2020 · It's best that he bought it yesterday. or It's good that he bought it yesterday. 2a has a quite \n",
       "different meaning, implying that what is being approved of is not that the purchase be …\n",
       "\n",
       "|valediction - \"With best/kind regards\" vs \"Best/Kind \n",
       "regards\"](https://ell.stackexchange.com/questions/73171/with-best-kind-regards-vs-best-kind-regards)\n",
       "Nov 13, 2015 · 5 In Europe, it is not uncommon to receive emails with the valediction With best/kind regards, \n",
       "instead of the more typical and shorter Best/Kind regards. When I see a …\n",
       "\n",
       "|definite article - \"Most\" \"best\" with or without \"the\" - English \n",
       "...](https://ell.stackexchange.com/questions/258033/most-best-with-or-without-the)\n",
       "Aug 22, 2020 · I mean here \"You are the best at tennis\" \"and \"you are best at tennis\", \"choose the book you like \n",
       "the best or best\" both of them can have different meanings but \"most\" and …\n",
       "\n",
       "|How to use \"best ever\" - English Language Learners Stack \n",
       "…](https://ell.stackexchange.com/questions/229585/how-to-use-best-ever)\n",
       "Nov 8, 2019 · Consider this sentences: This is the best ever song that I've heard. This is the best song ever that \n",
       "I've heard. Which of them is correct? How should we combine \"best ever\" and a …\n",
       "</pre>\n"
      ],
      "text/plain": [
       "Observations: ## Search Results\n",
       "\n",
       "|articles - \"it is best\" vs. \"it is the best\" - English Language \n",
       "...](https://ell.stackexchange.com/questions/77629/it-is-best-vs-it-is-the-best)\n",
       "Jan 2, 2016 · The word \"best\" is an adjective, and adjectives do not take articles by themselves. Because the noun \n",
       "car is modified by the superlative adjective best, and because this makes …\n",
       "\n",
       "|adverbs - About \"best\" , \"the best\" , and \"most\" - English \n",
       "…](https://ell.stackexchange.com/questions/106993/about-best-the-best-and-most)\n",
       "Oct 20, 2016 · Both sentences could mean the same thing, however I like you best. I like chocolate best, better \n",
       "than anything else can be used when what one is choosing from is not …\n",
       "\n",
       "|difference - \"What was best\" vs \"what was the best\"? - English \n",
       "…](https://ell.stackexchange.com/questions/182964/what-was-best-vs-what-was-the-best)\n",
       "Oct 18, 2018 · In the following sentence, however, best is an adjective: \"What was best?\" If we insert the word \n",
       "the, we get a noun phrase, the best. You could certainly declare that after …\n",
       "\n",
       "|grammar - It was the best ever vs it is the best ever? - English \n",
       "...](https://ell.stackexchange.com/questions/336995/it-was-the-best-ever-vs-it-is-the-best-ever)\n",
       "May 29, 2023 · So, \" It is the best ever \" means it's the best of all time, up to the present. \" It was the best \n",
       "ever \" means either it was the best up to that point in time, and a better one may have …\n",
       "\n",
       "|\"Which one is the best\" vs. \"which one the best \n",
       "is\"](https://ell.stackexchange.com/questions/315927/which-one-is-the-best-vs-which-one-the-best-is)\n",
       "May 25, 2022 · \"Which one is the best\" is obviously a question format, so it makes sense that \" which one the best \n",
       "is \" should be the correct form. This is very good instinct, and you could …\n",
       "\n",
       "|how to use “best” as adverb? - English Language Learners Stack \n",
       "…](https://ell.stackexchange.com/questions/203492/how-to-use-best-as-adverb)\n",
       "1 Your example already shows how to use \"best\" as an adverb. It is also a superlative, like \"greatest\", or \n",
       "\"highest\", so just as you would use it as an adjective to show that something is …\n",
       "\n",
       "|expressions - \"it's best\" - how should it be used? - English \n",
       "…](https://ell.stackexchange.com/questions/267973/its-best-how-should-it-be-used)\n",
       "Dec 8, 2020 · It's best that he bought it yesterday. or It's good that he bought it yesterday. 2a has a quite \n",
       "different meaning, implying that what is being approved of is not that the purchase be …\n",
       "\n",
       "|valediction - \"With best/kind regards\" vs \"Best/Kind \n",
       "regards\"](https://ell.stackexchange.com/questions/73171/with-best-kind-regards-vs-best-kind-regards)\n",
       "Nov 13, 2015 · 5 In Europe, it is not uncommon to receive emails with the valediction With best/kind regards, \n",
       "instead of the more typical and shorter Best/Kind regards. When I see a …\n",
       "\n",
       "|definite article - \"Most\" \"best\" with or without \"the\" - English \n",
       "...](https://ell.stackexchange.com/questions/258033/most-best-with-or-without-the)\n",
       "Aug 22, 2020 · I mean here \"You are the best at tennis\" \"and \"you are best at tennis\", \"choose the book you like \n",
       "the best or best\" both of them can have different meanings but \"most\" and …\n",
       "\n",
       "|How to use \"best ever\" - English Language Learners Stack \n",
       "…](https://ell.stackexchange.com/questions/229585/how-to-use-best-ever)\n",
       "Nov 8, 2019 · Consider this sentences: This is the best ever song that I've heard. This is the best song ever that \n",
       "I've heard. Which of them is correct? How should we combine \"best ever\" and a …\n"
      ]
     },
     "jetTransient": {
      "display_id": null
     },
     "metadata": {},
     "output_type": "display_data"
    },
    {
     "data": {
      "text/html": [
       "<pre style=\"white-space:pre;overflow-x:auto;line-height:normal;font-family:Menlo,'DejaVu Sans Mono',consolas,'Courier New',monospace\"><span style=\"color: #7f7f7f; text-decoration-color: #7f7f7f\">[Step 1: Duration 1.32 seconds| Input tokens: 1,193 | Output tokens: 31]</span>\n",
       "</pre>\n"
      ],
      "text/plain": [
       "\u001b[2m[Step 1: Duration 1.32 seconds| Input tokens: 1,193 | Output tokens: 31]\u001b[0m\n"
      ]
     },
     "jetTransient": {
      "display_id": null
     },
     "metadata": {},
     "output_type": "display_data"
    },
    {
     "data": {
      "text/html": [
       "<pre style=\"white-space:pre;overflow-x:auto;line-height:normal;font-family:Menlo,'DejaVu Sans Mono',consolas,'Courier New',monospace\"><span style=\"color: #d4b702; text-decoration-color: #d4b702\">━━━━━━━━━━━━━━━━━━━━━━━━━━━━━━━━━━━━━━━━━━━━━━━━━━━━━ </span><span style=\"font-weight: bold\">Step 2</span><span style=\"color: #d4b702; text-decoration-color: #d4b702\"> ━━━━━━━━━━━━━━━━━━━━━━━━━━━━━━━━━━━━━━━━━━━━━━━━━━━━━━</span>\n",
       "</pre>\n"
      ],
      "text/plain": [
       "\u001b[38;2;212;183;2m━━━━━━━━━━━━━━━━━━━━━━━━━━━━━━━━━━━━━━━━━━━━━━━━━━━━━ \u001b[0m\u001b[1mStep 2\u001b[0m\u001b[38;2;212;183;2m ━━━━━━━━━━━━━━━━━━━━━━━━━━━━━━━━━━━━━━━━━━━━━━━━━━━━━━\u001b[0m\n"
      ]
     },
     "jetTransient": {
      "display_id": null
     },
     "metadata": {},
     "output_type": "display_data"
    },
    {
     "data": {
      "text/html": [
       "<pre style=\"white-space:pre;overflow-x:auto;line-height:normal;font-family:Menlo,'DejaVu Sans Mono',consolas,'Courier New',monospace\">╭─────────────────────────────────────────────────────────────────────────────────────────────────────────────────╮\n",
       "│ Calling tool: 'web_search' with arguments: {'query': 'best book recommendation for getting good at programming  │\n",
       "│ in rust for python programmers'}                                                                                │\n",
       "╰─────────────────────────────────────────────────────────────────────────────────────────────────────────────────╯\n",
       "</pre>\n"
      ],
      "text/plain": [
       "╭─────────────────────────────────────────────────────────────────────────────────────────────────────────────────╮\n",
       "│ Calling tool: 'web_search' with arguments: {'query': 'best book recommendation for getting good at programming  │\n",
       "│ in rust for python programmers'}                                                                                │\n",
       "╰─────────────────────────────────────────────────────────────────────────────────────────────────────────────────╯\n"
      ]
     },
     "jetTransient": {
      "display_id": null
     },
     "metadata": {},
     "output_type": "display_data"
    },
    {
     "data": {
      "text/html": [
       "<pre style=\"white-space:pre;overflow-x:auto;line-height:normal;font-family:Menlo,'DejaVu Sans Mono',consolas,'Courier New',monospace\">Observations: ## Search Results\n",
       "\n",
       "|The Rust Programming Language by Steve Klabnik | \n",
       "Goodreads](https://www.goodreads.com/book/show/25008661-the-rust-programming-language)\n",
       "The Rust Programming Language is the official book on Rust , an open-source, community-developed systems \n",
       "programming language that runs blazingly fast ...\n",
       "\n",
       "|For a beginner: The Rust Programming Language or \n",
       "the](https://users.rust-lang.org/t/for-a-beginner-the-rust-programming-language-or-the-programming-rust-book/18575)\n",
       "For that, I've found 2 ... I started with Programming Rust - It's really good book - it's also available for online\n",
       "read in Safari books .\n",
       "\n",
       "|Two new Rust books just released! 🎉 - announcements - \n",
       "The](https://users.rust-lang.org/t/two-new-rust-books-just-released/107796)\n",
       "Quite often we have discussions here about whether Rust is a suitable language to use in introducing programming to\n",
       "those that have never programmed ...\n",
       "\n",
       "|9 Best Rust Programming Courses and Books for Beginners in \n",
       "2023](https://readmedium.com/7-best-rust-programming-courses-and-books-for-beginners-in-2021-2ed2311af46c)\n",
       "The author expresses personal enthusiasm for learning Rust , considering it one of the best decisions for \n",
       "programmers in 2023 due to its growing ...\n",
       "\n",
       "|Book Review: The Rust Programming Language - Programming \n",
       "for](https://slar.se/book-review-the-rust-programming-language.html)\n",
       "... book for someone who is already somewhat familiar with programming concepts, but it's not the best resource for\n",
       "getting started with programming as a ...\n",
       "\n",
       "|Top 9 Rust Books for Beginners in 2024 — Books on \n",
       "Code](https://booksoncode.com/articles/best-rust-books-for-beginners)\n",
       "If you are looking for some useful books to learn Rust Programming language for beginners, then you have come to \n",
       "the right place.\n",
       "\n",
       "|Rust](https://play.org/links/rust)\n",
       "Blandy ’ s &amp; Orendorff ’ s Programming Rust is the closest to a K&amp;R C book for the Rust programming language so \n",
       "far.\n",
       "\n",
       "|Rust](http://play.org/links/rust)\n",
       "Blandy ’ s &amp; Orendorff ’ s Programming Rust is the closest to a K&amp;R C book for the Rust programming language so \n",
       "far.\n",
       "\n",
       "|The Rust Programming Language, 2nd Edition | No Starch \n",
       "Press](https://nostarch.com/rust-programming-language-2nd-edition)\n",
       "... for the book in the community, and ensures that it will remain a solid introduction to the best Rust has to \n",
       "offer for years to come.\" — Jon ...\n",
       "\n",
       "|Which One Is Best for Your Project? ( Rust vs Python ) | \n",
       "Hostao](https://hostao.com/which-one-is-best-for-your-project-rust-vs-python/)\n",
       "You do not need to define variable types in Python because the Python interpreter does that job for you at program \n",
       "run time based on the variable ...\n",
       "</pre>\n"
      ],
      "text/plain": [
       "Observations: ## Search Results\n",
       "\n",
       "|The Rust Programming Language by Steve Klabnik | \n",
       "Goodreads](https://www.goodreads.com/book/show/25008661-the-rust-programming-language)\n",
       "The Rust Programming Language is the official book on Rust , an open-source, community-developed systems \n",
       "programming language that runs blazingly fast ...\n",
       "\n",
       "|For a beginner: The Rust Programming Language or \n",
       "the](https://users.rust-lang.org/t/for-a-beginner-the-rust-programming-language-or-the-programming-rust-book/18575)\n",
       "For that, I've found 2 ... I started with Programming Rust - It's really good book - it's also available for online\n",
       "read in Safari books .\n",
       "\n",
       "|Two new Rust books just released! 🎉 - announcements - \n",
       "The](https://users.rust-lang.org/t/two-new-rust-books-just-released/107796)\n",
       "Quite often we have discussions here about whether Rust is a suitable language to use in introducing programming to\n",
       "those that have never programmed ...\n",
       "\n",
       "|9 Best Rust Programming Courses and Books for Beginners in \n",
       "2023](https://readmedium.com/7-best-rust-programming-courses-and-books-for-beginners-in-2021-2ed2311af46c)\n",
       "The author expresses personal enthusiasm for learning Rust , considering it one of the best decisions for \n",
       "programmers in 2023 due to its growing ...\n",
       "\n",
       "|Book Review: The Rust Programming Language - Programming \n",
       "for](https://slar.se/book-review-the-rust-programming-language.html)\n",
       "... book for someone who is already somewhat familiar with programming concepts, but it's not the best resource for\n",
       "getting started with programming as a ...\n",
       "\n",
       "|Top 9 Rust Books for Beginners in 2024 — Books on \n",
       "Code](https://booksoncode.com/articles/best-rust-books-for-beginners)\n",
       "If you are looking for some useful books to learn Rust Programming language for beginners, then you have come to \n",
       "the right place.\n",
       "\n",
       "|Rust](https://play.org/links/rust)\n",
       "Blandy ’ s & Orendorff ’ s Programming Rust is the closest to a K&R C book for the Rust programming language so \n",
       "far.\n",
       "\n",
       "|Rust](http://play.org/links/rust)\n",
       "Blandy ’ s & Orendorff ’ s Programming Rust is the closest to a K&R C book for the Rust programming language so \n",
       "far.\n",
       "\n",
       "|The Rust Programming Language, 2nd Edition | No Starch \n",
       "Press](https://nostarch.com/rust-programming-language-2nd-edition)\n",
       "... for the book in the community, and ensures that it will remain a solid introduction to the best Rust has to \n",
       "offer for years to come.\" — Jon ...\n",
       "\n",
       "|Which One Is Best for Your Project? ( Rust vs Python ) | \n",
       "Hostao](https://hostao.com/which-one-is-best-for-your-project-rust-vs-python/)\n",
       "You do not need to define variable types in Python because the Python interpreter does that job for you at program \n",
       "run time based on the variable ...\n"
      ]
     },
     "jetTransient": {
      "display_id": null
     },
     "metadata": {},
     "output_type": "display_data"
    },
    {
     "data": {
      "text/html": [
       "<pre style=\"white-space:pre;overflow-x:auto;line-height:normal;font-family:Menlo,'DejaVu Sans Mono',consolas,'Courier New',monospace\"><span style=\"color: #7f7f7f; text-decoration-color: #7f7f7f\">[Step 2: Duration 2.34 seconds| Input tokens: 3,416 | Output tokens: 62]</span>\n",
       "</pre>\n"
      ],
      "text/plain": [
       "\u001b[2m[Step 2: Duration 2.34 seconds| Input tokens: 3,416 | Output tokens: 62]\u001b[0m\n"
      ]
     },
     "jetTransient": {
      "display_id": null
     },
     "metadata": {},
     "output_type": "display_data"
    },
    {
     "data": {
      "text/html": [
       "<pre style=\"white-space:pre;overflow-x:auto;line-height:normal;font-family:Menlo,'DejaVu Sans Mono',consolas,'Courier New',monospace\"><span style=\"color: #d4b702; text-decoration-color: #d4b702\">━━━━━━━━━━━━━━━━━━━━━━━━━━━━━━━━━━━━━━━━━━━━━━━━━━━━━ </span><span style=\"font-weight: bold\">Step 3</span><span style=\"color: #d4b702; text-decoration-color: #d4b702\"> ━━━━━━━━━━━━━━━━━━━━━━━━━━━━━━━━━━━━━━━━━━━━━━━━━━━━━━</span>\n",
       "</pre>\n"
      ],
      "text/plain": [
       "\u001b[38;2;212;183;2m━━━━━━━━━━━━━━━━━━━━━━━━━━━━━━━━━━━━━━━━━━━━━━━━━━━━━ \u001b[0m\u001b[1mStep 3\u001b[0m\u001b[38;2;212;183;2m ━━━━━━━━━━━━━━━━━━━━━━━━━━━━━━━━━━━━━━━━━━━━━━━━━━━━━━\u001b[0m\n"
      ]
     },
     "jetTransient": {
      "display_id": null
     },
     "metadata": {},
     "output_type": "display_data"
    },
    {
     "data": {
      "text/html": [
       "<pre style=\"white-space:pre;overflow-x:auto;line-height:normal;font-family:Menlo,'DejaVu Sans Mono',consolas,'Courier New',monospace\">╭─────────────────────────────────────────────────────────────────────────────────────────────────────────────────╮\n",
       "│ Calling tool: 'final_answer' with arguments: {'answer': \"Based on the search results, 'Programming Rust' by Jim │\n",
       "│ Blandy and Jason Orendorff is highly recommended for someone who already knows Python and wants to get good at  │\n",
       "│ programming in Rust. It is often compared to the K&amp;R C book for Rust, making it a solid choice for those with   │\n",
       "│ some programming background.\"}                                                                                  │\n",
       "╰─────────────────────────────────────────────────────────────────────────────────────────────────────────────────╯\n",
       "</pre>\n"
      ],
      "text/plain": [
       "╭─────────────────────────────────────────────────────────────────────────────────────────────────────────────────╮\n",
       "│ Calling tool: 'final_answer' with arguments: {'answer': \"Based on the search results, 'Programming Rust' by Jim │\n",
       "│ Blandy and Jason Orendorff is highly recommended for someone who already knows Python and wants to get good at  │\n",
       "│ programming in Rust. It is often compared to the K&R C book for Rust, making it a solid choice for those with   │\n",
       "│ some programming background.\"}                                                                                  │\n",
       "╰─────────────────────────────────────────────────────────────────────────────────────────────────────────────────╯\n"
      ]
     },
     "jetTransient": {
      "display_id": null
     },
     "metadata": {},
     "output_type": "display_data"
    },
    {
     "data": {
      "text/html": [
       "<pre style=\"white-space:pre;overflow-x:auto;line-height:normal;font-family:Menlo,'DejaVu Sans Mono',consolas,'Courier New',monospace\">Observations: Based on the search results, 'Programming Rust' by Jim Blandy and Jason Orendorff is highly \n",
       "recommended for someone who already knows Python and wants to get good at programming in Rust. It is often compared\n",
       "to the K&amp;R C book for Rust, making it a solid choice for those with some programming background.\n",
       "</pre>\n"
      ],
      "text/plain": [
       "Observations: Based on the search results, 'Programming Rust' by Jim Blandy and Jason Orendorff is highly \n",
       "recommended for someone who already knows Python and wants to get good at programming in Rust. It is often compared\n",
       "to the K&R C book for Rust, making it a solid choice for those with some programming background.\n"
      ]
     },
     "jetTransient": {
      "display_id": null
     },
     "metadata": {},
     "output_type": "display_data"
    },
    {
     "data": {
      "text/html": [
       "<pre style=\"white-space:pre;overflow-x:auto;line-height:normal;font-family:Menlo,'DejaVu Sans Mono',consolas,'Courier New',monospace\"><span style=\"color: #d4b702; text-decoration-color: #d4b702; font-weight: bold\">Final answer: Based on the search results, 'Programming Rust' by Jim Blandy and Jason Orendorff is highly </span>\n",
       "<span style=\"color: #d4b702; text-decoration-color: #d4b702; font-weight: bold\">recommended for someone who already knows Python and wants to get good at programming in Rust. It is often compared</span>\n",
       "<span style=\"color: #d4b702; text-decoration-color: #d4b702; font-weight: bold\">to the K&amp;R C book for Rust, making it a solid choice for those with some programming background.</span>\n",
       "</pre>\n"
      ],
      "text/plain": [
       "\u001b[1;38;2;212;183;2mFinal answer: Based on the search results, 'Programming Rust' by Jim Blandy and Jason Orendorff is highly \u001b[0m\n",
       "\u001b[1;38;2;212;183;2mrecommended for someone who already knows Python and wants to get good at programming in Rust. It is often compared\u001b[0m\n",
       "\u001b[1;38;2;212;183;2mto the K&R C book for Rust, making it a solid choice for those with some programming background.\u001b[0m\n"
      ]
     },
     "jetTransient": {
      "display_id": null
     },
     "metadata": {},
     "output_type": "display_data"
    },
    {
     "data": {
      "text/html": [
       "<pre style=\"white-space:pre;overflow-x:auto;line-height:normal;font-family:Menlo,'DejaVu Sans Mono',consolas,'Courier New',monospace\"><span style=\"color: #7f7f7f; text-decoration-color: #7f7f7f\">[Step 3: Duration 1.47 seconds| Input tokens: 6,343 | Output tokens: 145]</span>\n",
       "</pre>\n"
      ],
      "text/plain": [
       "\u001b[2m[Step 3: Duration 1.47 seconds| Input tokens: 6,343 | Output tokens: 145]\u001b[0m\n"
      ]
     },
     "jetTransient": {
      "display_id": null
     },
     "metadata": {},
     "output_type": "display_data"
    },
    {
     "data": {
      "text/plain": [
       "\"Based on the search results, 'Programming Rust' by Jim Blandy and Jason Orendorff is highly recommended for someone who already knows Python and wants to get good at programming in Rust. It is often compared to the K&R C book for Rust, making it a solid choice for those with some programming background.\""
      ]
     },
     "execution_count": 21,
     "metadata": {},
     "output_type": "execute_result"
    }
   ],
   "source": [
    "tool_agent_reg.run(\n",
    "\t\"Search for the best book recommendation for getting good at programming in rust for programmer who know python\"\n",
    ")"
   ]
  },
  {
   "cell_type": "markdown",
   "id": "74ecb6ea8bb478af",
   "metadata": {},
   "source": [
    "|          Feature          | ToolCallingAgent              |              CodeAgent              |\n",
    "|:-------------------------:|-------------------------------|:-----------------------------------:|\n",
    "| **Complexity**            | Lower complexity              | Higher complexity                   |\n",
    "| **Flexibility**           | Structured and predictable    | Highly flexible and dynamic         |\n",
    "| **Arbitrary Code**        | No                            | Yes                                 |\n",
    "| **Typical tasks**         | Simple, structured tasks      | Complex, unstructured tasks         |\n",
    "| **Error risk**            | Lower (predictable execution) | Higher (can have runtime errors)    |\n",
    "| **3rd party packages**    | No                            | Can integrate to improve output     |\n",
    "| **Security implications** | Safer (API calls only)        | Needs caution(executes python code) |"
   ]
  },
  {
   "cell_type": "markdown",
   "id": "f12aa24f4206ce35",
   "metadata": {
    "ExecuteTime": {
     "end_time": "2025-09-22T13:00:37.067645Z",
     "start_time": "2025-09-22T13:00:37.065516Z"
    }
   },
   "source": "## Let's integrate LangFuse and opentelemetry to see behind the scene in agent execution"
  },
  {
   "cell_type": "code",
   "execution_count": 40,
   "id": "bf8b7e2a02417aef",
   "metadata": {
    "ExecuteTime": {
     "end_time": "2025-09-22T13:37:28.494618Z",
     "start_time": "2025-09-22T13:37:28.489858Z"
    }
   },
   "outputs": [
    {
     "data": {
      "text/plain": [
       "True"
      ]
     },
     "execution_count": 40,
     "metadata": {},
     "output_type": "execute_result"
    }
   ],
   "source": [
    "from dotenv import load_dotenv, find_dotenv\n",
    "\n",
    "load_dotenv(find_dotenv())"
   ]
  },
  {
   "cell_type": "code",
   "execution_count": 41,
   "id": "4ec631da177c61b6",
   "metadata": {
    "ExecuteTime": {
     "end_time": "2025-09-22T13:37:29.953006Z",
     "start_time": "2025-09-22T13:37:29.950586Z"
    }
   },
   "outputs": [],
   "source": [
    "LANGFUSE_PUBLIC_KEY = os.getenv(\"PUBLIC_KEY\")\n",
    "LANGFUSE_SECRET_KEY = os.getenv(\"SECRET_KEY\")"
   ]
  },
  {
   "cell_type": "code",
   "execution_count": 42,
   "id": "c427fb61d4958676",
   "metadata": {
    "ExecuteTime": {
     "end_time": "2025-09-22T13:37:31.163564Z",
     "start_time": "2025-09-22T13:37:31.161461Z"
    }
   },
   "outputs": [],
   "source": [
    "# OTEL_EXPORTER_OTLP_ENDPOINT = \"https://cloud.langfuse.com/api/public/otel\"  # EU Region\n",
    "# OTEL_EXPORTER_OTLP_ENDPOINT = \"https://us.cloud.langfuse.com/api/public/otel\""
   ]
  },
  {
   "cell_type": "code",
   "execution_count": 44,
   "id": "cfbfe050055321eb",
   "metadata": {
    "ExecuteTime": {
     "end_time": "2025-09-22T13:38:43.926421Z",
     "start_time": "2025-09-22T13:38:43.890728Z"
    }
   },
   "outputs": [],
   "source": [
    "from langfuse import Langfuse\n",
    "\n",
    "langfuse = Langfuse(\n",
    "\tsecret_key=os.getenv(\"SECRET_KEY\"),\n",
    "\tpublic_key=os.getenv(\"PUBLIC_KEY\"),\n",
    "\thost=os.getenv(\"LANGFUSE_HOST\"),\n",
    ")"
   ]
  },
  {
   "cell_type": "code",
   "execution_count": 45,
   "id": "514abddc74f5cd74",
   "metadata": {
    "ExecuteTime": {
     "end_time": "2025-09-22T13:38:45.534161Z",
     "start_time": "2025-09-22T13:38:45.268712Z"
    }
   },
   "outputs": [
    {
     "name": "stdout",
     "output_type": "stream",
     "text": [
      "Langfuse client is authenticated and ready!\n"
     ]
    }
   ],
   "source": [
    "from langfuse import get_client\n",
    "\n",
    "langfuse = get_client()\n",
    "\n",
    "# Verify connection, do not use in production as this is a synchronous call\n",
    "if langfuse.auth_check():\n",
    "\tprint(\"Langfuse client is authenticated and ready!\")\n",
    "else:\n",
    "\tprint(\"Authentication failed. Please check your credentials and host.\")"
   ]
  },
  {
   "cell_type": "code",
   "execution_count": 46,
   "id": "d6efa9775b285531",
   "metadata": {
    "ExecuteTime": {
     "end_time": "2025-09-22T13:38:52.801280Z",
     "start_time": "2025-09-22T13:38:52.799099Z"
    }
   },
   "outputs": [],
   "source": [
    "from opentelemetry.sdk.trace import TracerProvider\n",
    "from openinference.instrumentation.smolagents import SmolagentsInstrumentor\n",
    "from opentelemetry.exporter.otlp.proto.grpc.trace_exporter import OTLPSpanExporter\n",
    "from opentelemetry.sdk.trace.export import SimpleSpanProcessor"
   ]
  },
  {
   "cell_type": "code",
   "execution_count": 47,
   "id": "f29c55bd55e8360c",
   "metadata": {
    "ExecuteTime": {
     "end_time": "2025-09-22T13:38:53.632620Z",
     "start_time": "2025-09-22T13:38:53.629872Z"
    }
   },
   "outputs": [],
   "source": [
    "trace_provider = TracerProvider()\n",
    "trace_provider.add_span_processor(SimpleSpanProcessor(OTLPSpanExporter()))"
   ]
  },
  {
   "cell_type": "code",
   "execution_count": 48,
   "id": "59bb9e152a12acbf",
   "metadata": {
    "ExecuteTime": {
     "end_time": "2025-09-22T13:38:54.680266Z",
     "start_time": "2025-09-22T13:38:54.678606Z"
    }
   },
   "outputs": [
    {
     "name": "stderr",
     "output_type": "stream",
     "text": [
      "Attempting to instrument while already instrumented\n"
     ]
    }
   ],
   "source": [
    "SmolagentsInstrumentor().instrument(trace_provider=trace_provider)"
   ]
  },
  {
   "cell_type": "code",
   "execution_count": 49,
   "id": "a7680bd6bc0b65c6",
   "metadata": {
    "ExecuteTime": {
     "end_time": "2025-09-22T13:38:56.350045Z",
     "start_time": "2025-09-22T13:38:56.337151Z"
    }
   },
   "outputs": [],
   "source": [
    "from smolagents import CodeAgent, InferenceClientModel\n",
    "\n",
    "agent_langfuse = CodeAgent(\n",
    "\ttools=[DuckDuckGoSearchTool()],\n",
    "\tmodel=InferenceClientModel(\n",
    "\t\tprovider=\"together\", api_key=os.getenv(\"HF_WRITE_TOKEN\")\n",
    "\t),\n",
    ")"
   ]
  },
  {
   "cell_type": "code",
   "execution_count": 50,
   "id": "f8281fee3c8d661a",
   "metadata": {
    "ExecuteTime": {
     "end_time": "2025-09-22T13:39:02.712314Z",
     "start_time": "2025-09-22T13:38:57.517432Z"
    }
   },
   "outputs": [
    {
     "data": {
      "text/html": [
       "<pre style=\"white-space:pre;overflow-x:auto;line-height:normal;font-family:Menlo,'DejaVu Sans Mono',consolas,'Courier New',monospace\"><span style=\"color: #d4b702; text-decoration-color: #d4b702\">╭──────────────────────────────────────────────────── </span><span style=\"color: #d4b702; text-decoration-color: #d4b702; font-weight: bold\">New run</span><span style=\"color: #d4b702; text-decoration-color: #d4b702\"> ────────────────────────────────────────────────────╮</span>\n",
       "<span style=\"color: #d4b702; text-decoration-color: #d4b702\">│</span>                                                                                                                 <span style=\"color: #d4b702; text-decoration-color: #d4b702\">│</span>\n",
       "<span style=\"color: #d4b702; text-decoration-color: #d4b702\">│</span> <span style=\"font-weight: bold\">Search the best book for implementing agents for production using rust language.</span>                                <span style=\"color: #d4b702; text-decoration-color: #d4b702\">│</span>\n",
       "<span style=\"color: #d4b702; text-decoration-color: #d4b702\">│</span>                                                                                                                 <span style=\"color: #d4b702; text-decoration-color: #d4b702\">│</span>\n",
       "<span style=\"color: #d4b702; text-decoration-color: #d4b702\">╰─ InferenceClientModel - Qwen/Qwen2.5-Coder-32B-Instruct ────────────────────────────────────────────────────────╯</span>\n",
       "</pre>\n"
      ],
      "text/plain": [
       "\u001b[38;2;212;183;2m╭─\u001b[0m\u001b[38;2;212;183;2m───────────────────────────────────────────────────\u001b[0m\u001b[38;2;212;183;2m \u001b[0m\u001b[1;38;2;212;183;2mNew run\u001b[0m\u001b[38;2;212;183;2m \u001b[0m\u001b[38;2;212;183;2m───────────────────────────────────────────────────\u001b[0m\u001b[38;2;212;183;2m─╮\u001b[0m\n",
       "\u001b[38;2;212;183;2m│\u001b[0m                                                                                                                 \u001b[38;2;212;183;2m│\u001b[0m\n",
       "\u001b[38;2;212;183;2m│\u001b[0m \u001b[1mSearch the best book for implementing agents for production using rust language.\u001b[0m                                \u001b[38;2;212;183;2m│\u001b[0m\n",
       "\u001b[38;2;212;183;2m│\u001b[0m                                                                                                                 \u001b[38;2;212;183;2m│\u001b[0m\n",
       "\u001b[38;2;212;183;2m╰─\u001b[0m\u001b[38;2;212;183;2m InferenceClientModel - Qwen/Qwen2.5-Coder-32B-Instruct \u001b[0m\u001b[38;2;212;183;2m───────────────────────────────────────────────────────\u001b[0m\u001b[38;2;212;183;2m─╯\u001b[0m\n"
      ]
     },
     "jetTransient": {
      "display_id": null
     },
     "metadata": {},
     "output_type": "display_data"
    },
    {
     "data": {
      "text/html": [
       "<pre style=\"white-space:pre;overflow-x:auto;line-height:normal;font-family:Menlo,'DejaVu Sans Mono',consolas,'Courier New',monospace\"><span style=\"color: #d4b702; text-decoration-color: #d4b702\">━━━━━━━━━━━━━━━━━━━━━━━━━━━━━━━━━━━━━━━━━━━━━━━━━━━━━ </span><span style=\"font-weight: bold\">Step 1</span><span style=\"color: #d4b702; text-decoration-color: #d4b702\"> ━━━━━━━━━━━━━━━━━━━━━━━━━━━━━━━━━━━━━━━━━━━━━━━━━━━━━━</span>\n",
       "</pre>\n"
      ],
      "text/plain": [
       "\u001b[38;2;212;183;2m━━━━━━━━━━━━━━━━━━━━━━━━━━━━━━━━━━━━━━━━━━━━━━━━━━━━━ \u001b[0m\u001b[1mStep 1\u001b[0m\u001b[38;2;212;183;2m ━━━━━━━━━━━━━━━━━━━━━━━━━━━━━━━━━━━━━━━━━━━━━━━━━━━━━━\u001b[0m\n"
      ]
     },
     "jetTransient": {
      "display_id": null
     },
     "metadata": {},
     "output_type": "display_data"
    },
    {
     "data": {
      "text/html": [
       "<pre style=\"white-space:pre;overflow-x:auto;line-height:normal;font-family:Menlo,'DejaVu Sans Mono',consolas,'Courier New',monospace\"> ─ <span style=\"font-weight: bold\">Executing parsed code:</span> ──────────────────────────────────────────────────────────────────────────────────────── \n",
       "  <span style=\"color: #f8f8f2; text-decoration-color: #f8f8f2; background-color: #272822\">search_results </span><span style=\"color: #ff4689; text-decoration-color: #ff4689; background-color: #272822\">=</span><span style=\"color: #f8f8f2; text-decoration-color: #f8f8f2; background-color: #272822\"> web_search(query</span><span style=\"color: #ff4689; text-decoration-color: #ff4689; background-color: #272822\">=</span><span style=\"color: #e6db74; text-decoration-color: #e6db74; background-color: #272822\">\"best book for implementing agents for production using rust\"</span><span style=\"color: #f8f8f2; text-decoration-color: #f8f8f2; background-color: #272822\">)</span><span style=\"background-color: #272822\">               </span>  \n",
       "  <span style=\"color: #f8f8f2; text-decoration-color: #f8f8f2; background-color: #272822\">print(search_results)</span><span style=\"background-color: #272822\">                                                                                          </span>  \n",
       " ───────────────────────────────────────────────────────────────────────────────────────────────────────────────── \n",
       "</pre>\n"
      ],
      "text/plain": [
       " ─ \u001b[1mExecuting parsed code:\u001b[0m ──────────────────────────────────────────────────────────────────────────────────────── \n",
       "  \u001b[38;2;248;248;242;48;2;39;40;34msearch_results\u001b[0m\u001b[38;2;248;248;242;48;2;39;40;34m \u001b[0m\u001b[38;2;255;70;137;48;2;39;40;34m=\u001b[0m\u001b[38;2;248;248;242;48;2;39;40;34m \u001b[0m\u001b[38;2;248;248;242;48;2;39;40;34mweb_search\u001b[0m\u001b[38;2;248;248;242;48;2;39;40;34m(\u001b[0m\u001b[38;2;248;248;242;48;2;39;40;34mquery\u001b[0m\u001b[38;2;255;70;137;48;2;39;40;34m=\u001b[0m\u001b[38;2;230;219;116;48;2;39;40;34m\"\u001b[0m\u001b[38;2;230;219;116;48;2;39;40;34mbest book for implementing agents for production using rust\u001b[0m\u001b[38;2;230;219;116;48;2;39;40;34m\"\u001b[0m\u001b[38;2;248;248;242;48;2;39;40;34m)\u001b[0m\u001b[48;2;39;40;34m               \u001b[0m  \n",
       "  \u001b[38;2;248;248;242;48;2;39;40;34mprint\u001b[0m\u001b[38;2;248;248;242;48;2;39;40;34m(\u001b[0m\u001b[38;2;248;248;242;48;2;39;40;34msearch_results\u001b[0m\u001b[38;2;248;248;242;48;2;39;40;34m)\u001b[0m\u001b[48;2;39;40;34m                                                                                          \u001b[0m  \n",
       " ───────────────────────────────────────────────────────────────────────────────────────────────────────────────── \n"
      ]
     },
     "jetTransient": {
      "display_id": null
     },
     "metadata": {},
     "output_type": "display_data"
    },
    {
     "data": {
      "text/html": [
       "<pre style=\"white-space:pre;overflow-x:auto;line-height:normal;font-family:Menlo,'DejaVu Sans Mono',consolas,'Courier New',monospace\"><span style=\"font-weight: bold\">Execution logs:</span>\n",
       "## Search Results\n",
       "\n",
       "[Learning Rust With AI • Steve Simkins](https://stevedylan.dev/posts/learning-rust-with-ai)\n",
       "... The goal is for me to learn Rust by doing the implementation work myself, with AI serving as a guide and mentor\n",
       "rather than doing the work for me ...\n",
       "\n",
       "[Rust in Action - Tim McNamara](https://www.manning.com/books/rust-in-action)\n",
       "You’ll explore Rust implementations for file manipulation, networking, and kernel-level programming and discover \n",
       "awesome techniques for parallelism ...\n",
       "\n",
       "[Rustfmt Alternatives and Reviews](https://www.libhunt.com/r/rustfmt)\n",
       "... everything from code deployment to network configuration to cloud management, in a language that approaches \n",
       "plain English, using SSH, with no agents ...\n",
       "\n",
       "[Getting Started – Read Rust](https://readrust.net/getting-started)\n",
       "This is no replacement for the Rust book , but should help you get spun up on the various patterns used in Rust \n",
       "code.\n",
       "\n",
       "[Continuous Deployment For Rust Applications | Luca \n",
       "Palmieri](https://www.lpalmieri.com/posts/2020-11-01-zero-to-production-5-how-to-deploy-a-rust-application/)\n",
       "There are many vendors, most are not straight-forward to use and what is considered state-of-art or best -practice \n",
       "tends to change really quickly 1 .\n",
       "\n",
       "[Rust in Action Audiobook | Free with trial](https://www.audible.com/pd/Rust-in-Action-Audiobook/B09H3Q3QPQ)\n",
       "You’ll explore Rust implementations for file manipulation, networking, and kernel-level programming and discover \n",
       "awesome techniques for parallelism ...\n",
       "\n",
       "[Rust’s Borrowing by Example | Manning](https://freecontent.manning.com/rusts-borrowing-by-example/)\n",
       "Our strategy for this article is to use an example that compiles, then make a minor change that triggers an error \n",
       "which appears to emerge without any ...\n",
       "\n",
       "[Rust programming language news Jobs, Employment | \n",
       "Freelancer](https://www.freelancer.com.jm/job-search/rust-programming-language-news/)\n",
       "... user -friendly, but not cartoonish Consistent visual language throughout all screens Icons in vector (SVG) \n",
       "format Illustrations can be in SVG or PNG, ...\n",
       "\n",
       "[Index – Dirkjan Ochtman](https://dirkjan.ochtman.nl/)\n",
       "I implemented the Error trait for the new pem::Error type in rustls-pki-types, which we had missed in the PR \n",
       "implementing PEM decoding .\n",
       "\n",
       "[Index – Dirkjan Ochtman](https://dirkjan.ochtman.nl/writing/)\n",
       "I implemented the Error trait for the new pem::Error type in rustls-pki-types, which we had missed in the PR \n",
       "implementing PEM decoding .\n",
       "\n",
       "Out: None\n",
       "</pre>\n"
      ],
      "text/plain": [
       "\u001b[1mExecution logs:\u001b[0m\n",
       "## Search Results\n",
       "\n",
       "[Learning Rust With AI • Steve Simkins](https://stevedylan.dev/posts/learning-rust-with-ai)\n",
       "... The goal is for me to learn Rust by doing the implementation work myself, with AI serving as a guide and mentor\n",
       "rather than doing the work for me ...\n",
       "\n",
       "[Rust in Action - Tim McNamara](https://www.manning.com/books/rust-in-action)\n",
       "You’ll explore Rust implementations for file manipulation, networking, and kernel-level programming and discover \n",
       "awesome techniques for parallelism ...\n",
       "\n",
       "[Rustfmt Alternatives and Reviews](https://www.libhunt.com/r/rustfmt)\n",
       "... everything from code deployment to network configuration to cloud management, in a language that approaches \n",
       "plain English, using SSH, with no agents ...\n",
       "\n",
       "[Getting Started – Read Rust](https://readrust.net/getting-started)\n",
       "This is no replacement for the Rust book , but should help you get spun up on the various patterns used in Rust \n",
       "code.\n",
       "\n",
       "[Continuous Deployment For Rust Applications | Luca \n",
       "Palmieri](https://www.lpalmieri.com/posts/2020-11-01-zero-to-production-5-how-to-deploy-a-rust-application/)\n",
       "There are many vendors, most are not straight-forward to use and what is considered state-of-art or best -practice \n",
       "tends to change really quickly 1 .\n",
       "\n",
       "[Rust in Action Audiobook | Free with trial](https://www.audible.com/pd/Rust-in-Action-Audiobook/B09H3Q3QPQ)\n",
       "You’ll explore Rust implementations for file manipulation, networking, and kernel-level programming and discover \n",
       "awesome techniques for parallelism ...\n",
       "\n",
       "[Rust’s Borrowing by Example | Manning](https://freecontent.manning.com/rusts-borrowing-by-example/)\n",
       "Our strategy for this article is to use an example that compiles, then make a minor change that triggers an error \n",
       "which appears to emerge without any ...\n",
       "\n",
       "[Rust programming language news Jobs, Employment | \n",
       "Freelancer](https://www.freelancer.com.jm/job-search/rust-programming-language-news/)\n",
       "... user -friendly, but not cartoonish Consistent visual language throughout all screens Icons in vector (SVG) \n",
       "format Illustrations can be in SVG or PNG, ...\n",
       "\n",
       "[Index – Dirkjan Ochtman](https://dirkjan.ochtman.nl/)\n",
       "I implemented the Error trait for the new pem::Error type in rustls-pki-types, which we had missed in the PR \n",
       "implementing PEM decoding .\n",
       "\n",
       "[Index – Dirkjan Ochtman](https://dirkjan.ochtman.nl/writing/)\n",
       "I implemented the Error trait for the new pem::Error type in rustls-pki-types, which we had missed in the PR \n",
       "implementing PEM decoding .\n",
       "\n",
       "Out: None\n"
      ]
     },
     "jetTransient": {
      "display_id": null
     },
     "metadata": {},
     "output_type": "display_data"
    },
    {
     "data": {
      "text/html": [
       "<pre style=\"white-space:pre;overflow-x:auto;line-height:normal;font-family:Menlo,'DejaVu Sans Mono',consolas,'Courier New',monospace\"><span style=\"color: #7f7f7f; text-decoration-color: #7f7f7f\">[Step 1: Duration 3.33 seconds| Input tokens: 2,000 | Output tokens: 70]</span>\n",
       "</pre>\n"
      ],
      "text/plain": [
       "\u001b[2m[Step 1: Duration 3.33 seconds| Input tokens: 2,000 | Output tokens: 70]\u001b[0m\n"
      ]
     },
     "jetTransient": {
      "display_id": null
     },
     "metadata": {},
     "output_type": "display_data"
    },
    {
     "data": {
      "text/html": [
       "<pre style=\"white-space:pre;overflow-x:auto;line-height:normal;font-family:Menlo,'DejaVu Sans Mono',consolas,'Courier New',monospace\"><span style=\"color: #d4b702; text-decoration-color: #d4b702\">━━━━━━━━━━━━━━━━━━━━━━━━━━━━━━━━━━━━━━━━━━━━━━━━━━━━━ </span><span style=\"font-weight: bold\">Step 2</span><span style=\"color: #d4b702; text-decoration-color: #d4b702\"> ━━━━━━━━━━━━━━━━━━━━━━━━━━━━━━━━━━━━━━━━━━━━━━━━━━━━━━</span>\n",
       "</pre>\n"
      ],
      "text/plain": [
       "\u001b[38;2;212;183;2m━━━━━━━━━━━━━━━━━━━━━━━━━━━━━━━━━━━━━━━━━━━━━━━━━━━━━ \u001b[0m\u001b[1mStep 2\u001b[0m\u001b[38;2;212;183;2m ━━━━━━━━━━━━━━━━━━━━━━━━━━━━━━━━━━━━━━━━━━━━━━━━━━━━━━\u001b[0m\n"
      ]
     },
     "jetTransient": {
      "display_id": null
     },
     "metadata": {},
     "output_type": "display_data"
    },
    {
     "data": {
      "text/html": [
       "<pre style=\"white-space:pre;overflow-x:auto;line-height:normal;font-family:Menlo,'DejaVu Sans Mono',consolas,'Courier New',monospace\"> ─ <span style=\"font-weight: bold\">Executing parsed code:</span> ──────────────────────────────────────────────────────────────────────────────────────── \n",
       "  <span style=\"color: #f8f8f2; text-decoration-color: #f8f8f2; background-color: #272822\">final_answer(</span><span style=\"color: #e6db74; text-decoration-color: #e6db74; background-color: #272822\">\"Rust in Action by Tim McNamara\"</span><span style=\"color: #f8f8f2; text-decoration-color: #f8f8f2; background-color: #272822\">)</span><span style=\"background-color: #272822\">                                                                 </span>  \n",
       " ───────────────────────────────────────────────────────────────────────────────────────────────────────────────── \n",
       "</pre>\n"
      ],
      "text/plain": [
       " ─ \u001b[1mExecuting parsed code:\u001b[0m ──────────────────────────────────────────────────────────────────────────────────────── \n",
       "  \u001b[38;2;248;248;242;48;2;39;40;34mfinal_answer\u001b[0m\u001b[38;2;248;248;242;48;2;39;40;34m(\u001b[0m\u001b[38;2;230;219;116;48;2;39;40;34m\"\u001b[0m\u001b[38;2;230;219;116;48;2;39;40;34mRust in Action by Tim McNamara\u001b[0m\u001b[38;2;230;219;116;48;2;39;40;34m\"\u001b[0m\u001b[38;2;248;248;242;48;2;39;40;34m)\u001b[0m\u001b[48;2;39;40;34m                                                                 \u001b[0m  \n",
       " ───────────────────────────────────────────────────────────────────────────────────────────────────────────────── \n"
      ]
     },
     "jetTransient": {
      "display_id": null
     },
     "metadata": {},
     "output_type": "display_data"
    },
    {
     "data": {
      "text/html": [
       "<pre style=\"white-space:pre;overflow-x:auto;line-height:normal;font-family:Menlo,'DejaVu Sans Mono',consolas,'Courier New',monospace\"></pre>\n"
      ],
      "text/plain": []
     },
     "jetTransient": {
      "display_id": null
     },
     "metadata": {},
     "output_type": "display_data"
    },
    {
     "data": {
      "text/html": [
       "<pre style=\"white-space:pre;overflow-x:auto;line-height:normal;font-family:Menlo,'DejaVu Sans Mono',consolas,'Courier New',monospace\"><span style=\"color: #d4b702; text-decoration-color: #d4b702; font-weight: bold\">Final answer: Rust in Action by Tim McNamara</span>\n",
       "</pre>\n"
      ],
      "text/plain": [
       "\u001b[1;38;2;212;183;2mFinal answer: Rust in Action by Tim McNamara\u001b[0m\n"
      ]
     },
     "jetTransient": {
      "display_id": null
     },
     "metadata": {},
     "output_type": "display_data"
    },
    {
     "data": {
      "text/html": [
       "<pre style=\"white-space:pre;overflow-x:auto;line-height:normal;font-family:Menlo,'DejaVu Sans Mono',consolas,'Courier New',monospace\"><span style=\"color: #7f7f7f; text-decoration-color: #7f7f7f\">[Step 2: Duration 1.85 seconds| Input tokens: 4,698 | Output tokens: 160]</span>\n",
       "</pre>\n"
      ],
      "text/plain": [
       "\u001b[2m[Step 2: Duration 1.85 seconds| Input tokens: 4,698 | Output tokens: 160]\u001b[0m\n"
      ]
     },
     "jetTransient": {
      "display_id": null
     },
     "metadata": {},
     "output_type": "display_data"
    },
    {
     "data": {
      "text/plain": [
       "'Rust in Action by Tim McNamara'"
      ]
     },
     "execution_count": 50,
     "metadata": {},
     "output_type": "execute_result"
    }
   ],
   "source": [
    "agent_langfuse.run(\n",
    "\t\"Search the best book for implementing agents for production using rust language.\"\n",
    ")"
   ]
  },
  {
   "cell_type": "code",
   "execution_count": 51,
   "id": "6bdcba93030e2d6e",
   "metadata": {
    "ExecuteTime": {
     "end_time": "2025-09-22T13:49:19.118748Z",
     "start_time": "2025-09-22T13:49:19.107305Z"
    }
   },
   "outputs": [],
   "source": [
    "from smolagents import ToolCallingAgent, InferenceClientModel\n",
    "\n",
    "tool_agent_langfuse = ToolCallingAgent(\n",
    "\ttools=[DuckDuckGoSearchTool()],\n",
    "\tmodel=InferenceClientModel(\n",
    "\t\tprovider=\"together\", api_key=os.getenv(\"HF_WRITE_TOKEN\")\n",
    "\t),\n",
    ")"
   ]
  },
  {
   "cell_type": "code",
   "execution_count": 52,
   "id": "640e57b2084c9fb4",
   "metadata": {
    "ExecuteTime": {
     "end_time": "2025-09-22T13:49:24.682401Z",
     "start_time": "2025-09-22T13:49:20.727149Z"
    }
   },
   "outputs": [
    {
     "data": {
      "text/html": [
       "<pre style=\"white-space:pre;overflow-x:auto;line-height:normal;font-family:Menlo,'DejaVu Sans Mono',consolas,'Courier New',monospace\"><span style=\"color: #d4b702; text-decoration-color: #d4b702\">╭──────────────────────────────────────────────────── </span><span style=\"color: #d4b702; text-decoration-color: #d4b702; font-weight: bold\">New run</span><span style=\"color: #d4b702; text-decoration-color: #d4b702\"> ────────────────────────────────────────────────────╮</span>\n",
       "<span style=\"color: #d4b702; text-decoration-color: #d4b702\">│</span>                                                                                                                 <span style=\"color: #d4b702; text-decoration-color: #d4b702\">│</span>\n",
       "<span style=\"color: #d4b702; text-decoration-color: #d4b702\">│</span> <span style=\"font-weight: bold\">Search the best book for implementing agents for production using rust language.</span>                                <span style=\"color: #d4b702; text-decoration-color: #d4b702\">│</span>\n",
       "<span style=\"color: #d4b702; text-decoration-color: #d4b702\">│</span>                                                                                                                 <span style=\"color: #d4b702; text-decoration-color: #d4b702\">│</span>\n",
       "<span style=\"color: #d4b702; text-decoration-color: #d4b702\">╰─ InferenceClientModel - Qwen/Qwen2.5-Coder-32B-Instruct ────────────────────────────────────────────────────────╯</span>\n",
       "</pre>\n"
      ],
      "text/plain": [
       "\u001b[38;2;212;183;2m╭─\u001b[0m\u001b[38;2;212;183;2m───────────────────────────────────────────────────\u001b[0m\u001b[38;2;212;183;2m \u001b[0m\u001b[1;38;2;212;183;2mNew run\u001b[0m\u001b[38;2;212;183;2m \u001b[0m\u001b[38;2;212;183;2m───────────────────────────────────────────────────\u001b[0m\u001b[38;2;212;183;2m─╮\u001b[0m\n",
       "\u001b[38;2;212;183;2m│\u001b[0m                                                                                                                 \u001b[38;2;212;183;2m│\u001b[0m\n",
       "\u001b[38;2;212;183;2m│\u001b[0m \u001b[1mSearch the best book for implementing agents for production using rust language.\u001b[0m                                \u001b[38;2;212;183;2m│\u001b[0m\n",
       "\u001b[38;2;212;183;2m│\u001b[0m                                                                                                                 \u001b[38;2;212;183;2m│\u001b[0m\n",
       "\u001b[38;2;212;183;2m╰─\u001b[0m\u001b[38;2;212;183;2m InferenceClientModel - Qwen/Qwen2.5-Coder-32B-Instruct \u001b[0m\u001b[38;2;212;183;2m───────────────────────────────────────────────────────\u001b[0m\u001b[38;2;212;183;2m─╯\u001b[0m\n"
      ]
     },
     "jetTransient": {
      "display_id": null
     },
     "metadata": {},
     "output_type": "display_data"
    },
    {
     "data": {
      "text/html": [
       "<pre style=\"white-space:pre;overflow-x:auto;line-height:normal;font-family:Menlo,'DejaVu Sans Mono',consolas,'Courier New',monospace\"><span style=\"color: #d4b702; text-decoration-color: #d4b702\">━━━━━━━━━━━━━━━━━━━━━━━━━━━━━━━━━━━━━━━━━━━━━━━━━━━━━ </span><span style=\"font-weight: bold\">Step 1</span><span style=\"color: #d4b702; text-decoration-color: #d4b702\"> ━━━━━━━━━━━━━━━━━━━━━━━━━━━━━━━━━━━━━━━━━━━━━━━━━━━━━━</span>\n",
       "</pre>\n"
      ],
      "text/plain": [
       "\u001b[38;2;212;183;2m━━━━━━━━━━━━━━━━━━━━━━━━━━━━━━━━━━━━━━━━━━━━━━━━━━━━━ \u001b[0m\u001b[1mStep 1\u001b[0m\u001b[38;2;212;183;2m ━━━━━━━━━━━━━━━━━━━━━━━━━━━━━━━━━━━━━━━━━━━━━━━━━━━━━━\u001b[0m\n"
      ]
     },
     "jetTransient": {
      "display_id": null
     },
     "metadata": {},
     "output_type": "display_data"
    },
    {
     "data": {
      "text/html": [
       "<pre style=\"white-space:pre;overflow-x:auto;line-height:normal;font-family:Menlo,'DejaVu Sans Mono',consolas,'Courier New',monospace\">╭─────────────────────────────────────────────────────────────────────────────────────────────────────────────────╮\n",
       "│ Calling tool: 'web_search' with arguments: {'query': 'best book for implementing agents for production using    │\n",
       "│ rust language'}                                                                                                 │\n",
       "╰─────────────────────────────────────────────────────────────────────────────────────────────────────────────────╯\n",
       "</pre>\n"
      ],
      "text/plain": [
       "╭─────────────────────────────────────────────────────────────────────────────────────────────────────────────────╮\n",
       "│ Calling tool: 'web_search' with arguments: {'query': 'best book for implementing agents for production using    │\n",
       "│ rust language'}                                                                                                 │\n",
       "╰─────────────────────────────────────────────────────────────────────────────────────────────────────────────────╯\n"
      ]
     },
     "jetTransient": {
      "display_id": null
     },
     "metadata": {},
     "output_type": "display_data"
    },
    {
     "data": {
      "text/html": [
       "<pre style=\"white-space:pre;overflow-x:auto;line-height:normal;font-family:Menlo,'DejaVu Sans Mono',consolas,'Courier New',monospace\">Observations: ## Search Results\n",
       "\n",
       "|Top Rust Books recommended by experts (2025 Edition)](https://mentorcruise.com/books/rust/)\n",
       "Fundamentals of Rust · The Rust Programming Language · Rust Standard Library Cookbook · Zero to Production In Rust:\n",
       "An introduction to backend development in Rust.\n",
       "\n",
       "|Building Production-Grade Agentic Applications with \n",
       "...](https://medium.com/@kyeg/building-production-grade-agentic-applications-with-swarms-rust-a-comprehensive-tutor\n",
       "ial-bb567c02340f)\n",
       "This tutorial aims to demystify swarms-rs and provide a comprehensive guide to building powerful, production -ready\n",
       "multi- agent systems using the framework.\n",
       "\n",
       "|Building Agentic AI with Rust by Evan \n",
       "Sterling](https://www.booksamillion.com/p/Building-Agentic-AI-Rust/Evan-Sterling/9798287613884)\n",
       "This hands-on guide shows developers how to architect, implement, and deploy agentic AI systems using Rust and \n",
       "modern AI tools like OpenAI, Hugging Face, and ...\n",
       "\n",
       "|The Rust Programming Language 2nd Edition the \n",
       "...](https://ftp.oshatrain.org/book-search/7P8061/fetch.php/The_Rust_Programming_Language_2nd_Edition.pdf)\n",
       "- The book includes several new projects that readers can follow along with , such as building a simple web server \n",
       "and creating a command-line application.\n",
       "\n",
       "|Building Applications with AI Agents \n",
       "|Book]](https://www.oreilly.com/library/view/building-applications-with/9781098176495/)\n",
       "Author Michael Albada provides a practical and research-based approach to designing and implementing single- and \n",
       "multiagent systems. It simplifies the ...\n",
       "\n",
       "|Zero To Production in RUST True PDF \n",
       "Later](https://www.scribd.com/document/579279070/Zero-to-Production-in-RUST-True-PDF-Later)\n",
       "This book teaches backend development in Rust by having the reader build out an email newsletter application from \n",
       "start to finish.\n",
       "\n",
       "|Is learning Rust and systems programming through the \n",
       "...](https://www.reddit.com/r/rust/comments/qhxgwl/is_learning_rust_and_systems_programming_through/)\n",
       "Would highly recommend, Rust in Action is a fantastic book to read after you've read through the official intro \n",
       "material, in my experience. It ...\n",
       "\n",
       "|Search: Rust Security](https://www.oreilly.com/search/?q=Rust+Security&amp;rows=100)\n",
       "The Rust Programming Language, 2nd Edition is the official guide to Rust 2021: an open source systems programming \n",
       "language that will help ...\n",
       "\n",
       "|Starting Off with \n",
       "Rust](https://www.packtpub.com/br-ic/product/rust-programming-cookbook-9781789530667/chapter/starting-off-with-rust\n",
       "-1/section/testing-your-documentation?chapterId=1&amp;srsltid=AfmBOopJmP_U8J_WCTUwdFQQV39rM4_L9tOUiwZOzFk7WVY-HGQtVrlb)\n",
       "This book describes web development using the Rust programming language and will get you up and running with modern\n",
       "web frameworks and. Finally, you will be ...\n",
       "\n",
       "|AI Agents in Action - Micheal Lanham](https://www.manning.com/books/ai-agents-in-action)\n",
       "Author Micheal Lanham combines cutting-edge academic research with hands-on experience to help you: Understand and \n",
       "implement AI agent behavior patterns ; Design ...\n",
       "</pre>\n"
      ],
      "text/plain": [
       "Observations: ## Search Results\n",
       "\n",
       "|Top Rust Books recommended by experts (2025 Edition)](https://mentorcruise.com/books/rust/)\n",
       "Fundamentals of Rust · The Rust Programming Language · Rust Standard Library Cookbook · Zero to Production In Rust:\n",
       "An introduction to backend development in Rust.\n",
       "\n",
       "|Building Production-Grade Agentic Applications with \n",
       "...](https://medium.com/@kyeg/building-production-grade-agentic-applications-with-swarms-rust-a-comprehensive-tutor\n",
       "ial-bb567c02340f)\n",
       "This tutorial aims to demystify swarms-rs and provide a comprehensive guide to building powerful, production -ready\n",
       "multi- agent systems using the framework.\n",
       "\n",
       "|Building Agentic AI with Rust by Evan \n",
       "Sterling](https://www.booksamillion.com/p/Building-Agentic-AI-Rust/Evan-Sterling/9798287613884)\n",
       "This hands-on guide shows developers how to architect, implement, and deploy agentic AI systems using Rust and \n",
       "modern AI tools like OpenAI, Hugging Face, and ...\n",
       "\n",
       "|The Rust Programming Language 2nd Edition the \n",
       "...](https://ftp.oshatrain.org/book-search/7P8061/fetch.php/The_Rust_Programming_Language_2nd_Edition.pdf)\n",
       "- The book includes several new projects that readers can follow along with , such as building a simple web server \n",
       "and creating a command-line application.\n",
       "\n",
       "|Building Applications with AI Agents \n",
       "|Book]](https://www.oreilly.com/library/view/building-applications-with/9781098176495/)\n",
       "Author Michael Albada provides a practical and research-based approach to designing and implementing single- and \n",
       "multiagent systems. It simplifies the ...\n",
       "\n",
       "|Zero To Production in RUST True PDF \n",
       "Later](https://www.scribd.com/document/579279070/Zero-to-Production-in-RUST-True-PDF-Later)\n",
       "This book teaches backend development in Rust by having the reader build out an email newsletter application from \n",
       "start to finish.\n",
       "\n",
       "|Is learning Rust and systems programming through the \n",
       "...](https://www.reddit.com/r/rust/comments/qhxgwl/is_learning_rust_and_systems_programming_through/)\n",
       "Would highly recommend, Rust in Action is a fantastic book to read after you've read through the official intro \n",
       "material, in my experience. It ...\n",
       "\n",
       "|Search: Rust Security](https://www.oreilly.com/search/?q=Rust+Security&rows=100)\n",
       "The Rust Programming Language, 2nd Edition is the official guide to Rust 2021: an open source systems programming \n",
       "language that will help ...\n",
       "\n",
       "|Starting Off with \n",
       "Rust](https://www.packtpub.com/br-ic/product/rust-programming-cookbook-9781789530667/chapter/starting-off-with-rust\n",
       "-1/section/testing-your-documentation?chapterId=1&srsltid=AfmBOopJmP_U8J_WCTUwdFQQV39rM4_L9tOUiwZOzFk7WVY-HGQtVrlb)\n",
       "This book describes web development using the Rust programming language and will get you up and running with modern\n",
       "web frameworks and. Finally, you will be ...\n",
       "\n",
       "|AI Agents in Action - Micheal Lanham](https://www.manning.com/books/ai-agents-in-action)\n",
       "Author Micheal Lanham combines cutting-edge academic research with hands-on experience to help you: Understand and \n",
       "implement AI agent behavior patterns ; Design ...\n"
      ]
     },
     "jetTransient": {
      "display_id": null
     },
     "metadata": {},
     "output_type": "display_data"
    },
    {
     "data": {
      "text/html": [
       "<pre style=\"white-space:pre;overflow-x:auto;line-height:normal;font-family:Menlo,'DejaVu Sans Mono',consolas,'Courier New',monospace\"><span style=\"color: #7f7f7f; text-decoration-color: #7f7f7f\">[Step 1: Duration 2.20 seconds| Input tokens: 1,188 | Output tokens: 28]</span>\n",
       "</pre>\n"
      ],
      "text/plain": [
       "\u001b[2m[Step 1: Duration 2.20 seconds| Input tokens: 1,188 | Output tokens: 28]\u001b[0m\n"
      ]
     },
     "jetTransient": {
      "display_id": null
     },
     "metadata": {},
     "output_type": "display_data"
    },
    {
     "data": {
      "text/html": [
       "<pre style=\"white-space:pre;overflow-x:auto;line-height:normal;font-family:Menlo,'DejaVu Sans Mono',consolas,'Courier New',monospace\"><span style=\"color: #d4b702; text-decoration-color: #d4b702\">━━━━━━━━━━━━━━━━━━━━━━━━━━━━━━━━━━━━━━━━━━━━━━━━━━━━━ </span><span style=\"font-weight: bold\">Step 2</span><span style=\"color: #d4b702; text-decoration-color: #d4b702\"> ━━━━━━━━━━━━━━━━━━━━━━━━━━━━━━━━━━━━━━━━━━━━━━━━━━━━━━</span>\n",
       "</pre>\n"
      ],
      "text/plain": [
       "\u001b[38;2;212;183;2m━━━━━━━━━━━━━━━━━━━━━━━━━━━━━━━━━━━━━━━━━━━━━━━━━━━━━ \u001b[0m\u001b[1mStep 2\u001b[0m\u001b[38;2;212;183;2m ━━━━━━━━━━━━━━━━━━━━━━━━━━━━━━━━━━━━━━━━━━━━━━━━━━━━━━\u001b[0m\n"
      ]
     },
     "jetTransient": {
      "display_id": null
     },
     "metadata": {},
     "output_type": "display_data"
    },
    {
     "data": {
      "text/html": [
       "<pre style=\"white-space:pre;overflow-x:auto;line-height:normal;font-family:Menlo,'DejaVu Sans Mono',consolas,'Courier New',monospace\">╭─────────────────────────────────────────────────────────────────────────────────────────────────────────────────╮\n",
       "│ Calling tool: 'final_answer' with arguments: {'answer': \"Based on the search results, the book 'Building        │\n",
       "│ Agentic AI with Rust' by Evan Sterling seems to be the best fit for implementing agents for production using    │\n",
       "│ the Rust language. It provides a hands-on guide to architecting, implementing, and deploying agentic AI systems │\n",
       "│ using Rust and modern AI tools.\"}                                                                               │\n",
       "╰─────────────────────────────────────────────────────────────────────────────────────────────────────────────────╯\n",
       "</pre>\n"
      ],
      "text/plain": [
       "╭─────────────────────────────────────────────────────────────────────────────────────────────────────────────────╮\n",
       "│ Calling tool: 'final_answer' with arguments: {'answer': \"Based on the search results, the book 'Building        │\n",
       "│ Agentic AI with Rust' by Evan Sterling seems to be the best fit for implementing agents for production using    │\n",
       "│ the Rust language. It provides a hands-on guide to architecting, implementing, and deploying agentic AI systems │\n",
       "│ using Rust and modern AI tools.\"}                                                                               │\n",
       "╰─────────────────────────────────────────────────────────────────────────────────────────────────────────────────╯\n"
      ]
     },
     "jetTransient": {
      "display_id": null
     },
     "metadata": {},
     "output_type": "display_data"
    },
    {
     "data": {
      "text/html": [
       "<pre style=\"white-space:pre;overflow-x:auto;line-height:normal;font-family:Menlo,'DejaVu Sans Mono',consolas,'Courier New',monospace\">Observations: Based on the search results, the book 'Building Agentic AI with Rust' by Evan Sterling seems to be \n",
       "the best fit for implementing agents for production using the Rust language. It provides a hands-on guide to \n",
       "architecting, implementing, and deploying agentic AI systems using Rust and modern AI tools.\n",
       "</pre>\n"
      ],
      "text/plain": [
       "Observations: Based on the search results, the book 'Building Agentic AI with Rust' by Evan Sterling seems to be \n",
       "the best fit for implementing agents for production using the Rust language. It provides a hands-on guide to \n",
       "architecting, implementing, and deploying agentic AI systems using Rust and modern AI tools.\n"
      ]
     },
     "jetTransient": {
      "display_id": null
     },
     "metadata": {},
     "output_type": "display_data"
    },
    {
     "data": {
      "text/html": [
       "<pre style=\"white-space:pre;overflow-x:auto;line-height:normal;font-family:Menlo,'DejaVu Sans Mono',consolas,'Courier New',monospace\"><span style=\"color: #d4b702; text-decoration-color: #d4b702; font-weight: bold\">Final answer: Based on the search results, the book 'Building Agentic AI with Rust' by Evan Sterling seems to be </span>\n",
       "<span style=\"color: #d4b702; text-decoration-color: #d4b702; font-weight: bold\">the best fit for implementing agents for production using the Rust language. It provides a hands-on guide to </span>\n",
       "<span style=\"color: #d4b702; text-decoration-color: #d4b702; font-weight: bold\">architecting, implementing, and deploying agentic AI systems using Rust and modern AI tools.</span>\n",
       "</pre>\n"
      ],
      "text/plain": [
       "\u001b[1;38;2;212;183;2mFinal answer: Based on the search results, the book 'Building Agentic AI with Rust' by Evan Sterling seems to be \u001b[0m\n",
       "\u001b[1;38;2;212;183;2mthe best fit for implementing agents for production using the Rust language. It provides a hands-on guide to \u001b[0m\n",
       "\u001b[1;38;2;212;183;2marchitecting, implementing, and deploying agentic AI systems using Rust and modern AI tools.\u001b[0m\n"
      ]
     },
     "jetTransient": {
      "display_id": null
     },
     "metadata": {},
     "output_type": "display_data"
    },
    {
     "data": {
      "text/html": [
       "<pre style=\"white-space:pre;overflow-x:auto;line-height:normal;font-family:Menlo,'DejaVu Sans Mono',consolas,'Courier New',monospace\"><span style=\"color: #7f7f7f; text-decoration-color: #7f7f7f\">[Step 2: Duration 1.74 seconds| Input tokens: 3,188 | Output tokens: 106]</span>\n",
       "</pre>\n"
      ],
      "text/plain": [
       "\u001b[2m[Step 2: Duration 1.74 seconds| Input tokens: 3,188 | Output tokens: 106]\u001b[0m\n"
      ]
     },
     "jetTransient": {
      "display_id": null
     },
     "metadata": {},
     "output_type": "display_data"
    },
    {
     "data": {
      "text/plain": [
       "\"Based on the search results, the book 'Building Agentic AI with Rust' by Evan Sterling seems to be the best fit for implementing agents for production using the Rust language. It provides a hands-on guide to architecting, implementing, and deploying agentic AI systems using Rust and modern AI tools.\""
      ]
     },
     "execution_count": 52,
     "metadata": {},
     "output_type": "execute_result"
    }
   ],
   "source": [
    "tool_agent_langfuse.run(\n",
    "\t\"Search the best book for implementing agents for production using rust language.\"\n",
    ")"
   ]
  },
  {
   "cell_type": "code",
   "execution_count": null,
   "id": "3c15c307967e79b7",
   "metadata": {},
   "outputs": [],
   "source": []
  }
 ],
 "metadata": {
  "kernelspec": {
   "display_name": "Python 3",
   "language": "python",
   "name": "python3"
  },
  "language_info": {
   "codemirror_mode": {
    "name": "ipython",
    "version": 2
   },
   "file_extension": ".py",
   "mimetype": "text/x-python",
   "name": "python",
   "nbconvert_exporter": "python",
   "pygments_lexer": "ipython2",
   "version": "2.7.6"
  }
 },
 "nbformat": 4,
 "nbformat_minor": 5
}
