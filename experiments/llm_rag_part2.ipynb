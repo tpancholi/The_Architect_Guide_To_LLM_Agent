{
 "cells": [
  {
   "cell_type": "markdown",
   "id": "f0d5f0c9",
   "metadata": {},
   "source": [
    "# Embedding Strategies"
   ]
  },
  {
   "cell_type": "code",
   "execution_count": 1,
   "id": "63971c18",
   "metadata": {
    "ExecuteTime": {
     "end_time": "2025-10-04T04:45:17.256047Z",
     "start_time": "2025-10-04T04:45:17.180382Z"
    }
   },
   "outputs": [
    {
     "name": "stderr",
     "output_type": "stream",
     "text": [
      "/Users/tejaspancholi/Developer/python/vizuara/.venv/lib/python3.13/site-packages/tqdm/auto.py:21: TqdmWarning: IProgress not found. Please update jupyter and ipywidgets. See https://ipywidgets.readthedocs.io/en/stable/user_install.html\n",
      "  from .autonotebook import tqdm as notebook_tqdm\n"
     ]
    }
   ],
   "source": [
    "from pathlib import Path\n",
    "import pymupdf\n",
    "from tqdm.auto import tqdm"
   ]
  },
  {
   "cell_type": "code",
   "execution_count": 2,
   "id": "970b1c7d",
   "metadata": {
    "ExecuteTime": {
     "end_time": "2025-10-04T04:45:21.256299Z",
     "start_time": "2025-10-04T04:45:21.254166Z"
    }
   },
   "outputs": [],
   "source": [
    "try:  # inside a script\n",
    "\tBASE_DIR = Path(__file__).resolve().parent.parent\n",
    "except NameError:  # inside a notebook\n",
    "\tBASE_DIR = Path.cwd().parent"
   ]
  },
  {
   "cell_type": "code",
   "execution_count": 3,
   "id": "ec927860",
   "metadata": {
    "ExecuteTime": {
     "end_time": "2025-10-04T04:45:26.023278Z",
     "start_time": "2025-10-04T04:45:26.020907Z"
    }
   },
   "outputs": [
    {
     "name": "stdout",
     "output_type": "stream",
     "text": [
      "Project root set to: /Users/tejaspancholi/Developer/python/vizuara\n"
     ]
    }
   ],
   "source": [
    "print(f\"Project root set to: {BASE_DIR}\")"
   ]
  },
  {
   "cell_type": "code",
   "execution_count": 4,
   "id": "f36ca1aa",
   "metadata": {
    "ExecuteTime": {
     "end_time": "2025-10-04T04:45:26.957712Z",
     "start_time": "2025-10-04T04:45:26.955684Z"
    }
   },
   "outputs": [],
   "source": [
    "pdf_path = BASE_DIR / \"data\" / \"human_nutrition_text.pdf\""
   ]
  },
  {
   "cell_type": "code",
   "execution_count": 5,
   "id": "7e6aa4e2",
   "metadata": {
    "ExecuteTime": {
     "end_time": "2025-10-04T04:45:27.834038Z",
     "start_time": "2025-10-04T04:45:27.832338Z"
    }
   },
   "outputs": [],
   "source": [
    "import re\n",
    "from typing import Dict, List, Union"
   ]
  },
  {
   "cell_type": "code",
   "execution_count": 6,
   "id": "14f0691a",
   "metadata": {
    "ExecuteTime": {
     "end_time": "2025-10-04T04:45:28.818674Z",
     "start_time": "2025-10-04T04:45:28.816393Z"
    }
   },
   "outputs": [],
   "source": [
    "def text_formatter(text: str) -> str:\n",
    "\t\"\"\"Performs minor text formatting.\"\"\"\n",
    "\timport re\n",
    "\n",
    "\tcleaned_text = re.sub(\n",
    "\t\tr\"\\s+\", \" \", text\n",
    "\t)  # Replace multiple whitespace with single space\n",
    "\tcleaned_text = cleaned_text.strip()\n",
    "\treturn cleaned_text"
   ]
  },
  {
   "cell_type": "code",
   "execution_count": 7,
   "id": "bd248ace",
   "metadata": {
    "ExecuteTime": {
     "end_time": "2025-10-04T04:45:30.032459Z",
     "start_time": "2025-10-04T04:45:30.029189Z"
    }
   },
   "outputs": [],
   "source": [
    "def open_and_read_pdf(file_path: Union[str, Path]) -> Union[List[Dict], None]:\n",
    "\t\"\"\"\n",
    "\tOpens a pdf file and reads its content page by page, and collects statistics.\n",
    "\tParameters:\n",
    "\t    file_path (str | Path): The path to the pdf file to be opened and read.\n",
    "\tReturns:\n",
    "\t    list[dict]: A list of dictionaries containing the page number, character count, word count, sentence count, token count, and extracted text for each page.\n",
    "\t\"\"\"\n",
    "\tif not Path(file_path).exists():\n",
    "\t\traise FileNotFoundError(f\"PDF file not found: {file_path}\")\n",
    "\ttry:\n",
    "\t\tdoc = pymupdf.open(file_path)\n",
    "\t\tpages_and_texts = []\n",
    "\t\tfor page_number, page in tqdm(enumerate(doc)):\n",
    "\t\t\ttext = page.get_text()\n",
    "\t\t\tif not text or not text.strip():  # Skip empty pages\n",
    "\t\t\t\tcontinue\n",
    "\t\t\tif text and text.strip():\n",
    "\t\t\t\ttext = text_formatter(text)\n",
    "\t\t\t\tsentences = re.split(r\"[.!?]+\", text)  # Simple sentence splitter\n",
    "\t\t\t\tsentence_count = len(\n",
    "\t\t\t\t\t[s for s in sentences if s.strip()]\n",
    "\t\t\t\t)  # Count non-empty sentences\n",
    "\t\t\t\tpages_and_texts.append(\n",
    "\t\t\t\t\t{\n",
    "\t\t\t\t\t\t\"page_number\": page_number - 41,\n",
    "\t\t\t\t\t\t\"page_char_count\": len(text),\n",
    "\t\t\t\t\t\t\"page_word_count\": len(text.split()),\n",
    "\t\t\t\t\t\t\"page_sentence_count_raw\": sentence_count,\n",
    "\t\t\t\t\t\t\"page_token_count\": int(len(text) / 4),\n",
    "\t\t\t\t\t\t\"text\": text,\n",
    "\t\t\t\t\t}\n",
    "\t\t\t\t)\n",
    "\t\treturn pages_and_texts\n",
    "\texcept Exception as e:\n",
    "\t\tprint(f\"Error reading PDF file: {e}\")\n",
    "\t\treturn None"
   ]
  },
  {
   "cell_type": "code",
   "execution_count": 8,
   "id": "e235681f",
   "metadata": {
    "ExecuteTime": {
     "end_time": "2025-10-04T04:45:33.819568Z",
     "start_time": "2025-10-04T04:45:32.814164Z"
    }
   },
   "outputs": [
    {
     "name": "stderr",
     "output_type": "stream",
     "text": [
      "1208it [00:00, 1247.00it/s]"
     ]
    },
    {
     "name": "stdout",
     "output_type": "stream",
     "text": [
      "[{'page_number': -41, 'page_char_count': 29, 'page_word_count': 4, 'page_sentence_count_raw': 1, 'page_token_count': 7, 'text': 'Human Nutrition: 2020 Edition'}, {'page_number': -39, 'page_char_count': 308, 'page_word_count': 42, 'page_sentence_count_raw': 1, 'page_token_count': 77, 'text': 'Human Nutrition: 2020 Edition UNIVERSITY OF HAWAI‘I AT MĀNOA FOOD SCIENCE AND HUMAN NUTRITION PROGRAM ALAN TITCHENAL, SKYLAR HARA, NOEMI ARCEO CAACBAY, WILLIAM MEINKE-LAU, YA-YUN YANG, MARIE KAINOA FIALKOWSKI REVILLA, JENNIFER DRAPER, GEMADY LANGFELDER, CHERYL GIBBY, CHYNA NICOLE CHUN, AND ALLISON CALABRESE'}]\n"
     ]
    },
    {
     "name": "stderr",
     "output_type": "stream",
     "text": [
      "\n"
     ]
    }
   ],
   "source": [
    "pages_and_texts = open_and_read_pdf(file_path=pdf_path)\n",
    "if pages_and_texts:\n",
    "\tprint(pages_and_texts[:2])"
   ]
  },
  {
   "cell_type": "code",
   "execution_count": 9,
   "id": "55b1f839",
   "metadata": {
    "ExecuteTime": {
     "end_time": "2025-10-04T04:45:38.107350Z",
     "start_time": "2025-10-04T04:45:37.996555Z"
    }
   },
   "outputs": [
    {
     "data": {
      "text/html": [
       "<div><style>\n",
       ".dataframe > thead > tr,\n",
       ".dataframe > tbody > tr {\n",
       "  text-align: right;\n",
       "  white-space: pre-wrap;\n",
       "}\n",
       "</style>\n",
       "<small>shape: (9, 7)</small><table border=\"1\" class=\"dataframe\"><thead><tr><th>statistic</th><th>page_number</th><th>page_char_count</th><th>page_word_count</th><th>page_sentence_count_raw</th><th>page_token_count</th><th>text</th></tr><tr><td>str</td><td>f64</td><td>f64</td><td>f64</td><td>f64</td><td>f64</td><td>str</td></tr></thead><tbody><tr><td>&quot;count&quot;</td><td>1179.0</td><td>1179.0</td><td>1179.0</td><td>1179.0</td><td>1179.0</td><td>&quot;1179&quot;</td></tr><tr><td>&quot;null_count&quot;</td><td>0.0</td><td>0.0</td><td>0.0</td><td>0.0</td><td>0.0</td><td>&quot;0&quot;</td></tr><tr><td>&quot;mean&quot;</td><td>561.27</td><td>1148.06</td><td>176.2</td><td>14.81</td><td>286.62</td><td>null</td></tr><tr><td>&quot;std&quot;</td><td>348.9</td><td>529.51</td><td>83.18</td><td>9.41</td><td>132.39</td><td>null</td></tr><tr><td>&quot;min&quot;</td><td>-41.0</td><td>15.0</td><td>3.0</td><td>1.0</td><td>3.0</td><td>&quot;(Source: UNICEF, 1986, How to …</td></tr><tr><td>&quot;25%&quot;</td><td>259.0</td><td>764.0</td><td>117.0</td><td>9.0</td><td>191.0</td><td>null</td></tr><tr><td>&quot;50%&quot;</td><td>561.0</td><td>1207.0</td><td>187.0</td><td>13.0</td><td>301.0</td><td>null</td></tr><tr><td>&quot;75%&quot;</td><td>862.0</td><td>1577.0</td><td>240.0</td><td>20.0</td><td>394.0</td><td>null</td></tr><tr><td>&quot;max&quot;</td><td>1166.0</td><td>2271.0</td><td>393.0</td><td>82.0</td><td>567.0</td><td>&quot;• food insecure with severe hu…</td></tr></tbody></table></div>"
      ],
      "text/plain": [
       "shape: (9, 7)\n",
       "┌────────────┬─────────────┬──────────────┬──────────────┬─────────────┬─────────────┬─────────────┐\n",
       "│ statistic  ┆ page_number ┆ page_char_co ┆ page_word_co ┆ page_senten ┆ page_token_ ┆ text        │\n",
       "│ ---        ┆ ---         ┆ unt          ┆ unt          ┆ ce_count_ra ┆ count       ┆ ---         │\n",
       "│ str        ┆ f64         ┆ ---          ┆ ---          ┆ w           ┆ ---         ┆ str         │\n",
       "│            ┆             ┆ f64          ┆ f64          ┆ ---         ┆ f64         ┆             │\n",
       "│            ┆             ┆              ┆              ┆ f64         ┆             ┆             │\n",
       "╞════════════╪═════════════╪══════════════╪══════════════╪═════════════╪═════════════╪═════════════╡\n",
       "│ count      ┆ 1179.0      ┆ 1179.0       ┆ 1179.0       ┆ 1179.0      ┆ 1179.0      ┆ 1179        │\n",
       "│ null_count ┆ 0.0         ┆ 0.0          ┆ 0.0          ┆ 0.0         ┆ 0.0         ┆ 0           │\n",
       "│ mean       ┆ 561.27      ┆ 1148.06      ┆ 176.2        ┆ 14.81       ┆ 286.62      ┆ null        │\n",
       "│ std        ┆ 348.9       ┆ 529.51       ┆ 83.18        ┆ 9.41        ┆ 132.39      ┆ null        │\n",
       "│ min        ┆ -41.0       ┆ 15.0         ┆ 3.0          ┆ 1.0         ┆ 3.0         ┆ (Source:    │\n",
       "│            ┆             ┆              ┆              ┆             ┆             ┆ UNICEF,     │\n",
       "│            ┆             ┆              ┆              ┆             ┆             ┆ 1986, How   │\n",
       "│            ┆             ┆              ┆              ┆             ┆             ┆ to …        │\n",
       "│ 25%        ┆ 259.0       ┆ 764.0        ┆ 117.0        ┆ 9.0         ┆ 191.0       ┆ null        │\n",
       "│ 50%        ┆ 561.0       ┆ 1207.0       ┆ 187.0        ┆ 13.0        ┆ 301.0       ┆ null        │\n",
       "│ 75%        ┆ 862.0       ┆ 1577.0       ┆ 240.0        ┆ 20.0        ┆ 394.0       ┆ null        │\n",
       "│ max        ┆ 1166.0      ┆ 2271.0       ┆ 393.0        ┆ 82.0        ┆ 567.0       ┆ • food      │\n",
       "│            ┆             ┆              ┆              ┆             ┆             ┆ insecure    │\n",
       "│            ┆             ┆              ┆              ┆             ┆             ┆ with severe │\n",
       "│            ┆             ┆              ┆              ┆             ┆             ┆ hu…         │\n",
       "└────────────┴─────────────┴──────────────┴──────────────┴─────────────┴─────────────┴─────────────┘"
      ]
     },
     "execution_count": 9,
     "metadata": {},
     "output_type": "execute_result"
    }
   ],
   "source": [
    "import polars as pl\n",
    "\n",
    "df = pl.DataFrame(pages_and_texts)\n",
    "summary = df.describe()\n",
    "numeric_cols = [c for c, t in summary.schema.items() if t.is_numeric()]\n",
    "summary = summary.with_columns(\n",
    "\t[pl.col(c).round(2) if c in numeric_cols else pl.col(c) for c in summary.columns]\n",
    ")\n",
    "summary"
   ]
  },
  {
   "cell_type": "markdown",
   "id": "f6e4000f",
   "metadata": {},
   "source": [
    "## Chunking Preparation \n",
    "- first step is to add sentences from page as new key value pair to `pages_and_texts` data structure\n",
    "- divide the sentences into two chunks\n",
    "    - **chunk-1**: 10 sentences\n",
    "    - **chunk-2**: rest of the sentences"
   ]
  },
  {
   "cell_type": "code",
   "execution_count": 10,
   "id": "79ec6596",
   "metadata": {
    "ExecuteTime": {
     "end_time": "2025-10-04T04:45:41.955655Z",
     "start_time": "2025-10-04T04:45:41.590608Z"
    }
   },
   "outputs": [
    {
     "data": {
      "text/plain": [
       "<spacy.pipeline.sentencizer.Sentencizer at 0x14c21acd0>"
      ]
     },
     "execution_count": 10,
     "metadata": {},
     "output_type": "execute_result"
    }
   ],
   "source": [
    "from spacy.lang.en import English\n",
    "\n",
    "nlp = English()\n",
    "nlp.add_pipe(\"sentencizer\")"
   ]
  },
  {
   "cell_type": "code",
   "execution_count": 11,
   "id": "78a0ff31",
   "metadata": {
    "ExecuteTime": {
     "end_time": "2025-10-04T04:45:42.900344Z",
     "start_time": "2025-10-04T04:45:42.893229Z"
    }
   },
   "outputs": [
    {
     "name": "stdout",
     "output_type": "stream",
     "text": [
      "# of sentences identified: 10\n",
      "1:- Simple string splitting methods are unreliable for sentence segmentation.\n",
      "2:- They often fail on common text elements like abbreviations.\n",
      "3:- For example, 'Dr. Smith' would be incorrectly split.\n",
      "4:- Decimal values such as 3.14 also cause problems.\n",
      "5:- spaCy's sentencizer component solves these issues effectively.\n",
      "6:- It uses a trained model to identify true sentence boundaries.\n",
      "7:- This model correctly handles abbreviations and decimals.\n",
      "8:- It also manages quoted speech and ellipses properly.\n",
      "9:- This provides a robust foundation for further text analysis.\n",
      "10:- Therefore, spaCy offers a significant advantage over basic methods.\n"
     ]
    }
   ],
   "source": [
    "# testing spacy to identify sentences from paragraph\n",
    "test_para = \"\"\"\n",
    "Simple string splitting methods are unreliable for sentence segmentation. They often fail on common text elements like abbreviations. For example, 'Dr. Smith' would be incorrectly split. Decimal values such as 3.14 also cause problems. spaCy's sentencizer component solves these issues effectively. It uses a trained model to identify true sentence boundaries. This model correctly handles abbreviations and decimals. It also manages quoted speech and ellipses properly. This provides a robust foundation for further text analysis. Therefore, spaCy offers a significant advantage over basic methods.\"\"\"\n",
    "list_sentences = [sent.text.strip() for sent in nlp(test_para).sents]\n",
    "print(f\"# of sentences identified: {len(list_sentences)}\")\n",
    "for i, sent in enumerate(list_sentences, 1):\n",
    "\tprint(f\"{i}:- {sent}\")"
   ]
  },
  {
   "cell_type": "code",
   "execution_count": 12,
   "id": "e8905433",
   "metadata": {
    "ExecuteTime": {
     "end_time": "2025-10-04T04:45:44.694135Z",
     "start_time": "2025-10-04T04:45:44.274273Z"
    }
   },
   "outputs": [
    {
     "name": "stderr",
     "output_type": "stream",
     "text": [
      "100%|██████████| 1179/1179 [00:00<00:00, 2831.33it/s]\n"
     ]
    }
   ],
   "source": [
    "# running on all pages\n",
    "for item in tqdm(pages_and_texts):\n",
    "\titem[\"sentences\"] = list(nlp(item[\"text\"]).sents)\n",
    "\n",
    "\t# make sure all sentences are strings\n",
    "\titem[\"sentences\"] = [str(sentence) for sentence in item[\"sentences\"]]\n",
    "\n",
    "\t# Count the sentences\n",
    "\titem[\"page_sentence_count_spacy\"] = len(item[\"sentences\"])"
   ]
  },
  {
   "cell_type": "code",
   "execution_count": 13,
   "id": "b704c6d4",
   "metadata": {
    "ExecuteTime": {
     "end_time": "2025-10-04T04:45:50.426575Z",
     "start_time": "2025-10-04T04:45:50.411160Z"
    }
   },
   "outputs": [
    {
     "data": {
      "text/html": [
       "<div><style>\n",
       ".dataframe > thead > tr,\n",
       ".dataframe > tbody > tr {\n",
       "  text-align: right;\n",
       "  white-space: pre-wrap;\n",
       "}\n",
       "</style>\n",
       "<small>shape: (9, 9)</small><table border=\"1\" class=\"dataframe\"><thead><tr><th>statistic</th><th>page_number</th><th>page_char_count</th><th>page_word_count</th><th>page_sentence_count_raw</th><th>page_token_count</th><th>text</th><th>sentences</th><th>page_sentence_count_spacy</th></tr><tr><td>str</td><td>f64</td><td>f64</td><td>f64</td><td>f64</td><td>f64</td><td>str</td><td>f64</td><td>f64</td></tr></thead><tbody><tr><td>&quot;count&quot;</td><td>1179.0</td><td>1179.0</td><td>1179.0</td><td>1179.0</td><td>1179.0</td><td>&quot;1179&quot;</td><td>1179.0</td><td>1179.0</td></tr><tr><td>&quot;null_count&quot;</td><td>0.0</td><td>0.0</td><td>0.0</td><td>0.0</td><td>0.0</td><td>&quot;0&quot;</td><td>0.0</td><td>0.0</td></tr><tr><td>&quot;mean&quot;</td><td>561.27</td><td>1148.06</td><td>176.2</td><td>14.81</td><td>286.62</td><td>null</td><td>null</td><td>10.57</td></tr><tr><td>&quot;std&quot;</td><td>348.9</td><td>529.51</td><td>83.18</td><td>9.41</td><td>132.39</td><td>null</td><td>null</td><td>6.16</td></tr><tr><td>&quot;min&quot;</td><td>-41.0</td><td>15.0</td><td>3.0</td><td>1.0</td><td>3.0</td><td>&quot;(Source: UNICEF, 1986, How to …</td><td>null</td><td>1.0</td></tr><tr><td>&quot;25%&quot;</td><td>259.0</td><td>764.0</td><td>117.0</td><td>9.0</td><td>191.0</td><td>null</td><td>null</td><td>5.0</td></tr><tr><td>&quot;50%&quot;</td><td>561.0</td><td>1207.0</td><td>187.0</td><td>13.0</td><td>301.0</td><td>null</td><td>null</td><td>11.0</td></tr><tr><td>&quot;75%&quot;</td><td>862.0</td><td>1577.0</td><td>240.0</td><td>20.0</td><td>394.0</td><td>null</td><td>null</td><td>15.0</td></tr><tr><td>&quot;max&quot;</td><td>1166.0</td><td>2271.0</td><td>393.0</td><td>82.0</td><td>567.0</td><td>&quot;• food insecure with severe hu…</td><td>null</td><td>28.0</td></tr></tbody></table></div>"
      ],
      "text/plain": [
       "shape: (9, 9)\n",
       "┌───────────┬───────────┬───────────┬───────────┬───┬───────────┬───────────┬───────────┬──────────┐\n",
       "│ statistic ┆ page_numb ┆ page_char ┆ page_word ┆ … ┆ page_toke ┆ text      ┆ sentences ┆ page_sen │\n",
       "│ ---       ┆ er        ┆ _count    ┆ _count    ┆   ┆ n_count   ┆ ---       ┆ ---       ┆ tence_co │\n",
       "│ str       ┆ ---       ┆ ---       ┆ ---       ┆   ┆ ---       ┆ str       ┆ f64       ┆ unt_spac │\n",
       "│           ┆ f64       ┆ f64       ┆ f64       ┆   ┆ f64       ┆           ┆           ┆ y        │\n",
       "│           ┆           ┆           ┆           ┆   ┆           ┆           ┆           ┆ ---      │\n",
       "│           ┆           ┆           ┆           ┆   ┆           ┆           ┆           ┆ f64      │\n",
       "╞═══════════╪═══════════╪═══════════╪═══════════╪═══╪═══════════╪═══════════╪═══════════╪══════════╡\n",
       "│ count     ┆ 1179.0    ┆ 1179.0    ┆ 1179.0    ┆ … ┆ 1179.0    ┆ 1179      ┆ 1179.0    ┆ 1179.0   │\n",
       "│ null_coun ┆ 0.0       ┆ 0.0       ┆ 0.0       ┆ … ┆ 0.0       ┆ 0         ┆ 0.0       ┆ 0.0      │\n",
       "│ t         ┆           ┆           ┆           ┆   ┆           ┆           ┆           ┆          │\n",
       "│ mean      ┆ 561.27    ┆ 1148.06   ┆ 176.2     ┆ … ┆ 286.62    ┆ null      ┆ null      ┆ 10.57    │\n",
       "│ std       ┆ 348.9     ┆ 529.51    ┆ 83.18     ┆ … ┆ 132.39    ┆ null      ┆ null      ┆ 6.16     │\n",
       "│ min       ┆ -41.0     ┆ 15.0      ┆ 3.0       ┆ … ┆ 3.0       ┆ (Source:  ┆ null      ┆ 1.0      │\n",
       "│           ┆           ┆           ┆           ┆   ┆           ┆ UNICEF,   ┆           ┆          │\n",
       "│           ┆           ┆           ┆           ┆   ┆           ┆ 1986, How ┆           ┆          │\n",
       "│           ┆           ┆           ┆           ┆   ┆           ┆ to …      ┆           ┆          │\n",
       "│ 25%       ┆ 259.0     ┆ 764.0     ┆ 117.0     ┆ … ┆ 191.0     ┆ null      ┆ null      ┆ 5.0      │\n",
       "│ 50%       ┆ 561.0     ┆ 1207.0    ┆ 187.0     ┆ … ┆ 301.0     ┆ null      ┆ null      ┆ 11.0     │\n",
       "│ 75%       ┆ 862.0     ┆ 1577.0    ┆ 240.0     ┆ … ┆ 394.0     ┆ null      ┆ null      ┆ 15.0     │\n",
       "│ max       ┆ 1166.0    ┆ 2271.0    ┆ 393.0     ┆ … ┆ 567.0     ┆ • food    ┆ null      ┆ 28.0     │\n",
       "│           ┆           ┆           ┆           ┆   ┆           ┆ insecure  ┆           ┆          │\n",
       "│           ┆           ┆           ┆           ┆   ┆           ┆ with      ┆           ┆          │\n",
       "│           ┆           ┆           ┆           ┆   ┆           ┆ severe    ┆           ┆          │\n",
       "│           ┆           ┆           ┆           ┆   ┆           ┆ hu…       ┆           ┆          │\n",
       "└───────────┴───────────┴───────────┴───────────┴───┴───────────┴───────────┴───────────┴──────────┘"
      ]
     },
     "execution_count": 13,
     "metadata": {},
     "output_type": "execute_result"
    }
   ],
   "source": [
    "df = pl.DataFrame(pages_and_texts)\n",
    "summary = df.describe()\n",
    "numeric_cols = [c for c, t in summary.schema.items() if t.is_numeric()]\n",
    "summary = summary.with_columns(\n",
    "\t[pl.col(c).round(2) if c in numeric_cols else pl.col(c) for c in summary.columns]\n",
    ")\n",
    "summary"
   ]
  },
  {
   "cell_type": "code",
   "execution_count": 14,
   "id": "84e7a7ba",
   "metadata": {
    "ExecuteTime": {
     "end_time": "2025-10-04T04:47:07.982767Z",
     "start_time": "2025-10-04T04:47:07.980245Z"
    }
   },
   "outputs": [
    {
     "name": "stdout",
     "output_type": "stream",
     "text": [
      "{'page_number': 767,\n",
      " 'page_char_count': 205,\n",
      " 'page_word_count': 28,\n",
      " 'page_sentence_count_raw': 6,\n",
      " 'page_token_count': 51,\n",
      " 'text': 'An interactive or media element has been excluded from this version '\n",
      "         'of the text. You can view it online here: '\n",
      "         'http://pressbooks.oer.hawaii.edu/ humannutrition2/?p=432 Pacific '\n",
      "         'Based Dietary Guidelines | 767',\n",
      " 'sentences': ['An interactive or media element has been excluded from this '\n",
      "               'version of the text.',\n",
      "               'You can view it online here: http://pressbooks.oer.hawaii.edu/ '\n",
      "               'humannutrition2/?p=432 Pacific Based Dietary Guidelines | 767'],\n",
      " 'page_sentence_count_spacy': 2}\n"
     ]
    }
   ],
   "source": [
    "import random\n",
    "import pprint\n",
    "\n",
    "if pages_and_texts:\n",
    "\tpprint.pp(pages_and_texts[random.randint(0, 1179)])"
   ]
  },
  {
   "cell_type": "code",
   "execution_count": 15,
   "id": "cbc9ca75",
   "metadata": {
    "ExecuteTime": {
     "end_time": "2025-10-04T04:47:11.554447Z",
     "start_time": "2025-10-04T04:47:11.552292Z"
    }
   },
   "outputs": [],
   "source": [
    "# now splitting sentences into chunks\n",
    "num_sentence_chunk_size = 10\n",
    "\n",
    "\n",
    "def split_sentence_list(input_list: list[str], slice_size: int) -> list[list[str]]:\n",
    "\t\"\"\"Function takes list of sentences as input and slices it based in slice size\n",
    "\tArgs:\n",
    "\t    input_list (list[str]): list of sentences\n",
    "\t    slice_size (int): a number to slice the input list by\n",
    "\tReturns:\n",
    "\t    list[list[str]]: two list created based on list slice functionality\n",
    "\tExample:\n",
    "\t    An input list of 17 sentences with 10 as slice size will return two list:\n",
    "\t    1) list of first 10 sentences, 2) list of remaining 7 sentences\n",
    "\t\"\"\"\n",
    "\treturn [\n",
    "\t\tinput_list[i : i + slice_size] for i in range(0, len(input_list), slice_size)\n",
    "\t]"
   ]
  },
  {
   "cell_type": "code",
   "execution_count": 16,
   "id": "bdd267b1",
   "metadata": {
    "ExecuteTime": {
     "end_time": "2025-10-04T04:47:13.771724Z",
     "start_time": "2025-10-04T04:47:13.768204Z"
    }
   },
   "outputs": [
    {
     "name": "stderr",
     "output_type": "stream",
     "text": [
      "100%|██████████| 1179/1179 [00:00<00:00, 1415307.50it/s]\n"
     ]
    }
   ],
   "source": [
    "# add chunks to pages_and_texts\n",
    "for item in tqdm(pages_and_texts):\n",
    "\titem[\"sentence_chunks\"] = split_sentence_list(\n",
    "\t\tinput_list=item[\"sentences\"], slice_size=num_sentence_chunk_size\n",
    "\t)\n",
    "\titem[\"num_chunks\"] = len(item[\"sentence_chunks\"])"
   ]
  },
  {
   "cell_type": "code",
   "execution_count": 44,
   "id": "114abf7c",
   "metadata": {},
   "outputs": [
    {
     "name": "stdout",
     "output_type": "stream",
     "text": [
      "{'page_number': 888,\n",
      " 'page_char_count': 722,\n",
      " 'page_word_count': 101,\n",
      " 'page_sentence_count_raw': 9,\n",
      " 'page_token_count': 180,\n",
      " 'text': 'Learning Activities Technology Note: The second edition of the Human '\n",
      "         'Nutrition Open Educational Resource (OER) textbook features '\n",
      "         'interactive learning activities. These activities are available in '\n",
      "         'the web-based textbook and not available in the downloadable '\n",
      "         'versions (EPUB, Digital PDF, Print_PDF, or Open Document). Learning '\n",
      "         'activities may be used across various mobile devices, however, for '\n",
      "         'the best user experience it is strongly recommended that users '\n",
      "         'complete these activities using a desktop or laptop computer and in '\n",
      "         'Google Chrome. An interactive or media element has been excluded '\n",
      "         'from this version of the text. You can view it online here: '\n",
      "         'http://pressbooks.oer.hawaii.edu/ humannutrition2/?p=469 888 | '\n",
      "         'Adolescence',\n",
      " 'sentences': ['Learning Activities Technology Note: The second edition of the '\n",
      "               'Human Nutrition Open Educational Resource (OER) textbook '\n",
      "               'features interactive learning activities.',\n",
      "               'These activities are available in the web-based textbook and '\n",
      "               'not available in the downloadable versions (EPUB, Digital PDF, '\n",
      "               'Print_PDF, or Open Document).',\n",
      "               'Learning activities may be used across various mobile devices, '\n",
      "               'however, for the best user experience it is strongly '\n",
      "               'recommended that users complete these activities using a '\n",
      "               'desktop or laptop computer and in Google Chrome.',\n",
      "               'An interactive or media element has been excluded from this '\n",
      "               'version of the text.',\n",
      "               'You can view it online here: http://pressbooks.oer.hawaii.edu/ '\n",
      "               'humannutrition2/?p=469 888 | Adolescence'],\n",
      " 'page_sentence_count_spacy': 5,\n",
      " 'sentence_chunks': [['Learning Activities Technology Note: The second edition '\n",
      "                      'of the Human Nutrition Open Educational Resource (OER) '\n",
      "                      'textbook features interactive learning activities.',\n",
      "                      'These activities are available in the web-based '\n",
      "                      'textbook and not available in the downloadable versions '\n",
      "                      '(EPUB, Digital PDF, Print_PDF, or Open Document).',\n",
      "                      'Learning activities may be used across various mobile '\n",
      "                      'devices, however, for the best user experience it is '\n",
      "                      'strongly recommended that users complete these '\n",
      "                      'activities using a desktop or laptop computer and in '\n",
      "                      'Google Chrome.',\n",
      "                      'An interactive or media element has been excluded from '\n",
      "                      'this version of the text.',\n",
      "                      'You can view it online here: '\n",
      "                      'http://pressbooks.oer.hawaii.edu/ '\n",
      "                      'humannutrition2/?p=469 888 | Adolescence']],\n",
      " 'num_chunks': 1}\n"
     ]
    }
   ],
   "source": [
    "import random\n",
    "import pprint\n",
    "\n",
    "if pages_and_texts:\n",
    "\tpprint.pp(pages_and_texts[random.randint(0, 1179)])"
   ]
  },
  {
   "cell_type": "code",
   "execution_count": 17,
   "id": "ad588e04368524e4",
   "metadata": {
    "ExecuteTime": {
     "end_time": "2025-10-04T04:48:06.645758Z",
     "start_time": "2025-10-04T04:48:06.614819Z"
    }
   },
   "outputs": [
    {
     "data": {
      "text/html": [
       "<div><style>\n",
       ".dataframe > thead > tr,\n",
       ".dataframe > tbody > tr {\n",
       "  text-align: right;\n",
       "  white-space: pre-wrap;\n",
       "}\n",
       "</style>\n",
       "<small>shape: (9, 11)</small><table border=\"1\" class=\"dataframe\"><thead><tr><th>statistic</th><th>page_number</th><th>page_char_count</th><th>page_word_count</th><th>page_sentence_count_raw</th><th>page_token_count</th><th>text</th><th>sentences</th><th>page_sentence_count_spacy</th><th>sentence_chunks</th><th>num_chunks</th></tr><tr><td>str</td><td>f64</td><td>f64</td><td>f64</td><td>f64</td><td>f64</td><td>str</td><td>f64</td><td>f64</td><td>f64</td><td>f64</td></tr></thead><tbody><tr><td>&quot;count&quot;</td><td>1179.0</td><td>1179.0</td><td>1179.0</td><td>1179.0</td><td>1179.0</td><td>&quot;1179&quot;</td><td>1179.0</td><td>1179.0</td><td>1179.0</td><td>1179.0</td></tr><tr><td>&quot;null_count&quot;</td><td>0.0</td><td>0.0</td><td>0.0</td><td>0.0</td><td>0.0</td><td>&quot;0&quot;</td><td>0.0</td><td>0.0</td><td>0.0</td><td>0.0</td></tr><tr><td>&quot;mean&quot;</td><td>561.27</td><td>1148.06</td><td>176.2</td><td>14.81</td><td>286.62</td><td>null</td><td>null</td><td>10.57</td><td>null</td><td>1.56</td></tr><tr><td>&quot;std&quot;</td><td>348.9</td><td>529.51</td><td>83.18</td><td>9.41</td><td>132.39</td><td>null</td><td>null</td><td>6.16</td><td>null</td><td>0.61</td></tr><tr><td>&quot;min&quot;</td><td>-41.0</td><td>15.0</td><td>3.0</td><td>1.0</td><td>3.0</td><td>&quot;(Source: UNICEF, 1986, How to …</td><td>null</td><td>1.0</td><td>null</td><td>1.0</td></tr><tr><td>&quot;25%&quot;</td><td>259.0</td><td>764.0</td><td>117.0</td><td>9.0</td><td>191.0</td><td>null</td><td>null</td><td>5.0</td><td>null</td><td>1.0</td></tr><tr><td>&quot;50%&quot;</td><td>561.0</td><td>1207.0</td><td>187.0</td><td>13.0</td><td>301.0</td><td>null</td><td>null</td><td>11.0</td><td>null</td><td>2.0</td></tr><tr><td>&quot;75%&quot;</td><td>862.0</td><td>1577.0</td><td>240.0</td><td>20.0</td><td>394.0</td><td>null</td><td>null</td><td>15.0</td><td>null</td><td>2.0</td></tr><tr><td>&quot;max&quot;</td><td>1166.0</td><td>2271.0</td><td>393.0</td><td>82.0</td><td>567.0</td><td>&quot;• food insecure with severe hu…</td><td>null</td><td>28.0</td><td>null</td><td>3.0</td></tr></tbody></table></div>"
      ],
      "text/plain": [
       "shape: (9, 11)\n",
       "┌───────────┬───────────┬───────────┬───────────┬───┬───────────┬───────────┬───────────┬──────────┐\n",
       "│ statistic ┆ page_numb ┆ page_char ┆ page_word ┆ … ┆ sentences ┆ page_sent ┆ sentence_ ┆ num_chun │\n",
       "│ ---       ┆ er        ┆ _count    ┆ _count    ┆   ┆ ---       ┆ ence_coun ┆ chunks    ┆ ks       │\n",
       "│ str       ┆ ---       ┆ ---       ┆ ---       ┆   ┆ f64       ┆ t_spacy   ┆ ---       ┆ ---      │\n",
       "│           ┆ f64       ┆ f64       ┆ f64       ┆   ┆           ┆ ---       ┆ f64       ┆ f64      │\n",
       "│           ┆           ┆           ┆           ┆   ┆           ┆ f64       ┆           ┆          │\n",
       "╞═══════════╪═══════════╪═══════════╪═══════════╪═══╪═══════════╪═══════════╪═══════════╪══════════╡\n",
       "│ count     ┆ 1179.0    ┆ 1179.0    ┆ 1179.0    ┆ … ┆ 1179.0    ┆ 1179.0    ┆ 1179.0    ┆ 1179.0   │\n",
       "│ null_coun ┆ 0.0       ┆ 0.0       ┆ 0.0       ┆ … ┆ 0.0       ┆ 0.0       ┆ 0.0       ┆ 0.0      │\n",
       "│ t         ┆           ┆           ┆           ┆   ┆           ┆           ┆           ┆          │\n",
       "│ mean      ┆ 561.27    ┆ 1148.06   ┆ 176.2     ┆ … ┆ null      ┆ 10.57     ┆ null      ┆ 1.56     │\n",
       "│ std       ┆ 348.9     ┆ 529.51    ┆ 83.18     ┆ … ┆ null      ┆ 6.16      ┆ null      ┆ 0.61     │\n",
       "│ min       ┆ -41.0     ┆ 15.0      ┆ 3.0       ┆ … ┆ null      ┆ 1.0       ┆ null      ┆ 1.0      │\n",
       "│ 25%       ┆ 259.0     ┆ 764.0     ┆ 117.0     ┆ … ┆ null      ┆ 5.0       ┆ null      ┆ 1.0      │\n",
       "│ 50%       ┆ 561.0     ┆ 1207.0    ┆ 187.0     ┆ … ┆ null      ┆ 11.0      ┆ null      ┆ 2.0      │\n",
       "│ 75%       ┆ 862.0     ┆ 1577.0    ┆ 240.0     ┆ … ┆ null      ┆ 15.0      ┆ null      ┆ 2.0      │\n",
       "│ max       ┆ 1166.0    ┆ 2271.0    ┆ 393.0     ┆ … ┆ null      ┆ 28.0      ┆ null      ┆ 3.0      │\n",
       "└───────────┴───────────┴───────────┴───────────┴───┴───────────┴───────────┴───────────┴──────────┘"
      ]
     },
     "execution_count": 17,
     "metadata": {},
     "output_type": "execute_result"
    }
   ],
   "source": [
    "df = pl.DataFrame(pages_and_texts)\n",
    "summary = df.describe()\n",
    "numeric_cols = [c for c, t in summary.schema.items() if t.is_numeric()]\n",
    "summary = summary.with_columns(\n",
    "\t[pl.col(c).round(2) if c in numeric_cols else pl.col(c) for c in summary.columns]\n",
    ")\n",
    "summary"
   ]
  },
  {
   "cell_type": "markdown",
   "id": "78cfbeca",
   "metadata": {},
   "source": [
    "## shifting from pages and texts to pages and chunks\n",
    "- currently we have pages and text (group of sentences) with multiple chunks with page as the item parent\n",
    "- we would now shift to chunk as the parent item with all the information as is. (assumption is size should atleast double from 1179 to ~2358)"
   ]
  },
  {
   "cell_type": "code",
   "execution_count": 20,
   "id": "7119dde5",
   "metadata": {
    "ExecuteTime": {
     "end_time": "2025-10-04T13:27:27.568006Z",
     "start_time": "2025-10-04T13:27:27.542540Z"
    }
   },
   "outputs": [
    {
     "name": "stderr",
     "output_type": "stream",
     "text": [
      "100%|██████████| 1179/1179 [00:00<00:00, 55459.31it/s]"
     ]
    },
    {
     "name": "stdout",
     "output_type": "stream",
     "text": [
      "We have 1843 chunks now.\n"
     ]
    },
    {
     "name": "stderr",
     "output_type": "stream",
     "text": [
      "\n"
     ]
    }
   ],
   "source": [
    "# splitting chunk into its own item\n",
    "pages_and_chunks = []\n",
    "for item in tqdm(pages_and_texts):\n",
    "\tfor sentence_chunk in item[\"sentence_chunks\"]:\n",
    "\t\tchunk_dict = {}\n",
    "\t\tchunk_dict[\"page_number\"] = item[\"page_number\"]\n",
    "\n",
    "\t\t# join the sentence together to make a paragraph like structure.\n",
    "\t\tjoined_sentence_chunk = \"\".join(sentence_chunk).replace(\"  \", \" \").strip()\n",
    "\t\tjoined_sentence_chunk = re.sub(\n",
    "\t\t\tr\"\\.([A-Z])\", r\". \\1\", joined_sentence_chunk\n",
    "\t\t)  # \".A\" -> \". A\" for any full-stop/capital letter combod\n",
    "\t\tchunk_dict[\"sentence_chunk\"] = joined_sentence_chunk\n",
    "\n",
    "\t\t# Stats\n",
    "\t\tchunk_dict[\"chunk_char_count\"] = len(joined_sentence_chunk)\n",
    "\t\tchunk_dict[\"chunk_word_count\"] = sum(\n",
    "\t\t\t1 for word in joined_sentence_chunk.split()\n",
    "\t\t)\n",
    "\t\tchunk_dict[\"chunk_token_count\"] = round(len(joined_sentence_chunk) / 4, 2)\n",
    "\t\tpages_and_chunks.append(chunk_dict)\n",
    "print(f\"We have {len(pages_and_chunks)} chunks now.\")"
   ]
  },
  {
   "cell_type": "code",
   "execution_count": 21,
   "id": "b72f60d2",
   "metadata": {
    "ExecuteTime": {
     "end_time": "2025-10-04T13:27:29.530214Z",
     "start_time": "2025-10-04T13:27:29.527481Z"
    }
   },
   "outputs": [
    {
     "data": {
      "text/plain": [
       "[{'page_number': 552,\n",
       "  'sentence_chunk': 'holds the collagen fibers together and without sufficient levels in the body, collagen strands are weak and abnormal. (Figure 9.8 “The Role of Vitamin C in Collagen Synthesis”) Figure 9.8 The Role of Vitamin C in Collagen Synthesis Image by Allison Calabrese / CC BY 4.0 Vitamin C levels in the body are affected by the amount in the diet, which influences how much is absorbed and how much the kidney allows to be excreted, such that the higher the intake, the more vitamin C is excreted. Vitamin C is not stored in any significant amount in the body, but once it has reduced a free radical, it is very effectively regenerated and therefore it can exist in the body as a functioning antioxidant for many weeks. The classic condition associated with vitamin C deficiency is scurvy. The signs and symptoms of scurvy include skin disorders, bleeding gums, painful joints, weakness, depression, and increased susceptibility to infections. Scurvy is prevented by having an adequate intake of fruits and vegetables rich in vitamin C. 552 | Water-Soluble Vitamins',\n",
       "  'chunk_char_count': 1057,\n",
       "  'chunk_word_count': 177,\n",
       "  'chunk_token_count': 264.25}]"
      ]
     },
     "execution_count": 21,
     "metadata": {},
     "output_type": "execute_result"
    }
   ],
   "source": [
    "random.sample(pages_and_chunks, k=1)"
   ]
  },
  {
   "cell_type": "code",
   "execution_count": null,
   "id": "5659302a",
   "metadata": {},
   "outputs": [],
   "source": []
  }
 ],
 "metadata": {
  "kernelspec": {
   "display_name": "vizuara",
   "language": "python",
   "name": "python3"
  },
  "language_info": {
   "codemirror_mode": {
    "name": "ipython",
    "version": 3
   },
   "file_extension": ".py",
   "mimetype": "text/x-python",
   "name": "python",
   "nbconvert_exporter": "python",
   "pygments_lexer": "ipython3",
   "version": "3.13.7"
  }
 },
 "nbformat": 4,
 "nbformat_minor": 5
}
